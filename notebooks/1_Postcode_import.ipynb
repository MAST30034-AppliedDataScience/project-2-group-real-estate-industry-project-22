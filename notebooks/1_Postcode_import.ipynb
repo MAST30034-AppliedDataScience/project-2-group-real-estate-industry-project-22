{
 "cells": [
  {
   "cell_type": "markdown",
   "metadata": {},
   "source": [
    "### Notebook to Import Postcode ###\n",
    "We import a postcode dataset found online containing useful information such as latitude, longitude and suburb names (aka locality)"
   ]
  },
  {
   "cell_type": "code",
   "execution_count": 2,
   "metadata": {},
   "outputs": [
    {
     "name": "stderr",
     "output_type": "stream",
     "text": [
      "your 131072x1 screen size is bogus. expect trouble\n"
     ]
    },
    {
     "name": "stderr",
     "output_type": "stream",
     "text": [
      "24/10/17 21:18:35 WARN Utils: Your hostname, DESKTOP-Q5SP5SI resolves to a loopback address: 127.0.1.1; using 172.20.36.110 instead (on interface eth0)\n",
      "24/10/17 21:18:35 WARN Utils: Set SPARK_LOCAL_IP if you need to bind to another address\n",
      "Setting default log level to \"WARN\".\n",
      "To adjust logging level use sc.setLogLevel(newLevel). For SparkR, use setLogLevel(newLevel).\n",
      "Exception in thread \"main\" java.nio.file.NoSuchFileException: /tmp/tmpv5tk7s8m/connection203236360226178271.info\n",
      "\tat sun.nio.fs.UnixException.translateToIOException(UnixException.java:86)\n",
      "\tat sun.nio.fs.UnixException.rethrowAsIOException(UnixException.java:102)\n",
      "\tat sun.nio.fs.UnixException.rethrowAsIOException(UnixException.java:107)\n",
      "\tat sun.nio.fs.UnixFileSystemProvider.newByteChannel(UnixFileSystemProvider.java:214)\n",
      "\tat java.nio.file.Files.newByteChannel(Files.java:361)\n",
      "\tat java.nio.file.Files.createFile(Files.java:632)\n",
      "\tat java.nio.file.TempFileHelper.create(TempFileHelper.java:138)\n",
      "\tat java.nio.file.TempFileHelper.createTempFile(TempFileHelper.java:161)\n",
      "\tat java.nio.file.Files.createTempFile(Files.java:852)\n",
      "\tat org.apache.spark.api.python.PythonGatewayServer$.main(PythonGatewayServer.scala:54)\n",
      "\tat org.apache.spark.api.python.PythonGatewayServer.main(PythonGatewayServer.scala)\n",
      "\tat sun.reflect.NativeMethodAccessorImpl.invoke0(Native Method)\n",
      "\tat sun.reflect.NativeMethodAccessorImpl.invoke(NativeMethodAccessorImpl.java:62)\n",
      "\tat sun.reflect.DelegatingMethodAccessorImpl.invoke(DelegatingMethodAccessorImpl.java:43)\n",
      "\tat java.lang.reflect.Method.invoke(Method.java:498)\n",
      "\tat org.apache.spark.deploy.JavaMainApplication.start(SparkApplication.scala:52)\n",
      "\tat org.apache.spark.deploy.SparkSubmit.org$apache$spark$deploy$SparkSubmit$$runMain(SparkSubmit.scala:1029)\n",
      "\tat org.apache.spark.deploy.SparkSubmit.doRunMain$1(SparkSubmit.scala:194)\n",
      "\tat org.apache.spark.deploy.SparkSubmit.submit(SparkSubmit.scala:217)\n",
      "\tat org.apache.spark.deploy.SparkSubmit.doSubmit(SparkSubmit.scala:91)\n",
      "\tat org.apache.spark.deploy.SparkSubmit$$anon$2.doSubmit(SparkSubmit.scala:1120)\n",
      "\tat org.apache.spark.deploy.SparkSubmit$.main(SparkSubmit.scala:1129)\n",
      "\tat org.apache.spark.deploy.SparkSubmit.main(SparkSubmit.scala)\n",
      "24/10/17 21:18:41 WARN Utils: Your hostname, DESKTOP-Q5SP5SI resolves to a loopback address: 127.0.1.1; using 172.20.36.110 instead (on interface eth0)\n",
      "24/10/17 21:18:41 WARN Utils: Set SPARK_LOCAL_IP if you need to bind to another address\n",
      "Setting default log level to \"WARN\".\n",
      "To adjust logging level use sc.setLogLevel(newLevel). For SparkR, use setLogLevel(newLevel).\n",
      "24/10/17 21:18:46 WARN NativeCodeLoader: Unable to load native-hadoop library for your platform... using builtin-java classes where applicable\n",
      "                                                                                \r"
     ]
    }
   ],
   "source": [
    "# Setting up Spark Session\n",
    "\n",
    "from pyspark.sql import SparkSession\n",
    "spark = SparkSession.builder.appName(\"CSV to Parquet\").getOrCreate()\n",
    "df = spark.read.csv(\"../data/postcodes/postcodes.csv\", header=True, inferSchema=True)"
   ]
  },
  {
   "cell_type": "code",
   "execution_count": 2,
   "metadata": {},
   "outputs": [],
   "source": [
    "#Set up necessary files\n",
    "from urllib.request import urlretrieve\n",
    "import os\n",
    "\n",
    "# from the current `tute_1` directory, go back two levels to the `MAST30034` directory\n",
    "output_relative_dir = '../data/'\n",
    "\n",
    "# check if it exists as it makedir will raise an error if it does exist\n",
    "if not os.path.exists(output_relative_dir):\n",
    "    os.makedirs(output_relative_dir)\n",
    "    \n",
    "if not os.path.exists(output_relative_dir + 'postcodes'):\n",
    "    os.makedirs(output_relative_dir + 'postcodes')\n",
    "\n",
    "url = \"https://www.matthewproctor.com/Content/postcodes/australian_postcodes.csv\"\n",
    "postcodes_output_dir = output_relative_dir + 'postcodes'\n",
    "\n",
    "\n",
    "# generate output location and filename\n",
    "output_dir = \"postcodes.csv\"\n",
    "output_dir = f\"{postcodes_output_dir}/postcodes.csv\""
   ]
  },
  {
   "cell_type": "code",
   "execution_count": 4,
   "metadata": {},
   "outputs": [],
   "source": [
    "import urllib.request\n",
    "\n",
    "# bypass Error 403 : Forbidden Access\n",
    "opener = urllib.request.URLopener()\n",
    "opener.addheader('User-Agent', 'whatever')  \n",
    "filename, headers = opener.retrieve(url, output_dir)"
   ]
  },
  {
   "cell_type": "markdown",
   "metadata": {},
   "source": [
    "We then filtered for Victorian suburbs"
   ]
  },
  {
   "cell_type": "code",
   "execution_count": 5,
   "metadata": {},
   "outputs": [
    {
     "name": "stderr",
     "output_type": "stream",
     "text": [
      "24/10/02 00:03:29 WARN SparkStringUtils: Truncated the string representation of a plan since it was too large. This behavior can be adjusted by setting 'spark.sql.debug.maxToStringFields'.\n",
      "                                                                                \r"
     ]
    },
    {
     "name": "stdout",
     "output_type": "stream",
     "text": [
      "+-----+--------+--------------------+-----+-----------+------------+--------------------+-----------------+--------------------+-----+--------------+---+-----------------+------+-----------+------------+-------------+---------------+-------------+--------------------+-------------+--------------------+-------------+--------------------+-------+-------+-------+--------------------+--------+--------+-----------+----------------+----------+--------+--------------------+------------+-------+-----------+------------------+--------+--------------------+\n",
      "|   id|postcode|            locality|state|       long|         lat|                  dc|             type|              status|  sa3|       sa3name|sa4|          sa4name|region|Lat_precise|Long_precise|SA1_CODE_2021|  SA1_NAME_2021|SA2_CODE_2021|       SA2_NAME_2021|SA3_CODE_2021|       SA3_NAME_2021|SA4_CODE_2021|       SA4_NAME_2021|RA_2011|RA_2016|RA_2021|        RA_2021_NAME|MMM_2015|MMM_2019|        ced|        altitude|chargezone|phn_code|            phn_name|   lgaregion|lgacode| electorate|  electoraterating|sed_code|            sed_name|\n",
      "+-----+--------+--------------------+-----+-----------+------------+--------------------+-----------------+--------------------+-----+--------------+---+-----------------+------+-----------+------------+-------------+---------------+-------------+--------------------+-------------+--------------------+-------------+--------------------+-------+-------+-------+--------------------+--------+--------+-----------+----------------+----------+--------+--------------------+------------+-------+-----------+------------------+--------+--------------------+\n",
      "| 4746|    3000|           MELBOURNE|  VIC|144.9825846|-37.81443733|CITY DELIVERY CENTRE|    Delivery Area|Updated 17-Mar-20...|20604|Melbourne City|206|Melbourne - Inner|    R1|-37.8152065|  144.963937|  20604150622|North Melbourne|    206041506|     North Melbourne|        21402|Mornington Peninsula|          214|Mornington Peninsula|      1|      1|     20|Major Cities of A...|       1|       1|  Melbourne|27.3321876525879|        V1|  PHN201|North Western Mel...|   Melbourne|  24600|  Melbourne|Inner Metropolitan|   24703|Melbourne (Northe...|\n",
      "| 4747|    3001|           MELBOURNE|  VIC|144.9825846|-37.81443733|CITY MAIL PROCESS...|Post Office Boxes|Updated 17-Mar-20...|20605|  Port Phillip|206|Melbourne - Inner|    R1|-37.8136276| 144.9630576|         NULL|           NULL|         NULL|                NULL|         NULL|                NULL|         NULL|                NULL|      1|      1|   NULL|                NULL|       1|       1|  Melbourne|27.3321876525879|        V1|  PHN203|                NULL|   Melbourne|  24600|Maribyrnong|              NULL|    NULL|                NULL|\n",
      "| 4748|    3002|      EAST MELBOURNE|  VIC|144.9825846|-37.81443733|CITY DELIVERY CENTRE|    Delivery Area|Updated 17-Mar-20...|20604|Melbourne City|206|Melbourne - Inner|    R1|-37.8161444| 144.9804594|  20604111915| East Melbourne|    206041119|      East Melbourne|        21402|Mornington Peninsula|          214|Mornington Peninsula|      1|      1|     20|Major Cities of A...|       1|       1|  Melbourne|27.3321876525879|        V1|  PHN201|North Western Mel...|   Melbourne|  24600|  Melbourne|Inner Metropolitan|   24703|Melbourne (Northe...|\n",
      "| 4749|    3003|      WEST MELBOURNE|  VIC| 144.949592|  -37.810871|CITY DELIVERY CENTRE|    Delivery Area|  Updated 6-Feb-2020|20604|Melbourne City|206|Melbourne - Inner|    R1|-37.8114504| 144.9253974|  20604151016| West Melbourne|    206041510|West Melbourne - ...|        21402|Mornington Peninsula|          214|Mornington Peninsula|      1|      1|     20|Major Cities of A...|       1|       1|  Melbourne|15.3160629272461|        V1|  PHN201|North Western Mel...|   Melbourne|  24600|  Melbourne|Inner Metropolitan|   24703|Melbourne (Northe...|\n",
      "| 4750|    3004|           MELBOURNE|  VIC|144.9825846|-37.81443733|CITY DELIVERY CENTRE|    Delivery Area|Updated 17-Mar-20...|20605|  Port Phillip|206|Melbourne - Inner|    R1|-37.8301583| 144.9804594|  20605151429|      Melbourne|    206051514|     St Kilda - West|        21402|Mornington Peninsula|          214|Mornington Peninsula|      1|      1|     20|Major Cities of A...|       1|       1|  Macnamara|27.3321876525879|        V1|  PHN203|South Eastern Mel...|   Melbourne|  24600|  Macnamara|Inner Metropolitan|   26906|Prahran (Southern...|\n",
      "| 4751|    3004|ST KILDA ROAD CEN...|  VIC| 144.970161|  -37.844246|     Melbourne Metro|             NULL|  Updated 6-Feb-2020|20605|  Port Phillip|206|Melbourne - Inner|    R1|   -37.8368|     144.976|  20605151429|      Melbourne|    206051514|     St Kilda - West|        21402|Mornington Peninsula|          214|Mornington Peninsula|      1|      1|     20|Major Cities of A...|       1|       1|  Macnamara|         -3492.0|        V1|  PHN203|South Eastern Mel...|   Melbourne|  24600|  Macnamara|Inner Metropolitan|   26906|Prahran (Southern...|\n",
      "|22851|    3004|ST KILDA ROAD MEL...|  VIC|    144.976|    -37.8368|     Melbourne Metro|             NULL| Updated 25-Jan-2020|20605|  Port Phillip|206|Melbourne - Inner|    R1|   -37.8368|     144.976|  20605151429|      Melbourne|    206051514|     St Kilda - West|        21402|Mornington Peninsula|          214|Mornington Peninsula|      1|      1|     20|Major Cities of A...|       1|       1|  Macnamara|         -3492.0|        V1|  PHN203|South Eastern Mel...|   Melbourne|  24600|  Macnamara|Inner Metropolitan|   26906|Prahran (Southern...|\n",
      "| 4752|    3005|  WORLD TRADE CENTRE|  VIC| 144.950858|  -37.824608|CITY DELIVERY CENTRE|    Delivery Area|  Updated 6-Feb-2020|20604|Melbourne City|206|Melbourne - Inner|    R1|-37.8226739|  144.953839|         NULL|           NULL|         NULL|                NULL|         NULL|                NULL|         NULL|                NULL|      1|      1|   NULL|                NULL|       1|       1|  Melbourne|            NULL|        V1|  PHN201|North Western Mel...|   Melbourne|  24600|  Melbourne|              NULL|    NULL|                NULL|\n",
      "|20754|    3006|         SOUTH WHARF|  VIC|144.9520744|-37.82528675|     Melbourne Metro|    Delivery Area|  Updated 6-Feb-2020|20605|  Port Phillip|206|Melbourne - Inner|    R1|    -37.825|     144.952|  20605151219|      Southbank|    206051512|     South Melbourne|        21402|Mornington Peninsula|          214|Mornington Peninsula|      1|      1|     20|Major Cities of A...|       1|       1|  Macnamara|3.33676600456238|        V1|  PHN203|South Eastern Mel...|Port Phillip|  25900|  Macnamara|Inner Metropolitan|   26906|Prahran (Southern...|\n",
      "| 4753|    3006|           SOUTHBANK|  VIC| 144.965926|  -37.823258|  SOUTH MELBOURNE DC|    Delivery Area|  Updated 6-Feb-2020|20605|  Port Phillip|206|Melbourne - Inner|    R1|    -37.829|     144.957|  20605151219|      Southbank|    206051512|     South Melbourne|        21402|Mornington Peninsula|          214|Mornington Peninsula|      1|      1|     20|Major Cities of A...|       1|       1|  Macnamara|3.33676600456238|        V1|  PHN203|South Eastern Mel...|Port Phillip|  25900|  Macnamara|Inner Metropolitan|   26906|Prahran (Southern...|\n",
      "| 4754|    3008|           DOCKLANDS|  VIC| 144.948039|  -37.814719|CITY DELIVERY CENTRE|    Delivery Area|  Updated 6-Feb-2020|20604|Melbourne City|206|Melbourne - Inner|    R1|-37.8170652| 144.9419122|  20605151104| Port Melbourne|    206051511|Port Melbourne In...|        21402|Mornington Peninsula|          214|Mornington Peninsula|      1|      1|     20|Major Cities of A...|       1|       1|  Melbourne| 12.555121421814|        V1|  PHN203|South Eastern Mel...|   Melbourne|  24600|  Melbourne|Inner Metropolitan|   24703|Melbourne (Northe...|\n",
      "| 4755|    3010|UNIVERSITY OF MEL...|  VIC| 144.961351|  -37.796152|          CARLTON DC|    Delivery Area|  Updated 6-Feb-2020|20604|Melbourne City|206|Melbourne - Inner|    R1|-37.7983459|  144.960974|         NULL|           NULL|         NULL|                NULL|         NULL|                NULL|         NULL|                NULL|      1|      1|   NULL|                NULL|       1|       1|  Melbourne|44.1643333435059|        V1|  PHN201|North Western Mel...|   Melbourne|  24600|  Melbourne|              NULL|    NULL|                NULL|\n",
      "| 4756|    3011|           FOOTSCRAY|  VIC| 144.907953|  -37.807101|   WEST FOOTSCRAY DC|    Delivery Area|  Updated 6-Feb-2020|21303|   Maribyrnong|213| Melbourne - West|    R1|-37.7988987|  144.892357|  21303135123| West Footscray|    213031351|West Footscray - ...|        21402|Mornington Peninsula|          214|Mornington Peninsula|      1|      1|     20|Major Cities of A...|       1|       1| Gellibrand|2.80171084403992|        V1|  PHN201|North Western Mel...| Maribyrnong|  24330|Maribyrnong|Inner Metropolitan|   22907|Footscray (Wester...|\n",
      "| 4757|    3011|              SEDDON|  VIC| 144.907953|  -37.807101|   WEST FOOTSCRAY DC|    Delivery Area|  Updated 6-Feb-2020|21303|   Maribyrnong|213| Melbourne - West|    R1|-37.8055831|  144.891002|  21303135123| West Footscray|    213031351|West Footscray - ...|        21402|Mornington Peninsula|          214|Mornington Peninsula|      1|      1|     20|Major Cities of A...|       1|       1| Gellibrand|2.80171084403992|        V1|  PHN201|North Western Mel...| Maribyrnong|  24330|Maribyrnong|Inner Metropolitan|   22907|Footscray (Wester...|\n",
      "| 4758|    3011|         SEDDON WEST|  VIC| 144.907953|  -37.807101|   WEST FOOTSCRAY DC|    Delivery Area|  Updated 6-Feb-2020|21303|   Maribyrnong|213| Melbourne - West|    R1|-37.8053708| 144.8918846|  21303135123| West Footscray|    213031351|West Footscray - ...|        21402|Mornington Peninsula|          214|Mornington Peninsula|      1|      1|     20|Major Cities of A...|       1|       1| Gellibrand|2.80171084403992|        V1|  PHN201|North Western Mel...| Maribyrnong|  24330|Maribyrnong|Inner Metropolitan|   22907|Footscray (Wester...|\n",
      "| 4759|    3012|            BROOKLYN|  VIC| 144.861162|  -37.807135|   WEST FOOTSCRAY DC|    Delivery Area|  Updated 6-Feb-2020|21303|   Maribyrnong|213| Melbourne - West|    R1|-37.8173492| 144.8465361|  21303135128| West Footscray|    213031351|West Footscray - ...|        21402|Mornington Peninsula|          214|Mornington Peninsula|      1|      1|     20|Major Cities of A...|       1|       1|Maribyrnong|21.9553852081299|        V1|  PHN201|North Western Mel...|    Brimbank|  21180|Maribyrnong|Inner Metropolitan|   28707|Williamstown (Wes...|\n",
      "| 4760|    3012|          KINGSVILLE|  VIC| 144.861162|  -37.807135|   WEST FOOTSCRAY DC|    Delivery Area|  Updated 6-Feb-2020|21303|   Maribyrnong|213| Melbourne - West|    R1|    -37.809|     144.878|  21303135128| West Footscray|    213031351|West Footscray - ...|        21402|Mornington Peninsula|          214|Mornington Peninsula|      1|      1|     20|Major Cities of A...|       1|       1|Maribyrnong|21.9553852081299|        V1|  PHN201|North Western Mel...|    Brimbank|  21180|Maribyrnong|Inner Metropolitan|   28707|Williamstown (Wes...|\n",
      "| 4761|    3012|     KINGSVILLE WEST|  VIC| 144.861162|  -37.807135|   WEST FOOTSCRAY DC|    Delivery Area|  Updated 6-Feb-2020|21303|   Maribyrnong|213| Melbourne - West|    R1|    -37.809|     144.878|  21303135128| West Footscray|    213031351|West Footscray - ...|        21402|Mornington Peninsula|          214|Mornington Peninsula|      1|      1|     20|Major Cities of A...|       1|       1|Maribyrnong|21.9553852081299|        V1|  PHN201|North Western Mel...|    Brimbank|  21180|Maribyrnong|Inner Metropolitan|   28707|Williamstown (Wes...|\n",
      "| 4762|    3012|           MAIDSTONE|  VIC| 144.861162|  -37.807135|   WEST FOOTSCRAY DC|    Delivery Area|  Updated 6-Feb-2020|21303|   Maribyrnong|213| Melbourne - West|    R1|    -37.783|     144.878|  21303135128| West Footscray|    213031351|West Footscray - ...|        21402|Mornington Peninsula|          214|Mornington Peninsula|      1|      1|     20|Major Cities of A...|       1|       1|Maribyrnong|21.9553852081299|        V1|  PHN201|North Western Mel...|    Brimbank|  21180|Maribyrnong|Inner Metropolitan|   28707|Williamstown (Wes...|\n",
      "| 4763|    3012|           TOTTENHAM|  VIC| 144.861162|  -37.807135|   WEST FOOTSCRAY DC|    Delivery Area|  Updated 6-Feb-2020|21303|   Maribyrnong|213| Melbourne - West|    R1|    -37.806|     144.857|  21303135128| West Footscray|    213031351|West Footscray - ...|        21402|Mornington Peninsula|          214|Mornington Peninsula|      1|      1|     20|Major Cities of A...|       1|       1|Maribyrnong|21.9553852081299|        V1|  PHN201|North Western Mel...|    Brimbank|  21180|Maribyrnong|Inner Metropolitan|   28707|Williamstown (Wes...|\n",
      "+-----+--------+--------------------+-----+-----------+------------+--------------------+-----------------+--------------------+-----+--------------+---+-----------------+------+-----------+------------+-------------+---------------+-------------+--------------------+-------------+--------------------+-------------+--------------------+-------+-------+-------+--------------------+--------+--------+-----------+----------------+----------+--------+--------------------+------------+-------+-----------+------------------+--------+--------------------+\n",
      "only showing top 20 rows\n",
      "\n"
     ]
    }
   ],
   "source": [
    "vic_df = df.filter(df['state'] == 'VIC')\n",
    "vic_df.show()"
   ]
  },
  {
   "cell_type": "markdown",
   "metadata": {},
   "source": [
    "Unnecessary columns were also removed"
   ]
  },
  {
   "cell_type": "code",
   "execution_count": 6,
   "metadata": {},
   "outputs": [],
   "source": [
    "columns = ['id','state','dc','type','status','sa3','sa3name','sa4','sa4name','region','Lat_precise',\n",
    "            'Long_precise','SA1_CODE_2021','SA1_NAME_2021','SA2_CODE_2021','SA2_NAME_2021','SA3_CODE_2021',\n",
    "            'SA3_NAME_2021','SA4_CODE_2021','SA4_NAME_2021','RA_2011','RA_2016','RA_2021','RA_2021_NAME',\n",
    "            'MMM_2015','MMM_2019','ced','altitude','chargezone','phn_code','phn_name','lgaregion','lgacode',\n",
    "            'electorate','electoraterating','sed_code','sed_name']"
   ]
  },
  {
   "cell_type": "code",
   "execution_count": 7,
   "metadata": {},
   "outputs": [
    {
     "name": "stdout",
     "output_type": "stream",
     "text": [
      "+--------+--------------------+-----------+------------+\n",
      "|postcode|            locality|       long|         lat|\n",
      "+--------+--------------------+-----------+------------+\n",
      "|    3000|           MELBOURNE|144.9825846|-37.81443733|\n",
      "|    3001|           MELBOURNE|144.9825846|-37.81443733|\n",
      "|    3002|      EAST MELBOURNE|144.9825846|-37.81443733|\n",
      "|    3003|      WEST MELBOURNE| 144.949592|  -37.810871|\n",
      "|    3004|           MELBOURNE|144.9825846|-37.81443733|\n",
      "|    3004|ST KILDA ROAD CEN...| 144.970161|  -37.844246|\n",
      "|    3004|ST KILDA ROAD MEL...|    144.976|    -37.8368|\n",
      "|    3005|  WORLD TRADE CENTRE| 144.950858|  -37.824608|\n",
      "|    3006|         SOUTH WHARF|144.9520744|-37.82528675|\n",
      "|    3006|           SOUTHBANK| 144.965926|  -37.823258|\n",
      "|    3008|           DOCKLANDS| 144.948039|  -37.814719|\n",
      "|    3010|UNIVERSITY OF MEL...| 144.961351|  -37.796152|\n",
      "|    3011|           FOOTSCRAY| 144.907953|  -37.807101|\n",
      "|    3011|              SEDDON| 144.907953|  -37.807101|\n",
      "|    3011|         SEDDON WEST| 144.907953|  -37.807101|\n",
      "|    3012|            BROOKLYN| 144.861162|  -37.807135|\n",
      "|    3012|          KINGSVILLE| 144.861162|  -37.807135|\n",
      "|    3012|     KINGSVILLE WEST| 144.861162|  -37.807135|\n",
      "|    3012|           MAIDSTONE| 144.861162|  -37.807135|\n",
      "|    3012|           TOTTENHAM| 144.861162|  -37.807135|\n",
      "+--------+--------------------+-----------+------------+\n",
      "only showing top 20 rows\n",
      "\n"
     ]
    }
   ],
   "source": [
    "vic_df = vic_df.drop(*columns)\n",
    "vic_df.show()"
   ]
  },
  {
   "cell_type": "markdown",
   "metadata": {},
   "source": [
    "We ensured that there were no federal postcodes in the dataframe"
   ]
  },
  {
   "cell_type": "code",
   "execution_count": 9,
   "metadata": {},
   "outputs": [],
   "source": [
    "vic_df = vic_df.filter(df['postcode'] < 4000)"
   ]
  },
  {
   "cell_type": "markdown",
   "metadata": {},
   "source": [
    "Finally, we saved the resulting dataframe in a parquet file"
   ]
  },
  {
   "cell_type": "code",
   "execution_count": 10,
   "metadata": {},
   "outputs": [
    {
     "name": "stderr",
     "output_type": "stream",
     "text": [
      "                                                                                \r"
     ]
    }
   ],
   "source": [
    "if not os.path.exists(\"../data/postcodes/postcodes.parquet\"):\n",
    "    vic_df.write.parquet(\"../data/postcodes/postcodes.parquet\")"
   ]
  }
 ],
 "metadata": {
  "kernelspec": {
   "display_name": "Python 3",
   "language": "python",
   "name": "python3"
  },
  "language_info": {
   "codemirror_mode": {
    "name": "ipython",
    "version": 3
   },
   "file_extension": ".py",
   "mimetype": "text/x-python",
   "name": "python",
   "nbconvert_exporter": "python",
   "pygments_lexer": "ipython3",
   "version": "3.10.12"
  }
 },
 "nbformat": 4,
 "nbformat_minor": 2
}
