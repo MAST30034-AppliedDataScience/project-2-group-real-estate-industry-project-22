{
 "cells": [
  {
   "cell_type": "code",
   "execution_count": 20,
   "metadata": {},
   "outputs": [],
   "source": [
    "import pandas as pd\n",
    "import numpy as np"
   ]
  },
  {
   "cell_type": "code",
   "execution_count": 10,
   "metadata": {},
   "outputs": [],
   "source": [
    "from pyspark.sql import SparkSession\n",
    "#Create a spark session (which will run spark jobs)\n",
    "spark = (\n",
    "    SparkSession.builder.appName(\"Liveability\")\n",
    "    .config(\"spark.sql.repl.eagerEval.enabled\", True) \n",
    "    .config(\"spark.sql.parquet.cacheMetadata\", \"true\")\n",
    "    .config(\"spark.sql.session.timeZone\", \"Etc/UTC\")\n",
    "    .config('spark.driver.memory', '4g')\n",
    "    .config('spark.executor.memory', '2g')\n",
    "    .getOrCreate()\n",
    ")\n"
   ]
  },
  {
   "cell_type": "code",
   "execution_count": 30,
   "metadata": {},
   "outputs": [
    {
     "name": "stdout",
     "output_type": "stream",
     "text": [
      "+--------+--------------------------------+-------------------------------+\n",
      "|Postcode|1-2 Bedder Affordability Metrics|3+ Bedder Affordability Metrics|\n",
      "+--------+--------------------------------+-------------------------------+\n",
      "|    3206|             -1.2048854819594377|            -3.0889491836899445|\n",
      "|    3143|             -0.9883217067643573|              3.889919997813914|\n",
      "|    3054|             -0.9079612028064519|             4.1149715710151025|\n",
      "|    3052|             -1.1122950728463596|             -2.556917169064297|\n",
      "|    3000|                4.65482052280358|              10.16330811857669|\n",
      "|    3066|              -1.143062691803662|               4.01632192826229|\n",
      "|    3008|              16.636352030714296|             16.636352030714296|\n",
      "|    3002|               4.768741414266279|             10.159587087927141|\n",
      "|    <NA>|             -0.7601763854474433|              4.218058757322852|\n",
      "|    3184|             -1.0341411680671477|              3.981507453950985|\n",
      "|    3065|             -1.2636562321036182|             3.8353166289872602|\n",
      "|    3068|             -0.8977866330968878|             -2.453356165828218|\n",
      "|    3031|             -0.5958439295035767|              4.448940619107949|\n",
      "|    3051|             -1.0414982887472828|               4.12485911607605|\n",
      "|    3207|             -1.6165836051257765|             -3.235277081046018|\n",
      "|    3181|             -1.0477330199612753|              4.004633417342184|\n",
      "|    3121|              -1.182751793533976|            -2.5787620737763657|\n",
      "|    3205|              -1.424156550138444|              3.806352408673815|\n",
      "|    3141|             -1.2597001627370847|              3.749870538941357|\n",
      "|    3006|               4.552863206481397|             10.196813683518847|\n",
      "+--------+--------------------------------+-------------------------------+\n",
      "only showing top 20 rows\n",
      "\n"
     ]
    }
   ],
   "source": [
    "df = spark.read.parquet('../data/landing0/combined_data_with_geolocation.parquet', header=True, inferSchema=True)\n",
    "df1 = spark.read.parquet('../data/landing/affordability.parquet', header=True, inferSchema=True)\n",
    "df1 = df1.withColumnRenamed(\"postcode\", \"Postcode\")\n",
    "df1.show()"
   ]
  },
  {
   "cell_type": "code",
   "execution_count": null,
   "metadata": {},
   "outputs": [],
   "source": [
    "## filter to remove null values from postcode "
   ]
  },
  {
   "cell_type": "code",
   "execution_count": 31,
   "metadata": {},
   "outputs": [
    {
     "name": "stdout",
     "output_type": "stream",
     "text": [
      "154\n"
     ]
    }
   ],
   "source": [
    "print((df1.count()))"
   ]
  },
  {
   "cell_type": "code",
   "execution_count": 33,
   "metadata": {},
   "outputs": [
    {
     "data": {
      "text/html": [
       "<table border='1'>\n",
       "<tr><th>Postcode</th><th>Number of Schools</th><th>Number of Groceries</th><th>Number of Healthcare Services</th><th>Latitude</th><th>Longitude</th><th>Suburbs</th></tr>\n",
       "<tr><td>3000</td><td>24</td><td>42</td><td>8</td><td>-37.815205</td><td>144.96394</td><td>Melbourne</td></tr>\n",
       "<tr><td>3002</td><td>14</td><td>17</td><td>10</td><td>-37.816143</td><td>144.98045</td><td>East Melbourne</td></tr>\n",
       "<tr><td>3003</td><td>7</td><td>14</td><td>2</td><td>-37.81145</td><td>144.9254</td><td>West Melbourne</td></tr>\n",
       "<tr><td>3004</td><td>7</td><td>12</td><td>2</td><td>-37.83016</td><td>144.98045</td><td>Melbourne</td></tr>\n",
       "<tr><td>3006</td><td>11</td><td>23</td><td>6</td><td>-37.824547</td><td>144.96394</td><td>South Wharf</td></tr>\n",
       "<tr><td>3008</td><td>3</td><td>3</td><td>1</td><td>-37.817066</td><td>144.94191</td><td>Docklands</td></tr>\n",
       "<tr><td>3010</td><td>1</td><td>1</td><td>NULL</td><td>-37.798447</td><td>144.9621</td><td>Parkville</td></tr>\n",
       "<tr><td>3011</td><td>31</td><td>49</td><td>14</td><td>-37.79602</td><td>144.90063</td><td>Footscray</td></tr>\n",
       "<tr><td>3012</td><td>9</td><td>14</td><td>5</td><td>-37.814625</td><td>144.84563</td><td>Tottenham</td></tr>\n",
       "<tr><td>3013</td><td>14</td><td>21</td><td>3</td><td>-37.819813</td><td>144.88138</td><td>Yarraville</td></tr>\n",
       "<tr><td>3015</td><td>10</td><td>15</td><td>2</td><td>-37.83521</td><td>144.87862</td><td>South Kingsville</td></tr>\n",
       "<tr><td>3016</td><td>18</td><td>25</td><td>5</td><td>-37.857143</td><td>144.88138</td><td>Williamstown</td></tr>\n",
       "<tr><td>3018</td><td>10</td><td>15</td><td>3</td><td>-37.859344</td><td>144.81264</td><td>Altona</td></tr>\n",
       "<tr><td>3019</td><td>14</td><td>30</td><td>5</td><td>-37.790367</td><td>144.85661</td><td>Braybrook</td></tr>\n",
       "<tr><td>3020</td><td>32</td><td>52</td><td>14</td><td>-37.779114</td><td>144.82362</td><td>Sunshine</td></tr>\n",
       "<tr><td>3021</td><td>32</td><td>52</td><td>17</td><td>-37.743595</td><td>144.80164</td><td>Saint Albans</td></tr>\n",
       "<tr><td>3023</td><td>27</td><td>43</td><td>10</td><td>-37.768707</td><td>144.75218</td><td>Burnside</td></tr>\n",
       "<tr><td>3024</td><td>16</td><td>23</td><td>5</td><td>-37.870632</td><td>144.58757</td><td>Wyndham Vale</td></tr>\n",
       "<tr><td>3025</td><td>10</td><td>23</td><td>5</td><td>-37.838867</td><td>144.83463</td><td>Altona North</td></tr>\n",
       "<tr><td>3026</td><td>1</td><td>3</td><td>NULL</td><td>-37.82942</td><td>144.77966</td><td>Laverton North</td></tr>\n",
       "</table>\n",
       "only showing top 20 rows\n"
      ],
      "text/plain": [
       "+--------+-----------------+-------------------+-----------------------------+----------+---------+----------------+\n",
       "|Postcode|Number of Schools|Number of Groceries|Number of Healthcare Services|  Latitude|Longitude|         Suburbs|\n",
       "+--------+-----------------+-------------------+-----------------------------+----------+---------+----------------+\n",
       "|    3000|               24|                 42|                            8|-37.815205|144.96394|       Melbourne|\n",
       "|    3002|               14|                 17|                           10|-37.816143|144.98045|  East Melbourne|\n",
       "|    3003|                7|                 14|                            2| -37.81145| 144.9254|  West Melbourne|\n",
       "|    3004|                7|                 12|                            2| -37.83016|144.98045|       Melbourne|\n",
       "|    3006|               11|                 23|                            6|-37.824547|144.96394|     South Wharf|\n",
       "|    3008|                3|                  3|                            1|-37.817066|144.94191|       Docklands|\n",
       "|    3010|                1|                  1|                         NULL|-37.798447| 144.9621|       Parkville|\n",
       "|    3011|               31|                 49|                           14| -37.79602|144.90063|       Footscray|\n",
       "|    3012|                9|                 14|                            5|-37.814625|144.84563|       Tottenham|\n",
       "|    3013|               14|                 21|                            3|-37.819813|144.88138|      Yarraville|\n",
       "|    3015|               10|                 15|                            2| -37.83521|144.87862|South Kingsville|\n",
       "|    3016|               18|                 25|                            5|-37.857143|144.88138|    Williamstown|\n",
       "|    3018|               10|                 15|                            3|-37.859344|144.81264|          Altona|\n",
       "|    3019|               14|                 30|                            5|-37.790367|144.85661|       Braybrook|\n",
       "|    3020|               32|                 52|                           14|-37.779114|144.82362|        Sunshine|\n",
       "|    3021|               32|                 52|                           17|-37.743595|144.80164|    Saint Albans|\n",
       "|    3023|               27|                 43|                           10|-37.768707|144.75218|        Burnside|\n",
       "|    3024|               16|                 23|                            5|-37.870632|144.58757|    Wyndham Vale|\n",
       "|    3025|               10|                 23|                            5|-37.838867|144.83463|    Altona North|\n",
       "|    3026|                1|                  3|                         NULL| -37.82942|144.77966|  Laverton North|\n",
       "+--------+-----------------+-------------------+-----------------------------+----------+---------+----------------+\n",
       "only showing top 20 rows"
      ]
     },
     "execution_count": 33,
     "metadata": {},
     "output_type": "execute_result"
    }
   ],
   "source": [
    "df = df.withColumnRenamed(\"School_Count\", \"Number of Schools\")\n",
    "df = df.withColumnRenamed(\"groceries_Count\", \"Number of Groceries\")\n",
    "df = df.withColumnRenamed(\"hc_Count\", \"Number of Healthcare Services\")\n",
    "df = df.withColumnRenamed(\"Postcode_Name\", \"Suburbs\")\n",
    "df"
   ]
  },
  {
   "cell_type": "code",
   "execution_count": 35,
   "metadata": {},
   "outputs": [
    {
     "name": "stdout",
     "output_type": "stream",
     "text": [
      "+--------+-----------------+-------------------+-----------------------------+----------+---------+----------------+--------------------------------+-------------------------------+\n",
      "|Postcode|Number of Schools|Number of Groceries|Number of Healthcare Services|  Latitude|Longitude|         Suburbs|1-2 Bedder Affordability Metrics|3+ Bedder Affordability Metrics|\n",
      "+--------+-----------------+-------------------+-----------------------------+----------+---------+----------------+--------------------------------+-------------------------------+\n",
      "|    3000|               24|                 42|                            8|-37.815205|144.96394|       Melbourne|                4.65482052280358|              10.16330811857669|\n",
      "|    3002|               14|                 17|                           10|-37.816143|144.98045|  East Melbourne|               4.768741414266279|             10.159587087927141|\n",
      "|    3006|               11|                 23|                            6|-37.824547|144.96394|     South Wharf|               4.552863206481397|             10.196813683518847|\n",
      "|    3008|                3|                  3|                            1|-37.817066|144.94191|       Docklands|              16.636352030714296|             16.636352030714296|\n",
      "|    3011|               31|                 49|                           14| -37.79602|144.90063|       Footscray|             0.03838021054854135|              4.893258173464451|\n",
      "|    3012|                9|                 14|                            5|-37.814625|144.84563|       Tottenham|             0.28394676559308074|             -0.714180590981063|\n",
      "|    3013|               14|                 21|                            3|-37.819813|144.88138|      Yarraville|            -0.07213725882495314|              4.592167886334514|\n",
      "|    3015|               10|                 15|                            2| -37.83521|144.87862|South Kingsville|            -0.04387129153748326|            -1.4514250440880074|\n",
      "|    3016|               18|                 25|                            5|-37.857143|144.88138|    Williamstown|            -0.38848828343925135|            -1.9764599724907406|\n",
      "|    3018|               10|                 15|                            3|-37.859344|144.81264|          Altona|             0.19844164536585218|            -0.6079530593649842|\n",
      "|    3020|               32|                 52|                           14|-37.779114|144.82362|        Sunshine|              0.6108422426602429|            -0.2905973809253224|\n",
      "|    3030|               38|                 53|                           20|-37.938057|144.67532|      Point Cook|              0.4639763040798579|            -0.2078574461050522|\n",
      "|    3031|               16|                 29|                            4|-37.790897|144.91989|      Kensington|             -0.5958439295035767|              4.448940619107949|\n",
      "|    3036|                6|                  6|                            3|-37.691284|144.81264|    Keilor North|              16.636352030714296|             10.878196044794983|\n",
      "|    3037|               24|                 36|                           13|-37.694004|144.75218|        Hillside|              11.061927350498548|            -0.5761984400856566|\n",
      "|    3039|               19|                 32|                           11|-37.767536|144.91989|    Moonee Ponds|             -0.3865790824441788|             -1.670901460916709|\n",
      "|    3040|               21|                 26|                            8|-37.749302|144.90063|      Aberfeldie|             -0.1843747117843133|            -1.2028537980764833|\n",
      "|    3043|               13|                 20|                            4|-37.704422|144.87862|  Gladstone Park|              11.094793927655376|             -0.535826218794214|\n",
      "|    3044|               22|                 28|                            5|-37.731083| 144.9364|     Pascoe Vale|             -0.2665205956736836|            -1.3238728216172806|\n",
      "|    3046|               21|                 41|                            7|-37.704426|144.93365|         Glenroy|             0.18039197239793126|            -0.6839403378279583|\n",
      "+--------+-----------------+-------------------+-----------------------------+----------+---------+----------------+--------------------------------+-------------------------------+\n",
      "only showing top 20 rows\n",
      "\n"
     ]
    }
   ],
   "source": [
    "\n",
    "output = df.join(df1,['Postcode'],\"inner\")\n",
    "output.show()"
   ]
  }
 ],
 "metadata": {
  "kernelspec": {
   "display_name": "Python 3",
   "language": "python",
   "name": "python3"
  },
  "language_info": {
   "codemirror_mode": {
    "name": "ipython",
    "version": 3
   },
   "file_extension": ".py",
   "mimetype": "text/x-python",
   "name": "python",
   "nbconvert_exporter": "python",
   "pygments_lexer": "ipython3",
   "version": "3.10.12"
  }
 },
 "nbformat": 4,
 "nbformat_minor": 2
}
