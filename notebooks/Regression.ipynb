{
 "cells": [
  {
   "cell_type": "code",
   "execution_count": null,
   "metadata": {},
   "outputs": [],
   "source": [
    "from pyspark.sql.types import *\n",
    "from pyspark.sql import SparkSession, functions as F\n",
    "\n",
    "# Create a spark session (which will run spark jobs)\n",
    "spark = (\n",
    "    SparkSession.builder.appName(\"MAST30034 Project 2\")\n",
    "    .config(\"spark.sql.repl.eagerEval.enabled\", True) \n",
    "    .config(\"spark.sql.parquet.cacheMetadata\", \"true\")\n",
    "    .config(\"spark.sql.session.timeZone\", \"Etc/UTC\")\n",
    "    .config('spark.driver.memory', '4g')\n",
    "    .config('spark.executor.memory', '2g')\n",
    "    .getOrCreate()\n",
    ")\n",
    "\n",
    "import warnings\n",
    "warnings.filterwarnings(\"ignore\") # suppress warnings"
   ]
  },
  {
   "cell_type": "code",
   "execution_count": 121,
   "metadata": {},
   "outputs": [],
   "source": [
    "# Load in Dataframes\n",
    "sdf = spark.read.parquet('../data/curated/merged_df.parquet')\n",
    "growth = spark.read.parquet('../data/curated/growth_rate_20years.parquet')\n",
    "distances = spark.read.parquet('../data/curated/distances.parquet')\n",
    "distances = distances.toPandas()"
   ]
  },
  {
   "cell_type": "code",
   "execution_count": 122,
   "metadata": {},
   "outputs": [],
   "source": [
    "sdf = sdf.withColumn(\n",
    "    # Properties priced per week\n",
    "    'House',\n",
    "    F.when(F.lower(F.col('property_type')).contains('house'), True).otherwise(False)\n",
    ").withColumn(\n",
    "    # see if property is priced per annum\n",
    "    'flat',\n",
    "    F.when(F.lower(F.col('property_type')).contains('flat') \\\n",
    "        | F.lower(F.col('property_type')).contains('apartment'), True ).otherwise(False)\n",
    ")"
   ]
  },
  {
   "cell_type": "code",
   "execution_count": 123,
   "metadata": {},
   "outputs": [
    {
     "name": "stdout",
     "output_type": "stream",
     "text": [
      "+--------+------+---------------+---------+--------------------+----+-----+-------+--------------------+--------------------+----------------------------+------------------------------+-----------------------+-------------------+-----------------------------------+-------------------------------------+-----+-----+\n",
      "|postcode|  cost|         suburb|furnished|       property_type|beds|baths|parking|              region|           lgaregion|total male population - 2021|total female population - 2021|total population - 2021|australian citizens|total region male population - 2022|total region female population - 2022|House| flat|\n",
      "+--------+------+---------------+---------+--------------------+----+-----+-------+--------------------+--------------------+----------------------------+------------------------------+-----------------------+-------------------+-----------------------------------+-------------------------------------+-----+-----+\n",
      "|    3977| 520.0|cranbourne-west|        0|               House| 3.0|  1.0|      2|Inner Regional Au...|           Frankston|                       58191|                         58955|                 117143|              94825|                           606425.0|                             621339.0| true|false|\n",
      "|    3629| 370.0|      mooroopna|        0|Apartment / Unit ...| 2.0|  1.0|      1|Inner Regional Au...|  Greater Shepparton|                        4731|                          4803|                   9536|               7983|                           606425.0|                             621339.0|false| true|\n",
      "|    3337| 370.0|         melton|        0|               House| 3.0|  1.0|      1|Inner Regional Au...|      Macedon Ranges|                       20005|                         20721|                  40724|              33674|                           606425.0|                             621339.0| true|false|\n",
      "|    3219| 470.0|        newcomb|        0|           Townhouse| 3.0|  2.0|      2|Major Cities of A...|     Greater Geelong|                        9695|                         10617|                  20309|              17796|                          2538968.0|                            2598457.0| true|false|\n",
      "|    3141| 850.0|    south-yarra|        0|Apartment / Unit ...| 2.0|  2.0|      1|Major Cities of A...|           Melbourne|                       11881|                         13149|                  25028|              18039|                          2538968.0|                            2598457.0|false| true|\n",
      "|    3020| 580.0|  sunshine-west|        0|               House| 3.0|  2.0|      1|Major Cities of A...|            Brimbank|                       22570|                         21797|                  44372|              33186|                          2538968.0|                            2598457.0| true|false|\n",
      "|    3020| 480.0|         albion|        0|           Townhouse| 3.0|  1.0|      1|Major Cities of A...|            Brimbank|                       22570|                         21797|                  44372|              33186|                          2538968.0|                            2598457.0| true|false|\n",
      "|    3004| 625.0|      melbourne|        0|Apartment / Unit ...| 1.0|  1.0|      0|Major Cities of A...|           Melbourne|                        5655|                          5827|                  11482|               7103|                          2538968.0|                            2598457.0|false| true|\n",
      "|    3022| 410.0|         ardeer|        0|               House| 2.0|  1.0|      2|Major Cities of A...|            Brimbank|                        1600|                          1567|                   3170|               2308|                          2538968.0|                            2598457.0| true|false|\n",
      "|    3008| 520.0|      docklands|        0|Apartment / Unit ...| 1.0|  1.0|      0|Major Cities of A...|           Melbourne|                        8037|                          7458|                  15495|               6983|                          2538968.0|                            2598457.0|false| true|\n",
      "|    3978| 575.0|    clyde-north|        0|               House| 4.0|  2.0|      2|Major Cities of A...|            Cardinia|                       21385|                         21819|                  43202|              32965|                          2538968.0|                            2598457.0| true|false|\n",
      "|    3006| 680.0|      southbank|        0|Apartment / Unit ...| 2.0|  1.0|      0|Major Cities of A...|        Port Phillip|                       11499|                         11197|                  22699|              11460|                          2538968.0|                            2598457.0|false| true|\n",
      "|    3021| 550.0|      st-albans|        0|               House| 3.0|  1.0|      2|Major Cities of A...|            Brimbank|                       27643|                         27470|                  55112|              39503|                          2538968.0|                            2598457.0| true|false|\n",
      "|    3028| 410.0| altona-meadows|        0|               House| 3.0|  1.0|      0|Major Cities of A...|             Wyndham|                       13915|                         14278|                  28191|              22549|                          2538968.0|                            2598457.0| true|false|\n",
      "|    3204| 485.0|         ormond|        0|Apartment / Unit ...| 2.0|  1.0|      1|Major Cities of A...|           Glen Eira|                       16140|                         16991|                  33130|              27132|                          2538968.0|                            2598457.0|false| true|\n",
      "|    3233|3850.0|   skenes-creek|        0|               House| 3.0|  2.0|      4|Outer Regional Au...|         Colac Otway|                        1177|                          1189|                   2363|               1946|                           128873.0|                             128617.0| true|false|\n",
      "|    3003| 550.0| west-melbourne|        0|Apartment / Unit ...| 1.0|  1.0|      1|Major Cities of A...|           Melbourne|                        4093|                          3926|                   8025|               4366|                          2538968.0|                            2598457.0|false| true|\n",
      "|    3141| 730.0|    south-yarra|        0|Apartment / Unit ...| 2.0|  2.0|      1|Major Cities of A...|           Melbourne|                       11881|                         13149|                  25028|              18039|                          2538968.0|                            2598457.0|false| true|\n",
      "|    3977| 620.0|cranbourne-west|        0|               House| 4.0|  2.0|      2|Inner Regional Au...|           Frankston|                       58191|                         58955|                 117143|              94825|                           606425.0|                             621339.0| true|false|\n",
      "|    3941| 600.0|            rye|        0|               House| 4.0|  3.0|      2|Major Cities of A...|Mornington Peninsula|                        6783|                          6811|                  13591|              12043|                          2538968.0|                            2598457.0| true|false|\n",
      "+--------+------+---------------+---------+--------------------+----+-----+-------+--------------------+--------------------+----------------------------+------------------------------+-----------------------+-------------------+-----------------------------------+-------------------------------------+-----+-----+\n",
      "only showing top 20 rows\n",
      "\n"
     ]
    }
   ],
   "source": [
    "# Dropping all duplicate rows\n",
    "sdf1 = sdf.dropDuplicates()\n",
    "\n",
    "sdf1 = sdf1[sdf1['property_type'] != 'Carspace']\n",
    "#print(sdf1)"
   ]
  },
  {
   "cell_type": "code",
   "execution_count": 124,
   "metadata": {},
   "outputs": [
    {
     "name": "stdout",
     "output_type": "stream",
     "text": [
      "+--------+------------------+------------------+------------------+------------------+------------------+------------------+------------------+\n",
      "|postcode|       1 bed flats|       2 bed flats|       3 bed flats|      2 bed houses|      3 bed houses|      4 bed houses|    All Properties|\n",
      "+--------+------------------+------------------+------------------+------------------+------------------+------------------+------------------+\n",
      "|    3206|             1.125|1.0833333333333333|1.0093457943925233|1.1085714285714285|1.6823529411764706| 1.311912225705329|1.1666666666666667|\n",
      "|    3143|1.3888888888888888|             1.375|1.5714285714285714|1.2794117647058822|1.3863636363636365|1.5334608030592733|1.3333333333333333|\n",
      "|    3054| 1.247191011235955|1.1568627450980393| 1.102102102102102|1.4204946996466432|               1.5|1.6666666666666667|1.2818791946308725|\n",
      "|    3052| 1.368421052631579|1.1333333333333333|1.3937677053824362|1.1666666666666667|            1.0575| 1.558139534883721|1.0357142857142858|\n",
      "|    3000|1.1153846153846154|               1.0| 1.173913043478261|1.1333333333333333|1.1333333333333333|1.1333333333333333|1.1333333333333333|\n",
      "|    3008|0.8333333333333334|0.8666666666666667|0.8918918918918919|0.8055555555555556| 1.332657200811359|0.8055555555555556|0.8055555555555556|\n",
      "|    3002|1.1954545454545455|0.8529411764705882|1.2395348837209301|0.9666666666666667|0.9666666666666667|0.9666666666666667|0.9666666666666667|\n",
      "|    3183|1.3235294117647058|               1.5|1.6666666666666667|1.3559322033898304|1.4324324324324325|1.7380952380952381|1.4186046511627908|\n",
      "|    3184|1.1736842105263159|              1.26|1.5757575757575757|0.9945945945945946| 1.611764705882353|2.6822222222222223|1.2916666666666667|\n",
      "|    3065|1.5675675675675675|            1.1875|1.0618556701030928|1.5862068965517242| 1.605263157894737|1.7027027027027026|1.2033898305084745|\n",
      "|    3068|1.5757575757575757|1.4489795918367347| 1.318918918918919|1.4137931034482758|1.5685714285714285|1.6666666666666667|1.3214285714285714|\n",
      "|    3031|           1.65625|1.0408163265306123|1.1666666666666667|1.3076923076923077|1.3548387096774193|            1.8125|               1.0|\n",
      "|    3051|1.2857142857142858|1.3214285714285714|1.3943661971830985|1.2142857142857142| 1.523076923076923|1.6282051282051282|1.1296296296296295|\n",
      "|    3207|0.7543859649122807|0.8783783783783784|0.9538188277087034|1.1612903225806452|1.2093023255813953|0.9047619047619048|0.9857142857142858|\n",
      "|    3181|1.3243243243243243|1.2900763358778626| 1.522857142857143|1.3387096774193548|1.6388888888888888|1.9651162790697674|1.1538461538461537|\n",
      "|    3121|1.6388888888888888| 1.280701754385965|             1.375|1.2580645161290323|1.5416666666666667|               2.0|1.1929824561403508|\n",
      "|    3205|0.9230769230769231|0.9402985074626866|1.1428571428571428|           1.24375|               1.4|0.9076923076923077|0.9076923076923077|\n",
      "|    3141|               1.3| 1.280701754385965| 1.481012658227848|1.1028571428571428|           1.34375|           1.02875|1.1886792452830188|\n",
      "|    3006|0.8275862068965517|0.9436619718309859|1.1666666666666667|0.8571428571428571|0.8571428571428571|0.8571428571428571|0.8571428571428571|\n",
      "|    3182|1.0895522388059702|1.1481481481481481| 1.588235294117647|            1.1875|1.4793388429752066|               1.0|               1.0|\n",
      "+--------+------------------+------------------+------------------+------------------+------------------+------------------+------------------+\n",
      "only showing top 20 rows\n",
      "\n"
     ]
    }
   ],
   "source": [
    "from pyspark.sql import functions as F\n",
    "\n",
    "# growth = growth.fillna(0)\n",
    "growth = growth.filter((F.col('postcode')>0))\n",
    "\n",
    "# [] FILL NA values\n",
    "#growth.na.fill(\"2 bed houses\", (\"All Properties\"))\n",
    "\n",
    "\n",
    "# Removing NULL values and getting data from'All Properties'\n",
    "columns_to_fill = ['1 bed flats', '2 bed flats', '3 bed flats', '2 bed houses', '3 bed houses', '4 bed houses']\n",
    "\n",
    "\n",
    "for col in columns_to_fill:\n",
    "    growth = growth.withColumn(col, F.coalesce(growth[col], growth['All Properties']))\n",
    "\n",
    "\n",
    "growth.show()"
   ]
  },
  {
   "cell_type": "code",
   "execution_count": 126,
   "metadata": {},
   "outputs": [
    {
     "name": "stdout",
     "output_type": "stream",
     "text": [
      "+--------+------------+------+-----------------+---------+-------------+----+-----+-------+--------------------+--------------------+----------------------------+------------------------------+-----------------------+-------------------+-----------------------------------+-------------------------------------+-----+-----+------------------+\n",
      "|postcode|  bed_column|  cost|           suburb|furnished|property_type|beds|baths|parking|              region|           lgaregion|total male population - 2021|total female population - 2021|total population - 2021|australian citizens|total region male population - 2022|total region female population - 2022|House| flat|      growth_value|\n",
      "+--------+------------+------+-----------------+---------+-------------+----+-----+-------+--------------------+--------------------+----------------------------+------------------------------+-----------------------+-------------------+-----------------------------------+-------------------------------------+-----+-----+------------------+\n",
      "|    3020|3 bed houses| 480.0|           albion|        0|    Townhouse| 3.0|  1.0|      1|Major Cities of A...|            Brimbank|                       22570|                         21797|                  44372|              33186|                          2538968.0|                            2598457.0| true|false|1.4444444444444444|\n",
      "|    3044|4 bed houses|1190.0|pascoe-vale-south|        0|    Townhouse| 4.0|  3.0|      2|Major Cities of A...|            Moreland|                       13847|                         14847|                  28701|              24665|                          2538968.0|                            2598457.0| true|false| 1.631578947368421|\n",
      "|    3500|3 bed houses| 420.0|          mildura|        0|    Townhouse| 3.0|  1.0|      2|Outer Regional Au...|             Mildura|                       16634|                         17937|                  34565|              28537|                           128873.0|                             128617.0| true|false|1.1473684210526316|\n",
      "|    3130|3 bed houses| 700.0|  blackburn-south|        0|    Townhouse| 3.0|  2.0|      1|Major Cities of A...|          Whitehorse|                       16117|                         16924|                  33044|              27419|                          2538968.0|                            2598457.0| true|false|1.2916666666666667|\n",
      "|    3166|2 bed houses| 690.0|         oakleigh|        0|    Townhouse| 2.0|  2.0|      1|Major Cities of A...|              Monash|                       12194|                         12557|                  24753|              19411|                          2538968.0|                            2598457.0| true|false|1.5380952380952382|\n",
      "|    3012|2 bed houses| 550.0|   west-footscray|        0|    Townhouse| 2.0|  1.0|      1|Major Cities of A...|            Brimbank|                       13593|                         13423|                  27023|              21594|                          2538968.0|                            2598457.0| true|false|1.6857142857142857|\n",
      "|    3046|2 bed houses| 495.0|          glenroy|        0|    Townhouse| 2.0|  1.0|      1|Major Cities of A...|            Moreland|                       18287|                         18483|                  36772|              27661|                          2538968.0|                            2598457.0| true|false|               1.5|\n",
      "|    3030|3 bed houses| 550.0|       point-cook|        0|    Townhouse| 3.0|  3.0|      2|Inner Regional Au...|             Wyndham|                       59258|                         59945|                 119201|              87410|                           606425.0|                             621339.0| true|false|1.3783783783783783|\n",
      "|    3182|3 bed houses|1050.0|    st-kilda-west|        0|    Townhouse| 3.0|  2.0|      1|Major Cities of A...|        Port Phillip|                       11278|                         11156|                  22438|              16227|                          2538968.0|                            2598457.0| true|false|1.4793388429752066|\n",
      "|    3123|3 bed houses| 595.0|    hawthorn-east|        0|    Townhouse| 3.0|  2.0|      2|Major Cities of A...|          Boroondara|                        7024|                          7809|                  14834|              12302|                          2538968.0|                            2598457.0| true|false|1.1683673469387754|\n",
      "|    3046|2 bed houses| 500.0|          glenroy|        0|    Townhouse| 2.0|  2.0|      1|Major Cities of A...|            Moreland|                       18287|                         18483|                  36772|              27661|                          2538968.0|                            2598457.0| true|false|               1.5|\n",
      "|    3149|2 bed houses| 540.0|   mount-waverley|        0|    Townhouse| 2.0|  1.0|      1|Major Cities of A...|              Monash|                       17373|                         17968|                  35340|              27129|                          2538968.0|                            2598457.0| true|false| 1.619047619047619|\n",
      "|    3012|4 bed houses| 850.0|        maidstone|        0|    Townhouse| 4.0|  3.0|      2|Major Cities of A...|            Brimbank|                       13593|                         13423|                  27023|              21594|                          2538968.0|                            2598457.0| true|false|1.7826086956521738|\n",
      "|    3187|2 bed houses| 630.0|    brighton-east|        0|    Townhouse| 2.0|  2.0|      1|Major Cities of A...|           Glen Eira|                        8014|                          8744|                  16757|              14596|                          2538968.0|                            2598457.0| true|false|1.2363636363636363|\n",
      "|    3400|3 bed houses| 850.0|          horsham|        1|    Townhouse| 3.0|  2.0|      2|Outer Regional Au...|             Horsham|                        7263|                          7872|                  15134|              13761|                           128873.0|                             128617.0| true|false|               1.5|\n",
      "|    3040|3 bed houses| 700.0|         essendon|        0|    Townhouse| 3.0|  2.0|      2|Major Cities of A...|       Moonee Valley|                       12997|                         13727|                  26722|              23487|                          2538968.0|                            2598457.0| true|false|1.5217391304347827|\n",
      "|    3192|4 bed houses| 950.0|       cheltenham|        0|    Townhouse| 4.0|  3.0|      2|Major Cities of A...|      Bayside (Vic.)|                       11547|                         12588|                  24129|              20779|                          2538968.0|                            2598457.0| true|false|1.3472222222222223|\n",
      "|    3168|4 bed houses|1000.0|          clayton|        0|    Townhouse| 4.0|  3.0|      2|Major Cities of A...|              Monash|                       11681|                         10201|                  21880|              10224|                          2538968.0|                            2598457.0| true|false|             1.744|\n",
      "|    3199|2 bed houses| 550.0|        frankston|        0|    Townhouse| 2.0|  2.0|      1|Major Cities of A...|           Frankston|                       27261|                         28866|                  56127|              48406|                          2538968.0|                            2598457.0| true|false|1.6470588235294117|\n",
      "|    3931|3 bed houses| 775.0|       mornington|        0|    Townhouse| 3.0|  2.0|      2|Major Cities of A...|Mornington Peninsula|                       11959|                         13798|                  25759|              23033|                          2538968.0|                            2598457.0| true|false|               1.8|\n",
      "+--------+------------+------+-----------------+---------+-------------+----+-----+-------+--------------------+--------------------+----------------------------+------------------------------+-----------------------+-------------------+-----------------------------------+-------------------------------------+-----+-----+------------------+\n",
      "only showing top 20 rows\n",
      "\n"
     ]
    }
   ],
   "source": [
    "from pyspark.sql import functions as F\n",
    "\n",
    "#Change from columns to merge \n",
    "growth_unpivoted = growth.select(\n",
    "    \"postcode\",\n",
    "    F.expr(\"stack(6, '1 bed flats', `1 bed flats`, '2 bed flats', `2 bed flats`, '3 bed flats', `3 bed flats`, '2 bed houses', `2 bed houses`, '3 bed houses', `3 bed houses`, '4 bed houses', `4 bed houses`) as (bed_column, growth_value)\")\n",
    ")\n",
    "#print(growth_unpivoted)\n",
    "\n",
    "\n",
    "# Create the bed_column in sdf1\n",
    "sdf1 = sdf1.withColumn(\n",
    "    \"bed_column\",\n",
    "    F.when((F.col(\"property_type\").contains(\"flat\")) & (F.col(\"beds\") == 1), \"1 bed flats\")\n",
    "    .when((F.col(\"property_type\").contains(\"flat\")) & (F.col(\"beds\") == 2), \"2 bed flats\")\n",
    "    .when((F.col(\"property_type\").contains(\"flat\")) & (F.col(\"beds\") == 3), \"3 bed flats\")\n",
    "    .when((F.col(\"property_type\").contains(\"house\")) & (F.col(\"beds\") == 2), \"2 bed houses\")\n",
    "    .when((F.col(\"property_type\").contains(\"house\")) & (F.col(\"beds\") == 3), \"3 bed houses\")\n",
    "    .when((F.col(\"property_type\").contains(\"house\")) & (F.col(\"beds\") == 4), \"4 bed houses\")\n",
    ")\n",
    "\n",
    "# Perform the join after ensuring both DataFrames have 'postcode' and 'bed_column'\n",
    "sdf_growth = sdf1.join(growth_unpivoted, on=['postcode', 'bed_column'], how='inner')\n",
    "\n",
    "# Show the result\n",
    "sdf_growth.show()"
   ]
  },
  {
   "cell_type": "code",
   "execution_count": null,
   "metadata": {},
   "outputs": [],
   "source": [
    "pdf = sdf.toPandas()\n",
    "#Dropping duplicates \n",
    "duplicate_rows = pdf[pdf.duplicated()]\n",
    "pdf = pdf.drop_duplicates()\n",
    "\n",
    "# # Log transform the price\n",
    "# from math import log\n",
    "\n",
    "# # Calculating logarithmic values for the specified column\n",
    "# pdf['cost'] = pdf['cost'].apply(lambda x: log(x))\n",
    "# pdf['total male population - 2021'] = pdf['total male population - 2021'].apply(lambda x: log(x))\n",
    "# pdf['total female population - 2021'] = pdf['total female population - 2021'].apply(lambda x: log(x))\n",
    "# pdf['total population - 2021'] = pdf['total population - 2021'].apply(lambda x: log(x))\n",
    "# pdf['australian citizens'] = pdf['australian citizens'].apply(lambda x: log(x))\n",
    "# pdf['median rent'] = pdf['median rent'].apply(lambda x: log(x))\n",
    "# pdf['median family weekly income'] = pdf['median family weekly income'].apply(lambda x: log(x))\n",
    "# pdf['total region male population - 2022'] = pdf['total region male population - 2022'].apply(lambda x: log(x))\n",
    "# pdf['total region female population - 2022'] = pdf['total region female population - 2022'].apply(lambda x: log(x))\n",
    "pdf\n",
    "\n",
    "# flat and apartment are different to house\n",
    "\n",
    "# if Null - > all properties\n",
    "# search for house\n",
    "# else flat"
   ]
  },
  {
   "cell_type": "markdown",
   "metadata": {},
   "source": [
    "Merging with quarterly rent analysis\n"
   ]
  },
  {
   "cell_type": "code",
   "execution_count": 5,
   "metadata": {},
   "outputs": [],
   "source": [
    "import pandas as pd\n",
    "\n",
    "# df_qra = spark.read.parquet('../data/curated/qra.parquet')\n",
    "# df_qra = df_qra.toPandas()\n",
    "pdf['postcode'] = pdf['postcode'].astype(str)\n",
    "# df_merged = pd.merge(pdf, df_qra, on='postcode', how='inner')"
   ]
  },
  {
   "cell_type": "code",
   "execution_count": 6,
   "metadata": {},
   "outputs": [],
   "source": [
    "pdf = pdf.drop(['region', 'lgaregion'], axis = 1)"
   ]
  },
  {
   "cell_type": "code",
   "execution_count": null,
   "metadata": {},
   "outputs": [],
   "source": [
    "growth.count()"
   ]
  },
  {
   "cell_type": "code",
   "execution_count": null,
   "metadata": {},
   "outputs": [],
   "source": [
    "distances.count()"
   ]
  },
  {
   "cell_type": "code",
   "execution_count": 9,
   "metadata": {},
   "outputs": [],
   "source": [
    "distances = distances.drop(['name', 'latitude', 'longitude'], axis = 1)"
   ]
  },
  {
   "cell_type": "code",
   "execution_count": 10,
   "metadata": {},
   "outputs": [],
   "source": [
    "distances = distances.groupby('postcode').mean()\n",
    "distances = distances.dropna()"
   ]
  },
  {
   "cell_type": "code",
   "execution_count": null,
   "metadata": {},
   "outputs": [],
   "source": [
    "# sdf_reg = spark.read.parquet('../data/curated/qra_reg.parquet')\n",
    "# sdf_reg.count()\n",
    "# reg_features = sdf_reg.columns\n",
    "# pdf_reg = sdf_reg.toPandas()\n",
    "\n",
    "growth_pdf = growth.toPandas()\n",
    "\n",
    "import pandas as pd\n",
    "df_merged = pd.merge(pdf, distances, on='postcode', how='inner')\n",
    "df_merged = df_merged.drop_duplicates()\n",
    "print(df_merged)\n",
    "df_merged.to_parquet('../data/curated/regression_data.parquet', engine='pyarrow', index=False)"
   ]
  },
  {
   "cell_type": "markdown",
   "metadata": {},
   "source": [
    "PREPROCESSING NOTE: Need to merge growth and df_merge\n",
    "Combine the correct score to the property type and number of beds i.e. First instance - want to add a growth column that contains the value for 1 bed flat"
   ]
  },
  {
   "cell_type": "code",
   "execution_count": 12,
   "metadata": {},
   "outputs": [],
   "source": [
    "# # Boosting\n",
    "# from sklearn.ensemble import GradientBoostingRegressor\n",
    "# >>> model = GradientBoostingRegressor(random_state=0).fit(x_train, y_train)\n",
    "# >>> model.score(x_train, y_train)\n",
    "# 0.8083859166342285\n",
    "# >>> model.score(x_test, y_test)\n",
    "# 0.7802104901623703\n",
    "\n",
    "# >>> from sklearn.ensemble import RandomForestRegressor\n",
    "# >>> model = RandomForestRegressor(random_state=0).fit(x_train, y_train)\n",
    "# >>> model.score(x_train, y_train)\n",
    "# 0.9727449572570027\n",
    "# >>> model.score(x_test, y_test)"
   ]
  },
  {
   "cell_type": "markdown",
   "metadata": {},
   "source": [
    "Exploratory Data Analysis"
   ]
  },
  {
   "cell_type": "code",
   "execution_count": null,
   "metadata": {},
   "outputs": [],
   "source": [
    "# import seaborn as sns\n",
    "pdf_numeric = df_merged.drop(['suburb', 'name', 'property_type', 'region', 'lgaregion', 'latitude', 'longitude'], axis=1)\n",
    "# ax = sns.boxplot(data=pdf_numeric)\n",
    "# ax.tick_params(axis='x', labelrotation=90)"
   ]
  },
  {
   "cell_type": "code",
   "execution_count": null,
   "metadata": {},
   "outputs": [],
   "source": [
    "pdf_numeric = pdf_numeric.dropna()\n",
    "pdf_numeric.count()"
   ]
  },
  {
   "cell_type": "code",
   "execution_count": null,
   "metadata": {},
   "outputs": [],
   "source": [
    "import matplotlib.pyplot as plt\n",
    "import seaborn as sns\n",
    "\n",
    "correlation_pdf = pdf_numeric.drop('postcode',axis=1)\n",
    "plt.figure(figsize=(12, 6))\n",
    "sns.heatmap(correlation_pdf.corr(),\n",
    "            cmap = 'BrBG',\n",
    "            fmt = '.2f',\n",
    "            linewidths = 2,\n",
    "            annot = True)"
   ]
  },
  {
   "cell_type": "code",
   "execution_count": null,
   "metadata": {},
   "outputs": [],
   "source": [
    "pdf_numeric"
   ]
  },
  {
   "cell_type": "code",
   "execution_count": 80,
   "metadata": {},
   "outputs": [],
   "source": [
    "# # stratified sampling --"
   ]
  },
  {
   "cell_type": "code",
   "execution_count": null,
   "metadata": {},
   "outputs": [],
   "source": [
    "medians = pdf_numeric.groupby([\"postcode\"])[\"median rent\"].median() \n",
    "\n",
    "import pandas as pd\n",
    "median_pdf = pd.DataFrame(medians)\n",
    "median_pdf = median_pdf.sort_values(by=['median rent'])\n",
    "\n",
    "# Importing required libraries \n",
    "import matplotlib.pyplot as plt \n",
    "\n",
    "# creating the bar plot\n",
    "plt.bar(list(median_pdf[0:10].index), median_pdf['median rent'][0:10]) # fix x label, fix outliers, data check\n",
    "\n",
    "plt.xlabel(\"postcode\")\n",
    "plt.ylabel(\"Median log rent (per Week)\")\n",
    "plt.title(\"Lowest Median log Rent Per Week by Suburb\")\n",
    "plt.show()"
   ]
  },
  {
   "cell_type": "code",
   "execution_count": null,
   "metadata": {},
   "outputs": [],
   "source": [
    "medians = pdf_numeric.groupby([\"postcode\"])[\"median rent\"].median() \n",
    "\n",
    "import pandas as pd\n",
    "median_pdf = pd.DataFrame(medians)\n",
    "median_pdf = median_pdf.sort_values(by=['median rent'], ascending = False)\n",
    "\n",
    "# Importing required libraries \n",
    "import matplotlib.pyplot as plt \n",
    "\n",
    "#fig = plt.figure(figsize = (7, 4))\n",
    "\n",
    "# creating the bar plot\n",
    "plt.bar(list(median_pdf[0:10].index), median_pdf['median rent'][0:10]) # fix x label\n",
    "\n",
    "plt.xlabel(\"postcode\")\n",
    "plt.ylabel(\"Median log rent (per Week)\")\n",
    "plt.title(\"Highest Median log rent of Rent Per Week by Suburb\")\n",
    "plt.show()"
   ]
  },
  {
   "cell_type": "code",
   "execution_count": null,
   "metadata": {},
   "outputs": [],
   "source": [
    "means = pdf_numeric.groupby([\"postcode\"])[\"median rent\"].mean() \n",
    "\n",
    "import pandas as pd\n",
    "means_pdf = pd.DataFrame(means)\n",
    "means_pdf = means_pdf.sort_values(by=['median rent'], ascending = False)\n",
    "\n",
    "# Importing required libraries \n",
    "import matplotlib.pyplot as plt \n",
    "\n",
    "# creating the bar plot\n",
    "plt.bar(list(means_pdf[0:10].index), means_pdf['median rent'][0:10]) # fix x label, fix outliers, data check\n",
    "\n",
    "plt.xlabel(\"postcode\")\n",
    "plt.ylabel(\"Median log rent (per Week)\")\n",
    "plt.title(\"Highest Median log rent of Rent Per Week by Suburb\")\n",
    "plt.show()\n",
    "\n",
    "# Scatterplots - sample"
   ]
  },
  {
   "cell_type": "code",
   "execution_count": null,
   "metadata": {},
   "outputs": [],
   "source": [
    "means_pdf"
   ]
  },
  {
   "cell_type": "code",
   "execution_count": null,
   "metadata": {},
   "outputs": [],
   "source": [
    "# Importing required libraries \n",
    "import matplotlib.pyplot as plt \n",
    "\n",
    "# creating the bar plot\n",
    "plt.bar(list(means_pdf.index), means_pdf['median rent']) # can input top 10 indices\n",
    "\n",
    "plt.xlabel(\"Suburbs\")\n",
    "plt.ylabel(\"Median log rent (per Week)\")\n",
    "plt.title(\"Median log Rent Per Week by Suburb\")\n",
    "plt.show()"
   ]
  },
  {
   "cell_type": "code",
   "execution_count": null,
   "metadata": {},
   "outputs": [],
   "source": [
    "pdf_numeric"
   ]
  },
  {
   "cell_type": "code",
   "execution_count": null,
   "metadata": {},
   "outputs": [],
   "source": [
    "import matplotlib.pyplot as plt\n",
    "\n",
    "plt.scatter(pdf_numeric['distance_to_closest_school_km'], pdf_numeric['median rent'])\n",
    "plt.show()"
   ]
  },
  {
   "cell_type": "code",
   "execution_count": null,
   "metadata": {},
   "outputs": [],
   "source": [
    "plt.scatter(pdf_numeric['distance_to_cbd'], pdf_numeric['median rent'])\n",
    "plt.show()"
   ]
  },
  {
   "cell_type": "code",
   "execution_count": null,
   "metadata": {},
   "outputs": [],
   "source": [
    "import matplotlib.pyplot as plt\n",
    "\n",
    "plt.scatter(pdf_numeric['median rent'], pdf_numeric['median family weekly income'])\n",
    "plt.show()"
   ]
  },
  {
   "cell_type": "code",
   "execution_count": null,
   "metadata": {},
   "outputs": [],
   "source": [
    "import matplotlib.pyplot as plt\n",
    "\n",
    "plt.scatter(pdf_numeric['beds'], pdf_numeric['median rent'])\n",
    "plt.show()"
   ]
  },
  {
   "cell_type": "code",
   "execution_count": null,
   "metadata": {},
   "outputs": [],
   "source": [
    "import matplotlib.pyplot as plt\n",
    "\n",
    "plt.scatter(pdf_numeric['baths'], pdf_numeric['median rent'])\n",
    "plt.show()"
   ]
  },
  {
   "cell_type": "code",
   "execution_count": 92,
   "metadata": {},
   "outputs": [],
   "source": [
    "pdf_numeric = pdf_numeric.round()"
   ]
  },
  {
   "cell_type": "code",
   "execution_count": 93,
   "metadata": {},
   "outputs": [],
   "source": [
    "pdf_numeric = pdf_numeric.dropna()\n",
    "pdf_numeric = pdf_numeric.drop_duplicates()\n"
   ]
  },
  {
   "cell_type": "code",
   "execution_count": null,
   "metadata": {},
   "outputs": [],
   "source": [
    "pdf_numeric.columns"
   ]
  },
  {
   "cell_type": "code",
   "execution_count": null,
   "metadata": {},
   "outputs": [],
   "source": [
    "suburbs = pdf_numeric.groupby(['postcode']).median()\n",
    "suburbs = suburbs.astype(int)\n",
    "suburbs\n",
    "\n",
    "# list(suburbs['median rent'].values)"
   ]
  },
  {
   "cell_type": "code",
   "execution_count": null,
   "metadata": {},
   "outputs": [],
   "source": [
    "# Round up to the nearest 10\n",
    "import numpy as np\n",
    "rounded_median_rent= [(np.ceil(x/10) * 10) for x in list(suburbs['median rent'].values)]\n",
    "rounded_median_rent = [int(x) for x in rounded_median_rent]\n",
    "rounded_median_rent"
   ]
  },
  {
   "cell_type": "code",
   "execution_count": null,
   "metadata": {},
   "outputs": [],
   "source": [
    "suburbs['rounded_median_rent'] = rounded_median_rent\n",
    "suburbs"
   ]
  },
  {
   "cell_type": "markdown",
   "metadata": {},
   "source": [
    "Regression\n"
   ]
  },
  {
   "cell_type": "code",
   "execution_count": null,
   "metadata": {},
   "outputs": [],
   "source": [
    "unique_vals = ((suburbs['rounded_median_rent'].value_counts()))\n",
    "unique_vals\n",
    "\n",
    "for i in unique_vals[unique_vals == 1].index:\n",
    "    target = suburbs[suburbs['rounded_median_rent'] == i] # Need more than 1 sample for each unique value for modelling\n",
    "    suburbs = suburbs.drop(target.index[0])\n",
    "\n",
    "suburbs\n",
    "   "
   ]
  },
  {
   "cell_type": "code",
   "execution_count": null,
   "metadata": {},
   "outputs": [],
   "source": [
    "import numpy as np\n",
    "sdf_suburbs = spark.createDataFrame(suburbs)\n",
    "sdf_suburbs"
   ]
  },
  {
   "cell_type": "code",
   "execution_count": 100,
   "metadata": {},
   "outputs": [],
   "source": [
    "from sklearn.model_selection import train_test_split\n",
    "\n",
    "# Label\n",
    "y = suburbs['rounded_median_rent'] \n",
    "\n",
    "# Predictors\n",
    "x = suburbs.drop(['rounded_median_rent'], axis=1)\n",
    "\n",
    "# Create train, test split\n",
    "X_train, X_test, y_train, y_test = train_test_split(x, y, test_size=0.4, random_state=10, stratify=y)\n",
    "\n",
    "# Scale data\n",
    "from sklearn.preprocessing import StandardScaler\n",
    "sc = StandardScaler()\n",
    "X_train = sc.fit_transform(X_train)\n",
    "X_test = sc.transform(X_test)"
   ]
  },
  {
   "cell_type": "code",
   "execution_count": 101,
   "metadata": {},
   "outputs": [],
   "source": [
    "# #K fold cross validation\n",
    "\n",
    "# from sklearn.model_selection import ShuffleSplit\n",
    "# from sklearn.model_selection import cross_val_score\n",
    "\n",
    "# #Randomize the sample so each of the fold has equal distribution of data samples\n",
    "# cv = ShuffleSplit(n_splits=5, test_size=0.3, random_state=0) # do hyperparameter tuning\n",
    "\n",
    "# cross_val_score(LinearRegression(), x, y, cv=cv)"
   ]
  },
  {
   "cell_type": "code",
   "execution_count": null,
   "metadata": {},
   "outputs": [],
   "source": [
    "# Linear Regression\n",
    "\n",
    "from sklearn import datasets, linear_model, metrics\n",
    "reg = linear_model.LinearRegression()\n",
    "reg.fit(X_train, y_train)\n",
    "reg.score(X_test , y_test)"
   ]
  },
  {
   "cell_type": "code",
   "execution_count": null,
   "metadata": {},
   "outputs": [],
   "source": [
    "# regression coefficients\n",
    "print('Coefficients: ', reg.coef_)\n",
    "\n",
    "# variance score: 1 means perfect prediction\n",
    "print('Variance score: {}'.format(reg.score(X_test, y_test)))\n",
    "\n",
    "y_pred = reg.predict(X_test)"
   ]
  },
  {
   "cell_type": "code",
   "execution_count": null,
   "metadata": {},
   "outputs": [],
   "source": [
    "plt.scatter(y_test, y_pred) # Add y=x\n",
    "plt.xlabel(\"Actual Values\")\n",
    "plt.ylabel(\"Predicted Values\")\n",
    "plt.title(\"Linear Regression: Actual vs. Predicted Values\")\n",
    "plt.show() # Much better performance  "
   ]
  },
  {
   "cell_type": "code",
   "execution_count": null,
   "metadata": {},
   "outputs": [],
   "source": [
    "# Confusion Matrix\n",
    "from sklearn.metrics import confusion_matrix\n",
    "cm=confusion_matrix(y_test,y_pred)\n",
    "plt.figure(figsize=(12,6))\n",
    "plt.title(\"Confusion Matrix\")\n",
    "sns.heatmap(cm, annot=True,fmt='d')\n",
    "plt.ylabel(\"Actual Values\")\n",
    "plt.xlabel(\"Predicted Values\")"
   ]
  },
  {
   "cell_type": "code",
   "execution_count": 92,
   "metadata": {},
   "outputs": [],
   "source": [
    "# from sklearn.ensemble import RandomForestRegressor\n",
    "# from sklearn.metrics import mean_squared_error,r2_score\n",
    "# from sklearn.metrics import mean_squared_error, mean_absolute_error, r2_score\n",
    "# from sklearn.metrics import accuracy_score\n",
    " \n",
    "# # Create a random forest regression model   # RANDOM FOREST NO GOOD FOR STRATIFIED SAMPLING\n",
    "# model = RandomForestRegressor(n_estimators=50)\n",
    " \n",
    "# # Fit the model to the data\n",
    "# model.fit(x, y)\n",
    " \n",
    "# # Predict the response for a new data point\n",
    "# y_pred = model.predict(X_test)\n",
    "# #test_acc = accuracy_score(y_test, y_pred)\n",
    "\n",
    "# #print(\"The Accuracy for Test Set is {}\" .format(test_acc*100))\n",
    "\n",
    "\n",
    "# mse = mean_squared_error(y_test, y_pred)\n",
    "# mae = mean_absolute_error(y_test, y_pred)\n",
    "\n",
    "# r2 = r2_score(y_test, y_pred)\n",
    "\n",
    "# print(\"Mean Squared Error:\", mse)\n",
    "# print(\"Mean Absolute Error:\", mae)\n",
    "\n",
    "# print(\"R2 Score:\", r2)\n",
    "\n",
    "# # Make predictions\n",
    "\n",
    "# print(\"Prediction:\", y_pred)"
   ]
  },
  {
   "cell_type": "code",
   "execution_count": 93,
   "metadata": {},
   "outputs": [],
   "source": [
    "# plt.scatter(y_test, y_pred) # sample?\n",
    "# plt.xlabel(\"Actual Values\")\n",
    "# plt.ylabel(\"Predicted Values\")\n",
    "# plt.title(\"Random Forest Regression: Actual vs. Predicted Values\")\n",
    "# plt.show() # Much better performance  "
   ]
  },
  {
   "cell_type": "code",
   "execution_count": null,
   "metadata": {},
   "outputs": [],
   "source": [
    "from sklearn.metrics import classification_report\n",
    "print(classification_report(y_test,y_pred))"
   ]
  },
  {
   "cell_type": "code",
   "execution_count": null,
   "metadata": {},
   "outputs": [],
   "source": []
  },
  {
   "cell_type": "code",
   "execution_count": null,
   "metadata": {},
   "outputs": [],
   "source": [
    "rf_feature_importances = reg.feature_importances_\n",
    "rf_feature_importances = pd.Series(\n",
    "    rf_feature_importances, index=X_train.columns.values\n",
    "    ).sort_values(ascending=False)\n",
    "\n",
    "fig, ax = plt.subplots(figsize=(7,5))\n",
    "sns.barplot(x=rf_feature_importances, y=rf_feature_importances.index)\n",
    "plt.xlabel('Feature Importance');\n",
    "plt.ylabel('Feature');"
   ]
  },
  {
   "cell_type": "code",
   "execution_count": null,
   "metadata": {},
   "outputs": [],
   "source": [
    "import numpy as np\n",
    "from glmnet import ElasticNet\n",
    "\n",
    "\n",
    "# LASSO Model\n",
    "elastic_net_model = ElasticNet(alpha=1) \n",
    "elastic_net_model.fit(x,y)"
   ]
  },
  {
   "cell_type": "code",
   "execution_count": null,
   "metadata": {},
   "outputs": [],
   "source": [
    "# Lambda Value\n",
    "print(f'Best lambda value for LASSO: {elastic_net_model.lambda_best_[0]}')"
   ]
  },
  {
   "cell_type": "code",
   "execution_count": null,
   "metadata": {},
   "outputs": [],
   "source": [
    "y_pred = elastic_net_model.predict(X_test)\n",
    "\n",
    "# Import necessary libraries\n",
    "from sklearn.linear_model import ElasticNet\n",
    "from sklearn.metrics import mean_squared_error,r2_score\n",
    "import numpy as np\n",
    "import matplotlib.pyplot as plt\n",
    "\n",
    "# Calculate the Mean Squared Error (MSE)\n",
    "mse = mean_squared_error(y_test, y_pred)\n",
    "print(f\"Mean Squared Error: {mse}\")\n",
    "# Print the model coefficients\n",
    "print(\"Elastic Net Coefficients:\")\n",
    "print(elastic_net_model.coef_)\n",
    "# Print the model intercept\n",
    "print(\"Elastic Net Intercept:\")\n",
    "print(elastic_net_model.intercept_)\n",
    "r2_score(y_test,y_pred)"
   ]
  },
  {
   "cell_type": "code",
   "execution_count": null,
   "metadata": {},
   "outputs": [],
   "source": [
    "plt.scatter(y_test, y_pred)\n",
    "plt.xlabel(\"Actual Values\")\n",
    "plt.ylabel(\"Predicted Values\")\n",
    "plt.title(\"Elastic Net Regression: Actual vs. Predicted Values\")\n",
    "plt.show()"
   ]
  },
  {
   "cell_type": "code",
   "execution_count": 39,
   "metadata": {},
   "outputs": [],
   "source": [
    "# Begin forecasting the rental properties for the next 3-years by suburb or any other suitable\n",
    "# granularity (we will let groups decide on the granularity). Whilst working on this, groups are\n",
    "# expected to also present some analysis on what features are useful in making a certain suburb\n",
    "# more expensive and sought after."
   ]
  },
  {
   "cell_type": "code",
   "execution_count": 40,
   "metadata": {},
   "outputs": [],
   "source": [
    "# Groups are to continue working on their predictions and analysis. Additionally, prepare a\n",
    "# summary notebook (3-5 minutes max) and walk your Tutor through the current findings and\n",
    "# any additional insights so far. This task should assist in helping groups formulate their answers\n",
    "# to the 3 big questions."
   ]
  },
  {
   "cell_type": "code",
   "execution_count": 41,
   "metadata": {},
   "outputs": [],
   "source": [
    "# Summarise and output the 3-year predictions for your chosen granularity (i.e suburb or cluster\n",
    "# of properties) and provide some form of an answer for the 3 big questions."
   ]
  }
 ],
 "metadata": {
  "kernelspec": {
   "display_name": "Python 3",
   "language": "python",
   "name": "python3"
  },
  "language_info": {
   "codemirror_mode": {
    "name": "ipython",
    "version": 3
   },
   "file_extension": ".py",
   "mimetype": "text/x-python",
   "name": "python",
   "nbconvert_exporter": "python",
   "pygments_lexer": "ipython3",
   "version": "3.10.12"
  }
 },
 "nbformat": 4,
 "nbformat_minor": 2
}
