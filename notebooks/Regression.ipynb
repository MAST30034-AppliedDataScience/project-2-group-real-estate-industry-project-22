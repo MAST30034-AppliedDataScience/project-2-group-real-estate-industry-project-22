{
 "cells": [
  {
   "cell_type": "code",
   "execution_count": 1,
   "metadata": {},
   "outputs": [
    {
     "name": "stderr",
     "output_type": "stream",
     "text": [
      "your 131072x1 screen size is bogus. expect trouble\n",
      "Picked up _JAVA_OPTIONS: -Xmx2048m\n",
      "Picked up _JAVA_OPTIONS: -Xmx2048m\n",
      "24/10/05 19:43:09 WARN Utils: Your hostname, Rachel resolves to a loopback address: 127.0.1.1; using 172.27.36.102 instead (on interface eth0)\n",
      "24/10/05 19:43:09 WARN Utils: Set SPARK_LOCAL_IP if you need to bind to another address\n",
      "Setting default log level to \"WARN\".\n",
      "To adjust logging level use sc.setLogLevel(newLevel). For SparkR, use setLogLevel(newLevel).\n",
      "24/10/05 19:43:11 WARN NativeCodeLoader: Unable to load native-hadoop library for your platform... using builtin-java classes where applicable\n"
     ]
    }
   ],
   "source": [
    "from pyspark.sql.types import *\n",
    "from pyspark.sql import SparkSession, functions as F\n",
    "\n",
    "# Create a spark session (which will run spark jobs)\n",
    "spark = (\n",
    "    SparkSession.builder.appName(\"MAST30034 Project 2\")\n",
    "    .config(\"spark.sql.repl.eagerEval.enabled\", True) \n",
    "    .config(\"spark.sql.parquet.cacheMetadata\", \"true\")\n",
    "    .config(\"spark.sql.session.timeZone\", \"Etc/UTC\")\n",
    "    .config('spark.driver.memory', '4g')\n",
    "    .config('spark.executor.memory', '2g')\n",
    "    .getOrCreate()\n",
    ")\n",
    "\n",
    "import warnings\n",
    "warnings.filterwarnings(\"ignore\") # suppress warnings"
   ]
  },
  {
   "cell_type": "code",
   "execution_count": 2,
   "metadata": {},
   "outputs": [
    {
     "name": "stderr",
     "output_type": "stream",
     "text": [
      "                                                                                \r"
     ]
    }
   ],
   "source": [
    "# Load in Dataframes\n",
    "sdf = spark.read.parquet('../data/curated/merged_df.parquet')\n",
    "growth = spark.read.parquet('../data/curated/growth_rate_20years.parquet')\n",
    "distances = spark.read.parquet('../data/curated/distances.parquet')\n",
    "distances = distances.toPandas()"
   ]
  },
  {
   "cell_type": "code",
   "execution_count": 14,
   "metadata": {},
   "outputs": [
    {
     "data": {
      "text/html": [
       "<table border='1'>\n",
       "<tr><th>postcode</th><th>1 bed flats</th><th>2 bed flats</th><th>3 bed flats</th><th>2 bed houses</th><th>3 bed houses</th><th>4 bed houses</th><th>All Properties</th></tr>\n",
       "<tr><td>3206</td><td>1.125</td><td>1.0833333333333333</td><td>1.0093457943925233</td><td>1.1085714285714285</td><td>1.6823529411764706</td><td>1.311912225705329</td><td>1.1666666666666667</td></tr>\n",
       "<tr><td>3143</td><td>1.3888888888888888</td><td>1.375</td><td>1.5714285714285714</td><td>1.2794117647058822</td><td>1.3863636363636365</td><td>1.5334608030592733</td><td>1.3333333333333333</td></tr>\n",
       "<tr><td>3054</td><td>1.247191011235955</td><td>1.1568627450980393</td><td>1.102102102102102</td><td>1.4204946996466432</td><td>1.5</td><td>1.6666666666666667</td><td>1.2818791946308725</td></tr>\n",
       "<tr><td>3052</td><td>1.368421052631579</td><td>1.1333333333333333</td><td>1.3937677053824362</td><td>1.1666666666666667</td><td>1.0575</td><td>1.558139534883721</td><td>1.0357142857142858</td></tr>\n",
       "<tr><td>3000</td><td>1.1153846153846154</td><td>1.0</td><td>1.173913043478261</td><td>NULL</td><td>NULL</td><td>NULL</td><td>1.1333333333333333</td></tr>\n",
       "<tr><td>3008</td><td>0.8333333333333334</td><td>0.8666666666666667</td><td>0.8918918918918919</td><td>NULL</td><td>1.332657200811359</td><td>NULL</td><td>0.8055555555555556</td></tr>\n",
       "<tr><td>3002</td><td>1.1954545454545455</td><td>0.8529411764705882</td><td>1.2395348837209301</td><td>NULL</td><td>NULL</td><td>NULL</td><td>0.9666666666666667</td></tr>\n",
       "<tr><td>3183</td><td>1.3235294117647058</td><td>1.5</td><td>1.6666666666666667</td><td>1.3559322033898304</td><td>1.4324324324324325</td><td>1.7380952380952381</td><td>1.4186046511627908</td></tr>\n",
       "<tr><td>3184</td><td>1.1736842105263159</td><td>1.26</td><td>1.5757575757575757</td><td>0.9945945945945946</td><td>1.611764705882353</td><td>2.6822222222222223</td><td>1.2916666666666667</td></tr>\n",
       "<tr><td>3065</td><td>1.5675675675675675</td><td>1.1875</td><td>1.0618556701030928</td><td>1.5862068965517242</td><td>1.605263157894737</td><td>1.7027027027027026</td><td>1.2033898305084745</td></tr>\n",
       "<tr><td>3068</td><td>1.5757575757575757</td><td>1.4489795918367347</td><td>1.318918918918919</td><td>1.4137931034482758</td><td>1.5685714285714285</td><td>1.6666666666666667</td><td>1.3214285714285714</td></tr>\n",
       "<tr><td>3031</td><td>1.65625</td><td>1.0408163265306123</td><td>1.1666666666666667</td><td>1.3076923076923077</td><td>1.3548387096774193</td><td>1.8125</td><td>1.0</td></tr>\n",
       "<tr><td>3051</td><td>1.2857142857142858</td><td>1.3214285714285714</td><td>1.3943661971830985</td><td>1.2142857142857142</td><td>1.523076923076923</td><td>1.6282051282051282</td><td>1.1296296296296295</td></tr>\n",
       "<tr><td>3207</td><td>0.7543859649122807</td><td>0.8783783783783784</td><td>0.9538188277087034</td><td>1.1612903225806452</td><td>1.2093023255813953</td><td>0.9047619047619048</td><td>0.9857142857142858</td></tr>\n",
       "<tr><td>3181</td><td>1.3243243243243243</td><td>1.2900763358778626</td><td>1.522857142857143</td><td>1.3387096774193548</td><td>1.6388888888888888</td><td>1.9651162790697674</td><td>1.1538461538461537</td></tr>\n",
       "<tr><td>3121</td><td>1.6388888888888888</td><td>1.280701754385965</td><td>1.375</td><td>1.2580645161290323</td><td>1.5416666666666667</td><td>2.0</td><td>1.1929824561403508</td></tr>\n",
       "<tr><td>3205</td><td>0.9230769230769231</td><td>0.9402985074626866</td><td>1.1428571428571428</td><td>1.24375</td><td>1.4</td><td>NULL</td><td>0.9076923076923077</td></tr>\n",
       "<tr><td>3141</td><td>1.3</td><td>1.280701754385965</td><td>1.481012658227848</td><td>1.1028571428571428</td><td>1.34375</td><td>1.02875</td><td>1.1886792452830188</td></tr>\n",
       "<tr><td>3006</td><td>0.8275862068965517</td><td>0.9436619718309859</td><td>1.1666666666666667</td><td>NULL</td><td>NULL</td><td>NULL</td><td>0.8571428571428571</td></tr>\n",
       "<tr><td>3182</td><td>1.0895522388059702</td><td>1.1481481481481481</td><td>1.588235294117647</td><td>1.1875</td><td>1.4793388429752066</td><td>NULL</td><td>1.0</td></tr>\n",
       "</table>\n",
       "only showing top 20 rows\n"
      ],
      "text/plain": [
       "+--------+------------------+------------------+------------------+------------------+------------------+------------------+------------------+\n",
       "|postcode|       1 bed flats|       2 bed flats|       3 bed flats|      2 bed houses|      3 bed houses|      4 bed houses|    All Properties|\n",
       "+--------+------------------+------------------+------------------+------------------+------------------+------------------+------------------+\n",
       "|    3206|             1.125|1.0833333333333333|1.0093457943925233|1.1085714285714285|1.6823529411764706| 1.311912225705329|1.1666666666666667|\n",
       "|    3143|1.3888888888888888|             1.375|1.5714285714285714|1.2794117647058822|1.3863636363636365|1.5334608030592733|1.3333333333333333|\n",
       "|    3054| 1.247191011235955|1.1568627450980393| 1.102102102102102|1.4204946996466432|               1.5|1.6666666666666667|1.2818791946308725|\n",
       "|    3052| 1.368421052631579|1.1333333333333333|1.3937677053824362|1.1666666666666667|            1.0575| 1.558139534883721|1.0357142857142858|\n",
       "|    3000|1.1153846153846154|               1.0| 1.173913043478261|              NULL|              NULL|              NULL|1.1333333333333333|\n",
       "|    3008|0.8333333333333334|0.8666666666666667|0.8918918918918919|              NULL| 1.332657200811359|              NULL|0.8055555555555556|\n",
       "|    3002|1.1954545454545455|0.8529411764705882|1.2395348837209301|              NULL|              NULL|              NULL|0.9666666666666667|\n",
       "|    3183|1.3235294117647058|               1.5|1.6666666666666667|1.3559322033898304|1.4324324324324325|1.7380952380952381|1.4186046511627908|\n",
       "|    3184|1.1736842105263159|              1.26|1.5757575757575757|0.9945945945945946| 1.611764705882353|2.6822222222222223|1.2916666666666667|\n",
       "|    3065|1.5675675675675675|            1.1875|1.0618556701030928|1.5862068965517242| 1.605263157894737|1.7027027027027026|1.2033898305084745|\n",
       "|    3068|1.5757575757575757|1.4489795918367347| 1.318918918918919|1.4137931034482758|1.5685714285714285|1.6666666666666667|1.3214285714285714|\n",
       "|    3031|           1.65625|1.0408163265306123|1.1666666666666667|1.3076923076923077|1.3548387096774193|            1.8125|               1.0|\n",
       "|    3051|1.2857142857142858|1.3214285714285714|1.3943661971830985|1.2142857142857142| 1.523076923076923|1.6282051282051282|1.1296296296296295|\n",
       "|    3207|0.7543859649122807|0.8783783783783784|0.9538188277087034|1.1612903225806452|1.2093023255813953|0.9047619047619048|0.9857142857142858|\n",
       "|    3181|1.3243243243243243|1.2900763358778626| 1.522857142857143|1.3387096774193548|1.6388888888888888|1.9651162790697674|1.1538461538461537|\n",
       "|    3121|1.6388888888888888| 1.280701754385965|             1.375|1.2580645161290323|1.5416666666666667|               2.0|1.1929824561403508|\n",
       "|    3205|0.9230769230769231|0.9402985074626866|1.1428571428571428|           1.24375|               1.4|              NULL|0.9076923076923077|\n",
       "|    3141|               1.3| 1.280701754385965| 1.481012658227848|1.1028571428571428|           1.34375|           1.02875|1.1886792452830188|\n",
       "|    3006|0.8275862068965517|0.9436619718309859|1.1666666666666667|              NULL|              NULL|              NULL|0.8571428571428571|\n",
       "|    3182|1.0895522388059702|1.1481481481481481| 1.588235294117647|            1.1875|1.4793388429752066|              NULL|               1.0|\n",
       "+--------+------------------+------------------+------------------+------------------+------------------+------------------+------------------+\n",
       "only showing top 20 rows"
      ]
     },
     "execution_count": 14,
     "metadata": {},
     "output_type": "execute_result"
    }
   ],
   "source": [
    "# growth = growth.fillna(0)\n",
    "growth = growth.filter((F.col('postcode')>0))\n",
    "\n",
    "# [] FILL NA values\n",
    "# growth.na.fill(\"2 bed houses\", (\"All Properties\"))\n",
    "\n",
    "growth"
   ]
  },
  {
   "cell_type": "code",
   "execution_count": 4,
   "metadata": {},
   "outputs": [
    {
     "data": {
      "text/html": [
       "<div>\n",
       "<style scoped>\n",
       "    .dataframe tbody tr th:only-of-type {\n",
       "        vertical-align: middle;\n",
       "    }\n",
       "\n",
       "    .dataframe tbody tr th {\n",
       "        vertical-align: top;\n",
       "    }\n",
       "\n",
       "    .dataframe thead th {\n",
       "        text-align: right;\n",
       "    }\n",
       "</style>\n",
       "<table border=\"1\" class=\"dataframe\">\n",
       "  <thead>\n",
       "    <tr style=\"text-align: right;\">\n",
       "      <th></th>\n",
       "      <th>postcode</th>\n",
       "      <th>cost</th>\n",
       "      <th>suburb</th>\n",
       "      <th>furnished</th>\n",
       "      <th>property_type</th>\n",
       "      <th>beds</th>\n",
       "      <th>baths</th>\n",
       "      <th>parking</th>\n",
       "      <th>region</th>\n",
       "      <th>lgaregion</th>\n",
       "      <th>total male population - 2021</th>\n",
       "      <th>total female population - 2021</th>\n",
       "      <th>total population - 2021</th>\n",
       "      <th>australian citizens</th>\n",
       "      <th>median rent</th>\n",
       "      <th>median family weekly income</th>\n",
       "      <th>median age</th>\n",
       "      <th>total region male population - 2022</th>\n",
       "      <th>total region female population - 2022</th>\n",
       "    </tr>\n",
       "  </thead>\n",
       "  <tbody>\n",
       "    <tr>\n",
       "      <th>0</th>\n",
       "      <td>3163</td>\n",
       "      <td>550.0</td>\n",
       "      <td>carnegie</td>\n",
       "      <td>0</td>\n",
       "      <td>Apartment / Unit / Flat</td>\n",
       "      <td>1.0</td>\n",
       "      <td>1.0</td>\n",
       "      <td>1</td>\n",
       "      <td>Major Cities of Australia</td>\n",
       "      <td>Glen Eira</td>\n",
       "      <td>16007</td>\n",
       "      <td>16810</td>\n",
       "      <td>32810</td>\n",
       "      <td>24999</td>\n",
       "      <td>391</td>\n",
       "      <td>2598</td>\n",
       "      <td>36</td>\n",
       "      <td>2538968.0</td>\n",
       "      <td>2598457.0</td>\n",
       "    </tr>\n",
       "    <tr>\n",
       "      <th>4</th>\n",
       "      <td>3182</td>\n",
       "      <td>575.0</td>\n",
       "      <td>st-kilda</td>\n",
       "      <td>0</td>\n",
       "      <td>Apartment / Unit / Flat</td>\n",
       "      <td>1.0</td>\n",
       "      <td>1.0</td>\n",
       "      <td>0</td>\n",
       "      <td>Major Cities of Australia</td>\n",
       "      <td>Port Phillip</td>\n",
       "      <td>11278</td>\n",
       "      <td>11156</td>\n",
       "      <td>22438</td>\n",
       "      <td>16227</td>\n",
       "      <td>381</td>\n",
       "      <td>2791</td>\n",
       "      <td>37</td>\n",
       "      <td>2538968.0</td>\n",
       "      <td>2598457.0</td>\n",
       "    </tr>\n",
       "    <tr>\n",
       "      <th>7</th>\n",
       "      <td>3004</td>\n",
       "      <td>625.0</td>\n",
       "      <td>melbourne</td>\n",
       "      <td>0</td>\n",
       "      <td>Apartment / Unit / Flat</td>\n",
       "      <td>1.0</td>\n",
       "      <td>1.0</td>\n",
       "      <td>0</td>\n",
       "      <td>Major Cities of Australia</td>\n",
       "      <td>Melbourne</td>\n",
       "      <td>5655</td>\n",
       "      <td>5827</td>\n",
       "      <td>11482</td>\n",
       "      <td>7103</td>\n",
       "      <td>451</td>\n",
       "      <td>2727</td>\n",
       "      <td>37</td>\n",
       "      <td>2538968.0</td>\n",
       "      <td>2598457.0</td>\n",
       "    </tr>\n",
       "    <tr>\n",
       "      <th>10</th>\n",
       "      <td>3008</td>\n",
       "      <td>600.0</td>\n",
       "      <td>docklands</td>\n",
       "      <td>0</td>\n",
       "      <td>Apartment / Unit / Flat</td>\n",
       "      <td>2.0</td>\n",
       "      <td>1.0</td>\n",
       "      <td>0</td>\n",
       "      <td>Major Cities of Australia</td>\n",
       "      <td>Melbourne</td>\n",
       "      <td>8037</td>\n",
       "      <td>7458</td>\n",
       "      <td>15495</td>\n",
       "      <td>6983</td>\n",
       "      <td>411</td>\n",
       "      <td>2461</td>\n",
       "      <td>32</td>\n",
       "      <td>2538968.0</td>\n",
       "      <td>2598457.0</td>\n",
       "    </tr>\n",
       "    <tr>\n",
       "      <th>11</th>\n",
       "      <td>3011</td>\n",
       "      <td>720.0</td>\n",
       "      <td>footscray</td>\n",
       "      <td>0</td>\n",
       "      <td>Apartment / Unit / Flat</td>\n",
       "      <td>3.0</td>\n",
       "      <td>2.0</td>\n",
       "      <td>2</td>\n",
       "      <td>Major Cities of Australia</td>\n",
       "      <td>Maribyrnong</td>\n",
       "      <td>11361</td>\n",
       "      <td>10913</td>\n",
       "      <td>22278</td>\n",
       "      <td>16807</td>\n",
       "      <td>369</td>\n",
       "      <td>2474</td>\n",
       "      <td>34</td>\n",
       "      <td>2538968.0</td>\n",
       "      <td>2598457.0</td>\n",
       "    </tr>\n",
       "    <tr>\n",
       "      <th>...</th>\n",
       "      <td>...</td>\n",
       "      <td>...</td>\n",
       "      <td>...</td>\n",
       "      <td>...</td>\n",
       "      <td>...</td>\n",
       "      <td>...</td>\n",
       "      <td>...</td>\n",
       "      <td>...</td>\n",
       "      <td>...</td>\n",
       "      <td>...</td>\n",
       "      <td>...</td>\n",
       "      <td>...</td>\n",
       "      <td>...</td>\n",
       "      <td>...</td>\n",
       "      <td>...</td>\n",
       "      <td>...</td>\n",
       "      <td>...</td>\n",
       "      <td>...</td>\n",
       "      <td>...</td>\n",
       "    </tr>\n",
       "    <tr>\n",
       "      <th>53692</th>\n",
       "      <td>3040</td>\n",
       "      <td>530.0</td>\n",
       "      <td>essendon</td>\n",
       "      <td>0</td>\n",
       "      <td>Apartment / Unit / Flat</td>\n",
       "      <td>2.0</td>\n",
       "      <td>1.0</td>\n",
       "      <td>1</td>\n",
       "      <td>Major Cities of Australia</td>\n",
       "      <td>Moonee Valley</td>\n",
       "      <td>12997</td>\n",
       "      <td>13727</td>\n",
       "      <td>26722</td>\n",
       "      <td>23487</td>\n",
       "      <td>385</td>\n",
       "      <td>2974</td>\n",
       "      <td>39</td>\n",
       "      <td>2538968.0</td>\n",
       "      <td>2598457.0</td>\n",
       "    </tr>\n",
       "    <tr>\n",
       "      <th>53702</th>\n",
       "      <td>3630</td>\n",
       "      <td>350.0</td>\n",
       "      <td>shepparton</td>\n",
       "      <td>0</td>\n",
       "      <td>Townhouse</td>\n",
       "      <td>2.0</td>\n",
       "      <td>1.0</td>\n",
       "      <td>1</td>\n",
       "      <td>Inner Regional Australia</td>\n",
       "      <td>Greater Shepparton</td>\n",
       "      <td>15667</td>\n",
       "      <td>16485</td>\n",
       "      <td>32151</td>\n",
       "      <td>25557</td>\n",
       "      <td>270</td>\n",
       "      <td>1582</td>\n",
       "      <td>38</td>\n",
       "      <td>606425.0</td>\n",
       "      <td>621339.0</td>\n",
       "    </tr>\n",
       "    <tr>\n",
       "      <th>53709</th>\n",
       "      <td>3029</td>\n",
       "      <td>490.0</td>\n",
       "      <td>tarneit</td>\n",
       "      <td>0</td>\n",
       "      <td>Apartment / Unit / Flat</td>\n",
       "      <td>3.0</td>\n",
       "      <td>2.0</td>\n",
       "      <td>1</td>\n",
       "      <td>Major Cities of Australia</td>\n",
       "      <td>Melton</td>\n",
       "      <td>66596</td>\n",
       "      <td>63291</td>\n",
       "      <td>129888</td>\n",
       "      <td>89276</td>\n",
       "      <td>371</td>\n",
       "      <td>2018</td>\n",
       "      <td>31</td>\n",
       "      <td>2538968.0</td>\n",
       "      <td>2598457.0</td>\n",
       "    </tr>\n",
       "    <tr>\n",
       "      <th>53712</th>\n",
       "      <td>3046</td>\n",
       "      <td>525.0</td>\n",
       "      <td>oak-park</td>\n",
       "      <td>0</td>\n",
       "      <td>Townhouse</td>\n",
       "      <td>2.0</td>\n",
       "      <td>2.0</td>\n",
       "      <td>1</td>\n",
       "      <td>Major Cities of Australia</td>\n",
       "      <td>Moreland</td>\n",
       "      <td>18287</td>\n",
       "      <td>18483</td>\n",
       "      <td>36772</td>\n",
       "      <td>27661</td>\n",
       "      <td>371</td>\n",
       "      <td>2053</td>\n",
       "      <td>35</td>\n",
       "      <td>2538968.0</td>\n",
       "      <td>2598457.0</td>\n",
       "    </tr>\n",
       "    <tr>\n",
       "      <th>53715</th>\n",
       "      <td>3000</td>\n",
       "      <td>559.0</td>\n",
       "      <td>melbourne</td>\n",
       "      <td>1</td>\n",
       "      <td>Apartment / Unit / Flat</td>\n",
       "      <td>1.0</td>\n",
       "      <td>1.0</td>\n",
       "      <td>0</td>\n",
       "      <td>Major Cities of Australia</td>\n",
       "      <td>Melbourne</td>\n",
       "      <td>21548</td>\n",
       "      <td>21539</td>\n",
       "      <td>43084</td>\n",
       "      <td>14713</td>\n",
       "      <td>370</td>\n",
       "      <td>1857</td>\n",
       "      <td>28</td>\n",
       "      <td>2538968.0</td>\n",
       "      <td>2598457.0</td>\n",
       "    </tr>\n",
       "  </tbody>\n",
       "</table>\n",
       "<p>9503 rows × 19 columns</p>\n",
       "</div>"
      ],
      "text/plain": [
       "       postcode   cost      suburb  furnished            property_type  beds  \\\n",
       "0          3163  550.0    carnegie          0  Apartment / Unit / Flat   1.0   \n",
       "4          3182  575.0    st-kilda          0  Apartment / Unit / Flat   1.0   \n",
       "7          3004  625.0   melbourne          0  Apartment / Unit / Flat   1.0   \n",
       "10         3008  600.0   docklands          0  Apartment / Unit / Flat   2.0   \n",
       "11         3011  720.0   footscray          0  Apartment / Unit / Flat   3.0   \n",
       "...         ...    ...         ...        ...                      ...   ...   \n",
       "53692      3040  530.0    essendon          0  Apartment / Unit / Flat   2.0   \n",
       "53702      3630  350.0  shepparton          0                Townhouse   2.0   \n",
       "53709      3029  490.0     tarneit          0  Apartment / Unit / Flat   3.0   \n",
       "53712      3046  525.0    oak-park          0                Townhouse   2.0   \n",
       "53715      3000  559.0   melbourne          1  Apartment / Unit / Flat   1.0   \n",
       "\n",
       "       baths  parking                     region           lgaregion  \\\n",
       "0        1.0        1  Major Cities of Australia           Glen Eira   \n",
       "4        1.0        0  Major Cities of Australia        Port Phillip   \n",
       "7        1.0        0  Major Cities of Australia           Melbourne   \n",
       "10       1.0        0  Major Cities of Australia           Melbourne   \n",
       "11       2.0        2  Major Cities of Australia         Maribyrnong   \n",
       "...      ...      ...                        ...                 ...   \n",
       "53692    1.0        1  Major Cities of Australia       Moonee Valley   \n",
       "53702    1.0        1   Inner Regional Australia  Greater Shepparton   \n",
       "53709    2.0        1  Major Cities of Australia              Melton   \n",
       "53712    2.0        1  Major Cities of Australia            Moreland   \n",
       "53715    1.0        0  Major Cities of Australia           Melbourne   \n",
       "\n",
       "       total male population - 2021  total female population - 2021  \\\n",
       "0                             16007                           16810   \n",
       "4                             11278                           11156   \n",
       "7                              5655                            5827   \n",
       "10                             8037                            7458   \n",
       "11                            11361                           10913   \n",
       "...                             ...                             ...   \n",
       "53692                         12997                           13727   \n",
       "53702                         15667                           16485   \n",
       "53709                         66596                           63291   \n",
       "53712                         18287                           18483   \n",
       "53715                         21548                           21539   \n",
       "\n",
       "       total population - 2021  australian citizens  median rent  \\\n",
       "0                        32810                24999          391   \n",
       "4                        22438                16227          381   \n",
       "7                        11482                 7103          451   \n",
       "10                       15495                 6983          411   \n",
       "11                       22278                16807          369   \n",
       "...                        ...                  ...          ...   \n",
       "53692                    26722                23487          385   \n",
       "53702                    32151                25557          270   \n",
       "53709                   129888                89276          371   \n",
       "53712                    36772                27661          371   \n",
       "53715                    43084                14713          370   \n",
       "\n",
       "       median family weekly income  median age  \\\n",
       "0                             2598          36   \n",
       "4                             2791          37   \n",
       "7                             2727          37   \n",
       "10                            2461          32   \n",
       "11                            2474          34   \n",
       "...                            ...         ...   \n",
       "53692                         2974          39   \n",
       "53702                         1582          38   \n",
       "53709                         2018          31   \n",
       "53712                         2053          35   \n",
       "53715                         1857          28   \n",
       "\n",
       "       total region male population - 2022  \\\n",
       "0                                2538968.0   \n",
       "4                                2538968.0   \n",
       "7                                2538968.0   \n",
       "10                               2538968.0   \n",
       "11                               2538968.0   \n",
       "...                                    ...   \n",
       "53692                            2538968.0   \n",
       "53702                             606425.0   \n",
       "53709                            2538968.0   \n",
       "53712                            2538968.0   \n",
       "53715                            2538968.0   \n",
       "\n",
       "       total region female population - 2022  \n",
       "0                                  2598457.0  \n",
       "4                                  2598457.0  \n",
       "7                                  2598457.0  \n",
       "10                                 2598457.0  \n",
       "11                                 2598457.0  \n",
       "...                                      ...  \n",
       "53692                              2598457.0  \n",
       "53702                               621339.0  \n",
       "53709                              2598457.0  \n",
       "53712                              2598457.0  \n",
       "53715                              2598457.0  \n",
       "\n",
       "[9503 rows x 19 columns]"
      ]
     },
     "execution_count": 4,
     "metadata": {},
     "output_type": "execute_result"
    }
   ],
   "source": [
    "pdf = sdf.toPandas()\n",
    "#Dropping duplicates \n",
    "duplicate_rows = pdf[pdf.duplicated()]\n",
    "pdf = pdf.drop_duplicates()\n",
    "\n",
    "# # Log transform the price\n",
    "# from math import log\n",
    "\n",
    "# # Calculating logarithmic values for the specified column\n",
    "# pdf['cost'] = pdf['cost'].apply(lambda x: log(x))\n",
    "# pdf['total male population - 2021'] = pdf['total male population - 2021'].apply(lambda x: log(x))\n",
    "# pdf['total female population - 2021'] = pdf['total female population - 2021'].apply(lambda x: log(x))\n",
    "# pdf['total population - 2021'] = pdf['total population - 2021'].apply(lambda x: log(x))\n",
    "# pdf['australian citizens'] = pdf['australian citizens'].apply(lambda x: log(x))\n",
    "# pdf['median rent'] = pdf['median rent'].apply(lambda x: log(x))\n",
    "# pdf['median family weekly income'] = pdf['median family weekly income'].apply(lambda x: log(x))\n",
    "# pdf['total region male population - 2022'] = pdf['total region male population - 2022'].apply(lambda x: log(x))\n",
    "# pdf['total region female population - 2022'] = pdf['total region female population - 2022'].apply(lambda x: log(x))\n",
    "pdf"
   ]
  },
  {
   "cell_type": "markdown",
   "metadata": {},
   "source": [
    "Merging with quarterly rent analysis\n"
   ]
  },
  {
   "cell_type": "code",
   "execution_count": 5,
   "metadata": {},
   "outputs": [],
   "source": [
    "import pandas as pd\n",
    "\n",
    "# df_qra = spark.read.parquet('../data/curated/qra.parquet')\n",
    "# df_qra = df_qra.toPandas()\n",
    "pdf['postcode'] = pdf['postcode'].astype(str)\n",
    "# df_merged = pd.merge(pdf, df_qra, on='postcode', how='inner')"
   ]
  },
  {
   "cell_type": "code",
   "execution_count": 6,
   "metadata": {},
   "outputs": [],
   "source": [
    "pdf = pdf.drop(['region', 'lgaregion'], axis = 1)"
   ]
  },
  {
   "cell_type": "code",
   "execution_count": 7,
   "metadata": {},
   "outputs": [
    {
     "data": {
      "text/plain": [
       "220"
      ]
     },
     "execution_count": 7,
     "metadata": {},
     "output_type": "execute_result"
    }
   ],
   "source": [
    "growth.count()"
   ]
  },
  {
   "cell_type": "code",
   "execution_count": 8,
   "metadata": {},
   "outputs": [
    {
     "data": {
      "text/plain": [
       "name                             12245\n",
       "postcode                         12245\n",
       "latitude                         12245\n",
       "longitude                        12245\n",
       "distance_to_closest_school_km    12183\n",
       "distance_to_cbd                  12245\n",
       "dtype: int64"
      ]
     },
     "execution_count": 8,
     "metadata": {},
     "output_type": "execute_result"
    }
   ],
   "source": [
    "distances.count()"
   ]
  },
  {
   "cell_type": "code",
   "execution_count": 9,
   "metadata": {},
   "outputs": [],
   "source": [
    "distances = distances.drop(['name', 'latitude', 'longitude'], axis = 1)"
   ]
  },
  {
   "cell_type": "code",
   "execution_count": 10,
   "metadata": {},
   "outputs": [],
   "source": [
    "distances = distances.groupby('postcode').mean()\n",
    "distances = distances.dropna()"
   ]
  },
  {
   "cell_type": "code",
   "execution_count": 11,
   "metadata": {},
   "outputs": [
    {
     "name": "stdout",
     "output_type": "stream",
     "text": [
      "     postcode   cost      suburb  furnished            property_type  beds  \\\n",
      "0        3163  550.0    carnegie          0  Apartment / Unit / Flat   1.0   \n",
      "1        3182  575.0    st-kilda          0  Apartment / Unit / Flat   1.0   \n",
      "2        3004  625.0   melbourne          0  Apartment / Unit / Flat   1.0   \n",
      "3        3008  600.0   docklands          0  Apartment / Unit / Flat   2.0   \n",
      "4        3011  720.0   footscray          0  Apartment / Unit / Flat   3.0   \n",
      "...       ...    ...         ...        ...                      ...   ...   \n",
      "9483     3040  530.0    essendon          0  Apartment / Unit / Flat   2.0   \n",
      "9484     3630  350.0  shepparton          0                Townhouse   2.0   \n",
      "9485     3029  490.0     tarneit          0  Apartment / Unit / Flat   3.0   \n",
      "9486     3046  525.0    oak-park          0                Townhouse   2.0   \n",
      "9487     3000  559.0   melbourne          1  Apartment / Unit / Flat   1.0   \n",
      "\n",
      "      baths  parking  total male population - 2021  \\\n",
      "0       1.0        1                         16007   \n",
      "1       1.0        0                         11278   \n",
      "2       1.0        0                          5655   \n",
      "3       1.0        0                          8037   \n",
      "4       2.0        2                         11361   \n",
      "...     ...      ...                           ...   \n",
      "9483    1.0        1                         12997   \n",
      "9484    1.0        1                         15667   \n",
      "9485    2.0        1                         66596   \n",
      "9486    2.0        1                         18287   \n",
      "9487    1.0        0                         21548   \n",
      "\n",
      "      total female population - 2021  total population - 2021  \\\n",
      "0                              16810                    32810   \n",
      "1                              11156                    22438   \n",
      "2                               5827                    11482   \n",
      "3                               7458                    15495   \n",
      "4                              10913                    22278   \n",
      "...                              ...                      ...   \n",
      "9483                           13727                    26722   \n",
      "9484                           16485                    32151   \n",
      "9485                           63291                   129888   \n",
      "9486                           18483                    36772   \n",
      "9487                           21539                    43084   \n",
      "\n",
      "      australian citizens  median rent  median family weekly income  \\\n",
      "0                   24999          391                         2598   \n",
      "1                   16227          381                         2791   \n",
      "2                    7103          451                         2727   \n",
      "3                    6983          411                         2461   \n",
      "4                   16807          369                         2474   \n",
      "...                   ...          ...                          ...   \n",
      "9483                23487          385                         2974   \n",
      "9484                25557          270                         1582   \n",
      "9485                89276          371                         2018   \n",
      "9486                27661          371                         2053   \n",
      "9487                14713          370                         1857   \n",
      "\n",
      "      median age  total region male population - 2022  \\\n",
      "0             36                            2538968.0   \n",
      "1             37                            2538968.0   \n",
      "2             37                            2538968.0   \n",
      "3             32                            2538968.0   \n",
      "4             34                            2538968.0   \n",
      "...          ...                                  ...   \n",
      "9483          39                            2538968.0   \n",
      "9484          38                             606425.0   \n",
      "9485          31                            2538968.0   \n",
      "9486          35                            2538968.0   \n",
      "9487          28                            2538968.0   \n",
      "\n",
      "      total region female population - 2022  distance_to_closest_school_km  \\\n",
      "0                                 2598457.0                       1.012843   \n",
      "1                                 2598457.0                       1.269089   \n",
      "2                                 2598457.0                       0.772573   \n",
      "3                                 2598457.0                       1.417354   \n",
      "4                                 2598457.0                       1.209809   \n",
      "...                                     ...                            ...   \n",
      "9483                              2598457.0                       1.096919   \n",
      "9484                               621339.0                       0.732870   \n",
      "9485                              2598457.0                       1.390124   \n",
      "9486                              2598457.0                       0.723039   \n",
      "9487                              2598457.0                       0.765953   \n",
      "\n",
      "      distance_to_cbd  \n",
      "0           16.668037  \n",
      "1            7.832772  \n",
      "2            5.038646  \n",
      "3            2.648056  \n",
      "4            6.865053  \n",
      "...               ...  \n",
      "9483        11.138174  \n",
      "9484       190.682429  \n",
      "9485        30.983129  \n",
      "9486        13.928184  \n",
      "9487         1.079332  \n",
      "\n",
      "[9488 rows x 19 columns]\n"
     ]
    }
   ],
   "source": [
    "# sdf_reg = spark.read.parquet('../data/curated/qra_reg.parquet')\n",
    "# sdf_reg.count()\n",
    "# reg_features = sdf_reg.columns\n",
    "# pdf_reg = sdf_reg.toPandas()\n",
    "\n",
    "growth_pdf = growth.toPandas()\n",
    "\n",
    "import pandas as pd\n",
    "df_merged = pd.merge(pdf, distances, on='postcode', how='inner')\n",
    "df_merged = df_merged.drop_duplicates()\n",
    "print(df_merged)\n",
    "df_merged.to_parquet('../data/curated/regression_data.parquet', engine='pyarrow', index=False)"
   ]
  },
  {
   "cell_type": "markdown",
   "metadata": {},
   "source": [
    "PREPROCESSING NOTE: Need to merge growth and df_merge\n",
    "Combine the correct score to the property type and number of beds i.e. First instance - want to add a growth column that contains the value for 1 bed flat"
   ]
  },
  {
   "cell_type": "code",
   "execution_count": 12,
   "metadata": {},
   "outputs": [],
   "source": [
    "# # Boosting\n",
    "# from sklearn.ensemble import GradientBoostingRegressor\n",
    "# >>> model = GradientBoostingRegressor(random_state=0).fit(x_train, y_train)\n",
    "# >>> model.score(x_train, y_train)\n",
    "# 0.8083859166342285\n",
    "# >>> model.score(x_test, y_test)\n",
    "# 0.7802104901623703\n",
    "\n",
    "# >>> from sklearn.ensemble import RandomForestRegressor\n",
    "# >>> model = RandomForestRegressor(random_state=0).fit(x_train, y_train)\n",
    "# >>> model.score(x_train, y_train)\n",
    "# 0.9727449572570027\n",
    "# >>> model.score(x_test, y_test)"
   ]
  },
  {
   "cell_type": "markdown",
   "metadata": {},
   "source": [
    "Exploratory Data Analysis"
   ]
  },
  {
   "cell_type": "code",
   "execution_count": 13,
   "metadata": {},
   "outputs": [
    {
     "ename": "KeyError",
     "evalue": "\"['name', 'region', 'lgaregion', 'latitude', 'longitude'] not found in axis\"",
     "output_type": "error",
     "traceback": [
      "\u001b[0;31m---------------------------------------------------------------------------\u001b[0m",
      "\u001b[0;31mKeyError\u001b[0m                                  Traceback (most recent call last)",
      "Cell \u001b[0;32mIn[13], line 2\u001b[0m\n\u001b[1;32m      1\u001b[0m \u001b[38;5;66;03m# import seaborn as sns\u001b[39;00m\n\u001b[0;32m----> 2\u001b[0m pdf_numeric \u001b[38;5;241m=\u001b[39m \u001b[43mdf_merged\u001b[49m\u001b[38;5;241;43m.\u001b[39;49m\u001b[43mdrop\u001b[49m\u001b[43m(\u001b[49m\u001b[43m[\u001b[49m\u001b[38;5;124;43m'\u001b[39;49m\u001b[38;5;124;43msuburb\u001b[39;49m\u001b[38;5;124;43m'\u001b[39;49m\u001b[43m,\u001b[49m\u001b[43m \u001b[49m\u001b[38;5;124;43m'\u001b[39;49m\u001b[38;5;124;43mname\u001b[39;49m\u001b[38;5;124;43m'\u001b[39;49m\u001b[43m,\u001b[49m\u001b[43m \u001b[49m\u001b[38;5;124;43m'\u001b[39;49m\u001b[38;5;124;43mproperty_type\u001b[39;49m\u001b[38;5;124;43m'\u001b[39;49m\u001b[43m,\u001b[49m\u001b[43m \u001b[49m\u001b[38;5;124;43m'\u001b[39;49m\u001b[38;5;124;43mregion\u001b[39;49m\u001b[38;5;124;43m'\u001b[39;49m\u001b[43m,\u001b[49m\u001b[43m \u001b[49m\u001b[38;5;124;43m'\u001b[39;49m\u001b[38;5;124;43mlgaregion\u001b[39;49m\u001b[38;5;124;43m'\u001b[39;49m\u001b[43m,\u001b[49m\u001b[43m \u001b[49m\u001b[38;5;124;43m'\u001b[39;49m\u001b[38;5;124;43mlatitude\u001b[39;49m\u001b[38;5;124;43m'\u001b[39;49m\u001b[43m,\u001b[49m\u001b[43m \u001b[49m\u001b[38;5;124;43m'\u001b[39;49m\u001b[38;5;124;43mlongitude\u001b[39;49m\u001b[38;5;124;43m'\u001b[39;49m\u001b[43m]\u001b[49m\u001b[43m,\u001b[49m\u001b[43m \u001b[49m\u001b[43maxis\u001b[49m\u001b[38;5;241;43m=\u001b[39;49m\u001b[38;5;241;43m1\u001b[39;49m\u001b[43m)\u001b[49m\n\u001b[1;32m      3\u001b[0m \u001b[38;5;66;03m# ax = sns.boxplot(data=pdf_numeric)\u001b[39;00m\n\u001b[1;32m      4\u001b[0m \u001b[38;5;66;03m# ax.tick_params(axis='x', labelrotation=90)\u001b[39;00m\n",
      "File \u001b[0;32m~/.local/lib/python3.10/site-packages/pandas/core/frame.py:5581\u001b[0m, in \u001b[0;36mDataFrame.drop\u001b[0;34m(self, labels, axis, index, columns, level, inplace, errors)\u001b[0m\n\u001b[1;32m   5433\u001b[0m \u001b[38;5;28;01mdef\u001b[39;00m \u001b[38;5;21mdrop\u001b[39m(\n\u001b[1;32m   5434\u001b[0m     \u001b[38;5;28mself\u001b[39m,\n\u001b[1;32m   5435\u001b[0m     labels: IndexLabel \u001b[38;5;241m|\u001b[39m \u001b[38;5;28;01mNone\u001b[39;00m \u001b[38;5;241m=\u001b[39m \u001b[38;5;28;01mNone\u001b[39;00m,\n\u001b[0;32m   (...)\u001b[0m\n\u001b[1;32m   5442\u001b[0m     errors: IgnoreRaise \u001b[38;5;241m=\u001b[39m \u001b[38;5;124m\"\u001b[39m\u001b[38;5;124mraise\u001b[39m\u001b[38;5;124m\"\u001b[39m,\n\u001b[1;32m   5443\u001b[0m ) \u001b[38;5;241m-\u001b[39m\u001b[38;5;241m>\u001b[39m DataFrame \u001b[38;5;241m|\u001b[39m \u001b[38;5;28;01mNone\u001b[39;00m:\n\u001b[1;32m   5444\u001b[0m     \u001b[38;5;124;03m\"\"\"\u001b[39;00m\n\u001b[1;32m   5445\u001b[0m \u001b[38;5;124;03m    Drop specified labels from rows or columns.\u001b[39;00m\n\u001b[1;32m   5446\u001b[0m \n\u001b[0;32m   (...)\u001b[0m\n\u001b[1;32m   5579\u001b[0m \u001b[38;5;124;03m            weight  1.0     0.8\u001b[39;00m\n\u001b[1;32m   5580\u001b[0m \u001b[38;5;124;03m    \"\"\"\u001b[39;00m\n\u001b[0;32m-> 5581\u001b[0m     \u001b[38;5;28;01mreturn\u001b[39;00m \u001b[38;5;28;43msuper\u001b[39;49m\u001b[43m(\u001b[49m\u001b[43m)\u001b[49m\u001b[38;5;241;43m.\u001b[39;49m\u001b[43mdrop\u001b[49m\u001b[43m(\u001b[49m\n\u001b[1;32m   5582\u001b[0m \u001b[43m        \u001b[49m\u001b[43mlabels\u001b[49m\u001b[38;5;241;43m=\u001b[39;49m\u001b[43mlabels\u001b[49m\u001b[43m,\u001b[49m\n\u001b[1;32m   5583\u001b[0m \u001b[43m        \u001b[49m\u001b[43maxis\u001b[49m\u001b[38;5;241;43m=\u001b[39;49m\u001b[43maxis\u001b[49m\u001b[43m,\u001b[49m\n\u001b[1;32m   5584\u001b[0m \u001b[43m        \u001b[49m\u001b[43mindex\u001b[49m\u001b[38;5;241;43m=\u001b[39;49m\u001b[43mindex\u001b[49m\u001b[43m,\u001b[49m\n\u001b[1;32m   5585\u001b[0m \u001b[43m        \u001b[49m\u001b[43mcolumns\u001b[49m\u001b[38;5;241;43m=\u001b[39;49m\u001b[43mcolumns\u001b[49m\u001b[43m,\u001b[49m\n\u001b[1;32m   5586\u001b[0m \u001b[43m        \u001b[49m\u001b[43mlevel\u001b[49m\u001b[38;5;241;43m=\u001b[39;49m\u001b[43mlevel\u001b[49m\u001b[43m,\u001b[49m\n\u001b[1;32m   5587\u001b[0m \u001b[43m        \u001b[49m\u001b[43minplace\u001b[49m\u001b[38;5;241;43m=\u001b[39;49m\u001b[43minplace\u001b[49m\u001b[43m,\u001b[49m\n\u001b[1;32m   5588\u001b[0m \u001b[43m        \u001b[49m\u001b[43merrors\u001b[49m\u001b[38;5;241;43m=\u001b[39;49m\u001b[43merrors\u001b[49m\u001b[43m,\u001b[49m\n\u001b[1;32m   5589\u001b[0m \u001b[43m    \u001b[49m\u001b[43m)\u001b[49m\n",
      "File \u001b[0;32m~/.local/lib/python3.10/site-packages/pandas/core/generic.py:4788\u001b[0m, in \u001b[0;36mNDFrame.drop\u001b[0;34m(self, labels, axis, index, columns, level, inplace, errors)\u001b[0m\n\u001b[1;32m   4786\u001b[0m \u001b[38;5;28;01mfor\u001b[39;00m axis, labels \u001b[38;5;129;01min\u001b[39;00m axes\u001b[38;5;241m.\u001b[39mitems():\n\u001b[1;32m   4787\u001b[0m     \u001b[38;5;28;01mif\u001b[39;00m labels \u001b[38;5;129;01mis\u001b[39;00m \u001b[38;5;129;01mnot\u001b[39;00m \u001b[38;5;28;01mNone\u001b[39;00m:\n\u001b[0;32m-> 4788\u001b[0m         obj \u001b[38;5;241m=\u001b[39m \u001b[43mobj\u001b[49m\u001b[38;5;241;43m.\u001b[39;49m\u001b[43m_drop_axis\u001b[49m\u001b[43m(\u001b[49m\u001b[43mlabels\u001b[49m\u001b[43m,\u001b[49m\u001b[43m \u001b[49m\u001b[43maxis\u001b[49m\u001b[43m,\u001b[49m\u001b[43m \u001b[49m\u001b[43mlevel\u001b[49m\u001b[38;5;241;43m=\u001b[39;49m\u001b[43mlevel\u001b[49m\u001b[43m,\u001b[49m\u001b[43m \u001b[49m\u001b[43merrors\u001b[49m\u001b[38;5;241;43m=\u001b[39;49m\u001b[43merrors\u001b[49m\u001b[43m)\u001b[49m\n\u001b[1;32m   4790\u001b[0m \u001b[38;5;28;01mif\u001b[39;00m inplace:\n\u001b[1;32m   4791\u001b[0m     \u001b[38;5;28mself\u001b[39m\u001b[38;5;241m.\u001b[39m_update_inplace(obj)\n",
      "File \u001b[0;32m~/.local/lib/python3.10/site-packages/pandas/core/generic.py:4830\u001b[0m, in \u001b[0;36mNDFrame._drop_axis\u001b[0;34m(self, labels, axis, level, errors, only_slice)\u001b[0m\n\u001b[1;32m   4828\u001b[0m         new_axis \u001b[38;5;241m=\u001b[39m axis\u001b[38;5;241m.\u001b[39mdrop(labels, level\u001b[38;5;241m=\u001b[39mlevel, errors\u001b[38;5;241m=\u001b[39merrors)\n\u001b[1;32m   4829\u001b[0m     \u001b[38;5;28;01melse\u001b[39;00m:\n\u001b[0;32m-> 4830\u001b[0m         new_axis \u001b[38;5;241m=\u001b[39m \u001b[43maxis\u001b[49m\u001b[38;5;241;43m.\u001b[39;49m\u001b[43mdrop\u001b[49m\u001b[43m(\u001b[49m\u001b[43mlabels\u001b[49m\u001b[43m,\u001b[49m\u001b[43m \u001b[49m\u001b[43merrors\u001b[49m\u001b[38;5;241;43m=\u001b[39;49m\u001b[43merrors\u001b[49m\u001b[43m)\u001b[49m\n\u001b[1;32m   4831\u001b[0m     indexer \u001b[38;5;241m=\u001b[39m axis\u001b[38;5;241m.\u001b[39mget_indexer(new_axis)\n\u001b[1;32m   4833\u001b[0m \u001b[38;5;66;03m# Case for non-unique axis\u001b[39;00m\n\u001b[1;32m   4834\u001b[0m \u001b[38;5;28;01melse\u001b[39;00m:\n",
      "File \u001b[0;32m~/.local/lib/python3.10/site-packages/pandas/core/indexes/base.py:7070\u001b[0m, in \u001b[0;36mIndex.drop\u001b[0;34m(self, labels, errors)\u001b[0m\n\u001b[1;32m   7068\u001b[0m \u001b[38;5;28;01mif\u001b[39;00m mask\u001b[38;5;241m.\u001b[39many():\n\u001b[1;32m   7069\u001b[0m     \u001b[38;5;28;01mif\u001b[39;00m errors \u001b[38;5;241m!=\u001b[39m \u001b[38;5;124m\"\u001b[39m\u001b[38;5;124mignore\u001b[39m\u001b[38;5;124m\"\u001b[39m:\n\u001b[0;32m-> 7070\u001b[0m         \u001b[38;5;28;01mraise\u001b[39;00m \u001b[38;5;167;01mKeyError\u001b[39;00m(\u001b[38;5;124mf\u001b[39m\u001b[38;5;124m\"\u001b[39m\u001b[38;5;132;01m{\u001b[39;00mlabels[mask]\u001b[38;5;241m.\u001b[39mtolist()\u001b[38;5;132;01m}\u001b[39;00m\u001b[38;5;124m not found in axis\u001b[39m\u001b[38;5;124m\"\u001b[39m)\n\u001b[1;32m   7071\u001b[0m     indexer \u001b[38;5;241m=\u001b[39m indexer[\u001b[38;5;241m~\u001b[39mmask]\n\u001b[1;32m   7072\u001b[0m \u001b[38;5;28;01mreturn\u001b[39;00m \u001b[38;5;28mself\u001b[39m\u001b[38;5;241m.\u001b[39mdelete(indexer)\n",
      "\u001b[0;31mKeyError\u001b[0m: \"['name', 'region', 'lgaregion', 'latitude', 'longitude'] not found in axis\""
     ]
    }
   ],
   "source": [
    "# import seaborn as sns\n",
    "pdf_numeric = df_merged.drop(['suburb', 'name', 'property_type', 'region', 'lgaregion', 'latitude', 'longitude'], axis=1)\n",
    "# ax = sns.boxplot(data=pdf_numeric)\n",
    "# ax.tick_params(axis='x', labelrotation=90)"
   ]
  },
  {
   "cell_type": "code",
   "execution_count": null,
   "metadata": {},
   "outputs": [],
   "source": [
    "pdf_numeric = pdf_numeric.dropna()\n",
    "pdf_numeric.count()"
   ]
  },
  {
   "cell_type": "code",
   "execution_count": null,
   "metadata": {},
   "outputs": [],
   "source": [
    "import matplotlib.pyplot as plt\n",
    "import seaborn as sns\n",
    "\n",
    "correlation_pdf = pdf_numeric.drop('postcode',axis=1)\n",
    "plt.figure(figsize=(12, 6))\n",
    "sns.heatmap(correlation_pdf.corr(),\n",
    "            cmap = 'BrBG',\n",
    "            fmt = '.2f',\n",
    "            linewidths = 2,\n",
    "            annot = True)"
   ]
  },
  {
   "cell_type": "code",
   "execution_count": null,
   "metadata": {},
   "outputs": [],
   "source": [
    "pdf_numeric"
   ]
  },
  {
   "cell_type": "code",
   "execution_count": 80,
   "metadata": {},
   "outputs": [],
   "source": [
    "# # stratified sampling --"
   ]
  },
  {
   "cell_type": "code",
   "execution_count": null,
   "metadata": {},
   "outputs": [],
   "source": [
    "medians = pdf_numeric.groupby([\"postcode\"])[\"median rent\"].median() \n",
    "\n",
    "import pandas as pd\n",
    "median_pdf = pd.DataFrame(medians)\n",
    "median_pdf = median_pdf.sort_values(by=['median rent'])\n",
    "\n",
    "# Importing required libraries \n",
    "import matplotlib.pyplot as plt \n",
    "\n",
    "# creating the bar plot\n",
    "plt.bar(list(median_pdf[0:10].index), median_pdf['median rent'][0:10]) # fix x label, fix outliers, data check\n",
    "\n",
    "plt.xlabel(\"postcode\")\n",
    "plt.ylabel(\"Median log rent (per Week)\")\n",
    "plt.title(\"Lowest Median log Rent Per Week by Suburb\")\n",
    "plt.show()"
   ]
  },
  {
   "cell_type": "code",
   "execution_count": null,
   "metadata": {},
   "outputs": [],
   "source": [
    "medians = pdf_numeric.groupby([\"postcode\"])[\"median rent\"].median() \n",
    "\n",
    "import pandas as pd\n",
    "median_pdf = pd.DataFrame(medians)\n",
    "median_pdf = median_pdf.sort_values(by=['median rent'], ascending = False)\n",
    "\n",
    "# Importing required libraries \n",
    "import matplotlib.pyplot as plt \n",
    "\n",
    "#fig = plt.figure(figsize = (7, 4))\n",
    "\n",
    "# creating the bar plot\n",
    "plt.bar(list(median_pdf[0:10].index), median_pdf['median rent'][0:10]) # fix x label\n",
    "\n",
    "plt.xlabel(\"postcode\")\n",
    "plt.ylabel(\"Median log rent (per Week)\")\n",
    "plt.title(\"Highest Median log rent of Rent Per Week by Suburb\")\n",
    "plt.show()"
   ]
  },
  {
   "cell_type": "code",
   "execution_count": null,
   "metadata": {},
   "outputs": [],
   "source": [
    "means = pdf_numeric.groupby([\"postcode\"])[\"median rent\"].mean() \n",
    "\n",
    "import pandas as pd\n",
    "means_pdf = pd.DataFrame(means)\n",
    "means_pdf = means_pdf.sort_values(by=['median rent'], ascending = False)\n",
    "\n",
    "# Importing required libraries \n",
    "import matplotlib.pyplot as plt \n",
    "\n",
    "# creating the bar plot\n",
    "plt.bar(list(means_pdf[0:10].index), means_pdf['median rent'][0:10]) # fix x label, fix outliers, data check\n",
    "\n",
    "plt.xlabel(\"postcode\")\n",
    "plt.ylabel(\"Median log rent (per Week)\")\n",
    "plt.title(\"Highest Median log rent of Rent Per Week by Suburb\")\n",
    "plt.show()\n",
    "\n",
    "# Scatterplots - sample"
   ]
  },
  {
   "cell_type": "code",
   "execution_count": null,
   "metadata": {},
   "outputs": [],
   "source": [
    "means_pdf"
   ]
  },
  {
   "cell_type": "code",
   "execution_count": null,
   "metadata": {},
   "outputs": [],
   "source": [
    "# Importing required libraries \n",
    "import matplotlib.pyplot as plt \n",
    "\n",
    "# creating the bar plot\n",
    "plt.bar(list(means_pdf.index), means_pdf['median rent']) # can input top 10 indices\n",
    "\n",
    "plt.xlabel(\"Suburbs\")\n",
    "plt.ylabel(\"Median log rent (per Week)\")\n",
    "plt.title(\"Median log Rent Per Week by Suburb\")\n",
    "plt.show()"
   ]
  },
  {
   "cell_type": "code",
   "execution_count": null,
   "metadata": {},
   "outputs": [],
   "source": [
    "pdf_numeric"
   ]
  },
  {
   "cell_type": "code",
   "execution_count": null,
   "metadata": {},
   "outputs": [],
   "source": [
    "import matplotlib.pyplot as plt\n",
    "\n",
    "plt.scatter(pdf_numeric['distance_to_closest_school_km'], pdf_numeric['median rent'])\n",
    "plt.show()"
   ]
  },
  {
   "cell_type": "code",
   "execution_count": null,
   "metadata": {},
   "outputs": [],
   "source": [
    "plt.scatter(pdf_numeric['distance_to_cbd'], pdf_numeric['median rent'])\n",
    "plt.show()"
   ]
  },
  {
   "cell_type": "code",
   "execution_count": null,
   "metadata": {},
   "outputs": [],
   "source": [
    "import matplotlib.pyplot as plt\n",
    "\n",
    "plt.scatter(pdf_numeric['median rent'], pdf_numeric['median family weekly income'])\n",
    "plt.show()"
   ]
  },
  {
   "cell_type": "code",
   "execution_count": null,
   "metadata": {},
   "outputs": [],
   "source": [
    "import matplotlib.pyplot as plt\n",
    "\n",
    "plt.scatter(pdf_numeric['beds'], pdf_numeric['median rent'])\n",
    "plt.show()"
   ]
  },
  {
   "cell_type": "code",
   "execution_count": null,
   "metadata": {},
   "outputs": [],
   "source": [
    "import matplotlib.pyplot as plt\n",
    "\n",
    "plt.scatter(pdf_numeric['baths'], pdf_numeric['median rent'])\n",
    "plt.show()"
   ]
  },
  {
   "cell_type": "code",
   "execution_count": 92,
   "metadata": {},
   "outputs": [],
   "source": [
    "pdf_numeric = pdf_numeric.round()"
   ]
  },
  {
   "cell_type": "code",
   "execution_count": 93,
   "metadata": {},
   "outputs": [],
   "source": [
    "pdf_numeric = pdf_numeric.dropna()\n",
    "pdf_numeric = pdf_numeric.drop_duplicates()\n"
   ]
  },
  {
   "cell_type": "code",
   "execution_count": null,
   "metadata": {},
   "outputs": [],
   "source": [
    "pdf_numeric.columns"
   ]
  },
  {
   "cell_type": "code",
   "execution_count": null,
   "metadata": {},
   "outputs": [],
   "source": [
    "suburbs = pdf_numeric.groupby(['postcode']).median()\n",
    "suburbs = suburbs.astype(int)\n",
    "suburbs\n",
    "\n",
    "# list(suburbs['median rent'].values)"
   ]
  },
  {
   "cell_type": "code",
   "execution_count": null,
   "metadata": {},
   "outputs": [],
   "source": [
    "# Round up to the nearest 10\n",
    "import numpy as np\n",
    "rounded_median_rent= [(np.ceil(x/10) * 10) for x in list(suburbs['median rent'].values)]\n",
    "rounded_median_rent = [int(x) for x in rounded_median_rent]\n",
    "rounded_median_rent"
   ]
  },
  {
   "cell_type": "code",
   "execution_count": null,
   "metadata": {},
   "outputs": [],
   "source": [
    "suburbs['rounded_median_rent'] = rounded_median_rent\n",
    "suburbs"
   ]
  },
  {
   "cell_type": "markdown",
   "metadata": {},
   "source": [
    "Regression\n"
   ]
  },
  {
   "cell_type": "code",
   "execution_count": null,
   "metadata": {},
   "outputs": [],
   "source": [
    "unique_vals = ((suburbs['rounded_median_rent'].value_counts()))\n",
    "unique_vals\n",
    "\n",
    "for i in unique_vals[unique_vals == 1].index:\n",
    "    target = suburbs[suburbs['rounded_median_rent'] == i] # Need more than 1 sample for each unique value for modelling\n",
    "    suburbs = suburbs.drop(target.index[0])\n",
    "\n",
    "suburbs\n",
    "   "
   ]
  },
  {
   "cell_type": "code",
   "execution_count": null,
   "metadata": {},
   "outputs": [],
   "source": [
    "import numpy as np\n",
    "sdf_suburbs = spark.createDataFrame(suburbs)\n",
    "sdf_suburbs"
   ]
  },
  {
   "cell_type": "code",
   "execution_count": 100,
   "metadata": {},
   "outputs": [],
   "source": [
    "from sklearn.model_selection import train_test_split\n",
    "\n",
    "# Label\n",
    "y = suburbs['rounded_median_rent'] \n",
    "\n",
    "# Predictors\n",
    "x = suburbs.drop(['rounded_median_rent'], axis=1)\n",
    "\n",
    "# Create train, test split\n",
    "X_train, X_test, y_train, y_test = train_test_split(x, y, test_size=0.4, random_state=10, stratify=y)\n",
    "\n",
    "# Scale data\n",
    "from sklearn.preprocessing import StandardScaler\n",
    "sc = StandardScaler()\n",
    "X_train = sc.fit_transform(X_train)\n",
    "X_test = sc.transform(X_test)"
   ]
  },
  {
   "cell_type": "code",
   "execution_count": 101,
   "metadata": {},
   "outputs": [],
   "source": [
    "# #K fold cross validation\n",
    "\n",
    "# from sklearn.model_selection import ShuffleSplit\n",
    "# from sklearn.model_selection import cross_val_score\n",
    "\n",
    "# #Randomize the sample so each of the fold has equal distribution of data samples\n",
    "# cv = ShuffleSplit(n_splits=5, test_size=0.3, random_state=0) # do hyperparameter tuning\n",
    "\n",
    "# cross_val_score(LinearRegression(), x, y, cv=cv)"
   ]
  },
  {
   "cell_type": "code",
   "execution_count": null,
   "metadata": {},
   "outputs": [],
   "source": [
    "# Linear Regression\n",
    "\n",
    "from sklearn import datasets, linear_model, metrics\n",
    "reg = linear_model.LinearRegression()\n",
    "reg.fit(X_train, y_train)\n",
    "reg.score(X_test , y_test)"
   ]
  },
  {
   "cell_type": "code",
   "execution_count": null,
   "metadata": {},
   "outputs": [],
   "source": [
    "# regression coefficients\n",
    "print('Coefficients: ', reg.coef_)\n",
    "\n",
    "# variance score: 1 means perfect prediction\n",
    "print('Variance score: {}'.format(reg.score(X_test, y_test)))\n",
    "\n",
    "y_pred = reg.predict(X_test)"
   ]
  },
  {
   "cell_type": "code",
   "execution_count": null,
   "metadata": {},
   "outputs": [],
   "source": [
    "plt.scatter(y_test, y_pred) # Add y=x\n",
    "plt.xlabel(\"Actual Values\")\n",
    "plt.ylabel(\"Predicted Values\")\n",
    "plt.title(\"Linear Regression: Actual vs. Predicted Values\")\n",
    "plt.show() # Much better performance  "
   ]
  },
  {
   "cell_type": "code",
   "execution_count": null,
   "metadata": {},
   "outputs": [],
   "source": [
    "# Confusion Matrix\n",
    "from sklearn.metrics import confusion_matrix\n",
    "cm=confusion_matrix(y_test,y_pred)\n",
    "plt.figure(figsize=(12,6))\n",
    "plt.title(\"Confusion Matrix\")\n",
    "sns.heatmap(cm, annot=True,fmt='d')\n",
    "plt.ylabel(\"Actual Values\")\n",
    "plt.xlabel(\"Predicted Values\")"
   ]
  },
  {
   "cell_type": "code",
   "execution_count": 92,
   "metadata": {},
   "outputs": [],
   "source": [
    "# from sklearn.ensemble import RandomForestRegressor\n",
    "# from sklearn.metrics import mean_squared_error,r2_score\n",
    "# from sklearn.metrics import mean_squared_error, mean_absolute_error, r2_score\n",
    "# from sklearn.metrics import accuracy_score\n",
    " \n",
    "# # Create a random forest regression model   # RANDOM FOREST NO GOOD FOR STRATIFIED SAMPLING\n",
    "# model = RandomForestRegressor(n_estimators=50)\n",
    " \n",
    "# # Fit the model to the data\n",
    "# model.fit(x, y)\n",
    " \n",
    "# # Predict the response for a new data point\n",
    "# y_pred = model.predict(X_test)\n",
    "# #test_acc = accuracy_score(y_test, y_pred)\n",
    "\n",
    "# #print(\"The Accuracy for Test Set is {}\" .format(test_acc*100))\n",
    "\n",
    "\n",
    "# mse = mean_squared_error(y_test, y_pred)\n",
    "# mae = mean_absolute_error(y_test, y_pred)\n",
    "\n",
    "# r2 = r2_score(y_test, y_pred)\n",
    "\n",
    "# print(\"Mean Squared Error:\", mse)\n",
    "# print(\"Mean Absolute Error:\", mae)\n",
    "\n",
    "# print(\"R2 Score:\", r2)\n",
    "\n",
    "# # Make predictions\n",
    "\n",
    "# print(\"Prediction:\", y_pred)"
   ]
  },
  {
   "cell_type": "code",
   "execution_count": 93,
   "metadata": {},
   "outputs": [],
   "source": [
    "# plt.scatter(y_test, y_pred) # sample?\n",
    "# plt.xlabel(\"Actual Values\")\n",
    "# plt.ylabel(\"Predicted Values\")\n",
    "# plt.title(\"Random Forest Regression: Actual vs. Predicted Values\")\n",
    "# plt.show() # Much better performance  "
   ]
  },
  {
   "cell_type": "code",
   "execution_count": null,
   "metadata": {},
   "outputs": [],
   "source": [
    "from sklearn.metrics import classification_report\n",
    "print(classification_report(y_test,y_pred))"
   ]
  },
  {
   "cell_type": "code",
   "execution_count": null,
   "metadata": {},
   "outputs": [],
   "source": []
  },
  {
   "cell_type": "code",
   "execution_count": null,
   "metadata": {},
   "outputs": [],
   "source": [
    "rf_feature_importances = reg.feature_importances_\n",
    "rf_feature_importances = pd.Series(\n",
    "    rf_feature_importances, index=X_train.columns.values\n",
    "    ).sort_values(ascending=False)\n",
    "\n",
    "fig, ax = plt.subplots(figsize=(7,5))\n",
    "sns.barplot(x=rf_feature_importances, y=rf_feature_importances.index)\n",
    "plt.xlabel('Feature Importance');\n",
    "plt.ylabel('Feature');"
   ]
  },
  {
   "cell_type": "code",
   "execution_count": null,
   "metadata": {},
   "outputs": [],
   "source": [
    "import numpy as np\n",
    "from glmnet import ElasticNet\n",
    "\n",
    "\n",
    "# LASSO Model\n",
    "elastic_net_model = ElasticNet(alpha=1) \n",
    "elastic_net_model.fit(x,y)"
   ]
  },
  {
   "cell_type": "code",
   "execution_count": null,
   "metadata": {},
   "outputs": [],
   "source": [
    "# Lambda Value\n",
    "print(f'Best lambda value for LASSO: {elastic_net_model.lambda_best_[0]}')"
   ]
  },
  {
   "cell_type": "code",
   "execution_count": null,
   "metadata": {},
   "outputs": [],
   "source": [
    "y_pred = elastic_net_model.predict(X_test)\n",
    "\n",
    "# Import necessary libraries\n",
    "from sklearn.linear_model import ElasticNet\n",
    "from sklearn.metrics import mean_squared_error,r2_score\n",
    "import numpy as np\n",
    "import matplotlib.pyplot as plt\n",
    "\n",
    "# Calculate the Mean Squared Error (MSE)\n",
    "mse = mean_squared_error(y_test, y_pred)\n",
    "print(f\"Mean Squared Error: {mse}\")\n",
    "# Print the model coefficients\n",
    "print(\"Elastic Net Coefficients:\")\n",
    "print(elastic_net_model.coef_)\n",
    "# Print the model intercept\n",
    "print(\"Elastic Net Intercept:\")\n",
    "print(elastic_net_model.intercept_)\n",
    "r2_score(y_test,y_pred)"
   ]
  },
  {
   "cell_type": "code",
   "execution_count": null,
   "metadata": {},
   "outputs": [],
   "source": [
    "plt.scatter(y_test, y_pred)\n",
    "plt.xlabel(\"Actual Values\")\n",
    "plt.ylabel(\"Predicted Values\")\n",
    "plt.title(\"Elastic Net Regression: Actual vs. Predicted Values\")\n",
    "plt.show()"
   ]
  },
  {
   "cell_type": "code",
   "execution_count": 39,
   "metadata": {},
   "outputs": [],
   "source": [
    "# Begin forecasting the rental properties for the next 3-years by suburb or any other suitable\n",
    "# granularity (we will let groups decide on the granularity). Whilst working on this, groups are\n",
    "# expected to also present some analysis on what features are useful in making a certain suburb\n",
    "# more expensive and sought after."
   ]
  },
  {
   "cell_type": "code",
   "execution_count": 40,
   "metadata": {},
   "outputs": [],
   "source": [
    "# Groups are to continue working on their predictions and analysis. Additionally, prepare a\n",
    "# summary notebook (3-5 minutes max) and walk your Tutor through the current findings and\n",
    "# any additional insights so far. This task should assist in helping groups formulate their answers\n",
    "# to the 3 big questions."
   ]
  },
  {
   "cell_type": "code",
   "execution_count": 41,
   "metadata": {},
   "outputs": [],
   "source": [
    "# Summarise and output the 3-year predictions for your chosen granularity (i.e suburb or cluster\n",
    "# of properties) and provide some form of an answer for the 3 big questions."
   ]
  }
 ],
 "metadata": {
  "kernelspec": {
   "display_name": "Python 3",
   "language": "python",
   "name": "python3"
  },
  "language_info": {
   "codemirror_mode": {
    "name": "ipython",
    "version": 3
   },
   "file_extension": ".py",
   "mimetype": "text/x-python",
   "name": "python",
   "nbconvert_exporter": "python",
   "pygments_lexer": "ipython3",
   "version": "3.10.12"
  }
 },
 "nbformat": 4,
 "nbformat_minor": 2
}
