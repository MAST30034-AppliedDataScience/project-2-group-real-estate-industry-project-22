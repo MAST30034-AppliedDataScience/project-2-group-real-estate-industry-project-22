{
 "cells": [
  {
   "cell_type": "code",
   "execution_count": null,
   "metadata": {},
   "outputs": [],
   "source": []
  },
  {
   "cell_type": "code",
   "execution_count": 1,
   "metadata": {},
   "outputs": [
    {
     "name": "stderr",
     "output_type": "stream",
     "text": [
      "your 131072x1 screen size is bogus. expect trouble\n",
      "24/09/17 23:06:53 WARN Utils: Your hostname, DESKTOP-Q5SP5SI resolves to a loopback address: 127.0.1.1; using 172.20.36.110 instead (on interface eth0)\n",
      "24/09/17 23:06:53 WARN Utils: Set SPARK_LOCAL_IP if you need to bind to another address\n",
      "Setting default log level to \"WARN\".\n",
      "To adjust logging level use sc.setLogLevel(newLevel). For SparkR, use setLogLevel(newLevel).\n",
      "24/09/17 23:06:57 WARN NativeCodeLoader: Unable to load native-hadoop library for your platform... using builtin-java classes where applicable\n"
     ]
    }
   ],
   "source": [
    "## METHOD 1: convert dictionary to spark dataframe and append to initialized sdf\n",
    "# built-in imports\n",
    "import re\n",
    "from json import dump, load\n",
    "from tqdm import tqdm\n",
    "from collections import defaultdict\n",
    "from bs4 import BeautifulSoup\n",
    "from urllib.request import urlopen, Request\n",
    "import pandas as pd  \n",
    "import os\n",
    "# Import Spark modules\n",
    "from pyspark.sql import SparkSession\n",
    "from pyspark.sql.types import StructType, StructField, StringType\n",
    "\n",
    "# Initialize Spark session\n",
    "spark = (\n",
    "    SparkSession.builder.appName(\"MAST30034 Domain Scraper\")\n",
    "    .config(\"spark.sql.repl.eagerEval.enabled\", True) \n",
    "    .config(\"spark.sql.parquet.cacheMetadata\", \"true\")\n",
    "    .config(\"spark.sql.session.timeZone\", \"Etc/UTC\")\n",
    "    .config('spark.driver.memory', '4g')\n",
    "    .config('spark.executor.memory', '2g')\n",
    "    .getOrCreate()\n",
    ")\n",
    "\n",
    "#### create a spark data frame\n",
    "\n",
    "# constants\n",
    "BASE_URL = \"https://www.domain.com.au\"\n",
    "N_PAGES = range(1, 2)  # Update this to your liking\n",
    "\n",
    "#Scrape suburb from the address\n",
    "def extract_suburb(address: str) -> str:\n",
    "    \"\"\"Extract the suburb name from the property address.\"\"\"\n",
    "    match = re.search(r'(?<=, )\\w+', address)\n",
    "    if match:\n",
    "        return match.group(0)\n",
    "    return \"Unknown\"\n",
    "\n",
    "\n",
    "def start_scrape() -> None:\n",
    "    \"\"\" Function that scrapes https://www.domain.com.au and outputs the data into a json file\n",
    "\n",
    "    Parameters:\n",
    "    None\n",
    "\n",
    "    Returns:\n",
    "    None\n",
    "    \"\"\"\n",
    "    schema = StructType([\n",
    "    StructField(\"url\", StringType(), True),\n",
    "    StructField(\"name\", StringType(), True),\n",
    "    StructField(\"cost_text\", StringType(), True),\n",
    "    StructField(\"rooms\", StringType(), True),\n",
    "    StructField(\"desc\", StringType(), True),\n",
    "    StructField(\"parking\", StringType(), True),\n",
    "    StructField(\"street\", StringType(), True),\n",
    "    StructField(\"suburb\", StringType(), True),\n",
    "    StructField(\"postcode\", StringType(), True),\n",
    "    StructField(\"propertyType\", StringType(), True),\n",
    "    StructField(\"school\", StringType(), True),\n",
    "    StructField(\"features\", StringType(), True),\n",
    "    ])\n",
    "\n",
    "    # begin code\n",
    "    url_links = []\n",
    "    property_metadata = defaultdict(dict)\n",
    "    sdf = spark.createDataFrame([],schema)\n",
    "    \n",
    "\n",
    "    # generate list of urls to visit\n",
    "    for page in N_PAGES:\n",
    "        url = BASE_URL + f\"/rent/?excludedeposittaken=1&state=vic&page={page}\"\n",
    "        print(f\"Visiting {url}\")\n",
    "        bs_object = BeautifulSoup(urlopen(Request(url, headers={'User-Agent': \"PostmanRuntime/7.6.0\"})), \"lxml\")\n",
    "\n",
    "        # find the unordered list (ul) elements which are the results, then\n",
    "        # find all href (a) tags that are from the base_url website.\n",
    "        index_links = bs_object.find(\"ul\", {\"data-testid\": \"results\"}).findAll(\n",
    "            \"a\", href=re.compile(f\"{BASE_URL}/*\")  # the `*` denotes wildcard any\n",
    "        )\n",
    "\n",
    "        for link in index_links:\n",
    "            # if it's a property address, add it to the list\n",
    "            if 'address' in link.get('class', []):\n",
    "                url_links.append(link['href'])\n",
    "\n",
    "    # for each url, scrape some basic metadata\n",
    "    pbar = tqdm(url_links)\n",
    "    success_count, total_count = 0, 0\n",
    "\n",
    "    for property_url in pbar:\n",
    "        try:\n",
    "            bs_object = BeautifulSoup(urlopen(Request(property_url, headers={'User-Agent': \"PostmanRuntime/7.6.0\"})), \"lxml\")\n",
    "            total_count += 1\n",
    "\n",
    "            property_page = urlopen(Request(property_url, headers={'User-Agent': \"PostmanRuntime/7.6.0\"}))\n",
    "            property_soup = BeautifulSoup(property_page, \"lxml\")\n",
    "\n",
    "            # looks for the header class to get property name\n",
    "            property_metadata[property_url]['name'] = bs_object.find(\"h1\", {\"class\": \"css-164r41r\"}).text.strip()\n",
    "\n",
    "            # looks for the div containing a summary title for cost\n",
    "            property_metadata[property_url]['cost_text'] = bs_object.find(\n",
    "                \"div\", {\"data-testid\": \"listing-details__summary-title\"}\n",
    "            ).text.strip()\n",
    "\n",
    "\n",
    "            # get rooms and parking\n",
    "            rooms = bs_object.find(\"div\", {\"data-testid\": \"property-features\"}).findAll(\n",
    "                \"span\", {\"data-testid\": \"property-features-text-container\"}\n",
    "            )\n",
    "\n",
    "            # rooms\n",
    "            property_metadata[property_url]['rooms'] = \", \".join(\n",
    "                [re.findall(r'\\d+\\s[A-Za-z]+', feature.text)[0] for feature in rooms if 'Bed' in feature.text or 'Bath' in feature.text]\n",
    "            )\n",
    "\n",
    "            # parking\n",
    "            property_metadata[property_url]['parking'] = \", \".join(\n",
    "                [re.findall(r'\\S+\\s[A-Za-z]+', feature.text)[0] for feature in rooms if 'Parking' in feature.text]\n",
    "            )\n",
    "\n",
    "            # desc\n",
    "            property_metadata[property_url]['desc'] = \", \".join(\n",
    "                [re.findall(r'\\d+\\s[A-Za-z]+', feature.text)[0] for feature in rooms if 'desc' in feature.text]\n",
    "            )\n",
    "            \n",
    "            # listingID:\n",
    "            property_metadata[property_url]['listingid'] = \", \".join(\n",
    "                [re.findall(r'\\S+\\s[A-Za-z]+', feature.text)[0] for feature in rooms if 'listingId' in feature.text]\n",
    "            )\n",
    "\n",
    "            # street:\n",
    "            property_metadata[property_url]['street'] = \", \".join(\n",
    "                [re.findall(r'\\S+\\s[A-Za-z]+', feature.text)[0] for feature in rooms if 'street' in feature.text]\n",
    "            )\n",
    "\n",
    "            # suburb:\n",
    "            property_metadata[property_url]['suburb'] = extract_suburb(property_metadata[property_url]['name'])\n",
    "\n",
    "            \n",
    "            # postcode:\n",
    "            property_metadata[property_url]['postcode'] = \", \".join(\n",
    "                [re.findall(r'\\S+\\s[A-Za-z]+', feature.text)[0] for feature in rooms if 'postcode' in feature.text]\n",
    "            )\n",
    "\n",
    "            # property type:\n",
    "            property_metadata[property_url]['propertyType'] = \", \".join(\n",
    "                [re.findall(r'\\S+\\s[A-Za-z]+', feature.text)[0] for feature in rooms if 'apartment' in feature.text \n",
    "                 or 'unit' in feature.text or 'house' in feature.text or 'flat' in feature.text]\n",
    "            )\n",
    "\n",
    "            # schools:\n",
    "            property_metadata[property_url]['school'] = \", \".join(\n",
    "                [re.findall(r'\\S+\\s[A-Za-z]+', feature.text)[0] for feature in rooms if 'school' in feature.text]\n",
    "            )\n",
    "\n",
    "            # features:\n",
    "            property_metadata[property_url]['features'] = \", \".join(\n",
    "                [re.findall(r'\\S+\\s[A-Za-z]+', feature.text)[0] for feature in rooms if 'feature' in feature.text]\n",
    "            )\n",
    "\n",
    "            # loanfinder:\n",
    "            property_metadata[property_url]['loan'] = \", \".join(\n",
    "                [re.findall(r'\\S+\\s[A-Za-z]+', feature.text)[0] for feature in rooms if 'loan' in feature.text]\n",
    "            )\n",
    "\n",
    "            # listingSummary:\n",
    "            property_metadata[property_url]['listingsummary'] = \", \".join(\n",
    "                [re.findall(r'\\S+\\s[A-Za-z]+', feature.text)[0] for feature in rooms if 'summary' in feature.text]\n",
    "            )\n",
    "\n",
    "            # suburb insights:\n",
    "            property_metadata[property_url]['suburbInsights'] = \", \".join(\n",
    "                [re.findall(r'\\S+\\s[A-Za-z]+', feature.text)[0] for feature in rooms if 'suburbInsights' in feature.text]\n",
    "            )\n",
    "\n",
    "            # property description\n",
    "            property_metadata[property_url]['desc'] = bs_object.find(\"p\").text.strip() if bs_object.find(\"p\") else \"N/A\"\n",
    "\n",
    "\n",
    "            # Scrape property description\n",
    "            property_metadata[property_url]['desc'] = re.sub(r'<br\\/>', '\\n', str(property_soup.find(\"p\"))).strip('</p>')\n",
    "           \n",
    "            \"\"\"\n",
    "            # Write each row to the CSV\n",
    "            writer.writerow([\n",
    "                property_url,\n",
    "                property_metadata[property_url]['name'],\n",
    "                property_metadata[property_url]['cost_text'],\n",
    "                property_metadata[property_url]['rooms'],\n",
    "                property_metadata[property_url]['parking'],\n",
    "                property_metadata[property_url]['desc'],\n",
    "                property_metadata[property_url]['listingid'],\n",
    "                property_metadata[property_url]['street'],\n",
    "                property_metadata[property_url]['suburb'],\n",
    "                property_metadata[property_url]['postcode'],\n",
    "                property_metadata[property_url]['propertyType'],\n",
    "                property_metadata[property_url]['school'],\n",
    "                property_metadata[property_url]['features'],\n",
    "                property_metadata[property_url]['loan'],\n",
    "                property_metadata[property_url]['listingsummary'],\n",
    "                property_metadata[property_url]['suburbInsights']\n",
    "            ])\n",
    "            \"\"\"\n",
    "            success_count += 1\n",
    "            temp_sdf = spark.createDataFrame(property_metadata)\n",
    "            sdf.union(temp_sdf)\n",
    "\n",
    "        except AttributeError:\n",
    "            print(f\"Issue with {property_url}\")\n",
    "\n",
    "        pbar.set_description(f\"{(success_count / total_count * 100):.0f}% successful\")\n",
    "\n",
    "        # output to example json in data/raw/\n",
    "    with open('../data/raw/example.json', 'w') as f:\n",
    "        dump(property_metadata, f)\n",
    "\n",
    "def convert_to_parquet(filepath: str, output_path: str) -> None:\n",
    "    \"\"\" Function converts a json file into a parquet file\n",
    "\n",
    "    Parameters:\n",
    "    filepath (str): the filepath that locates our json data\n",
    "\n",
    "    output_path (str): the filepath that we will place our new parquet file into\n",
    "\n",
    "    Returns:\n",
    "    None\n",
    "    \"\"\"\n",
    "    with open(filepath) as f:\n",
    "        data = load(f)\n",
    "\n",
    "    new_data = change_json_format(data)\n",
    "\n",
    "    # conversion from json -> dataframe -> parquet\n",
    "    df = pd.DataFrame(new_data)\n",
    "    df.to_parquet(output_path, engine='pyarrow')\n",
    "\n",
    "    delete_json_file(filepath)\n",
    "\n",
    "# function that changes the formatting of the json file\n",
    "def change_json_format(data: dict) -> dict:\n",
    "    \"\"\" Function grabs the renames the json keys to the words after the last backslash in the url and adds the url as an item\n",
    "\n",
    "    Parameters:\n",
    "    data (dict): json dictionary we are changing\n",
    "\n",
    "    Returns:\n",
    "    dict: our new json dictionary\n",
    "    \n",
    "    \"\"\"\n",
    "    new_data = {}\n",
    "    for i in data.keys():\n",
    "        new_name = i.rsplit('/', 1)[-1]\n",
    "        new_data[new_name] = data[i]\n",
    "        new_data[new_name][\"href\"] = i\n",
    "    return new_data\n",
    "\n",
    "def delete_json_file(filepath: str) -> None:\n",
    "    \"\"\" Function deletes the json file we are converting from\n",
    "\n",
    "    Parameters:\n",
    "    filepath (string): filepath to the json file we are deleting\n",
    "\n",
    "    Returns:\n",
    "    None\n",
    "    \"\"\"\n",
    "    try:\n",
    "        os.remove(filepath)\n",
    "        print(f\"File '{filepath}' deleted successfully\")\n",
    "    except FileNotFoundError:\n",
    "        print(f\"File '{filepath}' not found\")\n",
    "    except PermissionError:\n",
    "        print(f\"Permission denied: '{filepath}'\")\n",
    "    except Exception as e:\n",
    "        print(f\"An error occurred: {e}\")"
   ]
  },
  {
   "cell_type": "code",
   "execution_count": 2,
   "metadata": {},
   "outputs": [
    {
     "name": "stderr",
     "output_type": "stream",
     "text": [
      "24/09/15 12:28:25 WARN SparkSession: Using an existing Spark session; only runtime SQL configurations will take effect.\n"
     ]
    }
   ],
   "source": [
    "from pyspark.sql import SparkSession\n",
    "\n",
    "# Create a spark session (which will run spark jobs)\n",
    "spark = (\n",
    "    SparkSession.builder.appName(\"MAST30034 Project 2\")\n",
    "    .config(\"spark.sql.repl.eagerEval.enabled\", True) \n",
    "    .config(\"spark.sql.parquet.cacheMetadata\", \"true\")\n",
    "    .config(\"spark.sql.session.timeZone\", \"Etc/UTC\")\n",
    "    .getOrCreate()\n",
    ")\n",
    "\n",
    "from pyarrow import json\n",
    "import pyarrow.parquet as pq"
   ]
  },
  {
   "cell_type": "code",
   "execution_count": 2,
   "metadata": {},
   "outputs": [],
   "source": [
    "def convert_to_parquet(filepath: str, output_path: str) -> None:\n",
    "    \"\"\" Function converts a JSON file into a parquet file \"\"\"\n",
    "    with open(filepath) as f:\n",
    "        data = load(f)\n",
    "\n",
    "    new_data = change_json_format(data)\n",
    "\n",
    "    # Conversion from JSON -> DataFrame -> Parquet\n",
    "    df = pd.DataFrame(new_data)\n",
    "    df.to_parquet(output_path, engine='pyarrow')\n",
    "\n",
    "    delete_json_file(filepath)\n",
    "\n",
    "def change_json_format(data: dict) -> dict:\n",
    "    \"\"\" Function renames JSON keys and adds the URL as an item \"\"\"\n",
    "    new_data = {}\n",
    "    for i in data.keys():\n",
    "        new_name = i.rsplit('/', 1)[-1]\n",
    "        new_data[new_name] = data[i]\n",
    "        new_data[new_name][\"href\"] = i\n",
    "    return new_data\n",
    "\n",
    "def delete_json_file(filepath: str) -> None:\n",
    "    \"\"\" Function deletes the JSON file \"\"\"\n",
    "    try:\n",
    "        os.remove(filepath)\n",
    "        print(f\"File '{filepath}' deleted successfully\")\n",
    "    except FileNotFoundError:\n",
    "        print(f\"File '{filepath}' not found\")\n",
    "    except PermissionError:\n",
    "        print(f\"Permission denied: '{filepath}'\")\n",
    "    except Exception as e:\n",
    "        print(f\"An error occurred: {e}\")\n",
    "    \n",
    "def get_chunks(suburbs_df) -> dict:\n",
    "    \"\"\"function that splits up postcodes into chunks of 50 so that if we are kicked halfway during scraping we don't lose too much progress\n",
    "    \"\"\"\n",
    "    chunk_dict = {}\n",
    "    \n",
    "    i = 3048\n",
    "    j = 3023  \n",
    "    while i < 3997:\n",
    "        temp = suburbs_df[suburbs_df['postcode'] >= j]\n",
    "        chunk_dict['chunk_{}'.format(i)] = temp[temp['postcode'] <= i]\n",
    "        j += 25\n",
    "        i += 25\n",
    "\n",
    "    return chunk_dict"
   ]
  },
  {
   "cell_type": "code",
   "execution_count": 7,
   "metadata": {},
   "outputs": [
    {
     "name": "stdout",
     "output_type": "stream",
     "text": [
      "chunk_3048\n",
      "chunk_3073\n",
      "chunk_3098\n",
      "chunk_3123\n",
      "chunk_3148\n",
      "chunk_3173\n",
      "chunk_3198\n",
      "chunk_3223\n",
      "chunk_3248\n",
      "chunk_3273\n",
      "chunk_3298\n",
      "chunk_3323\n",
      "chunk_3348\n",
      "chunk_3373\n",
      "chunk_3398\n",
      "chunk_3423\n",
      "chunk_3448\n",
      "chunk_3473\n",
      "chunk_3498\n",
      "chunk_3523\n",
      "chunk_3548\n",
      "chunk_3573\n",
      "chunk_3598\n",
      "chunk_3623\n",
      "chunk_3648\n",
      "chunk_3673\n",
      "chunk_3698\n",
      "chunk_3723\n",
      "chunk_3748\n",
      "chunk_3773\n",
      "chunk_3798\n",
      "chunk_3823\n",
      "chunk_3848\n",
      "chunk_3873\n",
      "chunk_3898\n",
      "chunk_3923\n",
      "chunk_3948\n",
      "chunk_3973\n"
     ]
    }
   ],
   "source": [
    "chunk_dict = get_chunks(suburbs_df)\n",
    "for i in chunk_dict:\n",
    "    print(i)"
   ]
  },
  {
   "cell_type": "markdown",
   "metadata": {},
   "source": [
    "1. Run cell above\n",
    "2. Run cell below \n",
    "3. Run cell below the cell below\n",
    "4. Run property_metadata.write"
   ]
  },
  {
   "cell_type": "code",
   "execution_count": 3,
   "metadata": {},
   "outputs": [
    {
     "name": "stderr",
     "output_type": "stream",
     "text": [
      "24/09/17 23:07:10 WARN SparkSession: Using an existing Spark session; only runtime SQL configurations will take effect.\n"
     ]
    }
   ],
   "source": [
    "# Working METHOD\n",
    "import re\n",
    "from json import dump\n",
    "from tqdm import tqdm\n",
    "from collections import defaultdict\n",
    "from bs4 import BeautifulSoup\n",
    "from urllib.request import urlopen, Request\n",
    "from pyspark.sql import SparkSession\n",
    "from pyspark.sql.types import StructType, StructField, StringType\n",
    "import pandas as pd\n",
    "\n",
    "# Initialize Spark session\n",
    "spark = SparkSession.builder.master('local[*]') \\\n",
    "    .config(\"spark.driver.memory\", \"15g\") \\\n",
    "    .config(\"spark.executor.memory\", \"16g\") \\\n",
    "    .appName(\"PropertyScraper\") \\\n",
    "    .getOrCreate()\n",
    "\n",
    "# Constants\n",
    "BASE_URL = \"https://www.domain.com.au\"\n",
    "N_PAGES = range(1, 50)  # Max number of pages you want to scrape  \n",
    "\n",
    "# Load suburbs CSV\n",
    "suburbs_df = pd.read_csv('postcodes.csv')  # Ensure this CSV contains 'suburb' and 'postcode' columns\n",
    "chunk_dict = get_chunks(suburbs_df)\n",
    "\n",
    "def start_scrape(chunk, file_suffix):\n",
    "    \"\"\"Function that scrapes https://www.domain.com.au and outputs the data into a JSON file\n",
    "    \n",
    "    parameters:\n",
    "    chunk: chunk of 50 postcodes we will scrape\n",
    "    file_suffix: what we want to title the end of our files when we write to json\n",
    "    \"\"\"\n",
    "\n",
    "    # Define schema for the Spark DataFrame\n",
    "    schema = StructType([\n",
    "        StructField(\"url\", StringType(), True),\n",
    "        StructField(\"postcode\", StringType(), True),\n",
    "        StructField(\"suburb\", StringType(), True),\n",
    "        StructField(\"name\", StringType(), True),\n",
    "        StructField(\"cost_text\", StringType(), True),\n",
    "        StructField(\"beds\", StringType(), True),  # Separate field for beds\n",
    "        StructField(\"baths\", StringType(), True),  # Separate field for baths\n",
    "        StructField(\"parking\", StringType(), True),  # Parking field\n",
    "        StructField(\"property_type\", StringType(), True),  # Property type field\n",
    "    ])\n",
    "\n",
    "\n",
    "    # Initialize an empty DataFrame with the schema\n",
    "    property_metadata = spark.createDataFrame([], schema)\n",
    "\n",
    "    # Loop through each suburb and its postcode\n",
    "    for index, row in chunk.iterrows():\n",
    "        suburb = row['locality'].lower().replace(' ', '-')  # Convert to lowercase and hyphenate\n",
    "        postcode = row['postcode']\n",
    "\n",
    "        print(f\"Scraping data for {suburb} ({postcode})\")\n",
    "\n",
    "        url_links = []\n",
    "        page_found = False  # This flag will help us track whether any results are found\n",
    "\n",
    "        # Generate list of URLs to visit\n",
    "        for page in N_PAGES:\n",
    "            url = BASE_URL + f\"/rent/{suburb}-vic-{postcode}/?ssubs=0&sort=suburb-asc&page={page}\"\n",
    "            try:\n",
    "                bs_object = BeautifulSoup(urlopen(Request(url, headers={'User-Agent': \"PostmanRuntime/7.6.0\"})), \"lxml\")\n",
    "\n",
    "                # Check if the page has results or shows \"No results found\"\n",
    "                no_results = bs_object.find(text=re.compile(\"No results found\", re.I))\n",
    "                if no_results:\n",
    "                    print(f\"No results found for {suburb} on page {page}. Stopping further scraping for this suburb.\")\n",
    "                    break  # Exit the pagination loop if no results are found\n",
    "\n",
    "                # Find property links\n",
    "                index_links = bs_object.find(\"ul\", {\"data-testid\": \"results\"})\n",
    "                if not index_links:\n",
    "                    print(f\"No more results for {suburb} on page {page}.\")\n",
    "                    break  # Exit pagination if no results list is found (end of pages)\n",
    "\n",
    "                index_links = index_links.findAll(\"a\", href=re.compile(f\"{BASE_URL}/*\"))\n",
    "                page_found = True  # At least one result was found on this page\n",
    "\n",
    "                for link in index_links:\n",
    "                    # If it's a property address, add it to the list\n",
    "                    if 'address' in link.get('class', []):\n",
    "                        url_links.append(link['href'])\n",
    "\n",
    "            except Exception as e:\n",
    "                print(f\"Error fetching {url}: {e}\")\n",
    "                break  # Stop if there's an issue with fetching the page\n",
    "\n",
    "        if not page_found:\n",
    "            print(f\"No results for {suburb}. Moving to the next suburb.\")\n",
    "            continue  # Skip to the next suburb if no pages were found for this one\n",
    "\n",
    "        # For each URL, scrape some basic metadata\n",
    "        pbar = tqdm(url_links)\n",
    "        success_count, total_count = 0, 0\n",
    "\n",
    "        for property_url in pbar:\n",
    "            try:\n",
    "                bs_object = BeautifulSoup(urlopen(Request(property_url, headers={'User-Agent': \"PostmanRuntime/7.6.0\"})), \"lxml\")\n",
    "                total_count += 1\n",
    "\n",
    "                # Get property name\n",
    "                name = bs_object.find(\"h1\", {\"class\": \"css-164r41r\"}).text.strip()\n",
    "\n",
    "                # Get cost text\n",
    "                cost_text = bs_object.find(\"div\", {\"data-testid\": \"listing-details__summary-title\"}).text.strip()\n",
    "\n",
    "                # Get rooms (beds and baths)\n",
    "                rooms = bs_object.find(\"div\", {\"data-testid\": \"property-features\"}).findAll(\n",
    "                    \"span\", {\"data-testid\": \"property-features-text-container\"}\n",
    "                )\n",
    "\n",
    "                # Initialize variables\n",
    "                beds, baths, parking = None, None, '0'  # Default value for parking is '0 Car'\n",
    "\n",
    "                for feature in rooms:\n",
    "                    text = feature.text\n",
    "                    if 'Bed' in text:\n",
    "                        beds_match = re.findall(r'\\d+', text)\n",
    "                        if beds_match:\n",
    "                            beds = beds_match[0]  # Extract the number of beds\n",
    "                    elif 'Bath' in text:\n",
    "                        baths_match = re.findall(r'\\d+', text)\n",
    "                        if baths_match:\n",
    "                            baths = baths_match[0]  # Extract the number of baths\n",
    "                    elif 'Car' in text or 'Parking' in text:\n",
    "                        parking_match = re.findall(r'\\d+', text)\n",
    "                        if parking_match:\n",
    "                            parking = parking_match[0]  # Extract the number of parking spaces\n",
    "\n",
    "                property_type_container = bs_object.find(\"div\", {\"data-testid\": \"listing-summary-property-type\"})\n",
    "                property_type = property_type_container.get_text(strip=True)\n",
    "\n",
    "                # Create a row and append it to the DataFrame\n",
    "                row = [(property_url, postcode, suburb, name, cost_text, beds, baths, parking, property_type)]\n",
    "                row_df = spark.createDataFrame(row, schema)\n",
    "                property_metadata = property_metadata.union(row_df)\n",
    "                success_count += 1\n",
    "\n",
    "            except AttributeError:\n",
    "                print(f\"Error scraping {property_url}: missing data\")\n",
    "\n",
    "            pbar.set_description(f\"{(success_count / total_count * 100):.0f}% successful\")\n",
    "\n",
    "        # Show the DataFrame to ensure data is being appended\n",
    "        #property_metadata.show()\n",
    "\n",
    "    # Output to parquet file\n",
    "    try:\n",
    "        property_metadata.write.mode(\"overwrite\").parquet('../data/raw/work_{}.parquet'.format(file_suffix))\n",
    "        print(f\"Data successfully written\")\n",
    "    except Exception as e:\n",
    "       print(f\"An error occured: {e}\")\n",
    "\n",
    "    #added this print statement so that the cell output can be scrollable - it's getting annoying to click the scroll bar >:(\n",
    "    print(\"chunk finished\")\n",
    "    #return property_metadata\n",
    "\n"
   ]
  },
  {
   "cell_type": "code",
   "execution_count": 8,
   "metadata": {},
   "outputs": [
    {
     "ename": "KeyError",
     "evalue": "'chunk_3000'",
     "output_type": "error",
     "traceback": [
      "\u001b[0;31m---------------------------------------------------------------------------\u001b[0m",
      "\u001b[0;31mKeyError\u001b[0m                                  Traceback (most recent call last)",
      "Cell \u001b[0;32mIn[8], line 4\u001b[0m\n\u001b[1;32m      1\u001b[0m \u001b[38;5;66;03m# start scraping by chunks of 50\u001b[39;00m\n\u001b[1;32m      2\u001b[0m \u001b[38;5;66;03m#for i in chunk_dict:\u001b[39;00m\n\u001b[1;32m      3\u001b[0m  \u001b[38;5;66;03m#   start_scrape(chunk_dict[i], i.split(\"_\")[1])\u001b[39;00m\n\u001b[0;32m----> 4\u001b[0m property_metadata \u001b[38;5;241m=\u001b[39m start_scrape(\u001b[43mchunk_dict\u001b[49m\u001b[43m[\u001b[49m\u001b[38;5;124;43m'\u001b[39;49m\u001b[38;5;124;43mchunk_3000\u001b[39;49m\u001b[38;5;124;43m'\u001b[39;49m\u001b[43m]\u001b[49m, \u001b[38;5;124m'\u001b[39m\u001b[38;5;124m3000\u001b[39m\u001b[38;5;124m'\u001b[39m)  \u001b[38;5;66;03m## changed 3050 , 3050\u001b[39;00m\n",
      "\u001b[0;31mKeyError\u001b[0m: 'chunk_3000'"
     ]
    }
   ],
   "source": [
    "# start scraping by chunks of 50\n",
    "#for i in chunk_dict:\n",
    " #   start_scrape(chunk_dict[i], i.split(\"_\")[1])\n",
    "property_metadata = start_scrape(chunk_dict['chunk_3000'], '3000')  ## changed 3050 , 3050"
   ]
  },
  {
   "cell_type": "code",
   "execution_count": 9,
   "metadata": {},
   "outputs": [
    {
     "name": "stderr",
     "output_type": "stream",
     "text": [
      "24/09/14 17:28:53 WARN DAGScheduler: Broadcasting large task binary with size 6.1 MiB\n",
      "24/09/14 17:28:55 WARN DAGScheduler: Broadcasting large task binary with size 6.1 MiB\n",
      "24/09/14 17:28:55 WARN DAGScheduler: Broadcasting large task binary with size 6.1 MiB\n",
      "24/09/14 17:28:57 WARN DAGScheduler: Broadcasting large task binary with size 6.1 MiB\n"
     ]
    },
    {
     "name": "stdout",
     "output_type": "stream",
     "text": [
      "+--------------------+--------+---------+--------------------+-------------+----+-----+-------+--------------------+\n",
      "|                 url|postcode|   suburb|                name|    cost_text|beds|baths|parking|       property_type|\n",
      "+--------------------+--------+---------+--------------------+-------------+----+-----+-------+--------------------+\n",
      "|https://www.domai...|    3000|melbourne|3113/639 Lonsdale...|    $1,200.00|   3|    2|      1|Apartment / Unit ...|\n",
      "|https://www.domai...|    3000|melbourne|1503/270 King Str...|$850 Per Week|   4|    1|      1|Apartment / Unit ...|\n",
      "|https://www.domai...|    3000|melbourne|403/639 Lonsdale ...| $750per week|   2|    2|      0|Apartment / Unit ...|\n",
      "|https://www.domai...|    3000|melbourne|3409/138 Spencer ...|      $625 pw|   1|    1|      0|Apartment / Unit ...|\n",
      "|https://www.domai...|    3000|melbourne|103/300 Swanston ...|      $620 pw|   1|    1|      1|Apartment / Unit ...|\n",
      "+--------------------+--------+---------+--------------------+-------------+----+-----+-------+--------------------+\n",
      "only showing top 5 rows\n",
      "\n"
     ]
    }
   ],
   "source": [
    "property_metadata.show(5)"
   ]
  },
  {
   "cell_type": "code",
   "execution_count": 10,
   "metadata": {},
   "outputs": [
    {
     "name": "stderr",
     "output_type": "stream",
     "text": [
      "24/09/14 17:29:53 WARN DAGScheduler: Broadcasting large task binary with size 5.5 MiB\n",
      "                                                                                \r"
     ]
    }
   ],
   "source": [
    "property_metadata.write.mode(\"overwrite\").parquet(\"../data/raw/work_3000.parquet\") "
   ]
  },
  {
   "cell_type": "code",
   "execution_count": 11,
   "metadata": {},
   "outputs": [],
   "source": [
    "sdf = spark.read.parquet(\"../data/raw/work_3000.parquet\")"
   ]
  },
  {
   "cell_type": "code",
   "execution_count": 12,
   "metadata": {},
   "outputs": [
    {
     "data": {
      "text/html": [
       "<table border='1'>\n",
       "<tr><th>url</th><th>postcode</th><th>suburb</th><th>name</th><th>cost_text</th><th>beds</th><th>baths</th><th>parking</th><th>property_type</th></tr>\n",
       "<tr><td>https://www.domai...</td><td>3000</td><td>melbourne</td><td>4307/639 Little L...</td><td>$600 and Fully Fu...</td><td>1</td><td>1</td><td>0</td><td>Apartment / Unit ...</td></tr>\n",
       "<tr><td>https://www.domai...</td><td>3000</td><td>melbourne</td><td>2213/27 Little Co...</td><td>$750 a week and F...</td><td>2</td><td>2</td><td>0</td><td>Apartment / Unit ...</td></tr>\n",
       "<tr><td>https://www.domai...</td><td>3000</td><td>melbourne</td><td>4207/371 Little L...</td><td>$720 per week opp...</td><td>2</td><td>1</td><td>0</td><td>Apartment / Unit ...</td></tr>\n",
       "<tr><td>https://www.domai...</td><td>3000</td><td>melbourne</td><td>99 Franklin Stree...</td><td>Furnished, bills,...</td><td>1</td><td>1</td><td>0</td><td>Apartment / Unit ...</td></tr>\n",
       "<tr><td>https://www.domai...</td><td>3000</td><td>melbourne</td><td>1302/279-283 La T...</td><td>$650 and Fully Fu...</td><td>2</td><td>1</td><td>0</td><td>Apartment / Unit ...</td></tr>\n",
       "<tr><td>https://www.domai...</td><td>3000</td><td>melbourne</td><td>103/19 Exploratio...</td><td>$540 Per Week Inc...</td><td>1</td><td>1</td><td>0</td><td>Studio</td></tr>\n",
       "<tr><td>https://www.domai...</td><td>3000</td><td>melbourne</td><td>913/22-24 Jane Be...</td><td>$520 and Fully Fu...</td><td>1</td><td>1</td><td>1</td><td>Apartment / Unit ...</td></tr>\n",
       "<tr><td>https://www.domai...</td><td>3000</td><td>melbourne</td><td>1202/601 Little C...</td><td>$620 per week, $2...</td><td>2</td><td>1</td><td>0</td><td>Apartment / Unit ...</td></tr>\n",
       "<tr><td>https://www.domai...</td><td>3000</td><td>melbourne</td><td>4211/371 Little L...</td><td>$750 Per Week</td><td>2</td><td>1</td><td>0</td><td>Apartment / Unit ...</td></tr>\n",
       "<tr><td>https://www.domai...</td><td>3000</td><td>melbourne</td><td>1308/138 Spencer ...</td><td>$800 and Fully Fu...</td><td>2</td><td>2</td><td>0</td><td>Apartment / Unit ...</td></tr>\n",
       "<tr><td>https://www.domai...</td><td>3000</td><td>melbourne</td><td>4311/371 Little L...</td><td>$850 per week &amp; A...</td><td>2</td><td>1</td><td>0</td><td>Apartment / Unit ...</td></tr>\n",
       "<tr><td>https://www.domai...</td><td>3000</td><td>melbourne</td><td>3506/228 La Trobe...</td><td>$650 a week and F...</td><td>1</td><td>1</td><td>0</td><td>Apartment / Unit ...</td></tr>\n",
       "<tr><td>https://www.domai...</td><td>3000</td><td>melbourne</td><td>236 La Trobe Stre...</td><td>Furnished, all in...</td><td>1</td><td>1</td><td>0</td><td>Apartment / Unit ...</td></tr>\n",
       "<tr><td>https://www.domai...</td><td>3000</td><td>melbourne</td><td>Level 4, 401B/120...</td><td>$860 furnished/3 ...</td><td>2</td><td>1</td><td>0</td><td>Apartment / Unit ...</td></tr>\n",
       "<tr><td>https://www.domai...</td><td>3000</td><td>melbourne</td><td>405/151 Berkeley ...</td><td>$720 **OPPOSITE T...</td><td>2</td><td>2</td><td>0</td><td>Apartment / Unit ...</td></tr>\n",
       "<tr><td>https://www.domai...</td><td>3000</td><td>melbourne</td><td>4703/568 Collins ...</td><td>$750 a week and F...</td><td>2</td><td>2</td><td>1</td><td>Apartment / Unit ...</td></tr>\n",
       "<tr><td>https://www.domai...</td><td>3000</td><td>melbourne</td><td>1006/442 Elizabet...</td><td>$650 per week and...</td><td>1</td><td>1</td><td>0</td><td>Apartment / Unit ...</td></tr>\n",
       "<tr><td>https://www.domai...</td><td>3000</td><td>melbourne</td><td>1406/22 Jane Bell...</td><td>$795 include bill...</td><td>2</td><td>1</td><td>1</td><td>Apartment / Unit ...</td></tr>\n",
       "<tr><td>https://www.domai...</td><td>3000</td><td>melbourne</td><td>2514/23 Mackenzie...</td><td>$720 per week *Pa...</td><td>2</td><td>1</td><td>0</td><td>Apartment / Unit ...</td></tr>\n",
       "<tr><td>https://www.domai...</td><td>3000</td><td>melbourne</td><td>4302/120 A'Becket...</td><td>$1200 **INSPECTIO...</td><td>3</td><td>2</td><td>0</td><td>Apartment / Unit ...</td></tr>\n",
       "</table>\n",
       "only showing top 20 rows\n"
      ],
      "text/plain": [
       "+--------------------+--------+---------+--------------------+--------------------+----+-----+-------+--------------------+\n",
       "|                 url|postcode|   suburb|                name|           cost_text|beds|baths|parking|       property_type|\n",
       "+--------------------+--------+---------+--------------------+--------------------+----+-----+-------+--------------------+\n",
       "|https://www.domai...|    3000|melbourne|4307/639 Little L...|$600 and Fully Fu...|   1|    1|      0|Apartment / Unit ...|\n",
       "|https://www.domai...|    3000|melbourne|2213/27 Little Co...|$750 a week and F...|   2|    2|      0|Apartment / Unit ...|\n",
       "|https://www.domai...|    3000|melbourne|4207/371 Little L...|$720 per week opp...|   2|    1|      0|Apartment / Unit ...|\n",
       "|https://www.domai...|    3000|melbourne|99 Franklin Stree...|Furnished, bills,...|   1|    1|      0|Apartment / Unit ...|\n",
       "|https://www.domai...|    3000|melbourne|1302/279-283 La T...|$650 and Fully Fu...|   2|    1|      0|Apartment / Unit ...|\n",
       "|https://www.domai...|    3000|melbourne|103/19 Exploratio...|$540 Per Week Inc...|   1|    1|      0|              Studio|\n",
       "|https://www.domai...|    3000|melbourne|913/22-24 Jane Be...|$520 and Fully Fu...|   1|    1|      1|Apartment / Unit ...|\n",
       "|https://www.domai...|    3000|melbourne|1202/601 Little C...|$620 per week, $2...|   2|    1|      0|Apartment / Unit ...|\n",
       "|https://www.domai...|    3000|melbourne|4211/371 Little L...|       $750 Per Week|   2|    1|      0|Apartment / Unit ...|\n",
       "|https://www.domai...|    3000|melbourne|1308/138 Spencer ...|$800 and Fully Fu...|   2|    2|      0|Apartment / Unit ...|\n",
       "|https://www.domai...|    3000|melbourne|4311/371 Little L...|$850 per week & A...|   2|    1|      0|Apartment / Unit ...|\n",
       "|https://www.domai...|    3000|melbourne|3506/228 La Trobe...|$650 a week and F...|   1|    1|      0|Apartment / Unit ...|\n",
       "|https://www.domai...|    3000|melbourne|236 La Trobe Stre...|Furnished, all in...|   1|    1|      0|Apartment / Unit ...|\n",
       "|https://www.domai...|    3000|melbourne|Level 4, 401B/120...|$860 furnished/3 ...|   2|    1|      0|Apartment / Unit ...|\n",
       "|https://www.domai...|    3000|melbourne|405/151 Berkeley ...|$720 **OPPOSITE T...|   2|    2|      0|Apartment / Unit ...|\n",
       "|https://www.domai...|    3000|melbourne|4703/568 Collins ...|$750 a week and F...|   2|    2|      1|Apartment / Unit ...|\n",
       "|https://www.domai...|    3000|melbourne|1006/442 Elizabet...|$650 per week and...|   1|    1|      0|Apartment / Unit ...|\n",
       "|https://www.domai...|    3000|melbourne|1406/22 Jane Bell...|$795 include bill...|   2|    1|      1|Apartment / Unit ...|\n",
       "|https://www.domai...|    3000|melbourne|2514/23 Mackenzie...|$720 per week *Pa...|   2|    1|      0|Apartment / Unit ...|\n",
       "|https://www.domai...|    3000|melbourne|4302/120 A'Becket...|$1200 **INSPECTIO...|   3|    2|      0|Apartment / Unit ...|\n",
       "+--------------------+--------+---------+--------------------+--------------------+----+-----+-------+--------------------+\n",
       "only showing top 20 rows"
      ]
     },
     "execution_count": 12,
     "metadata": {},
     "output_type": "execute_result"
    }
   ],
   "source": [
    "sdf"
   ]
  },
  {
   "cell_type": "code",
   "execution_count": 5,
   "metadata": {},
   "outputs": [],
   "source": [
    "temp = suburbs_df[suburbs_df['postcode'] >= 3950]\n",
    "chunk_dict['chunk_3997'] = temp[temp['postcode'] < 3997]"
   ]
  },
  {
   "cell_type": "code",
   "execution_count": 4,
   "metadata": {},
   "outputs": [
    {
     "ename": "KeyError",
     "evalue": "'chunk_1'",
     "output_type": "error",
     "traceback": [
      "\u001b[0;31m---------------------------------------------------------------------------\u001b[0m",
      "\u001b[0;31mKeyError\u001b[0m                                  Traceback (most recent call last)",
      "Cell \u001b[0;32mIn[4], line 13\u001b[0m\n\u001b[1;32m     10\u001b[0m chunk_name \u001b[38;5;241m=\u001b[39m \u001b[38;5;124mf\u001b[39m\u001b[38;5;124m'\u001b[39m\u001b[38;5;124mchunk_\u001b[39m\u001b[38;5;132;01m{\u001b[39;00mi\u001b[38;5;250m \u001b[39m\u001b[38;5;241m/\u001b[39m\u001b[38;5;241m/\u001b[39m\u001b[38;5;250m \u001b[39mchunk_size\u001b[38;5;250m \u001b[39m\u001b[38;5;241m+\u001b[39m\u001b[38;5;250m \u001b[39m\u001b[38;5;241m1\u001b[39m\u001b[38;5;132;01m}\u001b[39;00m\u001b[38;5;124m'\u001b[39m\n\u001b[1;32m     12\u001b[0m \u001b[38;5;66;03m# Call start_scrape function with the chunk\u001b[39;00m\n\u001b[0;32m---> 13\u001b[0m property_metadata \u001b[38;5;241m=\u001b[39m start_scrape(\u001b[43mchunk_dict\u001b[49m\u001b[43m[\u001b[49m\u001b[43mchunk_name\u001b[49m\u001b[43m]\u001b[49m, \u001b[38;5;124mf\u001b[39m\u001b[38;5;124m'\u001b[39m\u001b[38;5;132;01m{\u001b[39;00mchunk\u001b[38;5;132;01m}\u001b[39;00m\u001b[38;5;124m'\u001b[39m)\n",
      "\u001b[0;31mKeyError\u001b[0m: 'chunk_1'"
     ]
    }
   ],
   "source": [
    "postcode = list(range(3001, 4000))  # List of postcodes\n",
    "chunk_size = 50  # Define the chunk size\n",
    "\n",
    "# Loop over the postcodes in chunks of 50\n",
    "for i in range(0, len(postcode), chunk_size):\n",
    "    # Extract a chunk of 50 postcodes\n",
    "    chunk = postcode[i:i + chunk_size]\n",
    "    \n",
    "    # Convert chunk to string or appropriate format for your function\n",
    "    chunk_name = f'chunk_{i // chunk_size + 1}'\n",
    "    \n",
    "    # Call start_scrape function with the chunk\n",
    "    property_metadata = start_scrape(chunk_dict[chunk_name], f'{chunk}')\n"
   ]
  },
  {
   "cell_type": "code",
   "execution_count": 6,
   "metadata": {},
   "outputs": [
    {
     "ename": "TypeError",
     "evalue": "unhashable type: 'slice'",
     "output_type": "error",
     "traceback": [
      "\u001b[0;31m---------------------------------------------------------------------------\u001b[0m",
      "\u001b[0;31mTypeError\u001b[0m                                 Traceback (most recent call last)",
      "\u001b[1;32m/Users/davynr06/Documents/MAST30034/project-2-group-real-estate-industry-project-22/notebooks/Working.ipynb Cell 13'\u001b[0m in \u001b[0;36m<cell line: 1>\u001b[0;34m()\u001b[0m\n\u001b[0;32m----> <a href='vscode-notebook-cell:/Users/davynr06/Documents/MAST30034/project-2-group-real-estate-industry-project-22/notebooks/Working.ipynb#ch0000012?line=0'>1</a>\u001b[0m \u001b[39mfor\u001b[39;00m i \u001b[39min\u001b[39;00m chunk_dict[\u001b[39m1\u001b[39;49m:]:\n\u001b[1;32m      <a href='vscode-notebook-cell:/Users/davynr06/Documents/MAST30034/project-2-group-real-estate-industry-project-22/notebooks/Working.ipynb#ch0000012?line=1'>2</a>\u001b[0m     start_scrape(chunk_dict[i])\n",
      "\u001b[0;31mTypeError\u001b[0m: unhashable type: 'slice'"
     ]
    }
   ],
   "source": [
    "for i in chunk_dict[1:]:\n",
    "    start_scrape(chunk_dict[i])"
   ]
  },
  {
   "cell_type": "code",
   "execution_count": 9,
   "metadata": {},
   "outputs": [
    {
     "ename": "AnalysisException",
     "evalue": "[PATH_NOT_FOUND] Path does not exist: file:/home/priscillapei/project-2-group-real-estate-industry-project-22/data/raw/work_3050.json.",
     "output_type": "error",
     "traceback": [
      "\u001b[0;31m---------------------------------------------------------------------------\u001b[0m",
      "\u001b[0;31mAnalysisException\u001b[0m                         Traceback (most recent call last)",
      "Cell \u001b[0;32mIn[9], line 12\u001b[0m\n\u001b[1;32m      1\u001b[0m schema \u001b[38;5;241m=\u001b[39m StructType([\n\u001b[1;32m      2\u001b[0m         StructField(\u001b[38;5;124m\"\u001b[39m\u001b[38;5;124murl\u001b[39m\u001b[38;5;124m\"\u001b[39m, StringType(), \u001b[38;5;28;01mTrue\u001b[39;00m),\n\u001b[1;32m      3\u001b[0m         StructField(\u001b[38;5;124m\"\u001b[39m\u001b[38;5;124mpostcode\u001b[39m\u001b[38;5;124m\"\u001b[39m, StringType(), \u001b[38;5;28;01mTrue\u001b[39;00m),\n\u001b[0;32m   (...)\u001b[0m\n\u001b[1;32m     10\u001b[0m         StructField(\u001b[38;5;124m\"\u001b[39m\u001b[38;5;124mproperty_type\u001b[39m\u001b[38;5;124m\"\u001b[39m, StringType(), \u001b[38;5;28;01mTrue\u001b[39;00m),  \u001b[38;5;66;03m# Property type field\u001b[39;00m\n\u001b[1;32m     11\u001b[0m     ])\n\u001b[0;32m---> 12\u001b[0m work \u001b[38;5;241m=\u001b[39m \u001b[43mspark\u001b[49m\u001b[38;5;241;43m.\u001b[39;49m\u001b[43mread\u001b[49m\u001b[38;5;241;43m.\u001b[39;49m\u001b[43mschema\u001b[49m\u001b[43m(\u001b[49m\u001b[43mschema\u001b[49m\u001b[43m)\u001b[49m\u001b[38;5;241;43m.\u001b[39;49m\u001b[43mjson\u001b[49m\u001b[43m(\u001b[49m\u001b[38;5;124;43m'\u001b[39;49m\u001b[38;5;124;43m../data/raw/work_3050.json\u001b[39;49m\u001b[38;5;124;43m'\u001b[39;49m\u001b[43m)\u001b[49m\n",
      "File \u001b[0;32m~/.local/lib/python3.10/site-packages/pyspark/sql/readwriter.py:425\u001b[0m, in \u001b[0;36mDataFrameReader.json\u001b[0;34m(self, path, schema, primitivesAsString, prefersDecimal, allowComments, allowUnquotedFieldNames, allowSingleQuotes, allowNumericLeadingZero, allowBackslashEscapingAnyCharacter, mode, columnNameOfCorruptRecord, dateFormat, timestampFormat, multiLine, allowUnquotedControlChars, lineSep, samplingRatio, dropFieldIfAllNull, encoding, locale, pathGlobFilter, recursiveFileLookup, modifiedBefore, modifiedAfter, allowNonNumericNumbers)\u001b[0m\n\u001b[1;32m    423\u001b[0m \u001b[38;5;28;01mif\u001b[39;00m \u001b[38;5;28mtype\u001b[39m(path) \u001b[38;5;241m==\u001b[39m \u001b[38;5;28mlist\u001b[39m:\n\u001b[1;32m    424\u001b[0m     \u001b[38;5;28;01massert\u001b[39;00m \u001b[38;5;28mself\u001b[39m\u001b[38;5;241m.\u001b[39m_spark\u001b[38;5;241m.\u001b[39m_sc\u001b[38;5;241m.\u001b[39m_jvm \u001b[38;5;129;01mis\u001b[39;00m \u001b[38;5;129;01mnot\u001b[39;00m \u001b[38;5;28;01mNone\u001b[39;00m\n\u001b[0;32m--> 425\u001b[0m     \u001b[38;5;28;01mreturn\u001b[39;00m \u001b[38;5;28mself\u001b[39m\u001b[38;5;241m.\u001b[39m_df(\u001b[38;5;28;43mself\u001b[39;49m\u001b[38;5;241;43m.\u001b[39;49m\u001b[43m_jreader\u001b[49m\u001b[38;5;241;43m.\u001b[39;49m\u001b[43mjson\u001b[49m\u001b[43m(\u001b[49m\u001b[38;5;28;43mself\u001b[39;49m\u001b[38;5;241;43m.\u001b[39;49m\u001b[43m_spark\u001b[49m\u001b[38;5;241;43m.\u001b[39;49m\u001b[43m_sc\u001b[49m\u001b[38;5;241;43m.\u001b[39;49m\u001b[43m_jvm\u001b[49m\u001b[38;5;241;43m.\u001b[39;49m\u001b[43mPythonUtils\u001b[49m\u001b[38;5;241;43m.\u001b[39;49m\u001b[43mtoSeq\u001b[49m\u001b[43m(\u001b[49m\u001b[43mpath\u001b[49m\u001b[43m)\u001b[49m\u001b[43m)\u001b[49m)\n\u001b[1;32m    426\u001b[0m \u001b[38;5;28;01melif\u001b[39;00m \u001b[38;5;28misinstance\u001b[39m(path, RDD):\n\u001b[1;32m    428\u001b[0m     \u001b[38;5;28;01mdef\u001b[39;00m \u001b[38;5;21mfunc\u001b[39m(iterator: Iterable) \u001b[38;5;241m-\u001b[39m\u001b[38;5;241m>\u001b[39m Iterable:\n",
      "File \u001b[0;32m~/.local/lib/python3.10/site-packages/py4j/java_gateway.py:1322\u001b[0m, in \u001b[0;36mJavaMember.__call__\u001b[0;34m(self, *args)\u001b[0m\n\u001b[1;32m   1316\u001b[0m command \u001b[38;5;241m=\u001b[39m proto\u001b[38;5;241m.\u001b[39mCALL_COMMAND_NAME \u001b[38;5;241m+\u001b[39m\\\n\u001b[1;32m   1317\u001b[0m     \u001b[38;5;28mself\u001b[39m\u001b[38;5;241m.\u001b[39mcommand_header \u001b[38;5;241m+\u001b[39m\\\n\u001b[1;32m   1318\u001b[0m     args_command \u001b[38;5;241m+\u001b[39m\\\n\u001b[1;32m   1319\u001b[0m     proto\u001b[38;5;241m.\u001b[39mEND_COMMAND_PART\n\u001b[1;32m   1321\u001b[0m answer \u001b[38;5;241m=\u001b[39m \u001b[38;5;28mself\u001b[39m\u001b[38;5;241m.\u001b[39mgateway_client\u001b[38;5;241m.\u001b[39msend_command(command)\n\u001b[0;32m-> 1322\u001b[0m return_value \u001b[38;5;241m=\u001b[39m \u001b[43mget_return_value\u001b[49m\u001b[43m(\u001b[49m\n\u001b[1;32m   1323\u001b[0m \u001b[43m    \u001b[49m\u001b[43manswer\u001b[49m\u001b[43m,\u001b[49m\u001b[43m \u001b[49m\u001b[38;5;28;43mself\u001b[39;49m\u001b[38;5;241;43m.\u001b[39;49m\u001b[43mgateway_client\u001b[49m\u001b[43m,\u001b[49m\u001b[43m \u001b[49m\u001b[38;5;28;43mself\u001b[39;49m\u001b[38;5;241;43m.\u001b[39;49m\u001b[43mtarget_id\u001b[49m\u001b[43m,\u001b[49m\u001b[43m \u001b[49m\u001b[38;5;28;43mself\u001b[39;49m\u001b[38;5;241;43m.\u001b[39;49m\u001b[43mname\u001b[49m\u001b[43m)\u001b[49m\n\u001b[1;32m   1325\u001b[0m \u001b[38;5;28;01mfor\u001b[39;00m temp_arg \u001b[38;5;129;01min\u001b[39;00m temp_args:\n\u001b[1;32m   1326\u001b[0m     \u001b[38;5;28;01mif\u001b[39;00m \u001b[38;5;28mhasattr\u001b[39m(temp_arg, \u001b[38;5;124m\"\u001b[39m\u001b[38;5;124m_detach\u001b[39m\u001b[38;5;124m\"\u001b[39m):\n",
      "File \u001b[0;32m~/.local/lib/python3.10/site-packages/pyspark/errors/exceptions/captured.py:185\u001b[0m, in \u001b[0;36mcapture_sql_exception.<locals>.deco\u001b[0;34m(*a, **kw)\u001b[0m\n\u001b[1;32m    181\u001b[0m converted \u001b[38;5;241m=\u001b[39m convert_exception(e\u001b[38;5;241m.\u001b[39mjava_exception)\n\u001b[1;32m    182\u001b[0m \u001b[38;5;28;01mif\u001b[39;00m \u001b[38;5;129;01mnot\u001b[39;00m \u001b[38;5;28misinstance\u001b[39m(converted, UnknownException):\n\u001b[1;32m    183\u001b[0m     \u001b[38;5;66;03m# Hide where the exception came from that shows a non-Pythonic\u001b[39;00m\n\u001b[1;32m    184\u001b[0m     \u001b[38;5;66;03m# JVM exception message.\u001b[39;00m\n\u001b[0;32m--> 185\u001b[0m     \u001b[38;5;28;01mraise\u001b[39;00m converted \u001b[38;5;28;01mfrom\u001b[39;00m \u001b[38;5;28;01mNone\u001b[39;00m\n\u001b[1;32m    186\u001b[0m \u001b[38;5;28;01melse\u001b[39;00m:\n\u001b[1;32m    187\u001b[0m     \u001b[38;5;28;01mraise\u001b[39;00m\n",
      "\u001b[0;31mAnalysisException\u001b[0m: [PATH_NOT_FOUND] Path does not exist: file:/home/priscillapei/project-2-group-real-estate-industry-project-22/data/raw/work_3050.json."
     ]
    }
   ],
   "source": [
    "\n",
    "schema = StructType([\n",
    "        StructField(\"url\", StringType(), True),\n",
    "        StructField(\"postcode\", StringType(), True),\n",
    "        StructField(\"suburb\", StringType(), True),\n",
    "        StructField(\"name\", StringType(), True),\n",
    "        StructField(\"cost_text\", StringType(), True),\n",
    "        StructField(\"beds\", StringType(), True),  # Separate field for beds\n",
    "        StructField(\"baths\", StringType(), True),  # Separate field for baths\n",
    "        StructField(\"parking\", StringType(), True),  # Parking field\n",
    "        StructField(\"property_type\", StringType(), True),  # Property type field\n",
    "    ])\n",
    "work = spark.read.schema(schema).json('../data/raw/work_3050.json')"
   ]
  },
  {
   "cell_type": "code",
   "execution_count": 7,
   "metadata": {},
   "outputs": [
    {
     "name": "stdout",
     "output_type": "stream",
     "text": [
      "+---+--------+------+----+---------+----+-----+-------+-------------+\n",
      "|url|postcode|suburb|name|cost_text|beds|baths|parking|property_type|\n",
      "+---+--------+------+----+---------+----+-----+-------+-------------+\n",
      "+---+--------+------+----+---------+----+-----+-------+-------------+\n",
      "\n"
     ]
    }
   ],
   "source": [
    "work.show()"
   ]
  },
  {
   "cell_type": "code",
   "execution_count": 4,
   "metadata": {},
   "outputs": [
    {
     "ename": "FileNotFoundError",
     "evalue": "[Errno 2] No such file or directory: '../data/raw/work.json'",
     "output_type": "error",
     "traceback": [
      "\u001b[0;31m---------------------------------------------------------------------------\u001b[0m",
      "\u001b[0;31mFileNotFoundError\u001b[0m                         Traceback (most recent call last)",
      "Cell \u001b[0;32mIn[4], line 8\u001b[0m\n\u001b[1;32m      5\u001b[0m folder_path \u001b[38;5;241m=\u001b[39m \u001b[38;5;124m'\u001b[39m\u001b[38;5;124m../data/raw/work.json\u001b[39m\u001b[38;5;124m'\u001b[39m\n\u001b[1;32m      7\u001b[0m \u001b[38;5;66;03m# List all files in the directory\u001b[39;00m\n\u001b[0;32m----> 8\u001b[0m json_files \u001b[38;5;241m=\u001b[39m [f \u001b[38;5;28;01mfor\u001b[39;00m f \u001b[38;5;129;01min\u001b[39;00m \u001b[43mos\u001b[49m\u001b[38;5;241;43m.\u001b[39;49m\u001b[43mlistdir\u001b[49m\u001b[43m(\u001b[49m\u001b[43mfolder_path\u001b[49m\u001b[43m)\u001b[49m \u001b[38;5;28;01mif\u001b[39;00m f\u001b[38;5;241m.\u001b[39mendswith(\u001b[38;5;124m'\u001b[39m\u001b[38;5;124m.json\u001b[39m\u001b[38;5;124m'\u001b[39m)]\n\u001b[1;32m     10\u001b[0m \u001b[38;5;66;03m# Initialize an empty list to store DataFrames\u001b[39;00m\n\u001b[1;32m     11\u001b[0m dataframes \u001b[38;5;241m=\u001b[39m []\n",
      "\u001b[0;31mFileNotFoundError\u001b[0m: [Errno 2] No such file or directory: '../data/raw/work.json'"
     ]
    }
   ],
   "source": [
    "import pandas as pd\n",
    "import os\n",
    "\n",
    "# Define the folder path containing JSON files\n",
    "folder_path = '../data/raw/work.json'\n",
    "\n",
    "# List all files in the directory\n",
    "json_files = [f for f in os.listdir(folder_path) if f.endswith('.json')]\n",
    "\n",
    "# Initialize an empty list to store DataFrames\n",
    "dataframes = []\n",
    "\n",
    "# Read each JSON file into a DataFrame\n",
    "for file in json_files:\n",
    "    file_path = os.path.join(folder_path, file)\n",
    "    # Read JSON file\n",
    "    df = pd.read_json(file_path, lines=True)\n",
    "    # Append the DataFrame to the list\n",
    "    dataframes.append(df)\n",
    "\n",
    "# Concatenate all DataFrames into a single DataFrame\n",
    "combined_df = pd.concat(dataframes, ignore_index=True)\n",
    "\n",
    "# Display the combined DataFrame\n",
    "print(combined_df.head(12))\n"
   ]
  },
  {
   "cell_type": "markdown",
   "metadata": {},
   "source": [
    "Please run these code chunks after first running create_chunk(), start_scrape() and run_chunk() methods: \\\n",
    "1st Cell: Davyn \\\n",
    "2nd Cell: Arpan \\\n",
    "3rd Cell: Priscilla \\\n",
    "4th Cell: Rachel \\\n",
    "5th Cell: Nathan \n",
    "\n"
   ]
  },
  {
   "cell_type": "code",
   "execution_count": 4,
   "metadata": {},
   "outputs": [],
   "source": [
    "def run_chunk(starting_chunk):\n",
    "    i = starting_chunk\n",
    "    # we are running chunks of 25 postcodes 7 times each\n",
    "    while i < starting_chunk + 175:\n",
    "        start_scrape(chunk_dict[\"chunk_{}\".format(i)], i) #i.split(\"_\")[1])\n",
    "        i += 25\n",
    "    if i == 3923:\n",
    "        temp = suburbs_df[suburbs_df['postcode'] >= i + 1]\n",
    "        chunk_dict['chunk_3996'] = temp[temp['postcode'] < 3997]\n",
    "        start_scrape(chunk_dict['chunk_3996'], 3996)\n",
    "        \n",
    "    \n"
   ]
  },
  {
   "cell_type": "code",
   "execution_count": 6,
   "metadata": {},
   "outputs": [
    {
     "name": "stdout",
     "output_type": "stream",
     "text": [
      "Scraping data for burnside (3023)\n"
     ]
    },
    {
     "name": "stderr",
     "output_type": "stream",
     "text": [
      "/tmp/ipykernel_1657/2477479290.py:69: DeprecationWarning: The 'text' argument to find()-type methods is deprecated. Use 'string' instead.\n",
      "  no_results = bs_object.find(text=re.compile(\"No results found\", re.I))\n"
     ]
    },
    {
     "name": "stdout",
     "output_type": "stream",
     "text": [
      "No more results for burnside on page 2.\n"
     ]
    },
    {
     "name": "stderr",
     "output_type": "stream",
     "text": [
      "100% successful: 100%|██████████| 3/3 [00:03<00:00,  1.17s/it]\n"
     ]
    },
    {
     "name": "stdout",
     "output_type": "stream",
     "text": [
      "Scraping data for burnside-heights (3023)\n",
      "No more results for burnside-heights on page 2.\n"
     ]
    },
    {
     "name": "stderr",
     "output_type": "stream",
     "text": [
      "100% successful: 100%|██████████| 4/4 [00:05<00:00,  1.37s/it]\n"
     ]
    },
    {
     "name": "stdout",
     "output_type": "stream",
     "text": [
      "Scraping data for cairnlea (3023)\n",
      "No more results for cairnlea on page 2.\n"
     ]
    },
    {
     "name": "stderr",
     "output_type": "stream",
     "text": [
      "100% successful: 100%|██████████| 4/4 [00:05<00:00,  1.41s/it]\n"
     ]
    },
    {
     "name": "stdout",
     "output_type": "stream",
     "text": [
      "Scraping data for caroline-springs (3023)\n",
      "No more results for caroline-springs on page 2.\n"
     ]
    },
    {
     "name": "stderr",
     "output_type": "stream",
     "text": [
      "100% successful: 100%|██████████| 20/20 [00:23<00:00,  1.16s/it]\n"
     ]
    },
    {
     "name": "stdout",
     "output_type": "stream",
     "text": [
      "Scraping data for deer-park (3023)\n",
      "No more results for deer-park on page 2.\n"
     ]
    },
    {
     "name": "stderr",
     "output_type": "stream",
     "text": [
      "100% successful: 100%|██████████| 12/12 [00:15<00:00,  1.25s/it]\n"
     ]
    },
    {
     "name": "stdout",
     "output_type": "stream",
     "text": [
      "Scraping data for deer-park-north (3023)\n",
      "Error fetching https://www.domain.com.au/rent/deer-park-north-vic-3023/?ssubs=0&sort=suburb-asc&page=1: HTTP Error 404: Not Found\n",
      "No results for deer-park-north. Moving to the next suburb.\n",
      "Scraping data for ravenhall (3023)\n",
      "No more results for ravenhall on page 1.\n",
      "No results for ravenhall. Moving to the next suburb.\n",
      "Scraping data for fieldstone (3024)\n",
      "No more results for fieldstone on page 1.\n",
      "No results for fieldstone. Moving to the next suburb.\n",
      "Scraping data for mambourin (3024)\n",
      "No more results for mambourin on page 3.\n"
     ]
    },
    {
     "name": "stderr",
     "output_type": "stream",
     "text": [
      "100% successful: 100%|██████████| 30/30 [00:36<00:00,  1.22s/it]\n"
     ]
    },
    {
     "name": "stdout",
     "output_type": "stream",
     "text": [
      "Scraping data for manor-lakes (3024)\n",
      "No more results for manor-lakes on page 5.\n"
     ]
    },
    {
     "name": "stderr",
     "output_type": "stream",
     "text": [
      "100% successful: 100%|██████████| 64/64 [01:18<00:00,  1.23s/it]\n"
     ]
    },
    {
     "name": "stdout",
     "output_type": "stream",
     "text": [
      "Scraping data for mount-cottrell (3024)\n",
      "No more results for mount-cottrell on page 2.\n"
     ]
    },
    {
     "name": "stderr",
     "output_type": "stream",
     "text": [
      "100% successful: 100%|██████████| 1/1 [00:01<00:00,  1.34s/it]\n"
     ]
    },
    {
     "name": "stdout",
     "output_type": "stream",
     "text": [
      "Scraping data for wyndham-vale (3024)\n",
      "No more results for wyndham-vale on page 6.\n"
     ]
    },
    {
     "name": "stderr",
     "output_type": "stream",
     "text": [
      "100% successful: 100%|██████████| 100/100 [02:04<00:00,  1.25s/it]\n"
     ]
    },
    {
     "name": "stdout",
     "output_type": "stream",
     "text": [
      "Scraping data for altona-east (3025)\n",
      "No more results for altona-east on page 1.\n",
      "No results for altona-east. Moving to the next suburb.\n",
      "Scraping data for altona-gate (3025)\n",
      "Error fetching https://www.domain.com.au/rent/altona-gate-vic-3025/?ssubs=0&sort=suburb-asc&page=1: HTTP Error 404: Not Found\n",
      "No results for altona-gate. Moving to the next suburb.\n",
      "Scraping data for altona-north (3025)\n",
      "No more results for altona-north on page 3.\n"
     ]
    },
    {
     "name": "stderr",
     "output_type": "stream",
     "text": [
      "100% successful: 100%|██████████| 33/33 [00:39<00:00,  1.20s/it]\n"
     ]
    },
    {
     "name": "stdout",
     "output_type": "stream",
     "text": [
      "Scraping data for derrimut (3026)\n",
      "No more results for derrimut on page 2.\n"
     ]
    },
    {
     "name": "stderr",
     "output_type": "stream",
     "text": [
      "100% successful: 100%|██████████| 7/7 [00:07<00:00,  1.07s/it]\n"
     ]
    },
    {
     "name": "stdout",
     "output_type": "stream",
     "text": [
      "Scraping data for laverton-north (3026)\n",
      "No more results for laverton-north on page 1.\n",
      "No results for laverton-north. Moving to the next suburb.\n",
      "Scraping data for laverton-raaf (3027)\n",
      "Error fetching https://www.domain.com.au/rent/laverton-raaf-vic-3027/?ssubs=0&sort=suburb-asc&page=1: HTTP Error 404: Not Found\n",
      "No results for laverton-raaf. Moving to the next suburb.\n",
      "Scraping data for williams-landing (3027)\n",
      "No more results for williams-landing on page 3.\n"
     ]
    },
    {
     "name": "stderr",
     "output_type": "stream",
     "text": [
      "100% successful: 100%|██████████| 26/26 [00:32<00:00,  1.27s/it]\n"
     ]
    },
    {
     "name": "stdout",
     "output_type": "stream",
     "text": [
      "Scraping data for williams-raaf (3027)\n",
      "Error fetching https://www.domain.com.au/rent/williams-raaf-vic-3027/?ssubs=0&sort=suburb-asc&page=1: HTTP Error 404: Not Found\n",
      "No results for williams-raaf. Moving to the next suburb.\n",
      "Scraping data for altona-meadows (3028)\n",
      "No more results for altona-meadows on page 3.\n"
     ]
    },
    {
     "name": "stderr",
     "output_type": "stream",
     "text": [
      "100% successful: 100%|██████████| 22/22 [00:24<00:00,  1.10s/it]\n"
     ]
    },
    {
     "name": "stdout",
     "output_type": "stream",
     "text": [
      "Scraping data for laverton (3028)\n",
      "No more results for laverton on page 3.\n"
     ]
    },
    {
     "name": "stderr",
     "output_type": "stream",
     "text": [
      "100% successful: 100%|██████████| 23/23 [00:25<00:00,  1.10s/it]\n"
     ]
    },
    {
     "name": "stdout",
     "output_type": "stream",
     "text": [
      "Scraping data for seabrook (3028)\n",
      "No more results for seabrook on page 2.\n"
     ]
    },
    {
     "name": "stderr",
     "output_type": "stream",
     "text": [
      "100% successful: 100%|██████████| 5/5 [00:05<00:00,  1.03s/it]\n"
     ]
    },
    {
     "name": "stdout",
     "output_type": "stream",
     "text": [
      "Scraping data for hoppers-crossing (3029)\n",
      "No more results for hoppers-crossing on page 5.\n"
     ]
    },
    {
     "name": "stderr",
     "output_type": "stream",
     "text": [
      "100% successful: 100%|██████████| 67/67 [01:15<00:00,  1.13s/it]\n"
     ]
    },
    {
     "name": "stdout",
     "output_type": "stream",
     "text": [
      "Scraping data for tarneit (3029)\n",
      "No more results for tarneit on page 11.\n"
     ]
    },
    {
     "name": "stderr",
     "output_type": "stream",
     "text": [
      "100% successful: 100%|██████████| 197/197 [04:12<00:00,  1.28s/it]\n"
     ]
    },
    {
     "name": "stdout",
     "output_type": "stream",
     "text": [
      "Scraping data for truganina (3029)\n",
      "No more results for truganina on page 10.\n"
     ]
    },
    {
     "name": "stderr",
     "output_type": "stream",
     "text": [
      "100% successful: 100%|██████████| 163/163 [04:25<00:00,  1.63s/it]\n"
     ]
    },
    {
     "name": "stdout",
     "output_type": "stream",
     "text": [
      "Scraping data for chartwell (3030)\n",
      "Error fetching https://www.domain.com.au/rent/chartwell-vic-3030/?ssubs=0&sort=suburb-asc&page=1: HTTP Error 404: Not Found\n",
      "No results for chartwell. Moving to the next suburb.\n",
      "Scraping data for cocoroc (3030)\n",
      "No more results for cocoroc on page 1.\n",
      "No results for cocoroc. Moving to the next suburb.\n",
      "Scraping data for point-cook (3030)\n",
      "No more results for point-cook on page 9.\n"
     ]
    },
    {
     "name": "stderr",
     "output_type": "stream",
     "text": [
      "100% successful: 100%|██████████| 144/144 [03:07<00:00,  1.30s/it]\n"
     ]
    },
    {
     "name": "stdout",
     "output_type": "stream",
     "text": [
      "Scraping data for quandong (3030)\n",
      "No more results for quandong on page 1.\n",
      "No results for quandong. Moving to the next suburb.\n",
      "Scraping data for werribee (3030)\n",
      "No more results for werribee on page 7.\n"
     ]
    },
    {
     "name": "stderr",
     "output_type": "stream",
     "text": [
      "100% successful: 100%|██████████| 115/115 [02:26<00:00,  1.27s/it]\n"
     ]
    },
    {
     "name": "stdout",
     "output_type": "stream",
     "text": [
      "Scraping data for werribee-south (3030)\n",
      "No more results for werribee-south on page 2.\n"
     ]
    },
    {
     "name": "stderr",
     "output_type": "stream",
     "text": [
      "100% successful: 100%|██████████| 11/11 [00:15<00:00,  1.38s/it]\n"
     ]
    },
    {
     "name": "stdout",
     "output_type": "stream",
     "text": [
      "Scraping data for flemington (3031)\n",
      "No more results for flemington on page 3.\n"
     ]
    },
    {
     "name": "stderr",
     "output_type": "stream",
     "text": [
      "100% successful: 100%|██████████| 26/26 [00:31<00:00,  1.22s/it]\n"
     ]
    },
    {
     "name": "stdout",
     "output_type": "stream",
     "text": [
      "Scraping data for kensington (3031)\n",
      "No more results for kensington on page 4.\n"
     ]
    },
    {
     "name": "stderr",
     "output_type": "stream",
     "text": [
      "97% successful:  68%|██████▊   | 34/50 [00:43<00:20,  1.26s/it] "
     ]
    },
    {
     "name": "stdout",
     "output_type": "stream",
     "text": [
      "Error scraping https://www.domain.com.au/b105-348-macaulay-road-kensington-vic-3031-17155389: missing data\n"
     ]
    },
    {
     "name": "stderr",
     "output_type": "stream",
     "text": [
      "94% successful:  70%|███████   | 35/50 [00:44<00:19,  1.30s/it]"
     ]
    },
    {
     "name": "stdout",
     "output_type": "stream",
     "text": [
      "Error scraping https://www.domain.com.au/a212-348-macaulay-road-kensington-vic-3031-17195075: missing data\n"
     ]
    },
    {
     "name": "stderr",
     "output_type": "stream",
     "text": [
      "92% successful:  74%|███████▍  | 37/50 [00:46<00:16,  1.23s/it]"
     ]
    },
    {
     "name": "stdout",
     "output_type": "stream",
     "text": [
      "Error scraping https://www.domain.com.au/b302-348-macaulay-road-kensington-vic-3031-17155379: missing data\n"
     ]
    },
    {
     "name": "stderr",
     "output_type": "stream",
     "text": [
      "94% successful: 100%|██████████| 50/50 [01:03<00:00,  1.27s/it]\n"
     ]
    },
    {
     "name": "stdout",
     "output_type": "stream",
     "text": [
      "Scraping data for ascot-vale (3032)\n",
      "No more results for ascot-vale on page 3.\n"
     ]
    },
    {
     "name": "stderr",
     "output_type": "stream",
     "text": [
      "100% successful: 100%|██████████| 36/36 [01:51<00:00,  3.10s/it]\n"
     ]
    },
    {
     "name": "stdout",
     "output_type": "stream",
     "text": [
      "Scraping data for highpoint-city (3032)\n",
      "Error fetching https://www.domain.com.au/rent/highpoint-city-vic-3032/?ssubs=0&sort=suburb-asc&page=1: HTTP Error 404: Not Found\n",
      "No results for highpoint-city. Moving to the next suburb.\n",
      "Scraping data for maribyrnong (3032)\n",
      "No more results for maribyrnong on page 4.\n"
     ]
    },
    {
     "name": "stderr",
     "output_type": "stream",
     "text": [
      "100% successful: 100%|██████████| 54/54 [01:13<00:00,  1.36s/it]\n"
     ]
    },
    {
     "name": "stdout",
     "output_type": "stream",
     "text": [
      "Scraping data for travancore (3032)\n",
      "No more results for travancore on page 2.\n"
     ]
    },
    {
     "name": "stderr",
     "output_type": "stream",
     "text": [
      "100% successful: 100%|██████████| 15/15 [00:21<00:00,  1.46s/it]\n"
     ]
    },
    {
     "name": "stdout",
     "output_type": "stream",
     "text": [
      "Scraping data for keilor-east (3033)\n",
      "No more results for keilor-east on page 3.\n"
     ]
    },
    {
     "name": "stderr",
     "output_type": "stream",
     "text": [
      "100% successful: 100%|██████████| 25/25 [00:34<00:00,  1.37s/it]\n"
     ]
    },
    {
     "name": "stdout",
     "output_type": "stream",
     "text": [
      "Scraping data for avondale-heights (3034)\n",
      "No more results for avondale-heights on page 3.\n"
     ]
    },
    {
     "name": "stderr",
     "output_type": "stream",
     "text": [
      "100% successful: 100%|██████████| 25/25 [00:32<00:00,  1.30s/it]\n"
     ]
    },
    {
     "name": "stdout",
     "output_type": "stream",
     "text": [
      "Scraping data for keilor (3036)\n",
      "No more results for keilor on page 2.\n"
     ]
    },
    {
     "name": "stderr",
     "output_type": "stream",
     "text": [
      "100% successful: 100%|██████████| 3/3 [00:03<00:00,  1.21s/it]\n"
     ]
    },
    {
     "name": "stdout",
     "output_type": "stream",
     "text": [
      "Scraping data for keilor-north (3036)\n",
      "No more results for keilor-north on page 1.\n",
      "No results for keilor-north. Moving to the next suburb.\n",
      "Scraping data for calder-park (3037)\n",
      "No more results for calder-park on page 1.\n",
      "No results for calder-park. Moving to the next suburb.\n",
      "Scraping data for delahey (3037)\n",
      "No more results for delahey on page 2.\n"
     ]
    },
    {
     "name": "stderr",
     "output_type": "stream",
     "text": [
      "100% successful: 100%|██████████| 8/8 [00:09<00:00,  1.21s/it]\n"
     ]
    },
    {
     "name": "stdout",
     "output_type": "stream",
     "text": [
      "Scraping data for hillside (3037)\n",
      "No more results for hillside on page 2.\n"
     ]
    },
    {
     "name": "stderr",
     "output_type": "stream",
     "text": [
      "100% successful: 100%|██████████| 8/8 [00:10<00:00,  1.26s/it]\n"
     ]
    },
    {
     "name": "stdout",
     "output_type": "stream",
     "text": [
      "Scraping data for plumpton (3037)\n",
      "Error fetching https://www.domain.com.au/rent/plumpton-vic-3037/?ssubs=0&sort=suburb-asc&page=1: HTTP Error 404: Not Found\n",
      "No results for plumpton. Moving to the next suburb.\n",
      "Scraping data for sydenham (3037)\n",
      "No more results for sydenham on page 2.\n"
     ]
    },
    {
     "name": "stderr",
     "output_type": "stream",
     "text": [
      "100% successful: 100%|██████████| 13/13 [00:16<00:00,  1.30s/it]\n"
     ]
    },
    {
     "name": "stdout",
     "output_type": "stream",
     "text": [
      "Scraping data for taylors-hill (3037)\n",
      "No more results for taylors-hill on page 2.\n"
     ]
    },
    {
     "name": "stderr",
     "output_type": "stream",
     "text": [
      "100% successful: 100%|██████████| 4/4 [00:05<00:00,  1.25s/it]\n"
     ]
    },
    {
     "name": "stdout",
     "output_type": "stream",
     "text": [
      "Scraping data for keilor-downs (3038)\n",
      "No more results for keilor-downs on page 2.\n"
     ]
    },
    {
     "name": "stderr",
     "output_type": "stream",
     "text": [
      "100% successful: 100%|██████████| 6/6 [00:07<00:00,  1.21s/it]\n"
     ]
    },
    {
     "name": "stdout",
     "output_type": "stream",
     "text": [
      "Scraping data for keilor-lodge (3038)\n",
      "No more results for keilor-lodge on page 2.\n"
     ]
    },
    {
     "name": "stderr",
     "output_type": "stream",
     "text": [
      "100% successful: 100%|██████████| 1/1 [00:01<00:00,  1.40s/it]\n"
     ]
    },
    {
     "name": "stdout",
     "output_type": "stream",
     "text": [
      "Scraping data for taylors-lakes (3038)\n",
      "No more results for taylors-lakes on page 2.\n"
     ]
    },
    {
     "name": "stderr",
     "output_type": "stream",
     "text": [
      "100% successful: 100%|██████████| 4/4 [00:04<00:00,  1.21s/it]\n"
     ]
    },
    {
     "name": "stdout",
     "output_type": "stream",
     "text": [
      "Scraping data for watergardens (3038)\n",
      "Error fetching https://www.domain.com.au/rent/watergardens-vic-3038/?ssubs=0&sort=suburb-asc&page=1: HTTP Error 404: Not Found\n",
      "No results for watergardens. Moving to the next suburb.\n",
      "Scraping data for moonee-ponds (3039)\n",
      "No more results for moonee-ponds on page 4.\n"
     ]
    },
    {
     "name": "stderr",
     "output_type": "stream",
     "text": [
      "100% successful: 100%|██████████| 50/50 [01:42<00:00,  2.04s/it]\n"
     ]
    },
    {
     "name": "stdout",
     "output_type": "stream",
     "text": [
      "Scraping data for aberfeldie (3040)\n",
      "No more results for aberfeldie on page 2.\n"
     ]
    },
    {
     "name": "stderr",
     "output_type": "stream",
     "text": [
      "100% successful: 100%|██████████| 7/7 [00:09<00:00,  1.30s/it]\n"
     ]
    },
    {
     "name": "stdout",
     "output_type": "stream",
     "text": [
      "Scraping data for essendon (3040)\n",
      "No more results for essendon on page 5.\n"
     ]
    },
    {
     "name": "stderr",
     "output_type": "stream",
     "text": [
      "100% successful: 100%|██████████| 69/69 [01:33<00:00,  1.36s/it]\n"
     ]
    },
    {
     "name": "stdout",
     "output_type": "stream",
     "text": [
      "Scraping data for essendon-west (3040)\n",
      "No more results for essendon-west on page 2.\n"
     ]
    },
    {
     "name": "stderr",
     "output_type": "stream",
     "text": [
      "100% successful: 100%|██████████| 7/7 [00:08<00:00,  1.26s/it]\n"
     ]
    },
    {
     "name": "stdout",
     "output_type": "stream",
     "text": [
      "Scraping data for cross-keys (3041)\n",
      "Error fetching https://www.domain.com.au/rent/cross-keys-vic-3041/?ssubs=0&sort=suburb-asc&page=1: HTTP Error 404: Not Found\n",
      "No results for cross-keys. Moving to the next suburb.\n",
      "Scraping data for essendon-fields (3041)\n",
      "No more results for essendon-fields on page 1.\n",
      "No results for essendon-fields. Moving to the next suburb.\n",
      "Scraping data for essendon-north (3041)\n",
      "No more results for essendon-north on page 2.\n"
     ]
    },
    {
     "name": "stderr",
     "output_type": "stream",
     "text": [
      "100% successful: 100%|██████████| 17/17 [00:22<00:00,  1.34s/it]\n"
     ]
    },
    {
     "name": "stdout",
     "output_type": "stream",
     "text": [
      "Scraping data for strathmore (3041)\n",
      "No more results for strathmore on page 2.\n"
     ]
    },
    {
     "name": "stderr",
     "output_type": "stream",
     "text": [
      "100% successful: 100%|██████████| 14/14 [00:20<00:00,  1.43s/it]\n"
     ]
    },
    {
     "name": "stdout",
     "output_type": "stream",
     "text": [
      "Scraping data for strathmore-heights (3041)\n",
      "No more results for strathmore-heights on page 2.\n"
     ]
    },
    {
     "name": "stderr",
     "output_type": "stream",
     "text": [
      "100% successful: 100%|██████████| 1/1 [00:01<00:00,  1.09s/it]\n"
     ]
    },
    {
     "name": "stdout",
     "output_type": "stream",
     "text": [
      "Scraping data for airport-west (3042)\n",
      "No more results for airport-west on page 2.\n"
     ]
    },
    {
     "name": "stderr",
     "output_type": "stream",
     "text": [
      "100% successful: 100%|██████████| 19/19 [00:25<00:00,  1.34s/it]\n"
     ]
    },
    {
     "name": "stdout",
     "output_type": "stream",
     "text": [
      "Scraping data for keilor-park (3042)\n",
      "No more results for keilor-park on page 2.\n"
     ]
    },
    {
     "name": "stderr",
     "output_type": "stream",
     "text": [
      "100% successful: 100%|██████████| 1/1 [00:02<00:00,  2.51s/it]\n"
     ]
    },
    {
     "name": "stdout",
     "output_type": "stream",
     "text": [
      "Scraping data for niddrie (3042)\n",
      "No more results for niddrie on page 2.\n"
     ]
    },
    {
     "name": "stderr",
     "output_type": "stream",
     "text": [
      "100% successful: 100%|██████████| 12/12 [00:15<00:00,  1.26s/it]\n"
     ]
    },
    {
     "name": "stdout",
     "output_type": "stream",
     "text": [
      "Scraping data for niddrie-north (3042)\n",
      "Error fetching https://www.domain.com.au/rent/niddrie-north-vic-3042/?ssubs=0&sort=suburb-asc&page=1: HTTP Error 404: Not Found\n",
      "No results for niddrie-north. Moving to the next suburb.\n",
      "Scraping data for gladstone-park (3043)\n",
      "No more results for gladstone-park on page 2.\n"
     ]
    },
    {
     "name": "stderr",
     "output_type": "stream",
     "text": [
      "100% successful: 100%|██████████| 6/6 [00:09<00:00,  1.56s/it]\n"
     ]
    },
    {
     "name": "stdout",
     "output_type": "stream",
     "text": [
      "Scraping data for gowanbrae (3043)\n",
      "No more results for gowanbrae on page 2.\n"
     ]
    },
    {
     "name": "stderr",
     "output_type": "stream",
     "text": [
      "100% successful: 100%|██████████| 3/3 [00:03<00:00,  1.17s/it]\n"
     ]
    },
    {
     "name": "stdout",
     "output_type": "stream",
     "text": [
      "Scraping data for tullamarine (3043)\n",
      "No more results for tullamarine on page 3.\n"
     ]
    },
    {
     "name": "stderr",
     "output_type": "stream",
     "text": [
      "100% successful: 100%|██████████| 23/23 [00:33<00:00,  1.45s/it]\n"
     ]
    },
    {
     "name": "stdout",
     "output_type": "stream",
     "text": [
      "Scraping data for pascoe-vale (3044)\n",
      "No more results for pascoe-vale on page 4.\n"
     ]
    },
    {
     "name": "stderr",
     "output_type": "stream",
     "text": [
      "100% successful: 100%|██████████| 42/42 [00:55<00:00,  1.33s/it]\n"
     ]
    },
    {
     "name": "stdout",
     "output_type": "stream",
     "text": [
      "Scraping data for pascoe-vale-south (3044)\n",
      "No more results for pascoe-vale-south on page 2.\n"
     ]
    },
    {
     "name": "stderr",
     "output_type": "stream",
     "text": [
      "100% successful: 100%|██████████| 13/13 [00:19<00:00,  1.46s/it]\n"
     ]
    },
    {
     "name": "stdout",
     "output_type": "stream",
     "text": [
      "Scraping data for melbourne-airport (3045)\n",
      "No more results for melbourne-airport on page 1.\n",
      "No results for melbourne-airport. Moving to the next suburb.\n",
      "Scraping data for glenroy (3046)\n",
      "No more results for glenroy on page 4.\n"
     ]
    },
    {
     "name": "stderr",
     "output_type": "stream",
     "text": [
      "100% successful: 100%|██████████| 53/53 [01:13<00:00,  1.39s/it]\n"
     ]
    },
    {
     "name": "stdout",
     "output_type": "stream",
     "text": [
      "Scraping data for hadfield (3046)\n",
      "No more results for hadfield on page 2.\n"
     ]
    },
    {
     "name": "stderr",
     "output_type": "stream",
     "text": [
      "100% successful: 100%|██████████| 7/7 [00:10<00:00,  1.48s/it]\n"
     ]
    },
    {
     "name": "stdout",
     "output_type": "stream",
     "text": [
      "Scraping data for oak-park (3046)\n",
      "No more results for oak-park on page 2.\n"
     ]
    },
    {
     "name": "stderr",
     "output_type": "stream",
     "text": [
      "100% successful: 100%|██████████| 11/11 [00:14<00:00,  1.28s/it]\n"
     ]
    },
    {
     "name": "stdout",
     "output_type": "stream",
     "text": [
      "Scraping data for broadmeadows (3047)\n",
      "No more results for broadmeadows on page 2.\n"
     ]
    },
    {
     "name": "stderr",
     "output_type": "stream",
     "text": [
      "100% successful: 100%|██████████| 18/18 [00:25<00:00,  1.41s/it]\n"
     ]
    },
    {
     "name": "stdout",
     "output_type": "stream",
     "text": [
      "Scraping data for dallas (3047)\n",
      "No more results for dallas on page 2.\n"
     ]
    },
    {
     "name": "stderr",
     "output_type": "stream",
     "text": [
      "100% successful: 100%|██████████| 4/4 [00:05<00:00,  1.46s/it]\n"
     ]
    },
    {
     "name": "stdout",
     "output_type": "stream",
     "text": [
      "Scraping data for jacana (3047)\n",
      "No more results for jacana on page 2.\n"
     ]
    },
    {
     "name": "stderr",
     "output_type": "stream",
     "text": [
      "100% successful: 100%|██████████| 3/3 [00:04<00:00,  1.36s/it]\n"
     ]
    },
    {
     "name": "stdout",
     "output_type": "stream",
     "text": [
      "Scraping data for coolaroo (3048)\n",
      "No more results for coolaroo on page 2.\n"
     ]
    },
    {
     "name": "stderr",
     "output_type": "stream",
     "text": [
      "100% successful: 100%|██████████| 1/1 [00:01<00:00,  1.23s/it]\n"
     ]
    },
    {
     "name": "stdout",
     "output_type": "stream",
     "text": [
      "Scraping data for meadow-heights (3048)\n",
      "No more results for meadow-heights on page 2.\n"
     ]
    },
    {
     "name": "stderr",
     "output_type": "stream",
     "text": [
      "100% successful: 100%|██████████| 17/17 [00:22<00:00,  1.33s/it]\n",
      "24/09/17 17:50:06 WARN DAGScheduler: Broadcasting large task binary with size 10.6 MiB\n",
      "[Stage 0:>                                                     (2 + 21) / 20700]\n",
      "Exception: java.lang.OutOfMemoryError thrown from the UncaughtExceptionHandler in thread \"refresh progress\"\n"
     ]
    },
    {
     "name": "stdout",
     "output_type": "stream",
     "text": [
      "ERROR StatusConsoleListener An exception occurred processing Appender console\n",
      " org.apache.logging.log4j.core.appender.AppenderLoggingException: java.lang.OutOfMemoryError: GC overhead limit exceeded\n",
      "\tat org.apache.logging.log4j.core.config.AppenderControl.tryCallAppender(AppenderControl.java:165)\n",
      "\tat org.apache.logging.log4j.core.config.AppenderControl.callAppender0(AppenderControl.java:134)\n",
      "\tat org.apache.logging.log4j.core.config.AppenderControl.callAppenderPreventRecursion(AppenderControl.java:125)\n",
      "\tat org.apache.logging.log4j.core.config.AppenderControl.callAppender(AppenderControl.java:89)\n",
      "\tat org.apache.logging.log4j.core.config.LoggerConfig.callAppenders(LoggerConfig.java:683)\n",
      "\tat org.apache.logging.log4j.core.config.LoggerConfig.processLogEvent(LoggerConfig.java:641)\n",
      "\tat org.apache.logging.log4j.core.config.LoggerConfig.log(LoggerConfig.java:624)\n",
      "\tat org.apache.logging.log4j.core.config.LoggerConfig.log(LoggerConfig.java:560)\n",
      "\tat org.apache.logging.log4j.core.config.AwaitCompletionReliabilityStrategy.log(AwaitCompletionReliabilityStrategy.java:82)\n",
      "\tat org.apache.logging.log4j.core.Logger.log(Logger.java:163)\n",
      "\tat org.apache.logging.log4j.spi.AbstractLogger.tryLogMessage(AbstractLogger.java:2168)\n",
      "\tat org.apache.logging.log4j.spi.AbstractLogger.logMessageTrackRecursion(AbstractLogger.java:2122)\n",
      "\tat org.apache.logging.log4j.spi.AbstractLogger.logMessageSafely(AbstractLogger.java:2105)\n",
      "\tat org.apache.logging.log4j.spi.AbstractLogger.logMessage(AbstractLogger.java:1980)\n",
      "\tat org.apache.logging.log4j.spi.AbstractLogger.logIfEnabled(AbstractLogger.java:1946)\n",
      "\tat org.apache.logging.slf4j.Log4jLogger.error(Log4jLogger.java:315)\n",
      "\tat org.apache.spark.internal.Logging.logError(Logging.scala:97)\n",
      "\tat org.apache.spark.internal.Logging.logError$(Logging.scala:96)\n",
      "\tat org.apache.spark.util.Utils$.logError(Utils.scala:94)\n",
      "\tat org.apache.spark.util.Utils$.tryOrStopSparkContext(Utils.scala:1362)\n",
      "\tat org.apache.spark.scheduler.AsyncEventQueue$$anon$2.run(AsyncEventQueue.scala:96)\n",
      "Caused by: java.lang.OutOfMemoryError: GC overhead limit exceeded\n"
     ]
    },
    {
     "name": "stderr",
     "output_type": "stream",
     "text": [
      "24/09/17 17:51:08 ERROR Utils: uncaught error in thread spark-listener-group-appStatus, stopping SparkContext\n",
      "java.lang.OutOfMemoryError: GC overhead limit exceeded\n",
      "\tat java.lang.Long.valueOf(Long.java:840)\n",
      "\tat scala.runtime.BoxesRunTime.boxToLong(BoxesRunTime.java:71)\n",
      "\tat org.apache.spark.sql.execution.ui.LiveStageMetrics.$anonfun$updateTaskMetrics$1(SQLAppStatusListener.scala:578)\n",
      "\tat org.apache.spark.sql.execution.ui.LiveStageMetrics.$anonfun$updateTaskMetrics$1$adapted(SQLAppStatusListener.scala:578)\n",
      "\tat org.apache.spark.sql.execution.ui.LiveStageMetrics$$Lambda$2673/1075481518.apply(Unknown Source)\n",
      "\tat scala.collection.TraversableLike.$anonfun$filterImpl$1(TraversableLike.scala:304)\n",
      "\tat scala.collection.TraversableLike$$Lambda$84/1342346098.apply(Unknown Source)\n",
      "\tat scala.collection.mutable.ResizableArray.foreach(ResizableArray.scala:62)\n",
      "\tat scala.collection.mutable.ResizableArray.foreach$(ResizableArray.scala:55)\n",
      "\tat scala.collection.mutable.ArrayBuffer.foreach(ArrayBuffer.scala:49)\n",
      "\tat scala.collection.TraversableLike.filterImpl(TraversableLike.scala:303)\n",
      "\tat scala.collection.TraversableLike.filterImpl$(TraversableLike.scala:297)\n",
      "\tat scala.collection.AbstractTraversable.filterImpl(Traversable.scala:108)\n",
      "\tat scala.collection.TraversableLike.filter(TraversableLike.scala:395)\n",
      "\tat scala.collection.TraversableLike.filter$(TraversableLike.scala:395)\n",
      "\tat scala.collection.AbstractTraversable.filter(Traversable.scala:108)\n",
      "\tat org.apache.spark.sql.execution.ui.LiveStageMetrics.updateTaskMetrics(SQLAppStatusListener.scala:578)\n",
      "\tat org.apache.spark.sql.execution.ui.SQLAppStatusListener.$anonfun$updateStageMetrics$1(SQLAppStatusListener.scala:321)\n",
      "\tat org.apache.spark.sql.execution.ui.SQLAppStatusListener.$anonfun$updateStageMetrics$1$adapted(SQLAppStatusListener.scala:319)\n",
      "\tat org.apache.spark.sql.execution.ui.SQLAppStatusListener$$Lambda$2672/1379660783.apply(Unknown Source)\n",
      "\tat scala.Option.foreach(Option.scala:407)\n",
      "\tat org.apache.spark.sql.execution.ui.SQLAppStatusListener.updateStageMetrics(SQLAppStatusListener.scala:319)\n",
      "\tat org.apache.spark.sql.execution.ui.SQLAppStatusListener.onTaskEnd(SQLAppStatusListener.scala:193)\n",
      "\tat org.apache.spark.scheduler.SparkListenerBus.doPostEvent(SparkListenerBus.scala:45)\n",
      "\tat org.apache.spark.scheduler.SparkListenerBus.doPostEvent$(SparkListenerBus.scala:28)\n",
      "\tat org.apache.spark.scheduler.AsyncEventQueue.doPostEvent(AsyncEventQueue.scala:37)\n",
      "\tat org.apache.spark.scheduler.AsyncEventQueue.doPostEvent(AsyncEventQueue.scala:37)\n",
      "\tat org.apache.spark.util.ListenerBus.postToAll(ListenerBus.scala:117)\n",
      "\tat org.apache.spark.util.ListenerBus.postToAll$(ListenerBus.scala:101)\n",
      "\tat org.apache.spark.scheduler.AsyncEventQueue.super$postToAll(AsyncEventQueue.scala:105)\n",
      "\tat org.apache.spark.scheduler.AsyncEventQueue.$anonfun$dispatch$1(AsyncEventQueue.scala:105)\n",
      "\tat org.apache.spark.scheduler.AsyncEventQueue$$Lambda$696/579937821.apply$mcJ$sp(Unknown Source)\n",
      "24/09/17 17:51:16 ERROR Utils: throw uncaught fatal error in thread spark-listener-group-appStatus\n",
      "java.lang.OutOfMemoryError: GC overhead limit exceeded\n",
      "\tat java.lang.Long.valueOf(Long.java:840)\n",
      "\tat scala.runtime.BoxesRunTime.boxToLong(BoxesRunTime.java:71)\n",
      "\tat org.apache.spark.sql.execution.ui.LiveStageMetrics.$anonfun$updateTaskMetrics$1(SQLAppStatusListener.scala:578)\n",
      "\tat org.apache.spark.sql.execution.ui.LiveStageMetrics.$anonfun$updateTaskMetrics$1$adapted(SQLAppStatusListener.scala:578)\n",
      "\tat org.apache.spark.sql.execution.ui.LiveStageMetrics$$Lambda$2673/1075481518.apply(Unknown Source)\n",
      "\tat scala.collection.TraversableLike.$anonfun$filterImpl$1(TraversableLike.scala:304)\n",
      "\tat scala.collection.TraversableLike$$Lambda$84/1342346098.apply(Unknown Source)\n",
      "\tat scala.collection.mutable.ResizableArray.foreach(ResizableArray.scala:62)\n",
      "\tat scala.collection.mutable.ResizableArray.foreach$(ResizableArray.scala:55)\n",
      "\tat scala.collection.mutable.ArrayBuffer.foreach(ArrayBuffer.scala:49)\n",
      "\tat scala.collection.TraversableLike.filterImpl(TraversableLike.scala:303)\n",
      "\tat scala.collection.TraversableLike.filterImpl$(TraversableLike.scala:297)\n",
      "\tat scala.collection.AbstractTraversable.filterImpl(Traversable.scala:108)\n",
      "\tat scala.collection.TraversableLike.filter(TraversableLike.scala:395)\n",
      "\tat scala.collection.TraversableLike.filter$(TraversableLike.scala:395)\n",
      "\tat scala.collection.AbstractTraversable.filter(Traversable.scala:108)\n",
      "\tat org.apache.spark.sql.execution.ui.LiveStageMetrics.updateTaskMetrics(SQLAppStatusListener.scala:578)\n",
      "\tat org.apache.spark.sql.execution.ui.SQLAppStatusListener.$anonfun$updateStageMetrics$1(SQLAppStatusListener.scala:321)\n",
      "\tat org.apache.spark.sql.execution.ui.SQLAppStatusListener.$anonfun$updateStageMetrics$1$adapted(SQLAppStatusListener.scala:319)\n",
      "\tat org.apache.spark.sql.execution.ui.SQLAppStatusListener$$Lambda$2672/1379660783.apply(Unknown Source)\n",
      "\tat scala.Option.foreach(Option.scala:407)\n",
      "\tat org.apache.spark.sql.execution.ui.SQLAppStatusListener.updateStageMetrics(SQLAppStatusListener.scala:319)\n",
      "\tat org.apache.spark.sql.execution.ui.SQLAppStatusListener.onTaskEnd(SQLAppStatusListener.scala:193)\n",
      "\tat org.apache.spark.scheduler.SparkListenerBus.doPostEvent(SparkListenerBus.scala:45)\n",
      "\tat org.apache.spark.scheduler.SparkListenerBus.doPostEvent$(SparkListenerBus.scala:28)\n",
      "\tat org.apache.spark.scheduler.AsyncEventQueue.doPostEvent(AsyncEventQueue.scala:37)\n",
      "\tat org.apache.spark.scheduler.AsyncEventQueue.doPostEvent(AsyncEventQueue.scala:37)\n",
      "\tat org.apache.spark.util.ListenerBus.postToAll(ListenerBus.scala:117)\n",
      "\tat org.apache.spark.util.ListenerBus.postToAll$(ListenerBus.scala:101)\n",
      "\tat org.apache.spark.scheduler.AsyncEventQueue.super$postToAll(AsyncEventQueue.scala:105)\n",
      "\tat org.apache.spark.scheduler.AsyncEventQueue.$anonfun$dispatch$1(AsyncEventQueue.scala:105)\n",
      "\tat org.apache.spark.scheduler.AsyncEventQueue$$Lambda$696/579937821.apply$mcJ$sp(Unknown Source)\n",
      "Exception in thread \"spark-listener-group-appStatus\" java.lang.OutOfMemoryError: GC overhead limit exceeded\n",
      "\tat java.lang.Long.valueOf(Long.java:840)\n",
      "\tat scala.runtime.BoxesRunTime.boxToLong(BoxesRunTime.java:71)\n",
      "\tat org.apache.spark.sql.execution.ui.LiveStageMetrics.$anonfun$updateTaskMetrics$1(SQLAppStatusListener.scala:578)\n",
      "\tat org.apache.spark.sql.execution.ui.LiveStageMetrics.$anonfun$updateTaskMetrics$1$adapted(SQLAppStatusListener.scala:578)\n",
      "\tat org.apache.spark.sql.execution.ui.LiveStageMetrics$$Lambda$2673/1075481518.apply(Unknown Source)\n",
      "\tat scala.collection.TraversableLike.$anonfun$filterImpl$1(TraversableLike.scala:304)\n",
      "\tat scala.collection.TraversableLike$$Lambda$84/1342346098.apply(Unknown Source)\n",
      "\tat scala.collection.mutable.ResizableArray.foreach(ResizableArray.scala:62)\n",
      "\tat scala.collection.mutable.ResizableArray.foreach$(ResizableArray.scala:55)\n",
      "\tat scala.collection.mutable.ArrayBuffer.foreach(ArrayBuffer.scala:49)\n",
      "\tat scala.collection.TraversableLike.filterImpl(TraversableLike.scala:303)\n",
      "\tat scala.collection.TraversableLike.filterImpl$(TraversableLike.scala:297)\n",
      "\tat scala.collection.AbstractTraversable.filterImpl(Traversable.scala:108)\n",
      "\tat scala.collection.TraversableLike.filter(TraversableLike.scala:395)\n",
      "\tat scala.collection.TraversableLike.filter$(TraversableLike.scala:395)\n",
      "\tat scala.collection.AbstractTraversable.filter(Traversable.scala:108)\n",
      "\tat org.apache.spark.sql.execution.ui.LiveStageMetrics.updateTaskMetrics(SQLAppStatusListener.scala:578)\n",
      "\tat org.apache.spark.sql.execution.ui.SQLAppStatusListener.$anonfun$updateStageMetrics$1(SQLAppStatusListener.scala:321)\n",
      "\tat org.apache.spark.sql.execution.ui.SQLAppStatusListener.$anonfun$updateStageMetrics$1$adapted(SQLAppStatusListener.scala:319)\n",
      "\tat org.apache.spark.sql.execution.ui.SQLAppStatusListener$$Lambda$2672/1379660783.apply(Unknown Source)\n",
      "\tat scala.Option.foreach(Option.scala:407)\n",
      "\tat org.apache.spark.sql.execution.ui.SQLAppStatusListener.updateStageMetrics(SQLAppStatusListener.scala:319)\n",
      "\tat org.apache.spark.sql.execution.ui.SQLAppStatusListener.onTaskEnd(SQLAppStatusListener.scala:193)\n",
      "\tat org.apache.spark.scheduler.SparkListenerBus.doPostEvent(SparkListenerBus.scala:45)\n",
      "\tat org.apache.spark.scheduler.SparkListenerBus.doPostEvent$(SparkListenerBus.scala:28)\n",
      "\tat org.apache.spark.scheduler.AsyncEventQueue.doPostEvent(AsyncEventQueue.scala:37)\n",
      "\tat org.apache.spark.scheduler.AsyncEventQueue.doPostEvent(AsyncEventQueue.scala:37)\n",
      "\tat org.apache.spark.util.ListenerBus.postToAll(ListenerBus.scala:117)\n",
      "\tat org.apache.spark.util.ListenerBus.postToAll$(ListenerBus.scala:101)\n",
      "\tat org.apache.spark.scheduler.AsyncEventQueue.super$postToAll(AsyncEventQueue.scala:105)\n",
      "\tat org.apache.spark.scheduler.AsyncEventQueue.$anonfun$dispatch$1(AsyncEventQueue.scala:105)\n",
      "\tat org.apache.spark.scheduler.AsyncEventQueue$$Lambda$696/579937821.apply$mcJ$sp(Unknown Source)\n",
      "24/09/17 17:51:16 ERROR Executor: Exception in task 108.0 in stage 0.0 (TID 108)\n",
      "java.lang.OutOfMemoryError: Java heap space\n",
      "\tat java.io.ObjectInputStream$HandleTable.grow(ObjectInputStream.java:3994)\n",
      "\tat java.io.ObjectInputStream$HandleTable.assign(ObjectInputStream.java:3801)\n",
      "\tat java.io.ObjectInputStream.readOrdinaryObject(ObjectInputStream.java:2204)\n",
      "\tat java.io.ObjectInputStream.readObject0(ObjectInputStream.java:1669)\n",
      "\tat java.io.ObjectInputStream.defaultReadFields(ObjectInputStream.java:2431)\n",
      "\tat java.io.ObjectInputStream.readSerialData(ObjectInputStream.java:2355)\n",
      "\tat java.io.ObjectInputStream.readOrdinaryObject(ObjectInputStream.java:2213)\n",
      "\tat java.io.ObjectInputStream.readObject0(ObjectInputStream.java:1669)\n",
      "\tat java.io.ObjectInputStream.readArray(ObjectInputStream.java:2119)\n",
      "\tat java.io.ObjectInputStream.readObject0(ObjectInputStream.java:1657)\n",
      "\tat java.io.ObjectInputStream.defaultReadFields(ObjectInputStream.java:2431)\n",
      "\tat java.io.ObjectInputStream.readSerialData(ObjectInputStream.java:2355)\n",
      "\tat java.io.ObjectInputStream.readOrdinaryObject(ObjectInputStream.java:2213)\n",
      "\tat java.io.ObjectInputStream.readObject0(ObjectInputStream.java:1669)\n",
      "\tat java.io.ObjectInputStream.readArray(ObjectInputStream.java:2119)\n",
      "\tat java.io.ObjectInputStream.readObject0(ObjectInputStream.java:1657)\n",
      "\tat java.io.ObjectInputStream.defaultReadFields(ObjectInputStream.java:2431)\n",
      "\tat java.io.ObjectInputStream.readSerialData(ObjectInputStream.java:2355)\n",
      "\tat java.io.ObjectInputStream.readOrdinaryObject(ObjectInputStream.java:2213)\n",
      "\tat java.io.ObjectInputStream.readObject0(ObjectInputStream.java:1669)\n",
      "\tat java.io.ObjectInputStream.readArray(ObjectInputStream.java:2119)\n",
      "\tat java.io.ObjectInputStream.readObject0(ObjectInputStream.java:1657)\n",
      "\tat java.io.ObjectInputStream.defaultReadFields(ObjectInputStream.java:2431)\n",
      "\tat java.io.ObjectInputStream.readSerialData(ObjectInputStream.java:2355)\n",
      "\tat java.io.ObjectInputStream.readOrdinaryObject(ObjectInputStream.java:2213)\n",
      "\tat java.io.ObjectInputStream.readObject0(ObjectInputStream.java:1669)\n",
      "\tat java.io.ObjectInputStream.defaultReadFields(ObjectInputStream.java:2431)\n",
      "\tat java.io.ObjectInputStream.readSerialData(ObjectInputStream.java:2355)\n",
      "\tat java.io.ObjectInputStream.readOrdinaryObject(ObjectInputStream.java:2213)\n",
      "\tat java.io.ObjectInputStream.readObject0(ObjectInputStream.java:1669)\n",
      "\tat java.io.ObjectInputStream.defaultReadFields(ObjectInputStream.java:2431)\n",
      "\tat java.io.ObjectInputStream.readSerialData(ObjectInputStream.java:2355)\n",
      "24/09/17 17:51:17 ERROR Executor: Exception in task 113.0 in stage 0.0 (TID 113)\n",
      "java.lang.OutOfMemoryError: GC overhead limit exceeded\n",
      "24/09/17 18:50:59 WARN HeartbeatReceiver: Removing executor driver with no recent heartbeats: 3576991 ms exceeds timeout 120000 ms\n",
      "24/09/17 18:50:59 ERROR SparkUncaughtExceptionHandler: Uncaught exception in thread Thread[Executor task launch worker for task 113.0 in stage 0.0 (TID 113),5,main]\n",
      "java.lang.OutOfMemoryError: GC overhead limit exceeded\n",
      "24/09/17 18:50:59 ERROR SparkUncaughtExceptionHandler: Uncaught exception in thread Thread[Executor task launch worker for task 108.0 in stage 0.0 (TID 108),5,main]\n",
      "java.lang.OutOfMemoryError: Java heap space\n",
      "\tat java.io.ObjectInputStream$HandleTable.grow(ObjectInputStream.java:3994)\n",
      "\tat java.io.ObjectInputStream$HandleTable.assign(ObjectInputStream.java:3801)\n",
      "\tat java.io.ObjectInputStream.readOrdinaryObject(ObjectInputStream.java:2204)\n",
      "\tat java.io.ObjectInputStream.readObject0(ObjectInputStream.java:1669)\n",
      "\tat java.io.ObjectInputStream.defaultReadFields(ObjectInputStream.java:2431)\n",
      "\tat java.io.ObjectInputStream.readSerialData(ObjectInputStream.java:2355)\n",
      "\tat java.io.ObjectInputStream.readOrdinaryObject(ObjectInputStream.java:2213)\n",
      "\tat java.io.ObjectInputStream.readObject0(ObjectInputStream.java:1669)\n",
      "\tat java.io.ObjectInputStream.readArray(ObjectInputStream.java:2119)\n",
      "\tat java.io.ObjectInputStream.readObject0(ObjectInputStream.java:1657)\n",
      "\tat java.io.ObjectInputStream.defaultReadFields(ObjectInputStream.java:2431)\n",
      "\tat java.io.ObjectInputStream.readSerialData(ObjectInputStream.java:2355)\n",
      "\tat java.io.ObjectInputStream.readOrdinaryObject(ObjectInputStream.java:2213)\n",
      "\tat java.io.ObjectInputStream.readObject0(ObjectInputStream.java:1669)\n",
      "\tat java.io.ObjectInputStream.readArray(ObjectInputStream.java:2119)\n",
      "\tat java.io.ObjectInputStream.readObject0(ObjectInputStream.java:1657)\n",
      "\tat java.io.ObjectInputStream.defaultReadFields(ObjectInputStream.java:2431)\n",
      "\tat java.io.ObjectInputStream.readSerialData(ObjectInputStream.java:2355)\n",
      "\tat java.io.ObjectInputStream.readOrdinaryObject(ObjectInputStream.java:2213)\n",
      "\tat java.io.ObjectInputStream.readObject0(ObjectInputStream.java:1669)\n",
      "\tat java.io.ObjectInputStream.readArray(ObjectInputStream.java:2119)\n",
      "\tat java.io.ObjectInputStream.readObject0(ObjectInputStream.java:1657)\n",
      "\tat java.io.ObjectInputStream.defaultReadFields(ObjectInputStream.java:2431)\n",
      "\tat java.io.ObjectInputStream.readSerialData(ObjectInputStream.java:2355)\n",
      "\tat java.io.ObjectInputStream.readOrdinaryObject(ObjectInputStream.java:2213)\n",
      "\tat java.io.ObjectInputStream.readObject0(ObjectInputStream.java:1669)\n",
      "\tat java.io.ObjectInputStream.defaultReadFields(ObjectInputStream.java:2431)\n",
      "\tat java.io.ObjectInputStream.readSerialData(ObjectInputStream.java:2355)\n",
      "\tat java.io.ObjectInputStream.readOrdinaryObject(ObjectInputStream.java:2213)\n",
      "\tat java.io.ObjectInputStream.readObject0(ObjectInputStream.java:1669)\n",
      "\tat java.io.ObjectInputStream.defaultReadFields(ObjectInputStream.java:2431)\n",
      "\tat java.io.ObjectInputStream.readSerialData(ObjectInputStream.java:2355)\n",
      "24/09/17 18:51:06 WARN Executor: Issue communicating with driver in heartbeater\n",
      "org.apache.spark.rpc.RpcTimeoutException: Futures timed out after [10000 milliseconds]. This timeout is controlled by spark.executor.heartbeatInterval\n",
      "\tat org.apache.spark.rpc.RpcTimeout.org$apache$spark$rpc$RpcTimeout$$createRpcTimeoutException(RpcTimeout.scala:47)\n",
      "\tat org.apache.spark.rpc.RpcTimeout$$anonfun$addMessageIfTimeout$1.applyOrElse(RpcTimeout.scala:62)\n",
      "\tat org.apache.spark.rpc.RpcTimeout$$anonfun$addMessageIfTimeout$1.applyOrElse(RpcTimeout.scala:58)\n",
      "\tat scala.runtime.AbstractPartialFunction.apply(AbstractPartialFunction.scala:38)\n",
      "\tat org.apache.spark.rpc.RpcTimeout.awaitResult(RpcTimeout.scala:76)\n",
      "\tat org.apache.spark.rpc.RpcEndpointRef.askSync(RpcEndpointRef.scala:101)\n",
      "\tat org.apache.spark.executor.Executor.reportHeartBeat(Executor.scala:1219)\n",
      "\tat org.apache.spark.executor.Executor.$anonfun$heartbeater$1(Executor.scala:295)\n",
      "\tat scala.runtime.java8.JFunction0$mcV$sp.apply(JFunction0$mcV$sp.java:23)\n",
      "\tat org.apache.spark.util.Utils$.logUncaughtExceptions(Utils.scala:1928)\n",
      "\tat org.apache.spark.Heartbeater$$anon$1.run(Heartbeater.scala:46)\n",
      "\tat java.util.concurrent.Executors$RunnableAdapter.call(Executors.java:511)\n",
      "\tat java.util.concurrent.FutureTask.runAndReset(FutureTask.java:308)\n",
      "\tat java.util.concurrent.ScheduledThreadPoolExecutor$ScheduledFutureTask.access$301(ScheduledThreadPoolExecutor.java:180)\n",
      "\tat java.util.concurrent.ScheduledThreadPoolExecutor$ScheduledFutureTask.run(ScheduledThreadPoolExecutor.java:294)\n",
      "\tat java.util.concurrent.ThreadPoolExecutor.runWorker(ThreadPoolExecutor.java:1149)\n",
      "\tat java.util.concurrent.ThreadPoolExecutor$Worker.run(ThreadPoolExecutor.java:624)\n",
      "\tat java.lang.Thread.run(Thread.java:750)\n",
      "Caused by: java.util.concurrent.TimeoutException: Futures timed out after [10000 milliseconds]\n",
      "\tat scala.concurrent.impl.Promise$DefaultPromise.ready(Promise.scala:259)\n",
      "\tat scala.concurrent.impl.Promise$DefaultPromise.result(Promise.scala:263)\n",
      "\tat org.apache.spark.util.SparkThreadUtils$.awaitResult(SparkThreadUtils.scala:48)\n",
      "\tat org.apache.spark.util.ThreadUtils$.awaitResult(ThreadUtils.scala:310)\n",
      "\tat org.apache.spark.rpc.RpcTimeout.awaitResult(RpcTimeout.scala:75)\n",
      "\t... 13 more\n",
      "24/09/17 18:51:08 WARN SparkContext: Killing executors is not supported by current scheduler.\n",
      "24/09/17 18:51:11 WARN NettyRpcEnv: Ignored message: HeartbeatResponse(false)\n",
      "24/09/17 18:51:11 WARN TaskSetManager: Lost task 108.0 in stage 0.0 (TID 108) (172.20.36.110 executor driver): java.lang.OutOfMemoryError: Java heap space\n",
      "\tat java.io.ObjectInputStream$HandleTable.grow(ObjectInputStream.java:3994)\n",
      "\tat java.io.ObjectInputStream$HandleTable.assign(ObjectInputStream.java:3801)\n",
      "\tat java.io.ObjectInputStream.readOrdinaryObject(ObjectInputStream.java:2204)\n",
      "\tat java.io.ObjectInputStream.readObject0(ObjectInputStream.java:1669)\n",
      "\tat java.io.ObjectInputStream.defaultReadFields(ObjectInputStream.java:2431)\n",
      "\tat java.io.ObjectInputStream.readSerialData(ObjectInputStream.java:2355)\n",
      "\tat java.io.ObjectInputStream.readOrdinaryObject(ObjectInputStream.java:2213)\n",
      "\tat java.io.ObjectInputStream.readObject0(ObjectInputStream.java:1669)\n",
      "\tat java.io.ObjectInputStream.readArray(ObjectInputStream.java:2119)\n",
      "\tat java.io.ObjectInputStream.readObject0(ObjectInputStream.java:1657)\n",
      "\tat java.io.ObjectInputStream.defaultReadFields(ObjectInputStream.java:2431)\n",
      "\tat java.io.ObjectInputStream.readSerialData(ObjectInputStream.java:2355)\n",
      "\tat java.io.ObjectInputStream.readOrdinaryObject(ObjectInputStream.java:2213)\n",
      "\tat java.io.ObjectInputStream.readObject0(ObjectInputStream.java:1669)\n",
      "\tat java.io.ObjectInputStream.readArray(ObjectInputStream.java:2119)\n",
      "\tat java.io.ObjectInputStream.readObject0(ObjectInputStream.java:1657)\n",
      "\tat java.io.ObjectInputStream.defaultReadFields(ObjectInputStream.java:2431)\n",
      "\tat java.io.ObjectInputStream.readSerialData(ObjectInputStream.java:2355)\n",
      "\tat java.io.ObjectInputStream.readOrdinaryObject(ObjectInputStream.java:2213)\n",
      "\tat java.io.ObjectInputStream.readObject0(ObjectInputStream.java:1669)\n",
      "\tat java.io.ObjectInputStream.readArray(ObjectInputStream.java:2119)\n",
      "\tat java.io.ObjectInputStream.readObject0(ObjectInputStream.java:1657)\n",
      "\tat java.io.ObjectInputStream.defaultReadFields(ObjectInputStream.java:2431)\n",
      "\tat java.io.ObjectInputStream.readSerialData(ObjectInputStream.java:2355)\n",
      "\tat java.io.ObjectInputStream.readOrdinaryObject(ObjectInputStream.java:2213)\n",
      "\tat java.io.ObjectInputStream.readObject0(ObjectInputStream.java:1669)\n",
      "\tat java.io.ObjectInputStream.defaultReadFields(ObjectInputStream.java:2431)\n",
      "\tat java.io.ObjectInputStream.readSerialData(ObjectInputStream.java:2355)\n",
      "\tat java.io.ObjectInputStream.readOrdinaryObject(ObjectInputStream.java:2213)\n",
      "\tat java.io.ObjectInputStream.readObject0(ObjectInputStream.java:1669)\n",
      "\tat java.io.ObjectInputStream.defaultReadFields(ObjectInputStream.java:2431)\n",
      "\tat java.io.ObjectInputStream.readSerialData(ObjectInputStream.java:2355)\n",
      "\n",
      "24/09/17 18:51:13 ERROR Inbox: Ignoring error\n",
      "java.util.concurrent.RejectedExecutionException: Task org.apache.spark.executor.Executor$TaskRunner@42749407 rejected from java.util.concurrent.ThreadPoolExecutor@200d6c46[Shutting down, pool size = 12, active threads = 12, queued tasks = 0, completed tasks = 108]\n",
      "\tat java.util.concurrent.ThreadPoolExecutor$AbortPolicy.rejectedExecution(ThreadPoolExecutor.java:2063)\n",
      "\tat java.util.concurrent.ThreadPoolExecutor.reject(ThreadPoolExecutor.java:830)\n",
      "\tat java.util.concurrent.ThreadPoolExecutor.execute(ThreadPoolExecutor.java:1379)\n",
      "\tat org.apache.spark.executor.Executor.launchTask(Executor.scala:363)\n",
      "\tat org.apache.spark.scheduler.local.LocalEndpoint.$anonfun$reviveOffers$1(LocalSchedulerBackend.scala:93)\n",
      "\tat org.apache.spark.scheduler.local.LocalEndpoint.$anonfun$reviveOffers$1$adapted(LocalSchedulerBackend.scala:91)\n",
      "\tat scala.collection.Iterator.foreach(Iterator.scala:943)\n",
      "\tat scala.collection.Iterator.foreach$(Iterator.scala:943)\n",
      "\tat scala.collection.AbstractIterator.foreach(Iterator.scala:1431)\n",
      "\tat scala.collection.IterableLike.foreach(IterableLike.scala:74)\n",
      "\tat scala.collection.IterableLike.foreach$(IterableLike.scala:73)\n",
      "\tat scala.collection.AbstractIterable.foreach(Iterable.scala:56)\n",
      "\tat org.apache.spark.scheduler.local.LocalEndpoint.reviveOffers(LocalSchedulerBackend.scala:91)\n",
      "\tat org.apache.spark.scheduler.local.LocalEndpoint$$anonfun$receive$1.applyOrElse(LocalSchedulerBackend.scala:74)\n",
      "\tat org.apache.spark.rpc.netty.Inbox.$anonfun$process$1(Inbox.scala:115)\n",
      "\tat org.apache.spark.rpc.netty.Inbox.safelyCall(Inbox.scala:213)\n",
      "\tat org.apache.spark.rpc.netty.Inbox.process(Inbox.scala:100)\n",
      "\tat org.apache.spark.rpc.netty.MessageLoop.org$apache$spark$rpc$netty$MessageLoop$$receiveLoop(MessageLoop.scala:75)\n",
      "\tat org.apache.spark.rpc.netty.MessageLoop$$anon$1.run(MessageLoop.scala:41)\n",
      "\tat java.util.concurrent.ThreadPoolExecutor.runWorker(ThreadPoolExecutor.java:1149)\n",
      "\tat java.util.concurrent.ThreadPoolExecutor$Worker.run(ThreadPoolExecutor.java:624)\n",
      "\tat java.lang.Thread.run(Thread.java:750)\n",
      "24/09/17 18:51:18 ERROR Executor: Exception in task 118.0 in stage 0.0 (TID 118)\n",
      "java.lang.OutOfMemoryError: GC overhead limit exceeded\n",
      "24/09/17 18:51:19 ERROR TaskSetManager: Task 108 in stage 0.0 failed 1 times; aborting job\n",
      "24/09/17 18:51:19 ERROR SparkUncaughtExceptionHandler: [Container in shutdown] Uncaught exception in thread Thread[Executor task launch worker for task 118.0 in stage 0.0 (TID 118),5,main]\n",
      "java.lang.OutOfMemoryError: GC overhead limit exceeded\n",
      "24/09/17 18:51:19 WARN TaskSetManager: Lost task 113.0 in stage 0.0 (TID 113) (172.20.36.110 executor driver): java.lang.OutOfMemoryError: GC overhead limit exceeded\n",
      "\n",
      "24/09/17 18:51:26 ERROR FileFormatWriter: Aborting job 743ed52a-7dfd-4801-a166-d0c1495a7139.\n",
      "org.apache.spark.SparkException: Job aborted due to stage failure: Task 108 in stage 0.0 failed 1 times, most recent failure: Lost task 108.0 in stage 0.0 (TID 108) (172.20.36.110 executor driver): java.lang.OutOfMemoryError: Java heap space\n",
      "\tat java.io.ObjectInputStream$HandleTable.grow(ObjectInputStream.java:3994)\n",
      "\tat java.io.ObjectInputStream$HandleTable.assign(ObjectInputStream.java:3801)\n",
      "\tat java.io.ObjectInputStream.readOrdinaryObject(ObjectInputStream.java:2204)\n",
      "\tat java.io.ObjectInputStream.readObject0(ObjectInputStream.java:1669)\n",
      "\tat java.io.ObjectInputStream.defaultReadFields(ObjectInputStream.java:2431)\n",
      "\tat java.io.ObjectInputStream.readSerialData(ObjectInputStream.java:2355)\n",
      "\tat java.io.ObjectInputStream.readOrdinaryObject(ObjectInputStream.java:2213)\n",
      "\tat java.io.ObjectInputStream.readObject0(ObjectInputStream.java:1669)\n",
      "\tat java.io.ObjectInputStream.readArray(ObjectInputStream.java:2119)\n",
      "\tat java.io.ObjectInputStream.readObject0(ObjectInputStream.java:1657)\n",
      "\tat java.io.ObjectInputStream.defaultReadFields(ObjectInputStream.java:2431)\n",
      "\tat java.io.ObjectInputStream.readSerialData(ObjectInputStream.java:2355)\n",
      "\tat java.io.ObjectInputStream.readOrdinaryObject(ObjectInputStream.java:2213)\n",
      "\tat java.io.ObjectInputStream.readObject0(ObjectInputStream.java:1669)\n",
      "\tat java.io.ObjectInputStream.readArray(ObjectInputStream.java:2119)\n",
      "\tat java.io.ObjectInputStream.readObject0(ObjectInputStream.java:1657)\n",
      "\tat java.io.ObjectInputStream.defaultReadFields(ObjectInputStream.java:2431)\n",
      "\tat java.io.ObjectInputStream.readSerialData(ObjectInputStream.java:2355)\n",
      "\tat java.io.ObjectInputStream.readOrdinaryObject(ObjectInputStream.java:2213)\n",
      "\tat java.io.ObjectInputStream.readObject0(ObjectInputStream.java:1669)\n",
      "\tat java.io.ObjectInputStream.readArray(ObjectInputStream.java:2119)\n",
      "\tat java.io.ObjectInputStream.readObject0(ObjectInputStream.java:1657)\n",
      "\tat java.io.ObjectInputStream.defaultReadFields(ObjectInputStream.java:2431)\n",
      "\tat java.io.ObjectInputStream.readSerialData(ObjectInputStream.java:2355)\n",
      "\tat java.io.ObjectInputStream.readOrdinaryObject(ObjectInputStream.java:2213)\n",
      "\tat java.io.ObjectInputStream.readObject0(ObjectInputStream.java:1669)\n",
      "\tat java.io.ObjectInputStream.defaultReadFields(ObjectInputStream.java:2431)\n",
      "\tat java.io.ObjectInputStream.readSerialData(ObjectInputStream.java:2355)\n",
      "\tat java.io.ObjectInputStream.readOrdinaryObject(ObjectInputStream.java:2213)\n",
      "\tat java.io.ObjectInputStream.readObject0(ObjectInputStream.java:1669)\n",
      "\tat java.io.ObjectInputStream.defaultReadFields(ObjectInputStream.java:2431)\n",
      "\tat java.io.ObjectInputStream.readSerialData(ObjectInputStream.java:2355)\n",
      "\n",
      "Driver stacktrace:\n",
      "\tat org.apache.spark.scheduler.DAGScheduler.failJobAndIndependentStages(DAGScheduler.scala:2856)\n",
      "\tat org.apache.spark.scheduler.DAGScheduler.$anonfun$abortStage$2(DAGScheduler.scala:2792)\n",
      "\tat org.apache.spark.scheduler.DAGScheduler.$anonfun$abortStage$2$adapted(DAGScheduler.scala:2791)\n",
      "\tat scala.collection.mutable.ResizableArray.foreach(ResizableArray.scala:62)\n",
      "\tat scala.collection.mutable.ResizableArray.foreach$(ResizableArray.scala:55)\n",
      "\tat scala.collection.mutable.ArrayBuffer.foreach(ArrayBuffer.scala:49)\n",
      "\tat org.apache.spark.scheduler.DAGScheduler.abortStage(DAGScheduler.scala:2791)\n",
      "\tat org.apache.spark.scheduler.DAGScheduler.$anonfun$handleTaskSetFailed$1(DAGScheduler.scala:1247)\n",
      "\tat org.apache.spark.scheduler.DAGScheduler.$anonfun$handleTaskSetFailed$1$adapted(DAGScheduler.scala:1247)\n",
      "\tat scala.Option.foreach(Option.scala:407)\n",
      "\tat org.apache.spark.scheduler.DAGScheduler.handleTaskSetFailed(DAGScheduler.scala:1247)\n",
      "\tat org.apache.spark.scheduler.DAGSchedulerEventProcessLoop.doOnReceive(DAGScheduler.scala:3060)\n",
      "\tat org.apache.spark.scheduler.DAGSchedulerEventProcessLoop.onReceive(DAGScheduler.scala:2994)\n",
      "\tat org.apache.spark.scheduler.DAGSchedulerEventProcessLoop.onReceive(DAGScheduler.scala:2983)\n",
      "\tat org.apache.spark.util.EventLoop$$anon$1.run(EventLoop.scala:49)\n",
      "\tat org.apache.spark.scheduler.DAGScheduler.runJob(DAGScheduler.scala:989)\n",
      "\tat org.apache.spark.SparkContext.runJob(SparkContext.scala:2398)\n",
      "\tat org.apache.spark.sql.execution.datasources.FileFormatWriter$.$anonfun$executeWrite$4(FileFormatWriter.scala:307)\n",
      "\tat org.apache.spark.sql.execution.datasources.FileFormatWriter$.writeAndCommit(FileFormatWriter.scala:271)\n",
      "\tat org.apache.spark.sql.execution.datasources.FileFormatWriter$.executeWrite(FileFormatWriter.scala:304)\n",
      "\tat org.apache.spark.sql.execution.datasources.FileFormatWriter$.write(FileFormatWriter.scala:190)\n",
      "\tat org.apache.spark.sql.execution.datasources.InsertIntoHadoopFsRelationCommand.run(InsertIntoHadoopFsRelationCommand.scala:190)\n",
      "\tat org.apache.spark.sql.execution.command.DataWritingCommandExec.sideEffectResult$lzycompute(commands.scala:113)\n",
      "\tat org.apache.spark.sql.execution.command.DataWritingCommandExec.sideEffectResult(commands.scala:111)\n",
      "\tat org.apache.spark.sql.execution.command.DataWritingCommandExec.executeCollect(commands.scala:125)\n",
      "\tat org.apache.spark.sql.execution.QueryExecution$$anonfun$eagerlyExecuteCommands$1.$anonfun$applyOrElse$1(QueryExecution.scala:107)\n",
      "\tat org.apache.spark.sql.execution.SQLExecution$.$anonfun$withNewExecutionId$6(SQLExecution.scala:125)\n",
      "\tat org.apache.spark.sql.execution.SQLExecution$.withSQLConfPropagated(SQLExecution.scala:201)\n",
      "\tat org.apache.spark.sql.execution.SQLExecution$.$anonfun$withNewExecutionId$1(SQLExecution.scala:108)\n",
      "\tat org.apache.spark.sql.SparkSession.withActive(SparkSession.scala:900)\n",
      "\tat org.apache.spark.sql.execution.SQLExecution$.withNewExecutionId(SQLExecution.scala:66)\n",
      "\tat org.apache.spark.sql.execution.QueryExecution$$anonfun$eagerlyExecuteCommands$1.applyOrElse(QueryExecution.scala:107)\n",
      "\tat org.apache.spark.sql.execution.QueryExecution$$anonfun$eagerlyExecuteCommands$1.applyOrElse(QueryExecution.scala:98)\n",
      "\tat org.apache.spark.sql.catalyst.trees.TreeNode.$anonfun$transformDownWithPruning$1(TreeNode.scala:461)\n",
      "\tat org.apache.spark.sql.catalyst.trees.CurrentOrigin$.withOrigin(origin.scala:76)\n",
      "\tat org.apache.spark.sql.catalyst.trees.TreeNode.transformDownWithPruning(TreeNode.scala:461)\n",
      "\tat org.apache.spark.sql.catalyst.plans.logical.LogicalPlan.org$apache$spark$sql$catalyst$plans$logical$AnalysisHelper$$super$transformDownWithPruning(LogicalPlan.scala:32)\n",
      "\tat org.apache.spark.sql.catalyst.plans.logical.AnalysisHelper.transformDownWithPruning(AnalysisHelper.scala:267)\n",
      "\tat org.apache.spark.sql.catalyst.plans.logical.AnalysisHelper.transformDownWithPruning$(AnalysisHelper.scala:263)\n",
      "\tat org.apache.spark.sql.catalyst.plans.logical.LogicalPlan.transformDownWithPruning(LogicalPlan.scala:32)\n",
      "\tat org.apache.spark.sql.catalyst.plans.logical.LogicalPlan.transformDownWithPruning(LogicalPlan.scala:32)\n",
      "\tat org.apache.spark.sql.catalyst.trees.TreeNode.transformDown(TreeNode.scala:437)\n",
      "\tat org.apache.spark.sql.execution.QueryExecution.eagerlyExecuteCommands(QueryExecution.scala:98)\n",
      "\tat org.apache.spark.sql.execution.QueryExecution.commandExecuted$lzycompute(QueryExecution.scala:85)\n",
      "\tat org.apache.spark.sql.execution.QueryExecution.commandExecuted(QueryExecution.scala:83)\n",
      "\tat org.apache.spark.sql.execution.QueryExecution.assertCommandExecuted(QueryExecution.scala:142)\n",
      "\tat org.apache.spark.sql.DataFrameWriter.runCommand(DataFrameWriter.scala:859)\n",
      "\tat org.apache.spark.sql.DataFrameWriter.saveToV1Source(DataFrameWriter.scala:388)\n",
      "\tat org.apache.spark.sql.DataFrameWriter.saveInternal(DataFrameWriter.scala:361)\n",
      "\tat org.apache.spark.sql.DataFrameWriter.save(DataFrameWriter.scala:240)\n",
      "\tat org.apache.spark.sql.DataFrameWriter.parquet(DataFrameWriter.scala:792)\n",
      "\tat sun.reflect.NativeMethodAccessorImpl.invoke0(Native Method)\n",
      "\tat sun.reflect.NativeMethodAccessorImpl.invoke(NativeMethodAccessorImpl.java:62)\n",
      "\tat sun.reflect.DelegatingMethodAccessorImpl.invoke(DelegatingMethodAccessorImpl.java:43)\n",
      "\tat java.lang.reflect.Method.invoke(Method.java:498)\n",
      "\tat py4j.reflection.MethodInvoker.invoke(MethodInvoker.java:244)\n",
      "\tat py4j.reflection.ReflectionEngine.invoke(ReflectionEngine.java:374)\n",
      "\tat py4j.Gateway.invoke(Gateway.java:282)\n",
      "\tat py4j.commands.AbstractCommand.invokeMethod(AbstractCommand.java:132)\n",
      "\tat py4j.commands.CallCommand.execute(CallCommand.java:79)\n",
      "\tat py4j.ClientServerConnection.waitForCommands(ClientServerConnection.java:182)\n",
      "\tat py4j.ClientServerConnection.run(ClientServerConnection.java:106)\n",
      "\tat java.lang.Thread.run(Thread.java:750)\n",
      "Caused by: java.lang.OutOfMemoryError: Java heap space\n",
      "\tat java.io.ObjectInputStream$HandleTable.grow(ObjectInputStream.java:3994)\n",
      "\tat java.io.ObjectInputStream$HandleTable.assign(ObjectInputStream.java:3801)\n",
      "\tat java.io.ObjectInputStream.readOrdinaryObject(ObjectInputStream.java:2204)\n",
      "\tat java.io.ObjectInputStream.readObject0(ObjectInputStream.java:1669)\n",
      "\tat java.io.ObjectInputStream.defaultReadFields(ObjectInputStream.java:2431)\n",
      "\tat java.io.ObjectInputStream.readSerialData(ObjectInputStream.java:2355)\n",
      "\tat java.io.ObjectInputStream.readOrdinaryObject(ObjectInputStream.java:2213)\n",
      "\tat java.io.ObjectInputStream.readObject0(ObjectInputStream.java:1669)\n",
      "\tat java.io.ObjectInputStream.readArray(ObjectInputStream.java:2119)\n",
      "\tat java.io.ObjectInputStream.readObject0(ObjectInputStream.java:1657)\n",
      "\tat java.io.ObjectInputStream.defaultReadFields(ObjectInputStream.java:2431)\n",
      "\tat java.io.ObjectInputStream.readSerialData(ObjectInputStream.java:2355)\n",
      "\tat java.io.ObjectInputStream.readOrdinaryObject(ObjectInputStream.java:2213)\n",
      "\tat java.io.ObjectInputStream.readObject0(ObjectInputStream.java:1669)\n",
      "\tat java.io.ObjectInputStream.readArray(ObjectInputStream.java:2119)\n",
      "\tat java.io.ObjectInputStream.readObject0(ObjectInputStream.java:1657)\n",
      "\tat java.io.ObjectInputStream.defaultReadFields(ObjectInputStream.java:2431)\n",
      "\tat java.io.ObjectInputStream.readSerialData(ObjectInputStream.java:2355)\n",
      "\tat java.io.ObjectInputStream.readOrdinaryObject(ObjectInputStream.java:2213)\n",
      "\tat java.io.ObjectInputStream.readObject0(ObjectInputStream.java:1669)\n",
      "\tat java.io.ObjectInputStream.readArray(ObjectInputStream.java:2119)\n",
      "\tat java.io.ObjectInputStream.readObject0(ObjectInputStream.java:1657)\n",
      "\tat java.io.ObjectInputStream.defaultReadFields(ObjectInputStream.java:2431)\n",
      "\tat java.io.ObjectInputStream.readSerialData(ObjectInputStream.java:2355)\n",
      "\tat java.io.ObjectInputStream.readOrdinaryObject(ObjectInputStream.java:2213)\n",
      "\tat java.io.ObjectInputStream.readObject0(ObjectInputStream.java:1669)\n",
      "\tat java.io.ObjectInputStream.defaultReadFields(ObjectInputStream.java:2431)\n",
      "\tat java.io.ObjectInputStream.readSerialData(ObjectInputStream.java:2355)\n",
      "\tat java.io.ObjectInputStream.readOrdinaryObject(ObjectInputStream.java:2213)\n",
      "\tat java.io.ObjectInputStream.readObject0(ObjectInputStream.java:1669)\n",
      "\tat java.io.ObjectInputStream.defaultReadFields(ObjectInputStream.java:2431)\n",
      "\tat java.io.ObjectInputStream.readSerialData(ObjectInputStream.java:2355)\n",
      "ERROR:root:Exception while sending command.\n",
      "Traceback (most recent call last):\n",
      "  File \"/home/priscillapei/.local/lib/python3.10/site-packages/py4j/clientserver.py\", line 516, in send_command\n",
      "    raise Py4JNetworkError(\"Answer from Java side is empty\")\n",
      "py4j.protocol.Py4JNetworkError: Answer from Java side is empty\n",
      "\n",
      "During handling of the above exception, another exception occurred:\n",
      "\n",
      "Traceback (most recent call last):\n",
      "  File \"/home/priscillapei/.local/lib/python3.10/site-packages/py4j/java_gateway.py\", line 1038, in send_command\n",
      "    response = connection.send_command(command)\n",
      "  File \"/home/priscillapei/.local/lib/python3.10/site-packages/py4j/clientserver.py\", line 539, in send_command\n",
      "    raise Py4JNetworkError(\n",
      "py4j.protocol.Py4JNetworkError: Error while sending or receiving\n"
     ]
    },
    {
     "name": "stderr",
     "output_type": "stream",
     "text": [
      "----------------------------------------\n",
      "Exception occurred during processing of request from ('127.0.0.1', 55632)\n",
      "Traceback (most recent call last):\n",
      "  File \"/usr/lib/python3.10/socketserver.py\", line 316, in _handle_request_noblock\n",
      "    self.process_request(request, client_address)\n",
      "  File \"/usr/lib/python3.10/socketserver.py\", line 347, in process_request\n",
      "    self.finish_request(request, client_address)\n",
      "  File \"/usr/lib/python3.10/socketserver.py\", line 360, in finish_request\n",
      "    self.RequestHandlerClass(request, client_address, self)\n",
      "  File \"/usr/lib/python3.10/socketserver.py\", line 747, in __init__\n",
      "    self.handle()\n",
      "  File \"/home/priscillapei/.local/lib/python3.10/site-packages/pyspark/accumulators.py\", line 295, in handle\n",
      "    poll(accum_updates)\n",
      "  File \"/home/priscillapei/.local/lib/python3.10/site-packages/pyspark/accumulators.py\", line 267, in poll\n",
      "    if self.rfile in r and func():\n",
      "  File \"/home/priscillapei/.local/lib/python3.10/site-packages/pyspark/accumulators.py\", line 271, in accum_updates\n",
      "    num_updates = read_int(self.rfile)\n",
      "  File \"/home/priscillapei/.local/lib/python3.10/site-packages/pyspark/serializers.py\", line 596, in read_int\n",
      "    raise EOFError\n",
      "EOFError\n",
      "----------------------------------------\n"
     ]
    },
    {
     "name": "stdout",
     "output_type": "stream",
     "text": [
      "An error occured: An error occurred while calling o25902.parquet\n",
      "chunk finished\n"
     ]
    },
    {
     "name": "stderr",
     "output_type": "stream",
     "text": [
      "ERROR:root:Exception while sending command.\n",
      "Traceback (most recent call last):\n",
      "  File \"/home/priscillapei/.local/lib/python3.10/site-packages/py4j/clientserver.py\", line 516, in send_command\n",
      "    raise Py4JNetworkError(\"Answer from Java side is empty\")\n",
      "py4j.protocol.Py4JNetworkError: Answer from Java side is empty\n",
      "\n",
      "During handling of the above exception, another exception occurred:\n",
      "\n",
      "Traceback (most recent call last):\n",
      "  File \"/home/priscillapei/.local/lib/python3.10/site-packages/py4j/java_gateway.py\", line 1038, in send_command\n",
      "    response = connection.send_command(command)\n",
      "  File \"/home/priscillapei/.local/lib/python3.10/site-packages/py4j/clientserver.py\", line 539, in send_command\n",
      "    raise Py4JNetworkError(\n",
      "py4j.protocol.Py4JNetworkError: Error while sending or receiving\n"
     ]
    },
    {
     "ename": "ConnectionRefusedError",
     "evalue": "[Errno 111] Connection refused",
     "output_type": "error",
     "traceback": [
      "\u001b[0;31m---------------------------------------------------------------------------\u001b[0m",
      "\u001b[0;31mConnectionRefusedError\u001b[0m                    Traceback (most recent call last)",
      "Cell \u001b[0;32mIn[6], line 3\u001b[0m\n\u001b[1;32m      1\u001b[0m \u001b[38;5;66;03m#Davyn\u001b[39;00m\n\u001b[1;32m      2\u001b[0m starting_chunk \u001b[38;5;241m=\u001b[39m \u001b[38;5;241m3048\u001b[39m\n\u001b[0;32m----> 3\u001b[0m \u001b[43mrun_chunk\u001b[49m\u001b[43m(\u001b[49m\u001b[43mstarting_chunk\u001b[49m\u001b[43m)\u001b[49m\n",
      "Cell \u001b[0;32mIn[5], line 5\u001b[0m, in \u001b[0;36mrun_chunk\u001b[0;34m(starting_chunk)\u001b[0m\n\u001b[1;32m      3\u001b[0m \u001b[38;5;66;03m# we are running chunks of 25 postcodes 7 times each\u001b[39;00m\n\u001b[1;32m      4\u001b[0m \u001b[38;5;28;01mwhile\u001b[39;00m i \u001b[38;5;241m<\u001b[39m starting_chunk \u001b[38;5;241m+\u001b[39m \u001b[38;5;241m175\u001b[39m:\n\u001b[0;32m----> 5\u001b[0m     \u001b[43mstart_scrape\u001b[49m\u001b[43m(\u001b[49m\u001b[43mchunk_dict\u001b[49m\u001b[43m[\u001b[49m\u001b[38;5;124;43m\"\u001b[39;49m\u001b[38;5;124;43mchunk_\u001b[39;49m\u001b[38;5;132;43;01m{}\u001b[39;49;00m\u001b[38;5;124;43m\"\u001b[39;49m\u001b[38;5;241;43m.\u001b[39;49m\u001b[43mformat\u001b[49m\u001b[43m(\u001b[49m\u001b[43mi\u001b[49m\u001b[43m)\u001b[49m\u001b[43m]\u001b[49m\u001b[43m,\u001b[49m\u001b[43m \u001b[49m\u001b[43mi\u001b[49m\u001b[43m)\u001b[49m \u001b[38;5;66;03m#i.split(\"_\")[1])\u001b[39;00m\n\u001b[1;32m      6\u001b[0m     i \u001b[38;5;241m+\u001b[39m\u001b[38;5;241m=\u001b[39m \u001b[38;5;241m25\u001b[39m\n\u001b[1;32m      7\u001b[0m \u001b[38;5;28;01mif\u001b[39;00m i \u001b[38;5;241m==\u001b[39m \u001b[38;5;241m3923\u001b[39m:\n",
      "Cell \u001b[0;32mIn[3], line 50\u001b[0m, in \u001b[0;36mstart_scrape\u001b[0;34m(chunk, file_suffix)\u001b[0m\n\u001b[1;32m     36\u001b[0m schema \u001b[38;5;241m=\u001b[39m StructType([\n\u001b[1;32m     37\u001b[0m     StructField(\u001b[38;5;124m\"\u001b[39m\u001b[38;5;124murl\u001b[39m\u001b[38;5;124m\"\u001b[39m, StringType(), \u001b[38;5;28;01mTrue\u001b[39;00m),\n\u001b[1;32m     38\u001b[0m     StructField(\u001b[38;5;124m\"\u001b[39m\u001b[38;5;124mpostcode\u001b[39m\u001b[38;5;124m\"\u001b[39m, StringType(), \u001b[38;5;28;01mTrue\u001b[39;00m),\n\u001b[0;32m   (...)\u001b[0m\n\u001b[1;32m     45\u001b[0m     StructField(\u001b[38;5;124m\"\u001b[39m\u001b[38;5;124mproperty_type\u001b[39m\u001b[38;5;124m\"\u001b[39m, StringType(), \u001b[38;5;28;01mTrue\u001b[39;00m),  \u001b[38;5;66;03m# Property type field\u001b[39;00m\n\u001b[1;32m     46\u001b[0m ])\n\u001b[1;32m     49\u001b[0m \u001b[38;5;66;03m# Initialize an empty DataFrame with the schema\u001b[39;00m\n\u001b[0;32m---> 50\u001b[0m property_metadata \u001b[38;5;241m=\u001b[39m \u001b[43mspark\u001b[49m\u001b[38;5;241;43m.\u001b[39;49m\u001b[43mcreateDataFrame\u001b[49m\u001b[43m(\u001b[49m\u001b[43m[\u001b[49m\u001b[43m]\u001b[49m\u001b[43m,\u001b[49m\u001b[43m \u001b[49m\u001b[43mschema\u001b[49m\u001b[43m)\u001b[49m\n\u001b[1;32m     52\u001b[0m \u001b[38;5;66;03m# Loop through each suburb and its postcode\u001b[39;00m\n\u001b[1;32m     53\u001b[0m \u001b[38;5;28;01mfor\u001b[39;00m index, row \u001b[38;5;129;01min\u001b[39;00m chunk\u001b[38;5;241m.\u001b[39miterrows():\n",
      "File \u001b[0;32m~/.local/lib/python3.10/site-packages/pyspark/sql/session.py:1383\u001b[0m, in \u001b[0;36mSparkSession.createDataFrame\u001b[0;34m(self, data, schema, samplingRatio, verifySchema)\u001b[0m\n\u001b[1;32m   1381\u001b[0m SparkSession\u001b[38;5;241m.\u001b[39m_activeSession \u001b[38;5;241m=\u001b[39m \u001b[38;5;28mself\u001b[39m\n\u001b[1;32m   1382\u001b[0m \u001b[38;5;28;01massert\u001b[39;00m \u001b[38;5;28mself\u001b[39m\u001b[38;5;241m.\u001b[39m_jvm \u001b[38;5;129;01mis\u001b[39;00m \u001b[38;5;129;01mnot\u001b[39;00m \u001b[38;5;28;01mNone\u001b[39;00m\n\u001b[0;32m-> 1383\u001b[0m \u001b[38;5;28;43mself\u001b[39;49m\u001b[38;5;241;43m.\u001b[39;49m\u001b[43m_jvm\u001b[49m\u001b[38;5;241;43m.\u001b[39;49m\u001b[43mSparkSession\u001b[49m\u001b[38;5;241m.\u001b[39msetActiveSession(\u001b[38;5;28mself\u001b[39m\u001b[38;5;241m.\u001b[39m_jsparkSession)\n\u001b[1;32m   1384\u001b[0m \u001b[38;5;28;01mif\u001b[39;00m \u001b[38;5;28misinstance\u001b[39m(data, DataFrame):\n\u001b[1;32m   1385\u001b[0m     \u001b[38;5;28;01mraise\u001b[39;00m PySparkTypeError(\n\u001b[1;32m   1386\u001b[0m         error_class\u001b[38;5;241m=\u001b[39m\u001b[38;5;124m\"\u001b[39m\u001b[38;5;124mSHOULD_NOT_DATAFRAME\u001b[39m\u001b[38;5;124m\"\u001b[39m,\n\u001b[1;32m   1387\u001b[0m         message_parameters\u001b[38;5;241m=\u001b[39m{\u001b[38;5;124m\"\u001b[39m\u001b[38;5;124marg_name\u001b[39m\u001b[38;5;124m\"\u001b[39m: \u001b[38;5;124m\"\u001b[39m\u001b[38;5;124mdata\u001b[39m\u001b[38;5;124m\"\u001b[39m},\n\u001b[1;32m   1388\u001b[0m     )\n",
      "File \u001b[0;32m~/.local/lib/python3.10/site-packages/py4j/java_gateway.py:1712\u001b[0m, in \u001b[0;36mJVMView.__getattr__\u001b[0;34m(self, name)\u001b[0m\n\u001b[1;32m   1709\u001b[0m \u001b[38;5;28;01mif\u001b[39;00m name \u001b[38;5;241m==\u001b[39m UserHelpAutoCompletion\u001b[38;5;241m.\u001b[39mKEY:\n\u001b[1;32m   1710\u001b[0m     \u001b[38;5;28;01mreturn\u001b[39;00m UserHelpAutoCompletion()\n\u001b[0;32m-> 1712\u001b[0m answer \u001b[38;5;241m=\u001b[39m \u001b[38;5;28;43mself\u001b[39;49m\u001b[38;5;241;43m.\u001b[39;49m\u001b[43m_gateway_client\u001b[49m\u001b[38;5;241;43m.\u001b[39;49m\u001b[43msend_command\u001b[49m\u001b[43m(\u001b[49m\n\u001b[1;32m   1713\u001b[0m \u001b[43m    \u001b[49m\u001b[43mproto\u001b[49m\u001b[38;5;241;43m.\u001b[39;49m\u001b[43mREFLECTION_COMMAND_NAME\u001b[49m\u001b[43m \u001b[49m\u001b[38;5;241;43m+\u001b[39;49m\n\u001b[1;32m   1714\u001b[0m \u001b[43m    \u001b[49m\u001b[43mproto\u001b[49m\u001b[38;5;241;43m.\u001b[39;49m\u001b[43mREFL_GET_UNKNOWN_SUB_COMMAND_NAME\u001b[49m\u001b[43m \u001b[49m\u001b[38;5;241;43m+\u001b[39;49m\u001b[43m \u001b[49m\u001b[43mname\u001b[49m\u001b[43m \u001b[49m\u001b[38;5;241;43m+\u001b[39;49m\u001b[43m \u001b[49m\u001b[38;5;124;43m\"\u001b[39;49m\u001b[38;5;130;43;01m\\n\u001b[39;49;00m\u001b[38;5;124;43m\"\u001b[39;49m\u001b[43m \u001b[49m\u001b[38;5;241;43m+\u001b[39;49m\u001b[43m \u001b[49m\u001b[38;5;28;43mself\u001b[39;49m\u001b[38;5;241;43m.\u001b[39;49m\u001b[43m_id\u001b[49m\u001b[43m \u001b[49m\u001b[38;5;241;43m+\u001b[39;49m\n\u001b[1;32m   1715\u001b[0m \u001b[43m    \u001b[49m\u001b[38;5;124;43m\"\u001b[39;49m\u001b[38;5;130;43;01m\\n\u001b[39;49;00m\u001b[38;5;124;43m\"\u001b[39;49m\u001b[43m \u001b[49m\u001b[38;5;241;43m+\u001b[39;49m\u001b[43m \u001b[49m\u001b[43mproto\u001b[49m\u001b[38;5;241;43m.\u001b[39;49m\u001b[43mEND_COMMAND_PART\u001b[49m\u001b[43m)\u001b[49m\n\u001b[1;32m   1716\u001b[0m \u001b[38;5;28;01mif\u001b[39;00m answer \u001b[38;5;241m==\u001b[39m proto\u001b[38;5;241m.\u001b[39mSUCCESS_PACKAGE:\n\u001b[1;32m   1717\u001b[0m     \u001b[38;5;28;01mreturn\u001b[39;00m JavaPackage(name, \u001b[38;5;28mself\u001b[39m\u001b[38;5;241m.\u001b[39m_gateway_client, jvm_id\u001b[38;5;241m=\u001b[39m\u001b[38;5;28mself\u001b[39m\u001b[38;5;241m.\u001b[39m_id)\n",
      "File \u001b[0;32m~/.local/lib/python3.10/site-packages/py4j/java_gateway.py:1036\u001b[0m, in \u001b[0;36mGatewayClient.send_command\u001b[0;34m(self, command, retry, binary)\u001b[0m\n\u001b[1;32m   1015\u001b[0m \u001b[38;5;28;01mdef\u001b[39;00m \u001b[38;5;21msend_command\u001b[39m(\u001b[38;5;28mself\u001b[39m, command, retry\u001b[38;5;241m=\u001b[39m\u001b[38;5;28;01mTrue\u001b[39;00m, binary\u001b[38;5;241m=\u001b[39m\u001b[38;5;28;01mFalse\u001b[39;00m):\n\u001b[1;32m   1016\u001b[0m \u001b[38;5;250m    \u001b[39m\u001b[38;5;124;03m\"\"\"Sends a command to the JVM. This method is not intended to be\u001b[39;00m\n\u001b[1;32m   1017\u001b[0m \u001b[38;5;124;03m       called directly by Py4J users. It is usually called by\u001b[39;00m\n\u001b[1;32m   1018\u001b[0m \u001b[38;5;124;03m       :class:`JavaMember` instances.\u001b[39;00m\n\u001b[0;32m   (...)\u001b[0m\n\u001b[1;32m   1034\u001b[0m \u001b[38;5;124;03m     if `binary` is `True`.\u001b[39;00m\n\u001b[1;32m   1035\u001b[0m \u001b[38;5;124;03m    \"\"\"\u001b[39;00m\n\u001b[0;32m-> 1036\u001b[0m     connection \u001b[38;5;241m=\u001b[39m \u001b[38;5;28;43mself\u001b[39;49m\u001b[38;5;241;43m.\u001b[39;49m\u001b[43m_get_connection\u001b[49m\u001b[43m(\u001b[49m\u001b[43m)\u001b[49m\n\u001b[1;32m   1037\u001b[0m     \u001b[38;5;28;01mtry\u001b[39;00m:\n\u001b[1;32m   1038\u001b[0m         response \u001b[38;5;241m=\u001b[39m connection\u001b[38;5;241m.\u001b[39msend_command(command)\n",
      "File \u001b[0;32m~/.local/lib/python3.10/site-packages/py4j/clientserver.py:284\u001b[0m, in \u001b[0;36mJavaClient._get_connection\u001b[0;34m(self)\u001b[0m\n\u001b[1;32m    281\u001b[0m     \u001b[38;5;28;01mpass\u001b[39;00m\n\u001b[1;32m    283\u001b[0m \u001b[38;5;28;01mif\u001b[39;00m connection \u001b[38;5;129;01mis\u001b[39;00m \u001b[38;5;28;01mNone\u001b[39;00m \u001b[38;5;129;01mor\u001b[39;00m connection\u001b[38;5;241m.\u001b[39msocket \u001b[38;5;129;01mis\u001b[39;00m \u001b[38;5;28;01mNone\u001b[39;00m:\n\u001b[0;32m--> 284\u001b[0m     connection \u001b[38;5;241m=\u001b[39m \u001b[38;5;28;43mself\u001b[39;49m\u001b[38;5;241;43m.\u001b[39;49m\u001b[43m_create_new_connection\u001b[49m\u001b[43m(\u001b[49m\u001b[43m)\u001b[49m\n\u001b[1;32m    285\u001b[0m \u001b[38;5;28;01mreturn\u001b[39;00m connection\n",
      "File \u001b[0;32m~/.local/lib/python3.10/site-packages/py4j/clientserver.py:291\u001b[0m, in \u001b[0;36mJavaClient._create_new_connection\u001b[0;34m(self)\u001b[0m\n\u001b[1;32m    287\u001b[0m \u001b[38;5;28;01mdef\u001b[39;00m \u001b[38;5;21m_create_new_connection\u001b[39m(\u001b[38;5;28mself\u001b[39m):\n\u001b[1;32m    288\u001b[0m     connection \u001b[38;5;241m=\u001b[39m ClientServerConnection(\n\u001b[1;32m    289\u001b[0m         \u001b[38;5;28mself\u001b[39m\u001b[38;5;241m.\u001b[39mjava_parameters, \u001b[38;5;28mself\u001b[39m\u001b[38;5;241m.\u001b[39mpython_parameters,\n\u001b[1;32m    290\u001b[0m         \u001b[38;5;28mself\u001b[39m\u001b[38;5;241m.\u001b[39mgateway_property, \u001b[38;5;28mself\u001b[39m)\n\u001b[0;32m--> 291\u001b[0m     \u001b[43mconnection\u001b[49m\u001b[38;5;241;43m.\u001b[39;49m\u001b[43mconnect_to_java_server\u001b[49m\u001b[43m(\u001b[49m\u001b[43m)\u001b[49m\n\u001b[1;32m    292\u001b[0m     \u001b[38;5;28mself\u001b[39m\u001b[38;5;241m.\u001b[39mset_thread_connection(connection)\n\u001b[1;32m    293\u001b[0m     \u001b[38;5;28;01mreturn\u001b[39;00m connection\n",
      "File \u001b[0;32m~/.local/lib/python3.10/site-packages/py4j/clientserver.py:438\u001b[0m, in \u001b[0;36mClientServerConnection.connect_to_java_server\u001b[0;34m(self)\u001b[0m\n\u001b[1;32m    435\u001b[0m \u001b[38;5;28;01mif\u001b[39;00m \u001b[38;5;28mself\u001b[39m\u001b[38;5;241m.\u001b[39mssl_context:\n\u001b[1;32m    436\u001b[0m     \u001b[38;5;28mself\u001b[39m\u001b[38;5;241m.\u001b[39msocket \u001b[38;5;241m=\u001b[39m \u001b[38;5;28mself\u001b[39m\u001b[38;5;241m.\u001b[39mssl_context\u001b[38;5;241m.\u001b[39mwrap_socket(\n\u001b[1;32m    437\u001b[0m         \u001b[38;5;28mself\u001b[39m\u001b[38;5;241m.\u001b[39msocket, server_hostname\u001b[38;5;241m=\u001b[39m\u001b[38;5;28mself\u001b[39m\u001b[38;5;241m.\u001b[39mjava_address)\n\u001b[0;32m--> 438\u001b[0m \u001b[38;5;28;43mself\u001b[39;49m\u001b[38;5;241;43m.\u001b[39;49m\u001b[43msocket\u001b[49m\u001b[38;5;241;43m.\u001b[39;49m\u001b[43mconnect\u001b[49m\u001b[43m(\u001b[49m\u001b[43m(\u001b[49m\u001b[38;5;28;43mself\u001b[39;49m\u001b[38;5;241;43m.\u001b[39;49m\u001b[43mjava_address\u001b[49m\u001b[43m,\u001b[49m\u001b[43m \u001b[49m\u001b[38;5;28;43mself\u001b[39;49m\u001b[38;5;241;43m.\u001b[39;49m\u001b[43mjava_port\u001b[49m\u001b[43m)\u001b[49m\u001b[43m)\u001b[49m\n\u001b[1;32m    439\u001b[0m \u001b[38;5;28mself\u001b[39m\u001b[38;5;241m.\u001b[39mstream \u001b[38;5;241m=\u001b[39m \u001b[38;5;28mself\u001b[39m\u001b[38;5;241m.\u001b[39msocket\u001b[38;5;241m.\u001b[39mmakefile(\u001b[38;5;124m\"\u001b[39m\u001b[38;5;124mrb\u001b[39m\u001b[38;5;124m\"\u001b[39m)\n\u001b[1;32m    440\u001b[0m \u001b[38;5;28mself\u001b[39m\u001b[38;5;241m.\u001b[39mis_connected \u001b[38;5;241m=\u001b[39m \u001b[38;5;28;01mTrue\u001b[39;00m\n",
      "\u001b[0;31mConnectionRefusedError\u001b[0m: [Errno 111] Connection refused"
     ]
    }
   ],
   "source": [
    "#Davyn\n",
    "starting_chunk = 3048\n",
    "run_chunk(starting_chunk)"
   ]
  },
  {
   "cell_type": "code",
   "execution_count": 6,
   "metadata": {},
   "outputs": [
    {
     "name": "stdout",
     "output_type": "stream",
     "text": [
      "Scraping data for coolaroo (3048)\n"
     ]
    },
    {
     "name": "stderr",
     "output_type": "stream",
     "text": [
      "/tmp/ipykernel_30571/2477479290.py:69: DeprecationWarning: The 'text' argument to find()-type methods is deprecated. Use 'string' instead.\n",
      "  no_results = bs_object.find(text=re.compile(\"No results found\", re.I))\n"
     ]
    },
    {
     "name": "stdout",
     "output_type": "stream",
     "text": [
      "No more results for coolaroo on page 2.\n"
     ]
    },
    {
     "name": "stderr",
     "output_type": "stream",
     "text": [
      "100% successful: 100%|██████████| 1/1 [00:01<00:00,  1.42s/it]\n"
     ]
    },
    {
     "name": "stdout",
     "output_type": "stream",
     "text": [
      "Scraping data for meadow-heights (3048)\n",
      "No more results for meadow-heights on page 2.\n"
     ]
    },
    {
     "name": "stderr",
     "output_type": "stream",
     "text": [
      "100% successful: 100%|██████████| 17/17 [00:23<00:00,  1.37s/it]\n"
     ]
    },
    {
     "name": "stdout",
     "output_type": "stream",
     "text": [
      "Scraping data for attwood (3049)\n",
      "No more results for attwood on page 1.\n",
      "No results for attwood. Moving to the next suburb.\n",
      "Scraping data for westmeadows (3049)\n",
      "No more results for westmeadows on page 2.\n"
     ]
    },
    {
     "name": "stderr",
     "output_type": "stream",
     "text": [
      "100% successful: 100%|██████████| 8/8 [00:09<00:00,  1.19s/it]\n"
     ]
    },
    {
     "name": "stdout",
     "output_type": "stream",
     "text": [
      "Scraping data for royal-melbourne-hospital (3050)\n",
      "Error fetching https://www.domain.com.au/rent/royal-melbourne-hospital-vic-3050/?ssubs=0&sort=suburb-asc&page=1: HTTP Error 404: Not Found\n",
      "No results for royal-melbourne-hospital. Moving to the next suburb.\n",
      "Scraping data for hotham-hill (3051)\n",
      "Error fetching https://www.domain.com.au/rent/hotham-hill-vic-3051/?ssubs=0&sort=suburb-asc&page=1: HTTP Error 404: Not Found\n",
      "No results for hotham-hill. Moving to the next suburb.\n",
      "Scraping data for north-melbourne (3051)\n",
      "No more results for north-melbourne on page 6.\n"
     ]
    },
    {
     "name": "stderr",
     "output_type": "stream",
     "text": [
      "100% successful: 100%|██████████| 98/98 [02:00<00:00,  1.23s/it]\n"
     ]
    },
    {
     "name": "stdout",
     "output_type": "stream",
     "text": [
      "Scraping data for melbourne-university (3052)\n",
      "Error fetching https://www.domain.com.au/rent/melbourne-university-vic-3052/?ssubs=0&sort=suburb-asc&page=1: HTTP Error 404: Not Found\n",
      "No results for melbourne-university. Moving to the next suburb.\n",
      "Scraping data for parkville (3052)\n",
      "No more results for parkville on page 3.\n"
     ]
    },
    {
     "name": "stderr",
     "output_type": "stream",
     "text": [
      "100% successful: 100%|██████████| 28/28 [00:33<00:00,  1.19s/it]\n"
     ]
    },
    {
     "name": "stdout",
     "output_type": "stream",
     "text": [
      "Scraping data for carlton (3053)\n",
      "No more results for carlton on page 11.\n"
     ]
    },
    {
     "name": "stderr",
     "output_type": "stream",
     "text": [
      "100% successful: 100%|██████████| 196/196 [03:47<00:00,  1.16s/it]\n"
     ]
    },
    {
     "name": "stdout",
     "output_type": "stream",
     "text": [
      "Scraping data for carlton-south (3053)\n",
      "No more results for carlton-south on page 1.\n",
      "No results for carlton-south. Moving to the next suburb.\n",
      "Scraping data for carlton-north (3054)\n",
      "No more results for carlton-north on page 2.\n"
     ]
    },
    {
     "name": "stderr",
     "output_type": "stream",
     "text": [
      "100% successful: 100%|██████████| 15/15 [00:21<00:00,  1.41s/it]\n"
     ]
    },
    {
     "name": "stdout",
     "output_type": "stream",
     "text": [
      "Scraping data for princes-hill (3054)\n",
      "No more results for princes-hill on page 2.\n"
     ]
    },
    {
     "name": "stderr",
     "output_type": "stream",
     "text": [
      "100% successful: 100%|██████████| 2/2 [00:02<00:00,  1.07s/it]\n"
     ]
    },
    {
     "name": "stdout",
     "output_type": "stream",
     "text": [
      "Scraping data for brunswick-south (3055)\n",
      "Error fetching https://www.domain.com.au/rent/brunswick-south-vic-3055/?ssubs=0&sort=suburb-asc&page=1: HTTP Error 404: Not Found\n",
      "No results for brunswick-south. Moving to the next suburb.\n",
      "Scraping data for brunswick-west (3055)\n",
      "No more results for brunswick-west on page 4.\n"
     ]
    },
    {
     "name": "stderr",
     "output_type": "stream",
     "text": [
      "100% successful: 100%|██████████| 56/56 [01:10<00:00,  1.26s/it]\n"
     ]
    },
    {
     "name": "stdout",
     "output_type": "stream",
     "text": [
      "Scraping data for moonee-vale (3055)\n",
      "Error fetching https://www.domain.com.au/rent/moonee-vale-vic-3055/?ssubs=0&sort=suburb-asc&page=1: HTTP Error 404: Not Found\n",
      "No results for moonee-vale. Moving to the next suburb.\n",
      "Scraping data for moreland-west (3055)\n",
      "Error fetching https://www.domain.com.au/rent/moreland-west-vic-3055/?ssubs=0&sort=suburb-asc&page=1: HTTP Error 404: Not Found\n",
      "No results for moreland-west. Moving to the next suburb.\n",
      "Scraping data for brunswick (3056)\n",
      "No more results for brunswick on page 6.\n"
     ]
    },
    {
     "name": "stderr",
     "output_type": "stream",
     "text": [
      "100% successful: 100%|██████████| 88/88 [01:43<00:00,  1.17s/it]\n"
     ]
    },
    {
     "name": "stdout",
     "output_type": "stream",
     "text": [
      "Scraping data for brunswick-lower (3056)\n",
      "Error fetching https://www.domain.com.au/rent/brunswick-lower-vic-3056/?ssubs=0&sort=suburb-asc&page=1: HTTP Error 404: Not Found\n",
      "No results for brunswick-lower. Moving to the next suburb.\n",
      "Scraping data for brunswick-north (3056)\n",
      "No more results for brunswick-north on page 1.\n",
      "No results for brunswick-north. Moving to the next suburb.\n",
      "Scraping data for brunswick-east (3057)\n",
      "No more results for brunswick-east on page 5.\n"
     ]
    },
    {
     "name": "stderr",
     "output_type": "stream",
     "text": [
      "100% successful: 100%|██████████| 61/61 [01:13<00:00,  1.21s/it]\n"
     ]
    },
    {
     "name": "stdout",
     "output_type": "stream",
     "text": [
      "Scraping data for lygon-street-north (3057)\n",
      "Error fetching https://www.domain.com.au/rent/lygon-street-north-vic-3057/?ssubs=0&sort=suburb-asc&page=1: HTTP Error 404: Not Found\n",
      "No results for lygon-street-north. Moving to the next suburb.\n",
      "Scraping data for sumner (3057)\n",
      "Error fetching https://www.domain.com.au/rent/sumner-vic-3057/?ssubs=0&sort=suburb-asc&page=1: HTTP Error 404: Not Found\n",
      "No results for sumner. Moving to the next suburb.\n",
      "Scraping data for batman (3058)\n",
      "Error fetching https://www.domain.com.au/rent/batman-vic-3058/?ssubs=0&sort=suburb-asc&page=1: HTTP Error 404: Not Found\n",
      "No results for batman. Moving to the next suburb.\n",
      "Scraping data for coburg (3058)\n",
      "No more results for coburg on page 4.\n"
     ]
    },
    {
     "name": "stderr",
     "output_type": "stream",
     "text": [
      "100% successful: 100%|██████████| 53/53 [01:01<00:00,  1.16s/it]\n"
     ]
    },
    {
     "name": "stdout",
     "output_type": "stream",
     "text": [
      "Scraping data for coburg-north (3058)\n",
      "No more results for coburg-north on page 2.\n"
     ]
    },
    {
     "name": "stderr",
     "output_type": "stream",
     "text": [
      "100% successful: 100%|██████████| 7/7 [00:09<00:00,  1.41s/it]\n"
     ]
    },
    {
     "name": "stdout",
     "output_type": "stream",
     "text": [
      "Scraping data for merlynston (3058)\n",
      "Error fetching https://www.domain.com.au/rent/merlynston-vic-3058/?ssubs=0&sort=suburb-asc&page=1: HTTP Error 404: Not Found\n",
      "No results for merlynston. Moving to the next suburb.\n",
      "Scraping data for moreland (3058)\n",
      "Error fetching https://www.domain.com.au/rent/moreland-vic-3058/?ssubs=0&sort=suburb-asc&page=1: HTTP Error 404: Not Found\n",
      "No results for moreland. Moving to the next suburb.\n",
      "Scraping data for greenvale (3059)\n",
      "No more results for greenvale on page 2.\n"
     ]
    },
    {
     "name": "stderr",
     "output_type": "stream",
     "text": [
      "100% successful: 100%|██████████| 16/16 [00:21<00:00,  1.35s/it]\n"
     ]
    },
    {
     "name": "stdout",
     "output_type": "stream",
     "text": [
      "Scraping data for fawkner (3060)\n",
      "No more results for fawkner on page 2.\n"
     ]
    },
    {
     "name": "stderr",
     "output_type": "stream",
     "text": [
      "100% successful: 100%|██████████| 20/20 [00:23<00:00,  1.20s/it]\n"
     ]
    },
    {
     "name": "stdout",
     "output_type": "stream",
     "text": [
      "Scraping data for fawkner-east (3060)\n",
      "Error fetching https://www.domain.com.au/rent/fawkner-east-vic-3060/?ssubs=0&sort=suburb-asc&page=1: HTTP Error 404: Not Found\n",
      "No results for fawkner-east. Moving to the next suburb.\n",
      "Scraping data for fawkner-north (3060)\n",
      "Error fetching https://www.domain.com.au/rent/fawkner-north-vic-3060/?ssubs=0&sort=suburb-asc&page=1: HTTP Error 404: Not Found\n",
      "No results for fawkner-north. Moving to the next suburb.\n",
      "Scraping data for campbellfield (3061)\n",
      "No more results for campbellfield on page 2.\n"
     ]
    },
    {
     "name": "stderr",
     "output_type": "stream",
     "text": [
      "100% successful: 100%|██████████| 5/5 [00:07<00:00,  1.43s/it]\n"
     ]
    },
    {
     "name": "stdout",
     "output_type": "stream",
     "text": [
      "Scraping data for somerton (3062)\n",
      "No more results for somerton on page 1.\n",
      "No results for somerton. Moving to the next suburb.\n",
      "Scraping data for oaklands-junction (3063)\n",
      "No more results for oaklands-junction on page 1.\n",
      "No results for oaklands-junction. Moving to the next suburb.\n",
      "Scraping data for yuroke (3063)\n",
      "No more results for yuroke on page 1.\n",
      "No results for yuroke. Moving to the next suburb.\n",
      "Scraping data for craigieburn (3064)\n",
      "No more results for craigieburn on page 5.\n"
     ]
    },
    {
     "name": "stderr",
     "output_type": "stream",
     "text": [
      "100% successful: 100%|██████████| 71/71 [01:32<00:00,  1.30s/it]\n"
     ]
    },
    {
     "name": "stdout",
     "output_type": "stream",
     "text": [
      "Scraping data for donnybrook (3064)\n",
      "No more results for donnybrook on page 4.\n"
     ]
    },
    {
     "name": "stderr",
     "output_type": "stream",
     "text": [
      "100% successful: 100%|██████████| 58/58 [01:10<00:00,  1.22s/it]\n"
     ]
    },
    {
     "name": "stdout",
     "output_type": "stream",
     "text": [
      "Scraping data for kalkallo (3064)\n",
      "No more results for kalkallo on page 4.\n"
     ]
    },
    {
     "name": "stderr",
     "output_type": "stream",
     "text": [
      "100% successful: 100%|██████████| 43/43 [00:51<00:00,  1.20s/it]\n"
     ]
    },
    {
     "name": "stdout",
     "output_type": "stream",
     "text": [
      "Scraping data for mickleham (3064)\n",
      "No more results for mickleham on page 4.\n"
     ]
    },
    {
     "name": "stderr",
     "output_type": "stream",
     "text": [
      "100% successful: 100%|██████████| 53/53 [01:08<00:00,  1.30s/it]\n"
     ]
    },
    {
     "name": "stdout",
     "output_type": "stream",
     "text": [
      "Scraping data for roxburgh-park (3064)\n",
      "No more results for roxburgh-park on page 2.\n"
     ]
    },
    {
     "name": "stderr",
     "output_type": "stream",
     "text": [
      "100% successful: 100%|██████████| 9/9 [00:10<00:00,  1.16s/it]\n"
     ]
    },
    {
     "name": "stdout",
     "output_type": "stream",
     "text": [
      "Scraping data for fitzroy (3065)\n",
      "No more results for fitzroy on page 4.\n"
     ]
    },
    {
     "name": "stderr",
     "output_type": "stream",
     "text": [
      "100% successful: 100%|██████████| 44/44 [00:55<00:00,  1.26s/it]\n"
     ]
    },
    {
     "name": "stdout",
     "output_type": "stream",
     "text": [
      "Scraping data for collingwood (3066)\n",
      "No more results for collingwood on page 4.\n"
     ]
    },
    {
     "name": "stderr",
     "output_type": "stream",
     "text": [
      "100% successful: 100%|██████████| 49/49 [01:04<00:00,  1.32s/it]\n"
     ]
    },
    {
     "name": "stdout",
     "output_type": "stream",
     "text": [
      "Scraping data for collingwood-north (3066)\n",
      "No more results for collingwood-north on page 1.\n",
      "No results for collingwood-north. Moving to the next suburb.\n",
      "Scraping data for abbotsford (3067)\n",
      "No more results for abbotsford on page 4.\n"
     ]
    },
    {
     "name": "stderr",
     "output_type": "stream",
     "text": [
      "100% successful: 100%|██████████| 52/52 [01:07<00:00,  1.29s/it]\n"
     ]
    },
    {
     "name": "stdout",
     "output_type": "stream",
     "text": [
      "Scraping data for clifton-hill (3068)\n",
      "No more results for clifton-hill on page 2.\n"
     ]
    },
    {
     "name": "stderr",
     "output_type": "stream",
     "text": [
      "100% successful: 100%|██████████| 13/13 [00:19<00:00,  1.48s/it]\n"
     ]
    },
    {
     "name": "stdout",
     "output_type": "stream",
     "text": [
      "Scraping data for fitzroy-north (3068)\n",
      "No more results for fitzroy-north on page 3.\n"
     ]
    },
    {
     "name": "stderr",
     "output_type": "stream",
     "text": [
      "100% successful: 100%|██████████| 37/37 [00:47<00:00,  1.27s/it]\n"
     ]
    },
    {
     "name": "stdout",
     "output_type": "stream",
     "text": [
      "Scraping data for northcote (3070)\n",
      "No more results for northcote on page 4.\n"
     ]
    },
    {
     "name": "stderr",
     "output_type": "stream",
     "text": [
      "100% successful: 100%|██████████| 50/50 [01:13<00:00,  1.47s/it]\n"
     ]
    },
    {
     "name": "stdout",
     "output_type": "stream",
     "text": [
      "Scraping data for northcote-south (3070)\n",
      "Error fetching https://www.domain.com.au/rent/northcote-south-vic-3070/?ssubs=0&sort=suburb-asc&page=1: HTTP Error 404: Not Found\n",
      "No results for northcote-south. Moving to the next suburb.\n",
      "Scraping data for thornbury (3071)\n",
      "No more results for thornbury on page 4.\n"
     ]
    },
    {
     "name": "stderr",
     "output_type": "stream",
     "text": [
      "100% successful: 100%|██████████| 44/44 [00:59<00:00,  1.36s/it]\n"
     ]
    },
    {
     "name": "stdout",
     "output_type": "stream",
     "text": [
      "Scraping data for gilberton (3072)\n",
      "Error fetching https://www.domain.com.au/rent/gilberton-vic-3072/?ssubs=0&sort=suburb-asc&page=1: HTTP Error 404: Not Found\n",
      "No results for gilberton. Moving to the next suburb.\n",
      "Scraping data for northland-centre (3072)\n",
      "Error fetching https://www.domain.com.au/rent/northland-centre-vic-3072/?ssubs=0&sort=suburb-asc&page=1: HTTP Error 404: Not Found\n",
      "No results for northland-centre. Moving to the next suburb.\n",
      "Scraping data for preston (3072)\n",
      "No more results for preston on page 5.\n"
     ]
    },
    {
     "name": "stderr",
     "output_type": "stream",
     "text": [
      "100% successful: 100%|██████████| 76/76 [01:36<00:00,  1.27s/it]\n"
     ]
    },
    {
     "name": "stdout",
     "output_type": "stream",
     "text": [
      "Scraping data for preston-lower (3072)\n",
      "Error fetching https://www.domain.com.au/rent/preston-lower-vic-3072/?ssubs=0&sort=suburb-asc&page=1: HTTP Error 404: Not Found\n",
      "No results for preston-lower. Moving to the next suburb.\n",
      "Scraping data for preston-south (3072)\n",
      "No more results for preston-south on page 1.\n",
      "No results for preston-south. Moving to the next suburb.\n",
      "Scraping data for preston-west (3072)\n",
      "No more results for preston-west on page 2.\n"
     ]
    },
    {
     "name": "stderr",
     "output_type": "stream",
     "text": [
      "100% successful: 100%|██████████| 2/2 [00:03<00:00,  1.96s/it]\n"
     ]
    },
    {
     "name": "stdout",
     "output_type": "stream",
     "text": [
      "Scraping data for regent-west (3072)\n",
      "No more results for regent-west on page 1.\n",
      "No results for regent-west. Moving to the next suburb.\n",
      "Scraping data for sylvester (3072)\n",
      "Error fetching https://www.domain.com.au/rent/sylvester-vic-3072/?ssubs=0&sort=suburb-asc&page=1: HTTP Error 404: Not Found\n",
      "No results for sylvester. Moving to the next suburb.\n",
      "Scraping data for keon-park (3073)\n",
      "Error fetching https://www.domain.com.au/rent/keon-park-vic-3073/?ssubs=0&sort=suburb-asc&page=1: HTTP Error 404: Not Found\n",
      "No results for keon-park. Moving to the next suburb.\n",
      "Scraping data for reservoir (3073)\n",
      "No more results for reservoir on page 7.\n"
     ]
    },
    {
     "name": "stderr",
     "output_type": "stream",
     "text": [
      "100% successful: 100%|██████████| 110/110 [02:22<00:00,  1.30s/it]\n"
     ]
    },
    {
     "name": "stdout",
     "output_type": "stream",
     "text": [
      "Scraping data for reservoir-east (3073)\n",
      "Error fetching https://www.domain.com.au/rent/reservoir-east-vic-3073/?ssubs=0&sort=suburb-asc&page=1: HTTP Error 404: Not Found\n",
      "No results for reservoir-east. Moving to the next suburb.\n",
      "Scraping data for reservoir-north (3073)\n",
      "Error fetching https://www.domain.com.au/rent/reservoir-north-vic-3073/?ssubs=0&sort=suburb-asc&page=1: HTTP Error 404: Not Found\n",
      "No results for reservoir-north. Moving to the next suburb.\n",
      "Scraping data for reservoir-south (3073)\n",
      "Error fetching https://www.domain.com.au/rent/reservoir-south-vic-3073/?ssubs=0&sort=suburb-asc&page=1: HTTP Error 404: Not Found\n",
      "No results for reservoir-south. Moving to the next suburb.\n"
     ]
    },
    {
     "name": "stderr",
     "output_type": "stream",
     "text": [
      "24/09/17 19:26:44 WARN DAGScheduler: Broadcasting large task binary with size 8.5 MiB\n",
      "                                                                                \r"
     ]
    },
    {
     "name": "stdout",
     "output_type": "stream",
     "text": [
      "Data successfully written\n",
      "chunk finished\n",
      "Scraping data for keon-park (3073)\n",
      "Error fetching https://www.domain.com.au/rent/keon-park-vic-3073/?ssubs=0&sort=suburb-asc&page=1: HTTP Error 404: Not Found\n",
      "No results for keon-park. Moving to the next suburb.\n",
      "Scraping data for reservoir (3073)\n",
      "No more results for reservoir on page 7.\n"
     ]
    },
    {
     "name": "stderr",
     "output_type": "stream",
     "text": [
      "100% successful: 100%|██████████| 110/110 [02:12<00:00,  1.21s/it]\n"
     ]
    },
    {
     "name": "stdout",
     "output_type": "stream",
     "text": [
      "Scraping data for reservoir-east (3073)\n",
      "Error fetching https://www.domain.com.au/rent/reservoir-east-vic-3073/?ssubs=0&sort=suburb-asc&page=1: HTTP Error 404: Not Found\n",
      "No results for reservoir-east. Moving to the next suburb.\n",
      "Scraping data for reservoir-north (3073)\n",
      "Error fetching https://www.domain.com.au/rent/reservoir-north-vic-3073/?ssubs=0&sort=suburb-asc&page=1: HTTP Error 404: Not Found\n",
      "No results for reservoir-north. Moving to the next suburb.\n",
      "Scraping data for reservoir-south (3073)\n",
      "Error fetching https://www.domain.com.au/rent/reservoir-south-vic-3073/?ssubs=0&sort=suburb-asc&page=1: HTTP Error 404: Not Found\n",
      "No results for reservoir-south. Moving to the next suburb.\n",
      "Scraping data for thomastown (3074)\n",
      "No more results for thomastown on page 3.\n"
     ]
    },
    {
     "name": "stderr",
     "output_type": "stream",
     "text": [
      "100% successful: 100%|██████████| 30/30 [00:35<00:00,  1.19s/it]\n"
     ]
    },
    {
     "name": "stdout",
     "output_type": "stream",
     "text": [
      "Scraping data for lalor (3075)\n",
      "No more results for lalor on page 3.\n"
     ]
    },
    {
     "name": "stderr",
     "output_type": "stream",
     "text": [
      "100% successful: 100%|██████████| 33/33 [00:38<00:00,  1.16s/it]\n"
     ]
    },
    {
     "name": "stdout",
     "output_type": "stream",
     "text": [
      "Scraping data for lalor-plaza (3075)\n",
      "Error fetching https://www.domain.com.au/rent/lalor-plaza-vic-3075/?ssubs=0&sort=suburb-asc&page=1: HTTP Error 404: Not Found\n",
      "No results for lalor-plaza. Moving to the next suburb.\n",
      "Scraping data for epping (3076)\n",
      "No more results for epping on page 4.\n"
     ]
    },
    {
     "name": "stderr",
     "output_type": "stream",
     "text": [
      "100% successful: 100%|██████████| 57/57 [01:05<00:00,  1.14s/it]\n"
     ]
    },
    {
     "name": "stdout",
     "output_type": "stream",
     "text": [
      "Scraping data for epping-dc (3076)\n",
      "Error fetching https://www.domain.com.au/rent/epping-dc-vic-3076/?ssubs=0&sort=suburb-asc&page=1: HTTP Error 404: Not Found\n",
      "No results for epping-dc. Moving to the next suburb.\n",
      "Scraping data for alphington (3078)\n",
      "No more results for alphington on page 3.\n"
     ]
    },
    {
     "name": "stderr",
     "output_type": "stream",
     "text": [
      "100% successful: 100%|██████████| 24/24 [00:28<00:00,  1.21s/it]\n"
     ]
    },
    {
     "name": "stdout",
     "output_type": "stream",
     "text": [
      "Scraping data for fairfield (3078)\n",
      "No more results for fairfield on page 2.\n"
     ]
    },
    {
     "name": "stderr",
     "output_type": "stream",
     "text": [
      "100% successful: 100%|██████████| 13/13 [00:18<00:00,  1.44s/it]\n"
     ]
    },
    {
     "name": "stdout",
     "output_type": "stream",
     "text": [
      "Scraping data for ivanhoe (3079)\n",
      "No more results for ivanhoe on page 4.\n"
     ]
    },
    {
     "name": "stderr",
     "output_type": "stream",
     "text": [
      "100% successful: 100%|██████████| 41/41 [00:49<00:00,  1.21s/it]\n"
     ]
    },
    {
     "name": "stdout",
     "output_type": "stream",
     "text": [
      "Scraping data for ivanhoe-east (3079)\n",
      "No more results for ivanhoe-east on page 2.\n"
     ]
    },
    {
     "name": "stderr",
     "output_type": "stream",
     "text": [
      "100% successful: 100%|██████████| 2/2 [00:02<00:00,  1.17s/it]\n"
     ]
    },
    {
     "name": "stdout",
     "output_type": "stream",
     "text": [
      "Scraping data for ivanhoe-north (3079)\n",
      "Error fetching https://www.domain.com.au/rent/ivanhoe-north-vic-3079/?ssubs=0&sort=suburb-asc&page=1: HTTP Error 404: Not Found\n",
      "No results for ivanhoe-north. Moving to the next suburb.\n",
      "Scraping data for bellfield (3081)\n",
      "No more results for bellfield on page 2.\n"
     ]
    },
    {
     "name": "stderr",
     "output_type": "stream",
     "text": [
      "100% successful: 100%|██████████| 3/3 [00:03<00:00,  1.12s/it]\n"
     ]
    },
    {
     "name": "stdout",
     "output_type": "stream",
     "text": [
      "Scraping data for heidelberg-heights (3081)\n",
      "No more results for heidelberg-heights on page 2.\n"
     ]
    },
    {
     "name": "stderr",
     "output_type": "stream",
     "text": [
      "100% successful: 100%|██████████| 19/19 [00:23<00:00,  1.25s/it]\n"
     ]
    },
    {
     "name": "stdout",
     "output_type": "stream",
     "text": [
      "Scraping data for heidelberg-rgh (3081)\n",
      "Error fetching https://www.domain.com.au/rent/heidelberg-rgh-vic-3081/?ssubs=0&sort=suburb-asc&page=1: HTTP Error 404: Not Found\n",
      "No results for heidelberg-rgh. Moving to the next suburb.\n",
      "Scraping data for heidelberg-west (3081)\n",
      "No more results for heidelberg-west on page 2.\n"
     ]
    },
    {
     "name": "stderr",
     "output_type": "stream",
     "text": [
      "100% successful: 100%|██████████| 13/13 [00:14<00:00,  1.14s/it]\n"
     ]
    },
    {
     "name": "stdout",
     "output_type": "stream",
     "text": [
      "Scraping data for mill-park (3082)\n",
      "No more results for mill-park on page 3.\n"
     ]
    },
    {
     "name": "stderr",
     "output_type": "stream",
     "text": [
      "100% successful: 100%|██████████| 36/36 [00:43<00:00,  1.21s/it]\n"
     ]
    },
    {
     "name": "stdout",
     "output_type": "stream",
     "text": [
      "Scraping data for bundoora (3083)\n",
      "No more results for bundoora on page 4.\n"
     ]
    },
    {
     "name": "stderr",
     "output_type": "stream",
     "text": [
      "100% successful: 100%|██████████| 45/45 [00:54<00:00,  1.21s/it]\n"
     ]
    },
    {
     "name": "stdout",
     "output_type": "stream",
     "text": [
      "Scraping data for kingsbury (3083)\n",
      "No more results for kingsbury on page 2.\n"
     ]
    },
    {
     "name": "stderr",
     "output_type": "stream",
     "text": [
      "100% successful: 100%|██████████| 11/11 [00:12<00:00,  1.14s/it]\n"
     ]
    },
    {
     "name": "stdout",
     "output_type": "stream",
     "text": [
      "Scraping data for la-trobe-university (3083)\n",
      "Error fetching https://www.domain.com.au/rent/la-trobe-university-vic-3083/?ssubs=0&sort=suburb-asc&page=1: HTTP Error 404: Not Found\n",
      "No results for la-trobe-university. Moving to the next suburb.\n",
      "Scraping data for banyule (3084)\n",
      "Error fetching https://www.domain.com.au/rent/banyule-vic-3084/?ssubs=0&sort=suburb-asc&page=1: HTTP Error 404: Not Found\n",
      "No results for banyule. Moving to the next suburb.\n",
      "Scraping data for eaglemont (3084)\n",
      "No more results for eaglemont on page 2.\n"
     ]
    },
    {
     "name": "stderr",
     "output_type": "stream",
     "text": [
      "100% successful: 100%|██████████| 2/2 [00:02<00:00,  1.05s/it]\n"
     ]
    },
    {
     "name": "stdout",
     "output_type": "stream",
     "text": [
      "Scraping data for heidelberg (3084)\n",
      "No more results for heidelberg on page 2.\n"
     ]
    },
    {
     "name": "stderr",
     "output_type": "stream",
     "text": [
      "100% successful: 100%|██████████| 20/20 [00:23<00:00,  1.19s/it]\n"
     ]
    },
    {
     "name": "stdout",
     "output_type": "stream",
     "text": [
      "Scraping data for rosanna (3084)\n",
      "No more results for rosanna on page 2.\n"
     ]
    },
    {
     "name": "stderr",
     "output_type": "stream",
     "text": [
      "100% successful: 100%|██████████| 8/8 [00:10<00:00,  1.36s/it]\n"
     ]
    },
    {
     "name": "stdout",
     "output_type": "stream",
     "text": [
      "Scraping data for viewbank (3084)\n",
      "No more results for viewbank on page 2.\n"
     ]
    },
    {
     "name": "stderr",
     "output_type": "stream",
     "text": [
      "100% successful: 100%|██████████| 6/6 [00:06<00:00,  1.16s/it]\n"
     ]
    },
    {
     "name": "stdout",
     "output_type": "stream",
     "text": [
      "Scraping data for macleod (3085)\n",
      "No more results for macleod on page 2.\n"
     ]
    },
    {
     "name": "stderr",
     "output_type": "stream",
     "text": [
      "100% successful: 100%|██████████| 14/14 [00:17<00:00,  1.24s/it]\n"
     ]
    },
    {
     "name": "stdout",
     "output_type": "stream",
     "text": [
      "Scraping data for macleod-west (3085)\n",
      "Error fetching https://www.domain.com.au/rent/macleod-west-vic-3085/?ssubs=0&sort=suburb-asc&page=1: HTTP Error 404: Not Found\n",
      "No results for macleod-west. Moving to the next suburb.\n",
      "Scraping data for yallambie (3085)\n",
      "No more results for yallambie on page 2.\n"
     ]
    },
    {
     "name": "stderr",
     "output_type": "stream",
     "text": [
      "100% successful: 100%|██████████| 4/4 [00:05<00:00,  1.29s/it]\n"
     ]
    },
    {
     "name": "stdout",
     "output_type": "stream",
     "text": [
      "Scraping data for la-trobe-university (3086)\n",
      "Error fetching https://www.domain.com.au/rent/la-trobe-university-vic-3086/?ssubs=0&sort=suburb-asc&page=1: HTTP Error 404: Not Found\n",
      "No results for la-trobe-university. Moving to the next suburb.\n",
      "Scraping data for watsonia (3087)\n",
      "No more results for watsonia on page 2.\n"
     ]
    },
    {
     "name": "stderr",
     "output_type": "stream",
     "text": [
      "100% successful: 100%|██████████| 8/8 [00:11<00:00,  1.43s/it]\n"
     ]
    },
    {
     "name": "stdout",
     "output_type": "stream",
     "text": [
      "Scraping data for watsonia-north (3087)\n",
      "No more results for watsonia-north on page 2.\n"
     ]
    },
    {
     "name": "stderr",
     "output_type": "stream",
     "text": [
      "100% successful: 100%|██████████| 2/2 [00:02<00:00,  1.29s/it]\n"
     ]
    },
    {
     "name": "stdout",
     "output_type": "stream",
     "text": [
      "Scraping data for briar-hill (3088)\n",
      "No more results for briar-hill on page 2.\n"
     ]
    },
    {
     "name": "stderr",
     "output_type": "stream",
     "text": [
      "100% successful: 100%|██████████| 4/4 [00:04<00:00,  1.12s/it]\n"
     ]
    },
    {
     "name": "stdout",
     "output_type": "stream",
     "text": [
      "Scraping data for greensborough (3088)\n",
      "No more results for greensborough on page 2.\n"
     ]
    },
    {
     "name": "stderr",
     "output_type": "stream",
     "text": [
      "100% successful: 100%|██████████| 12/12 [00:13<00:00,  1.15s/it]\n"
     ]
    },
    {
     "name": "stdout",
     "output_type": "stream",
     "text": [
      "Scraping data for saint-helena (3088)\n",
      "Error fetching https://www.domain.com.au/rent/saint-helena-vic-3088/?ssubs=0&sort=suburb-asc&page=1: HTTP Error 404: Not Found\n",
      "No results for saint-helena. Moving to the next suburb.\n",
      "Scraping data for st-helena (3088)\n",
      "No more results for st-helena on page 2.\n"
     ]
    },
    {
     "name": "stderr",
     "output_type": "stream",
     "text": [
      "100% successful: 100%|██████████| 3/3 [00:03<00:00,  1.25s/it]\n"
     ]
    },
    {
     "name": "stdout",
     "output_type": "stream",
     "text": [
      "Scraping data for diamond-creek (3089)\n",
      "No more results for diamond-creek on page 2.\n"
     ]
    },
    {
     "name": "stderr",
     "output_type": "stream",
     "text": [
      "100% successful: 100%|██████████| 3/3 [00:03<00:00,  1.16s/it]\n"
     ]
    },
    {
     "name": "stdout",
     "output_type": "stream",
     "text": [
      "Scraping data for plenty (3090)\n",
      "No more results for plenty on page 1.\n",
      "No results for plenty. Moving to the next suburb.\n",
      "Scraping data for yarrambat (3091)\n",
      "No more results for yarrambat on page 1.\n",
      "No results for yarrambat. Moving to the next suburb.\n",
      "Scraping data for lower-plenty (3093)\n",
      "No more results for lower-plenty on page 2.\n"
     ]
    },
    {
     "name": "stderr",
     "output_type": "stream",
     "text": [
      "100% successful: 100%|██████████| 3/3 [00:03<00:00,  1.15s/it]\n"
     ]
    },
    {
     "name": "stdout",
     "output_type": "stream",
     "text": [
      "Scraping data for montmorency (3094)\n",
      "No more results for montmorency on page 2.\n"
     ]
    },
    {
     "name": "stderr",
     "output_type": "stream",
     "text": [
      "100% successful: 100%|██████████| 6/6 [00:07<00:00,  1.18s/it]\n"
     ]
    },
    {
     "name": "stdout",
     "output_type": "stream",
     "text": [
      "Scraping data for eltham (3095)\n",
      "No more results for eltham on page 2.\n"
     ]
    },
    {
     "name": "stderr",
     "output_type": "stream",
     "text": [
      "100% successful: 100%|██████████| 12/12 [00:14<00:00,  1.25s/it]\n"
     ]
    },
    {
     "name": "stdout",
     "output_type": "stream",
     "text": [
      "Scraping data for eltham-north (3095)\n",
      "No more results for eltham-north on page 2.\n"
     ]
    },
    {
     "name": "stderr",
     "output_type": "stream",
     "text": [
      "100% successful: 100%|██████████| 2/2 [00:02<00:00,  1.13s/it]\n"
     ]
    },
    {
     "name": "stdout",
     "output_type": "stream",
     "text": [
      "Scraping data for research (3095)\n",
      "No more results for research on page 1.\n",
      "No results for research. Moving to the next suburb.\n",
      "Scraping data for wattle-glen (3096)\n",
      "No more results for wattle-glen on page 2.\n"
     ]
    },
    {
     "name": "stderr",
     "output_type": "stream",
     "text": [
      "100% successful: 100%|██████████| 1/1 [00:01<00:00,  1.51s/it]\n"
     ]
    },
    {
     "name": "stdout",
     "output_type": "stream",
     "text": [
      "Scraping data for bend-of-islands (3097)\n",
      "No more results for bend-of-islands on page 1.\n",
      "No results for bend-of-islands. Moving to the next suburb.\n",
      "Scraping data for kangaroo-ground (3097)\n",
      "No more results for kangaroo-ground on page 1.\n",
      "No results for kangaroo-ground. Moving to the next suburb.\n",
      "Scraping data for watsons-creek (3097)\n",
      "No more results for watsons-creek on page 1.\n",
      "No results for watsons-creek. Moving to the next suburb.\n"
     ]
    },
    {
     "name": "stderr",
     "output_type": "stream",
     "text": [
      "24/09/17 21:50:05 WARN DAGScheduler: Broadcasting large task binary with size 3.5 MiB\n",
      "                                                                                \r"
     ]
    },
    {
     "name": "stdout",
     "output_type": "stream",
     "text": [
      "Data successfully written\n",
      "chunk finished\n",
      "Scraping data for arthurs-creek (3099)\n",
      "No more results for arthurs-creek on page 1.\n",
      "No results for arthurs-creek. Moving to the next suburb.\n",
      "Scraping data for cottles-bridge (3099)\n",
      "No more results for cottles-bridge on page 1.\n",
      "No results for cottles-bridge. Moving to the next suburb.\n",
      "Scraping data for hurstbridge (3099)\n",
      "No more results for hurstbridge on page 2.\n"
     ]
    },
    {
     "name": "stderr",
     "output_type": "stream",
     "text": [
      "100% successful: 100%|██████████| 2/2 [00:01<00:00,  1.06it/s]\n"
     ]
    },
    {
     "name": "stdout",
     "output_type": "stream",
     "text": [
      "Scraping data for nutfield (3099)\n",
      "No more results for nutfield on page 1.\n",
      "No results for nutfield. Moving to the next suburb.\n",
      "Scraping data for strathewen (3099)\n",
      "No more results for strathewen on page 1.\n",
      "No results for strathewen. Moving to the next suburb.\n",
      "Scraping data for cotham (3101)\n",
      "Error fetching https://www.domain.com.au/rent/cotham-vic-3101/?ssubs=0&sort=suburb-asc&page=1: HTTP Error 404: Not Found\n",
      "No results for cotham. Moving to the next suburb.\n",
      "Scraping data for kew (3101)\n",
      "No more results for kew on page 4.\n"
     ]
    },
    {
     "name": "stderr",
     "output_type": "stream",
     "text": [
      "100% successful: 100%|██████████| 55/55 [01:07<00:00,  1.23s/it]\n"
     ]
    },
    {
     "name": "stdout",
     "output_type": "stream",
     "text": [
      "Scraping data for kew-east (3102)\n",
      "No more results for kew-east on page 2.\n"
     ]
    },
    {
     "name": "stderr",
     "output_type": "stream",
     "text": [
      "100% successful: 100%|██████████| 9/9 [00:10<00:00,  1.12s/it]\n"
     ]
    },
    {
     "name": "stdout",
     "output_type": "stream",
     "text": [
      "Scraping data for balwyn (3103)\n",
      "No more results for balwyn on page 3.\n"
     ]
    },
    {
     "name": "stderr",
     "output_type": "stream",
     "text": [
      "100% successful: 100%|██████████| 37/37 [00:45<00:00,  1.23s/it]\n"
     ]
    },
    {
     "name": "stdout",
     "output_type": "stream",
     "text": [
      "Scraping data for balwyn-east (3103)\n",
      "Error fetching https://www.domain.com.au/rent/balwyn-east-vic-3103/?ssubs=0&sort=suburb-asc&page=1: HTTP Error 404: Not Found\n",
      "No results for balwyn-east. Moving to the next suburb.\n",
      "Scraping data for deepdene (3103)\n",
      "No more results for deepdene on page 2.\n"
     ]
    },
    {
     "name": "stderr",
     "output_type": "stream",
     "text": [
      "100% successful: 100%|██████████| 5/5 [00:06<00:00,  1.25s/it]\n"
     ]
    },
    {
     "name": "stdout",
     "output_type": "stream",
     "text": [
      "Scraping data for deepdene-dc (3103)\n",
      "Error fetching https://www.domain.com.au/rent/deepdene-dc-vic-3103/?ssubs=0&sort=suburb-asc&page=1: HTTP Error 404: Not Found\n",
      "No results for deepdene-dc. Moving to the next suburb.\n",
      "Scraping data for stradbroke-park (3103)\n",
      "Error fetching https://www.domain.com.au/rent/stradbroke-park-vic-3103/?ssubs=0&sort=suburb-asc&page=1: HTTP Error 404: Not Found\n",
      "No results for stradbroke-park. Moving to the next suburb.\n",
      "Scraping data for balwyn-north (3104)\n",
      "No more results for balwyn-north on page 4.\n"
     ]
    },
    {
     "name": "stderr",
     "output_type": "stream",
     "text": [
      "100% successful: 100%|██████████| 42/42 [00:51<00:00,  1.22s/it]\n"
     ]
    },
    {
     "name": "stdout",
     "output_type": "stream",
     "text": [
      "Scraping data for greythorn (3104)\n",
      "Error fetching https://www.domain.com.au/rent/greythorn-vic-3104/?ssubs=0&sort=suburb-asc&page=1: HTTP Error 404: Not Found\n",
      "No results for greythorn. Moving to the next suburb.\n",
      "Scraping data for bulleen (3105)\n",
      "No more results for bulleen on page 2.\n"
     ]
    },
    {
     "name": "stderr",
     "output_type": "stream",
     "text": [
      "100% successful: 100%|██████████| 14/14 [00:17<00:00,  1.27s/it]\n"
     ]
    },
    {
     "name": "stdout",
     "output_type": "stream",
     "text": [
      "Scraping data for bulleen-south (3105)\n",
      "Error fetching https://www.domain.com.au/rent/bulleen-south-vic-3105/?ssubs=0&sort=suburb-asc&page=1: HTTP Error 404: Not Found\n",
      "No results for bulleen-south. Moving to the next suburb.\n",
      "Scraping data for templestowe (3106)\n",
      "No more results for templestowe on page 2.\n"
     ]
    },
    {
     "name": "stderr",
     "output_type": "stream",
     "text": [
      "100% successful: 100%|██████████| 18/18 [00:23<00:00,  1.32s/it]\n"
     ]
    },
    {
     "name": "stdout",
     "output_type": "stream",
     "text": [
      "Scraping data for templestowe-lower (3107)\n",
      "No more results for templestowe-lower on page 2.\n"
     ]
    },
    {
     "name": "stderr",
     "output_type": "stream",
     "text": [
      "100% successful: 100%|██████████| 18/18 [00:22<00:00,  1.24s/it]\n"
     ]
    },
    {
     "name": "stdout",
     "output_type": "stream",
     "text": [
      "Scraping data for doncaster (3108)\n",
      "No more results for doncaster on page 5.\n"
     ]
    },
    {
     "name": "stderr",
     "output_type": "stream",
     "text": [
      "100% successful: 100%|██████████| 80/80 [01:40<00:00,  1.26s/it]\n"
     ]
    },
    {
     "name": "stdout",
     "output_type": "stream",
     "text": [
      "Scraping data for doncaster-east (3109)\n",
      "No more results for doncaster-east on page 5.\n"
     ]
    },
    {
     "name": "stderr",
     "output_type": "stream",
     "text": [
      "100% successful: 100%|██████████| 61/61 [01:10<00:00,  1.15s/it]\n"
     ]
    },
    {
     "name": "stdout",
     "output_type": "stream",
     "text": [
      "Scraping data for doncaster-heights (3109)\n",
      "Error fetching https://www.domain.com.au/rent/doncaster-heights-vic-3109/?ssubs=0&sort=suburb-asc&page=1: HTTP Error 404: Not Found\n",
      "No results for doncaster-heights. Moving to the next suburb.\n",
      "Scraping data for the-pines (3109)\n",
      "Error fetching https://www.domain.com.au/rent/the-pines-vic-3109/?ssubs=0&sort=suburb-asc&page=1: HTTP Error 404: Not Found\n",
      "No results for the-pines. Moving to the next suburb.\n",
      "Scraping data for tunstall-square-po (3109)\n",
      "Error fetching https://www.domain.com.au/rent/tunstall-square-po-vic-3109/?ssubs=0&sort=suburb-asc&page=1: HTTP Error 404: Not Found\n",
      "No results for tunstall-square-po. Moving to the next suburb.\n",
      "Scraping data for donvale (3111)\n",
      "No more results for donvale on page 2.\n"
     ]
    },
    {
     "name": "stderr",
     "output_type": "stream",
     "text": [
      "100% successful: 100%|██████████| 14/14 [00:19<00:00,  1.39s/it]\n"
     ]
    },
    {
     "name": "stdout",
     "output_type": "stream",
     "text": [
      "Scraping data for north-warrandyte (3113)\n",
      "No more results for north-warrandyte on page 2.\n"
     ]
    },
    {
     "name": "stderr",
     "output_type": "stream",
     "text": [
      "100% successful: 100%|██████████| 1/1 [00:01<00:00,  1.34s/it]\n"
     ]
    },
    {
     "name": "stdout",
     "output_type": "stream",
     "text": [
      "Scraping data for warrandyte (3113)\n",
      "No more results for warrandyte on page 2.\n"
     ]
    },
    {
     "name": "stderr",
     "output_type": "stream",
     "text": [
      "100% successful: 100%|██████████| 2/2 [00:02<00:00,  1.14s/it]\n"
     ]
    },
    {
     "name": "stdout",
     "output_type": "stream",
     "text": [
      "Scraping data for park-orchards (3114)\n",
      "No more results for park-orchards on page 2.\n"
     ]
    },
    {
     "name": "stderr",
     "output_type": "stream",
     "text": [
      "100% successful: 100%|██████████| 3/3 [00:03<00:00,  1.06s/it]\n"
     ]
    },
    {
     "name": "stdout",
     "output_type": "stream",
     "text": [
      "Scraping data for wonga-park (3115)\n",
      "No more results for wonga-park on page 1.\n",
      "No results for wonga-park. Moving to the next suburb.\n",
      "Scraping data for chirnside-park (3116)\n",
      "No more results for chirnside-park on page 2.\n"
     ]
    },
    {
     "name": "stderr",
     "output_type": "stream",
     "text": [
      "100% successful: 100%|██████████| 10/10 [00:12<00:00,  1.29s/it]\n"
     ]
    },
    {
     "name": "stdout",
     "output_type": "stream",
     "text": [
      "Scraping data for burnley (3121)\n",
      "No more results for burnley on page 2.\n"
     ]
    },
    {
     "name": "stderr",
     "output_type": "stream",
     "text": [
      "100% successful: 100%|██████████| 4/4 [00:04<00:00,  1.06s/it]\n"
     ]
    },
    {
     "name": "stdout",
     "output_type": "stream",
     "text": [
      "Scraping data for burnley-north (3121)\n",
      "Error fetching https://www.domain.com.au/rent/burnley-north-vic-3121/?ssubs=0&sort=suburb-asc&page=1: HTTP Error 404: Not Found\n",
      "No results for burnley-north. Moving to the next suburb.\n",
      "Scraping data for cremorne (3121)\n",
      "No more results for cremorne on page 2.\n"
     ]
    },
    {
     "name": "stderr",
     "output_type": "stream",
     "text": [
      "100% successful: 100%|██████████| 3/3 [00:03<00:00,  1.12s/it]\n"
     ]
    },
    {
     "name": "stdout",
     "output_type": "stream",
     "text": [
      "Scraping data for richmond (3121)\n",
      "No more results for richmond on page 9.\n"
     ]
    },
    {
     "name": "stderr",
     "output_type": "stream",
     "text": [
      "100% successful: 100%|██████████| 149/149 [03:56<00:00,  1.59s/it]\n"
     ]
    },
    {
     "name": "stdout",
     "output_type": "stream",
     "text": [
      "Scraping data for richmond-east (3121)\n",
      "Error fetching https://www.domain.com.au/rent/richmond-east-vic-3121/?ssubs=0&sort=suburb-asc&page=1: HTTP Error 404: Not Found\n",
      "No results for richmond-east. Moving to the next suburb.\n",
      "Scraping data for richmond-north (3121)\n",
      "Error fetching https://www.domain.com.au/rent/richmond-north-vic-3121/?ssubs=0&sort=suburb-asc&page=1: HTTP Error 404: Not Found\n",
      "No results for richmond-north. Moving to the next suburb.\n",
      "Scraping data for richmond-south (3121)\n",
      "Error fetching https://www.domain.com.au/rent/richmond-south-vic-3121/?ssubs=0&sort=suburb-asc&page=1: HTTP Error 404: Not Found\n",
      "No results for richmond-south. Moving to the next suburb.\n",
      "Scraping data for victoria-gardens (3121)\n",
      "Error fetching https://www.domain.com.au/rent/victoria-gardens-vic-3121/?ssubs=0&sort=suburb-asc&page=1: HTTP Error 404: Not Found\n",
      "No results for victoria-gardens. Moving to the next suburb.\n",
      "Scraping data for auburn-south (3122)\n",
      "Error fetching https://www.domain.com.au/rent/auburn-south-vic-3122/?ssubs=0&sort=suburb-asc&page=1: HTTP Error 404: Not Found\n",
      "No results for auburn-south. Moving to the next suburb.\n",
      "Scraping data for glenferrie-south (3122)\n",
      "Error fetching https://www.domain.com.au/rent/glenferrie-south-vic-3122/?ssubs=0&sort=suburb-asc&page=1: HTTP Error 404: Not Found\n",
      "No results for glenferrie-south. Moving to the next suburb.\n",
      "Scraping data for hawthorn (3122)\n",
      "No more results for hawthorn on page 7.\n"
     ]
    },
    {
     "name": "stderr",
     "output_type": "stream",
     "text": [
      "100% successful: 100%|██████████| 101/101 [02:06<00:00,  1.25s/it]\n"
     ]
    },
    {
     "name": "stdout",
     "output_type": "stream",
     "text": [
      "Scraping data for hawthorn-north (3122)\n",
      "Error fetching https://www.domain.com.au/rent/hawthorn-north-vic-3122/?ssubs=0&sort=suburb-asc&page=1: HTTP Error 404: Not Found\n",
      "No results for hawthorn-north. Moving to the next suburb.\n",
      "Scraping data for hawthorn-west (3122)\n",
      "Error fetching https://www.domain.com.au/rent/hawthorn-west-vic-3122/?ssubs=0&sort=suburb-asc&page=1: HTTP Error 404: Not Found\n",
      "No results for hawthorn-west. Moving to the next suburb.\n",
      "Scraping data for auburn (3123)\n",
      "Error fetching https://www.domain.com.au/rent/auburn-vic-3123/?ssubs=0&sort=suburb-asc&page=1: HTTP Error 404: Not Found\n",
      "No results for auburn. Moving to the next suburb.\n",
      "Scraping data for hawthorn-east (3123)\n",
      "No more results for hawthorn-east on page 6.\n"
     ]
    },
    {
     "name": "stderr",
     "output_type": "stream",
     "text": [
      "100% successful: 100%|██████████| 97/97 [02:02<00:00,  1.26s/it]\n",
      "24/09/17 22:17:03 WARN DAGScheduler: Broadcasting large task binary with size 4.6 MiB\n",
      "                                                                                \r"
     ]
    },
    {
     "name": "stdout",
     "output_type": "stream",
     "text": [
      "Data successfully written\n",
      "chunk finished\n",
      "Scraping data for auburn (3123)\n",
      "Error fetching https://www.domain.com.au/rent/auburn-vic-3123/?ssubs=0&sort=suburb-asc&page=1: HTTP Error 404: Not Found\n",
      "No results for auburn. Moving to the next suburb.\n",
      "Scraping data for hawthorn-east (3123)\n",
      "No more results for hawthorn-east on page 6.\n"
     ]
    },
    {
     "name": "stderr",
     "output_type": "stream",
     "text": [
      "100% successful: 100%|██████████| 97/97 [01:58<00:00,  1.22s/it]\n"
     ]
    },
    {
     "name": "stdout",
     "output_type": "stream",
     "text": [
      "Scraping data for camberwell (3124)\n",
      "No more results for camberwell on page 4.\n"
     ]
    },
    {
     "name": "stderr",
     "output_type": "stream",
     "text": [
      "100% successful: 100%|██████████| 50/50 [02:06<00:00,  2.52s/it]\n"
     ]
    },
    {
     "name": "stdout",
     "output_type": "stream",
     "text": [
      "Scraping data for camberwell-north (3124)\n",
      "Error fetching https://www.domain.com.au/rent/camberwell-north-vic-3124/?ssubs=0&sort=suburb-asc&page=1: HTTP Error 404: Not Found\n",
      "No results for camberwell-north. Moving to the next suburb.\n",
      "Scraping data for camberwell-south (3124)\n",
      "Error fetching https://www.domain.com.au/rent/camberwell-south-vic-3124/?ssubs=0&sort=suburb-asc&page=1: HTTP Error 404: Not Found\n",
      "No results for camberwell-south. Moving to the next suburb.\n",
      "Scraping data for camberwell-west (3124)\n",
      "Error fetching https://www.domain.com.au/rent/camberwell-west-vic-3124/?ssubs=0&sort=suburb-asc&page=1: HTTP Error 404: Not Found\n",
      "No results for camberwell-west. Moving to the next suburb.\n",
      "Scraping data for hartwell (3124)\n",
      "No more results for hartwell on page 1.\n",
      "No results for hartwell. Moving to the next suburb.\n",
      "Scraping data for middle-camberwell (3124)\n",
      "Error fetching https://www.domain.com.au/rent/middle-camberwell-vic-3124/?ssubs=0&sort=suburb-asc&page=1: HTTP Error 404: Not Found\n",
      "No results for middle-camberwell. Moving to the next suburb.\n",
      "Scraping data for bennettswood (3125)\n",
      "Error fetching https://www.domain.com.au/rent/bennettswood-vic-3125/?ssubs=0&sort=suburb-asc&page=1: HTTP Error 404: Not Found\n",
      "No results for bennettswood. Moving to the next suburb.\n",
      "Scraping data for burwood (3125)\n",
      "No more results for burwood on page 4.\n"
     ]
    },
    {
     "name": "stderr",
     "output_type": "stream",
     "text": [
      "100% successful: 100%|██████████| 60/60 [01:04<00:00,  1.08s/it]\n"
     ]
    },
    {
     "name": "stdout",
     "output_type": "stream",
     "text": [
      "Scraping data for surrey-hills-south (3125)\n",
      "Error fetching https://www.domain.com.au/rent/surrey-hills-south-vic-3125/?ssubs=0&sort=suburb-asc&page=1: HTTP Error 404: Not Found\n",
      "No results for surrey-hills-south. Moving to the next suburb.\n",
      "Scraping data for camberwell-east (3126)\n",
      "No more results for camberwell-east on page 1.\n",
      "No results for camberwell-east. Moving to the next suburb.\n",
      "Scraping data for canterbury (3126)\n",
      "No more results for canterbury on page 2.\n"
     ]
    },
    {
     "name": "stderr",
     "output_type": "stream",
     "text": [
      "100% successful: 100%|██████████| 17/17 [00:23<00:00,  1.41s/it]\n"
     ]
    },
    {
     "name": "stdout",
     "output_type": "stream",
     "text": [
      "Scraping data for mont-albert (3127)\n",
      "No more results for mont-albert on page 2.\n"
     ]
    },
    {
     "name": "stderr",
     "output_type": "stream",
     "text": [
      "100% successful: 100%|██████████| 18/18 [00:23<00:00,  1.29s/it]\n"
     ]
    },
    {
     "name": "stdout",
     "output_type": "stream",
     "text": [
      "Scraping data for surrey-hills (3127)\n",
      "No more results for surrey-hills on page 3.\n"
     ]
    },
    {
     "name": "stderr",
     "output_type": "stream",
     "text": [
      "100% successful: 100%|██████████| 29/29 [00:35<00:00,  1.23s/it]\n"
     ]
    },
    {
     "name": "stdout",
     "output_type": "stream",
     "text": [
      "Scraping data for surrey-hills-north (3127)\n",
      "Error fetching https://www.domain.com.au/rent/surrey-hills-north-vic-3127/?ssubs=0&sort=suburb-asc&page=1: HTTP Error 404: Not Found\n",
      "No results for surrey-hills-north. Moving to the next suburb.\n",
      "Scraping data for box-hill (3128)\n",
      "No more results for box-hill on page 7.\n"
     ]
    },
    {
     "name": "stderr",
     "output_type": "stream",
     "text": [
      "100% successful: 100%|██████████| 113/113 [02:16<00:00,  1.21s/it]\n"
     ]
    },
    {
     "name": "stdout",
     "output_type": "stream",
     "text": [
      "Scraping data for box-hill-central (3128)\n",
      "Error fetching https://www.domain.com.au/rent/box-hill-central-vic-3128/?ssubs=0&sort=suburb-asc&page=1: HTTP Error 404: Not Found\n",
      "No results for box-hill-central. Moving to the next suburb.\n",
      "Scraping data for box-hill-south (3128)\n",
      "No more results for box-hill-south on page 2.\n"
     ]
    },
    {
     "name": "stderr",
     "output_type": "stream",
     "text": [
      "100% successful: 100%|██████████| 11/11 [00:16<00:00,  1.51s/it]\n"
     ]
    },
    {
     "name": "stdout",
     "output_type": "stream",
     "text": [
      "Scraping data for houston (3128)\n",
      "Error fetching https://www.domain.com.au/rent/houston-vic-3128/?ssubs=0&sort=suburb-asc&page=1: HTTP Error 404: Not Found\n",
      "No results for houston. Moving to the next suburb.\n",
      "Scraping data for wattle-park (3128)\n",
      "Error fetching https://www.domain.com.au/rent/wattle-park-vic-3128/?ssubs=0&sort=suburb-asc&page=1: HTTP Error 404: Not Found\n",
      "No results for wattle-park. Moving to the next suburb.\n",
      "Scraping data for box-hill-north (3129)\n",
      "No more results for box-hill-north on page 3.\n"
     ]
    },
    {
     "name": "stderr",
     "output_type": "stream",
     "text": [
      "100% successful: 100%|██████████| 30/30 [00:38<00:00,  1.27s/it]\n"
     ]
    },
    {
     "name": "stdout",
     "output_type": "stream",
     "text": [
      "Scraping data for kerrimuir (3129)\n",
      "Error fetching https://www.domain.com.au/rent/kerrimuir-vic-3129/?ssubs=0&sort=suburb-asc&page=1: HTTP Error 404: Not Found\n",
      "No results for kerrimuir. Moving to the next suburb.\n",
      "Scraping data for mont-albert-north (3129)\n",
      "No more results for mont-albert-north on page 2.\n"
     ]
    },
    {
     "name": "stderr",
     "output_type": "stream",
     "text": [
      "100% successful: 100%|██████████| 13/13 [00:17<00:00,  1.35s/it]\n"
     ]
    },
    {
     "name": "stdout",
     "output_type": "stream",
     "text": [
      "Scraping data for blackburn (3130)\n",
      "No more results for blackburn on page 3.\n"
     ]
    },
    {
     "name": "stderr",
     "output_type": "stream",
     "text": [
      "100% successful: 100%|██████████| 30/30 [00:42<00:00,  1.40s/it]\n"
     ]
    },
    {
     "name": "stdout",
     "output_type": "stream",
     "text": [
      "Scraping data for blackburn-north (3130)\n",
      "No more results for blackburn-north on page 2.\n"
     ]
    },
    {
     "name": "stderr",
     "output_type": "stream",
     "text": [
      "100% successful: 100%|██████████| 3/3 [00:04<00:00,  1.40s/it]\n"
     ]
    },
    {
     "name": "stdout",
     "output_type": "stream",
     "text": [
      "Scraping data for blackburn-south (3130)\n",
      "No more results for blackburn-south on page 2.\n"
     ]
    },
    {
     "name": "stderr",
     "output_type": "stream",
     "text": [
      "100% successful: 100%|██████████| 11/11 [00:14<00:00,  1.31s/it]\n"
     ]
    },
    {
     "name": "stdout",
     "output_type": "stream",
     "text": [
      "Scraping data for laburnum (3130)\n",
      "Error fetching https://www.domain.com.au/rent/laburnum-vic-3130/?ssubs=0&sort=suburb-asc&page=1: HTTP Error 404: Not Found\n",
      "No results for laburnum. Moving to the next suburb.\n",
      "Scraping data for brentford-square (3131)\n",
      "Error fetching https://www.domain.com.au/rent/brentford-square-vic-3131/?ssubs=0&sort=suburb-asc&page=1: HTTP Error 404: Not Found\n",
      "No results for brentford-square. Moving to the next suburb.\n",
      "Scraping data for forest-hill (3131)\n",
      "No more results for forest-hill on page 3.\n"
     ]
    },
    {
     "name": "stderr",
     "output_type": "stream",
     "text": [
      "100% successful: 100%|██████████| 24/24 [00:33<00:00,  1.41s/it]\n"
     ]
    },
    {
     "name": "stdout",
     "output_type": "stream",
     "text": [
      "Scraping data for nunawading (3131)\n",
      "No more results for nunawading on page 3.\n"
     ]
    },
    {
     "name": "stderr",
     "output_type": "stream",
     "text": [
      "100% successful: 100%|██████████| 24/24 [00:28<00:00,  1.19s/it]\n"
     ]
    },
    {
     "name": "stdout",
     "output_type": "stream",
     "text": [
      "Scraping data for mitcham (3132)\n",
      "No more results for mitcham on page 3.\n"
     ]
    },
    {
     "name": "stderr",
     "output_type": "stream",
     "text": [
      "100% successful: 100%|██████████| 33/33 [00:44<00:00,  1.34s/it]\n"
     ]
    },
    {
     "name": "stdout",
     "output_type": "stream",
     "text": [
      "Scraping data for mitcham-north (3132)\n",
      "Error fetching https://www.domain.com.au/rent/mitcham-north-vic-3132/?ssubs=0&sort=suburb-asc&page=1: HTTP Error 404: Not Found\n",
      "No results for mitcham-north. Moving to the next suburb.\n",
      "Scraping data for rangeview (3132)\n",
      "Error fetching https://www.domain.com.au/rent/rangeview-vic-3132/?ssubs=0&sort=suburb-asc&page=1: HTTP Error 404: Not Found\n",
      "No results for rangeview. Moving to the next suburb.\n",
      "Scraping data for vermont (3133)\n",
      "No more results for vermont on page 2.\n"
     ]
    },
    {
     "name": "stderr",
     "output_type": "stream",
     "text": [
      "100% successful: 100%|██████████| 11/11 [00:14<00:00,  1.36s/it]\n"
     ]
    },
    {
     "name": "stdout",
     "output_type": "stream",
     "text": [
      "Scraping data for vermont-south (3133)\n",
      "No more results for vermont-south on page 3.\n"
     ]
    },
    {
     "name": "stderr",
     "output_type": "stream",
     "text": [
      "100% successful: 100%|██████████| 21/21 [00:25<00:00,  1.24s/it]\n"
     ]
    },
    {
     "name": "stdout",
     "output_type": "stream",
     "text": [
      "Scraping data for heathwood (3134)\n",
      "Error fetching https://www.domain.com.au/rent/heathwood-vic-3134/?ssubs=0&sort=suburb-asc&page=1: HTTP Error 404: Not Found\n",
      "No results for heathwood. Moving to the next suburb.\n",
      "Scraping data for ringwood (3134)\n",
      "No more results for ringwood on page 3.\n"
     ]
    },
    {
     "name": "stderr",
     "output_type": "stream",
     "text": [
      "100% successful: 100%|██████████| 33/33 [00:46<00:00,  1.41s/it]\n"
     ]
    },
    {
     "name": "stdout",
     "output_type": "stream",
     "text": [
      "Scraping data for ringwood-north (3134)\n",
      "No more results for ringwood-north on page 2.\n"
     ]
    },
    {
     "name": "stderr",
     "output_type": "stream",
     "text": [
      "100% successful: 100%|██████████| 4/4 [00:04<00:00,  1.20s/it]\n"
     ]
    },
    {
     "name": "stdout",
     "output_type": "stream",
     "text": [
      "Scraping data for warrandyte-south (3134)\n",
      "No more results for warrandyte-south on page 1.\n",
      "No results for warrandyte-south. Moving to the next suburb.\n",
      "Scraping data for warranwood (3134)\n",
      "No more results for warranwood on page 2.\n"
     ]
    },
    {
     "name": "stderr",
     "output_type": "stream",
     "text": [
      "100% successful: 100%|██████████| 2/2 [00:02<00:00,  1.15s/it]\n"
     ]
    },
    {
     "name": "stdout",
     "output_type": "stream",
     "text": [
      "Scraping data for bedford-road (3135)\n",
      "Error fetching https://www.domain.com.au/rent/bedford-road-vic-3135/?ssubs=0&sort=suburb-asc&page=1: HTTP Error 404: Not Found\n",
      "No results for bedford-road. Moving to the next suburb.\n",
      "Scraping data for heathmont (3135)\n",
      "No more results for heathmont on page 2.\n"
     ]
    },
    {
     "name": "stderr",
     "output_type": "stream",
     "text": [
      "100% successful: 100%|██████████| 4/4 [00:04<00:00,  1.23s/it]\n"
     ]
    },
    {
     "name": "stdout",
     "output_type": "stream",
     "text": [
      "Scraping data for ringwood-east (3135)\n",
      "No more results for ringwood-east on page 2.\n"
     ]
    },
    {
     "name": "stderr",
     "output_type": "stream",
     "text": [
      "100% successful: 100%|██████████| 15/15 [00:20<00:00,  1.36s/it]\n"
     ]
    },
    {
     "name": "stdout",
     "output_type": "stream",
     "text": [
      "Scraping data for croydon (3136)\n",
      "No more results for croydon on page 3.\n"
     ]
    },
    {
     "name": "stderr",
     "output_type": "stream",
     "text": [
      "100% successful: 100%|██████████| 24/24 [00:31<00:00,  1.31s/it]\n"
     ]
    },
    {
     "name": "stdout",
     "output_type": "stream",
     "text": [
      "Scraping data for croydon-hills (3136)\n",
      "No more results for croydon-hills on page 2.\n"
     ]
    },
    {
     "name": "stderr",
     "output_type": "stream",
     "text": [
      "100% successful: 100%|██████████| 5/5 [00:06<00:00,  1.23s/it]\n"
     ]
    },
    {
     "name": "stdout",
     "output_type": "stream",
     "text": [
      "Scraping data for croydon-north (3136)\n",
      "No more results for croydon-north on page 2.\n"
     ]
    },
    {
     "name": "stderr",
     "output_type": "stream",
     "text": [
      "100% successful: 100%|██████████| 4/4 [00:04<00:00,  1.21s/it]\n"
     ]
    },
    {
     "name": "stdout",
     "output_type": "stream",
     "text": [
      "Scraping data for croydon-south (3136)\n",
      "No more results for croydon-south on page 2.\n"
     ]
    },
    {
     "name": "stderr",
     "output_type": "stream",
     "text": [
      "100% successful: 100%|██████████| 4/4 [00:04<00:00,  1.24s/it]\n"
     ]
    },
    {
     "name": "stdout",
     "output_type": "stream",
     "text": [
      "Scraping data for kilsyth (3137)\n",
      "No more results for kilsyth on page 2.\n"
     ]
    },
    {
     "name": "stderr",
     "output_type": "stream",
     "text": [
      "100% successful: 100%|██████████| 13/13 [00:15<00:00,  1.22s/it]\n"
     ]
    },
    {
     "name": "stdout",
     "output_type": "stream",
     "text": [
      "Scraping data for kilsyth-south (3137)\n",
      "No more results for kilsyth-south on page 2.\n"
     ]
    },
    {
     "name": "stderr",
     "output_type": "stream",
     "text": [
      "100% successful: 100%|██████████| 2/2 [00:02<00:00,  1.40s/it]\n"
     ]
    },
    {
     "name": "stdout",
     "output_type": "stream",
     "text": [
      "Scraping data for mooroolbark (3138)\n",
      "No more results for mooroolbark on page 2.\n"
     ]
    },
    {
     "name": "stderr",
     "output_type": "stream",
     "text": [
      "100% successful: 100%|██████████| 12/12 [00:17<00:00,  1.42s/it]\n"
     ]
    },
    {
     "name": "stdout",
     "output_type": "stream",
     "text": [
      "Scraping data for beenak (3139)\n",
      "No more results for beenak on page 1.\n",
      "No results for beenak. Moving to the next suburb.\n",
      "Scraping data for don-valley (3139)\n",
      "No more results for don-valley on page 1.\n",
      "No results for don-valley. Moving to the next suburb.\n",
      "Scraping data for hoddles-creek (3139)\n",
      "No more results for hoddles-creek on page 1.\n",
      "No results for hoddles-creek. Moving to the next suburb.\n",
      "Scraping data for launching-place (3139)\n",
      "No more results for launching-place on page 1.\n",
      "No results for launching-place. Moving to the next suburb.\n",
      "Scraping data for seville (3139)\n",
      "No more results for seville on page 2.\n"
     ]
    },
    {
     "name": "stderr",
     "output_type": "stream",
     "text": [
      "100% successful: 100%|██████████| 1/1 [00:01<00:00,  1.26s/it]\n"
     ]
    },
    {
     "name": "stdout",
     "output_type": "stream",
     "text": [
      "Scraping data for seville-east (3139)\n",
      "No more results for seville-east on page 1.\n",
      "No results for seville-east. Moving to the next suburb.\n",
      "Scraping data for wandin-east (3139)\n",
      "No more results for wandin-east on page 1.\n",
      "No results for wandin-east. Moving to the next suburb.\n",
      "Scraping data for wandin-north (3139)\n",
      "No more results for wandin-north on page 2.\n"
     ]
    },
    {
     "name": "stderr",
     "output_type": "stream",
     "text": [
      "100% successful: 100%|██████████| 1/1 [00:01<00:00,  1.59s/it]\n"
     ]
    },
    {
     "name": "stdout",
     "output_type": "stream",
     "text": [
      "Scraping data for woori-yallock (3139)\n",
      "No more results for woori-yallock on page 1.\n",
      "No results for woori-yallock. Moving to the next suburb.\n",
      "Scraping data for yellingbo (3139)\n",
      "No more results for yellingbo on page 1.\n",
      "No results for yellingbo. Moving to the next suburb.\n",
      "Scraping data for lilydale (3140)\n",
      "No more results for lilydale on page 2.\n"
     ]
    },
    {
     "name": "stderr",
     "output_type": "stream",
     "text": [
      "100% successful: 100%|██████████| 10/10 [00:12<00:00,  1.26s/it]\n"
     ]
    },
    {
     "name": "stdout",
     "output_type": "stream",
     "text": [
      "Scraping data for chapel-street-north (3141)\n",
      "Error fetching https://www.domain.com.au/rent/chapel-street-north-vic-3141/?ssubs=0&sort=suburb-asc&page=1: HTTP Error 404: Not Found\n",
      "No results for chapel-street-north. Moving to the next suburb.\n",
      "Scraping data for domain-road-po (3141)\n",
      "Error fetching https://www.domain.com.au/rent/domain-road-po-vic-3141/?ssubs=0&sort=suburb-asc&page=1: HTTP Error 404: Not Found\n",
      "No results for domain-road-po. Moving to the next suburb.\n",
      "Scraping data for south-yarra (3141)\n",
      "No more results for south-yarra on page 12.\n"
     ]
    },
    {
     "name": "stderr",
     "output_type": "stream",
     "text": [
      "100% successful: 100%|██████████| 219/219 [05:08<00:00,  1.41s/it]\n"
     ]
    },
    {
     "name": "stdout",
     "output_type": "stream",
     "text": [
      "Scraping data for hawksburn (3142)\n",
      "No more results for hawksburn on page 1.\n",
      "No results for hawksburn. Moving to the next suburb.\n",
      "Scraping data for toorak (3142)\n",
      "No more results for toorak on page 4.\n"
     ]
    },
    {
     "name": "stderr",
     "output_type": "stream",
     "text": [
      "100% successful: 100%|██████████| 60/60 [01:25<00:00,  1.42s/it]\n"
     ]
    },
    {
     "name": "stdout",
     "output_type": "stream",
     "text": [
      "Scraping data for armadale (3143)\n",
      "No more results for armadale on page 4.\n"
     ]
    },
    {
     "name": "stderr",
     "output_type": "stream",
     "text": [
      "100% successful: 100%|██████████| 51/51 [01:11<00:00,  1.41s/it]\n"
     ]
    },
    {
     "name": "stdout",
     "output_type": "stream",
     "text": [
      "Scraping data for armadale-north (3143)\n",
      "Error fetching https://www.domain.com.au/rent/armadale-north-vic-3143/?ssubs=0&sort=suburb-asc&page=1: HTTP Error 404: Not Found\n",
      "No results for armadale-north. Moving to the next suburb.\n",
      "Scraping data for kooyong (3144)\n",
      "No more results for kooyong on page 2.\n"
     ]
    },
    {
     "name": "stderr",
     "output_type": "stream",
     "text": [
      "100% successful: 100%|██████████| 3/3 [00:04<00:00,  1.35s/it]\n"
     ]
    },
    {
     "name": "stdout",
     "output_type": "stream",
     "text": [
      "Scraping data for malvern (3144)\n",
      "No more results for malvern on page 3.\n"
     ]
    },
    {
     "name": "stderr",
     "output_type": "stream",
     "text": [
      "100% successful:  52%|█████▏    | 15/29 [00:21<00:20,  1.46s/it]\n"
     ]
    },
    {
     "ename": "HTTPError",
     "evalue": "HTTP Error 500: Internal Server Error",
     "output_type": "error",
     "traceback": [
      "\u001b[0;31m---------------------------------------------------------------------------\u001b[0m",
      "\u001b[0;31mHTTPError\u001b[0m                                 Traceback (most recent call last)",
      "Cell \u001b[0;32mIn[6], line 2\u001b[0m\n\u001b[1;32m      1\u001b[0m starting_chunk \u001b[38;5;241m=\u001b[39m \u001b[38;5;241m3048\u001b[39m \u001b[38;5;241m+\u001b[39m \u001b[38;5;241m25\u001b[39m\n\u001b[0;32m----> 2\u001b[0m \u001b[43mrun_chunk\u001b[49m\u001b[43m(\u001b[49m\u001b[43mstarting_chunk\u001b[49m\u001b[43m)\u001b[49m\n",
      "Cell \u001b[0;32mIn[5], line 5\u001b[0m, in \u001b[0;36mrun_chunk\u001b[0;34m(starting_chunk)\u001b[0m\n\u001b[1;32m      3\u001b[0m \u001b[38;5;66;03m# we are running chunks of 25 postcodes 7 times each\u001b[39;00m\n\u001b[1;32m      4\u001b[0m \u001b[38;5;28;01mwhile\u001b[39;00m i \u001b[38;5;241m<\u001b[39m starting_chunk \u001b[38;5;241m+\u001b[39m \u001b[38;5;241m175\u001b[39m:\n\u001b[0;32m----> 5\u001b[0m     \u001b[43mstart_scrape\u001b[49m\u001b[43m(\u001b[49m\u001b[43mchunk_dict\u001b[49m\u001b[43m[\u001b[49m\u001b[38;5;124;43m\"\u001b[39;49m\u001b[38;5;124;43mchunk_\u001b[39;49m\u001b[38;5;132;43;01m{}\u001b[39;49;00m\u001b[38;5;124;43m\"\u001b[39;49m\u001b[38;5;241;43m.\u001b[39;49m\u001b[43mformat\u001b[49m\u001b[43m(\u001b[49m\u001b[43mi\u001b[49m\u001b[43m)\u001b[49m\u001b[43m]\u001b[49m\u001b[43m,\u001b[49m\u001b[43m \u001b[49m\u001b[43mi\u001b[49m\u001b[43m)\u001b[49m \u001b[38;5;66;03m#i.split(\"_\")[1])\u001b[39;00m\n\u001b[1;32m      6\u001b[0m     i \u001b[38;5;241m+\u001b[39m\u001b[38;5;241m=\u001b[39m \u001b[38;5;241m25\u001b[39m\n\u001b[1;32m      7\u001b[0m \u001b[38;5;28;01mif\u001b[39;00m i \u001b[38;5;241m==\u001b[39m \u001b[38;5;241m3923\u001b[39m:\n",
      "Cell \u001b[0;32mIn[3], line 102\u001b[0m, in \u001b[0;36mstart_scrape\u001b[0;34m(chunk, file_suffix)\u001b[0m\n\u001b[1;32m    100\u001b[0m \u001b[38;5;28;01mfor\u001b[39;00m property_url \u001b[38;5;129;01min\u001b[39;00m pbar:\n\u001b[1;32m    101\u001b[0m     \u001b[38;5;28;01mtry\u001b[39;00m:\n\u001b[0;32m--> 102\u001b[0m         bs_object \u001b[38;5;241m=\u001b[39m BeautifulSoup(\u001b[43murlopen\u001b[49m\u001b[43m(\u001b[49m\u001b[43mRequest\u001b[49m\u001b[43m(\u001b[49m\u001b[43mproperty_url\u001b[49m\u001b[43m,\u001b[49m\u001b[43m \u001b[49m\u001b[43mheaders\u001b[49m\u001b[38;5;241;43m=\u001b[39;49m\u001b[43m{\u001b[49m\u001b[38;5;124;43m'\u001b[39;49m\u001b[38;5;124;43mUser-Agent\u001b[39;49m\u001b[38;5;124;43m'\u001b[39;49m\u001b[43m:\u001b[49m\u001b[43m \u001b[49m\u001b[38;5;124;43m\"\u001b[39;49m\u001b[38;5;124;43mPostmanRuntime/7.6.0\u001b[39;49m\u001b[38;5;124;43m\"\u001b[39;49m\u001b[43m}\u001b[49m\u001b[43m)\u001b[49m\u001b[43m)\u001b[49m, \u001b[38;5;124m\"\u001b[39m\u001b[38;5;124mlxml\u001b[39m\u001b[38;5;124m\"\u001b[39m)\n\u001b[1;32m    103\u001b[0m         total_count \u001b[38;5;241m+\u001b[39m\u001b[38;5;241m=\u001b[39m \u001b[38;5;241m1\u001b[39m\n\u001b[1;32m    105\u001b[0m         \u001b[38;5;66;03m# Get property name\u001b[39;00m\n",
      "File \u001b[0;32m/usr/lib/python3.10/urllib/request.py:216\u001b[0m, in \u001b[0;36murlopen\u001b[0;34m(url, data, timeout, cafile, capath, cadefault, context)\u001b[0m\n\u001b[1;32m    214\u001b[0m \u001b[38;5;28;01melse\u001b[39;00m:\n\u001b[1;32m    215\u001b[0m     opener \u001b[38;5;241m=\u001b[39m _opener\n\u001b[0;32m--> 216\u001b[0m \u001b[38;5;28;01mreturn\u001b[39;00m \u001b[43mopener\u001b[49m\u001b[38;5;241;43m.\u001b[39;49m\u001b[43mopen\u001b[49m\u001b[43m(\u001b[49m\u001b[43murl\u001b[49m\u001b[43m,\u001b[49m\u001b[43m \u001b[49m\u001b[43mdata\u001b[49m\u001b[43m,\u001b[49m\u001b[43m \u001b[49m\u001b[43mtimeout\u001b[49m\u001b[43m)\u001b[49m\n",
      "File \u001b[0;32m/usr/lib/python3.10/urllib/request.py:525\u001b[0m, in \u001b[0;36mOpenerDirector.open\u001b[0;34m(self, fullurl, data, timeout)\u001b[0m\n\u001b[1;32m    523\u001b[0m \u001b[38;5;28;01mfor\u001b[39;00m processor \u001b[38;5;129;01min\u001b[39;00m \u001b[38;5;28mself\u001b[39m\u001b[38;5;241m.\u001b[39mprocess_response\u001b[38;5;241m.\u001b[39mget(protocol, []):\n\u001b[1;32m    524\u001b[0m     meth \u001b[38;5;241m=\u001b[39m \u001b[38;5;28mgetattr\u001b[39m(processor, meth_name)\n\u001b[0;32m--> 525\u001b[0m     response \u001b[38;5;241m=\u001b[39m \u001b[43mmeth\u001b[49m\u001b[43m(\u001b[49m\u001b[43mreq\u001b[49m\u001b[43m,\u001b[49m\u001b[43m \u001b[49m\u001b[43mresponse\u001b[49m\u001b[43m)\u001b[49m\n\u001b[1;32m    527\u001b[0m \u001b[38;5;28;01mreturn\u001b[39;00m response\n",
      "File \u001b[0;32m/usr/lib/python3.10/urllib/request.py:634\u001b[0m, in \u001b[0;36mHTTPErrorProcessor.http_response\u001b[0;34m(self, request, response)\u001b[0m\n\u001b[1;32m    631\u001b[0m \u001b[38;5;66;03m# According to RFC 2616, \"2xx\" code indicates that the client's\u001b[39;00m\n\u001b[1;32m    632\u001b[0m \u001b[38;5;66;03m# request was successfully received, understood, and accepted.\u001b[39;00m\n\u001b[1;32m    633\u001b[0m \u001b[38;5;28;01mif\u001b[39;00m \u001b[38;5;129;01mnot\u001b[39;00m (\u001b[38;5;241m200\u001b[39m \u001b[38;5;241m<\u001b[39m\u001b[38;5;241m=\u001b[39m code \u001b[38;5;241m<\u001b[39m \u001b[38;5;241m300\u001b[39m):\n\u001b[0;32m--> 634\u001b[0m     response \u001b[38;5;241m=\u001b[39m \u001b[38;5;28;43mself\u001b[39;49m\u001b[38;5;241;43m.\u001b[39;49m\u001b[43mparent\u001b[49m\u001b[38;5;241;43m.\u001b[39;49m\u001b[43merror\u001b[49m\u001b[43m(\u001b[49m\n\u001b[1;32m    635\u001b[0m \u001b[43m        \u001b[49m\u001b[38;5;124;43m'\u001b[39;49m\u001b[38;5;124;43mhttp\u001b[39;49m\u001b[38;5;124;43m'\u001b[39;49m\u001b[43m,\u001b[49m\u001b[43m \u001b[49m\u001b[43mrequest\u001b[49m\u001b[43m,\u001b[49m\u001b[43m \u001b[49m\u001b[43mresponse\u001b[49m\u001b[43m,\u001b[49m\u001b[43m \u001b[49m\u001b[43mcode\u001b[49m\u001b[43m,\u001b[49m\u001b[43m \u001b[49m\u001b[43mmsg\u001b[49m\u001b[43m,\u001b[49m\u001b[43m \u001b[49m\u001b[43mhdrs\u001b[49m\u001b[43m)\u001b[49m\n\u001b[1;32m    637\u001b[0m \u001b[38;5;28;01mreturn\u001b[39;00m response\n",
      "File \u001b[0;32m/usr/lib/python3.10/urllib/request.py:563\u001b[0m, in \u001b[0;36mOpenerDirector.error\u001b[0;34m(self, proto, *args)\u001b[0m\n\u001b[1;32m    561\u001b[0m \u001b[38;5;28;01mif\u001b[39;00m http_err:\n\u001b[1;32m    562\u001b[0m     args \u001b[38;5;241m=\u001b[39m (\u001b[38;5;28mdict\u001b[39m, \u001b[38;5;124m'\u001b[39m\u001b[38;5;124mdefault\u001b[39m\u001b[38;5;124m'\u001b[39m, \u001b[38;5;124m'\u001b[39m\u001b[38;5;124mhttp_error_default\u001b[39m\u001b[38;5;124m'\u001b[39m) \u001b[38;5;241m+\u001b[39m orig_args\n\u001b[0;32m--> 563\u001b[0m     \u001b[38;5;28;01mreturn\u001b[39;00m \u001b[38;5;28;43mself\u001b[39;49m\u001b[38;5;241;43m.\u001b[39;49m\u001b[43m_call_chain\u001b[49m\u001b[43m(\u001b[49m\u001b[38;5;241;43m*\u001b[39;49m\u001b[43margs\u001b[49m\u001b[43m)\u001b[49m\n",
      "File \u001b[0;32m/usr/lib/python3.10/urllib/request.py:496\u001b[0m, in \u001b[0;36mOpenerDirector._call_chain\u001b[0;34m(self, chain, kind, meth_name, *args)\u001b[0m\n\u001b[1;32m    494\u001b[0m \u001b[38;5;28;01mfor\u001b[39;00m handler \u001b[38;5;129;01min\u001b[39;00m handlers:\n\u001b[1;32m    495\u001b[0m     func \u001b[38;5;241m=\u001b[39m \u001b[38;5;28mgetattr\u001b[39m(handler, meth_name)\n\u001b[0;32m--> 496\u001b[0m     result \u001b[38;5;241m=\u001b[39m \u001b[43mfunc\u001b[49m\u001b[43m(\u001b[49m\u001b[38;5;241;43m*\u001b[39;49m\u001b[43margs\u001b[49m\u001b[43m)\u001b[49m\n\u001b[1;32m    497\u001b[0m     \u001b[38;5;28;01mif\u001b[39;00m result \u001b[38;5;129;01mis\u001b[39;00m \u001b[38;5;129;01mnot\u001b[39;00m \u001b[38;5;28;01mNone\u001b[39;00m:\n\u001b[1;32m    498\u001b[0m         \u001b[38;5;28;01mreturn\u001b[39;00m result\n",
      "File \u001b[0;32m/usr/lib/python3.10/urllib/request.py:643\u001b[0m, in \u001b[0;36mHTTPDefaultErrorHandler.http_error_default\u001b[0;34m(self, req, fp, code, msg, hdrs)\u001b[0m\n\u001b[1;32m    642\u001b[0m \u001b[38;5;28;01mdef\u001b[39;00m \u001b[38;5;21mhttp_error_default\u001b[39m(\u001b[38;5;28mself\u001b[39m, req, fp, code, msg, hdrs):\n\u001b[0;32m--> 643\u001b[0m     \u001b[38;5;28;01mraise\u001b[39;00m HTTPError(req\u001b[38;5;241m.\u001b[39mfull_url, code, msg, hdrs, fp)\n",
      "\u001b[0;31mHTTPError\u001b[0m: HTTP Error 500: Internal Server Error"
     ]
    }
   ],
   "source": [
    "starting_chunk = 3048 + 25\n",
    "run_chunk(starting_chunk)"
   ]
  },
  {
   "cell_type": "code",
   "execution_count": 11,
   "metadata": {},
   "outputs": [
    {
     "name": "stdout",
     "output_type": "stream",
     "text": [
      "Scraping data for chadstone (3148)\n"
     ]
    },
    {
     "name": "stderr",
     "output_type": "stream",
     "text": [
      "/tmp/ipykernel_204642/2477479290.py:69: DeprecationWarning: The 'text' argument to find()-type methods is deprecated. Use 'string' instead.\n",
      "  no_results = bs_object.find(text=re.compile(\"No results found\", re.I))\n"
     ]
    },
    {
     "name": "stdout",
     "output_type": "stream",
     "text": [
      "No more results for chadstone on page 2.\n"
     ]
    },
    {
     "name": "stderr",
     "output_type": "stream",
     "text": [
      "100% successful: 100%|██████████| 20/20 [00:23<00:00,  1.18s/it]\n"
     ]
    },
    {
     "name": "stdout",
     "output_type": "stream",
     "text": [
      "Scraping data for chadstone-centre (3148)\n",
      "Error fetching https://www.domain.com.au/rent/chadstone-centre-vic-3148/?ssubs=0&sort=suburb-asc&page=1: HTTP Error 404: Not Found\n",
      "No results for chadstone-centre. Moving to the next suburb.\n",
      "Scraping data for holmesglen (3148)\n",
      "Error fetching https://www.domain.com.au/rent/holmesglen-vic-3148/?ssubs=0&sort=suburb-asc&page=1: HTTP Error 404: Not Found\n",
      "No results for holmesglen. Moving to the next suburb.\n",
      "Scraping data for jordanville (3148)\n",
      "Error fetching https://www.domain.com.au/rent/jordanville-vic-3148/?ssubs=0&sort=suburb-asc&page=1: HTTP Error 404: Not Found\n",
      "No results for jordanville. Moving to the next suburb.\n",
      "Scraping data for mount-waverley (3149)\n",
      "No more results for mount-waverley on page 4.\n"
     ]
    },
    {
     "name": "stderr",
     "output_type": "stream",
     "text": [
      "100% successful: 100%|██████████| 54/54 [02:03<00:00,  2.28s/it]\n"
     ]
    },
    {
     "name": "stdout",
     "output_type": "stream",
     "text": [
      "Scraping data for pinewood (3149)\n",
      "Error fetching https://www.domain.com.au/rent/pinewood-vic-3149/?ssubs=0&sort=suburb-asc&page=1: HTTP Error 404: Not Found\n",
      "No results for pinewood. Moving to the next suburb.\n",
      "Scraping data for syndal (3149)\n",
      "Error fetching https://www.domain.com.au/rent/syndal-vic-3149/?ssubs=0&sort=suburb-asc&page=1: HTTP Error 404: Not Found\n",
      "No results for syndal. Moving to the next suburb.\n",
      "Scraping data for brandon-park (3150)\n",
      "Error fetching https://www.domain.com.au/rent/brandon-park-vic-3150/?ssubs=0&sort=suburb-asc&page=1: HTTP Error 404: Not Found\n",
      "No results for brandon-park. Moving to the next suburb.\n",
      "Scraping data for glen-waverley (3150)\n",
      "No more results for glen-waverley on page 5.\n"
     ]
    },
    {
     "name": "stderr",
     "output_type": "stream",
     "text": [
      "100% successful: 100%|██████████| 72/72 [01:25<00:00,  1.18s/it]\n"
     ]
    },
    {
     "name": "stdout",
     "output_type": "stream",
     "text": [
      "Scraping data for wheelers-hill (3150)\n",
      "No more results for wheelers-hill on page 2.\n"
     ]
    },
    {
     "name": "stderr",
     "output_type": "stream",
     "text": [
      "100% successful: 100%|██████████| 17/17 [00:18<00:00,  1.10s/it]\n"
     ]
    },
    {
     "name": "stdout",
     "output_type": "stream",
     "text": [
      "Scraping data for burwood-east (3151)\n",
      "No more results for burwood-east on page 3.\n"
     ]
    },
    {
     "name": "stderr",
     "output_type": "stream",
     "text": [
      "100% successful: 100%|██████████| 31/31 [00:38<00:00,  1.23s/it]\n"
     ]
    },
    {
     "name": "stdout",
     "output_type": "stream",
     "text": [
      "Scraping data for burwood-heights (3151)\n",
      "Error fetching https://www.domain.com.au/rent/burwood-heights-vic-3151/?ssubs=0&sort=suburb-asc&page=1: HTTP Error 404: Not Found\n",
      "No results for burwood-heights. Moving to the next suburb.\n",
      "Scraping data for knox-city-centre (3152)\n",
      "Error fetching https://www.domain.com.au/rent/knox-city-centre-vic-3152/?ssubs=0&sort=suburb-asc&page=1: HTTP Error 404: Not Found\n",
      "No results for knox-city-centre. Moving to the next suburb.\n",
      "Scraping data for studfield (3152)\n",
      "Error fetching https://www.domain.com.au/rent/studfield-vic-3152/?ssubs=0&sort=suburb-asc&page=1: HTTP Error 404: Not Found\n",
      "No results for studfield. Moving to the next suburb.\n",
      "Scraping data for wantirna (3152)\n",
      "No more results for wantirna on page 2.\n"
     ]
    },
    {
     "name": "stderr",
     "output_type": "stream",
     "text": [
      "100% successful: 100%|██████████| 17/17 [00:19<00:00,  1.12s/it]\n"
     ]
    },
    {
     "name": "stdout",
     "output_type": "stream",
     "text": [
      "Scraping data for wantirna-south (3152)\n",
      "No more results for wantirna-south on page 3.\n"
     ]
    },
    {
     "name": "stderr",
     "output_type": "stream",
     "text": [
      "100% successful: 100%|██████████| 23/23 [00:26<00:00,  1.15s/it]\n"
     ]
    },
    {
     "name": "stdout",
     "output_type": "stream",
     "text": [
      "Scraping data for bayswater (3153)\n",
      "No more results for bayswater on page 2.\n"
     ]
    },
    {
     "name": "stderr",
     "output_type": "stream",
     "text": [
      "100% successful: 100%|██████████| 15/15 [00:14<00:00,  1.02it/s]\n"
     ]
    },
    {
     "name": "stdout",
     "output_type": "stream",
     "text": [
      "Scraping data for bayswater-north (3153)\n",
      "No more results for bayswater-north on page 2.\n"
     ]
    },
    {
     "name": "stderr",
     "output_type": "stream",
     "text": [
      "100% successful: 100%|██████████| 8/8 [00:07<00:00,  1.09it/s]\n"
     ]
    },
    {
     "name": "stdout",
     "output_type": "stream",
     "text": [
      "Scraping data for the-basin (3154)\n",
      "No more results for the-basin on page 2.\n"
     ]
    },
    {
     "name": "stderr",
     "output_type": "stream",
     "text": [
      "100% successful: 100%|██████████| 3/3 [00:04<00:00,  1.50s/it]\n"
     ]
    },
    {
     "name": "stdout",
     "output_type": "stream",
     "text": [
      "Scraping data for boronia (3155)\n",
      "No more results for boronia on page 3.\n"
     ]
    },
    {
     "name": "stderr",
     "output_type": "stream",
     "text": [
      "100% successful: 100%|██████████| 31/31 [00:34<00:00,  1.13s/it]\n"
     ]
    },
    {
     "name": "stdout",
     "output_type": "stream",
     "text": [
      "Scraping data for ferntree-gully (3156)\n",
      "No more results for ferntree-gully on page 3.\n"
     ]
    },
    {
     "name": "stderr",
     "output_type": "stream",
     "text": [
      "100% successful: 100%|██████████| 33/33 [00:34<00:00,  1.05s/it]\n"
     ]
    },
    {
     "name": "stdout",
     "output_type": "stream",
     "text": [
      "Scraping data for lysterfield (3156)\n",
      "No more results for lysterfield on page 1.\n",
      "No results for lysterfield. Moving to the next suburb.\n",
      "Scraping data for lysterfield-south (3156)\n",
      "No more results for lysterfield-south on page 1.\n",
      "No results for lysterfield-south. Moving to the next suburb.\n",
      "Scraping data for mountain-gate (3156)\n",
      "Error fetching https://www.domain.com.au/rent/mountain-gate-vic-3156/?ssubs=0&sort=suburb-asc&page=1: HTTP Error 404: Not Found\n",
      "No results for mountain-gate. Moving to the next suburb.\n",
      "Scraping data for upper-ferntree-gully (3156)\n",
      "No more results for upper-ferntree-gully on page 2.\n"
     ]
    },
    {
     "name": "stderr",
     "output_type": "stream",
     "text": [
      "100% successful: 100%|██████████| 3/3 [00:03<00:00,  1.26s/it]\n"
     ]
    },
    {
     "name": "stdout",
     "output_type": "stream",
     "text": [
      "Scraping data for upwey (3158)\n",
      "No more results for upwey on page 2.\n"
     ]
    },
    {
     "name": "stderr",
     "output_type": "stream",
     "text": [
      "100% successful: 100%|██████████| 3/3 [00:03<00:00,  1.10s/it]\n"
     ]
    },
    {
     "name": "stdout",
     "output_type": "stream",
     "text": [
      "Scraping data for menzies-creek (3159)\n",
      "No more results for menzies-creek on page 1.\n",
      "No results for menzies-creek. Moving to the next suburb.\n",
      "Scraping data for selby (3159)\n",
      "No more results for selby on page 1.\n",
      "No results for selby. Moving to the next suburb.\n",
      "Scraping data for belgrave (3160)\n",
      "No more results for belgrave on page 1.\n",
      "No results for belgrave. Moving to the next suburb.\n",
      "Scraping data for belgrave-heights (3160)\n",
      "No more results for belgrave-heights on page 1.\n",
      "No results for belgrave-heights. Moving to the next suburb.\n",
      "Scraping data for belgrave-south (3160)\n",
      "No more results for belgrave-south on page 2.\n"
     ]
    },
    {
     "name": "stderr",
     "output_type": "stream",
     "text": [
      "100% successful: 100%|██████████| 1/1 [00:00<00:00,  1.16it/s]\n"
     ]
    },
    {
     "name": "stdout",
     "output_type": "stream",
     "text": [
      "Scraping data for tecoma (3160)\n",
      "No more results for tecoma on page 2.\n"
     ]
    },
    {
     "name": "stderr",
     "output_type": "stream",
     "text": [
      "100% successful: 100%|██████████| 1/1 [00:01<00:00,  1.01s/it]\n"
     ]
    },
    {
     "name": "stdout",
     "output_type": "stream",
     "text": [
      "Scraping data for caulfield-junction (3161)\n",
      "No more results for caulfield-junction on page 5.\n"
     ]
    },
    {
     "name": "stderr",
     "output_type": "stream",
     "text": [
      "100% successful: 100%|██████████| 70/70 [01:16<00:00,  1.09s/it]\n"
     ]
    },
    {
     "name": "stdout",
     "output_type": "stream",
     "text": [
      "Scraping data for caulfield-north (3161)\n",
      "No more results for caulfield-north on page 5.\n"
     ]
    },
    {
     "name": "stderr",
     "output_type": "stream",
     "text": [
      "100% successful: 100%|██████████| 70/70 [01:13<00:00,  1.05s/it]\n"
     ]
    },
    {
     "name": "stdout",
     "output_type": "stream",
     "text": [
      "Scraping data for caulfield (3162)\n",
      "No more results for caulfield on page 2.\n"
     ]
    },
    {
     "name": "stderr",
     "output_type": "stream",
     "text": [
      "100% successful: 100%|██████████| 10/10 [00:12<00:00,  1.27s/it]\n"
     ]
    },
    {
     "name": "stdout",
     "output_type": "stream",
     "text": [
      "Scraping data for caulfield-south (3162)\n",
      "No more results for caulfield-south on page 3.\n"
     ]
    },
    {
     "name": "stderr",
     "output_type": "stream",
     "text": [
      "100% successful: 100%|██████████| 21/21 [00:22<00:00,  1.07s/it]\n"
     ]
    },
    {
     "name": "stdout",
     "output_type": "stream",
     "text": [
      "Scraping data for hopetoun-gardens (3162)\n",
      "Error fetching https://www.domain.com.au/rent/hopetoun-gardens-vic-3162/?ssubs=0&sort=suburb-asc&page=1: HTTP Error 404: Not Found\n",
      "No results for hopetoun-gardens. Moving to the next suburb.\n",
      "Scraping data for booran-road-po (3163)\n",
      "Error fetching https://www.domain.com.au/rent/booran-road-po-vic-3163/?ssubs=0&sort=suburb-asc&page=1: HTTP Error 404: Not Found\n",
      "No results for booran-road-po. Moving to the next suburb.\n",
      "Scraping data for carnegie (3163)\n",
      "No more results for carnegie on page 4.\n"
     ]
    },
    {
     "name": "stderr",
     "output_type": "stream",
     "text": [
      "100% successful: 100%|██████████| 54/54 [01:02<00:00,  1.15s/it]\n"
     ]
    },
    {
     "name": "stdout",
     "output_type": "stream",
     "text": [
      "Scraping data for glen-huntly (3163)\n",
      "No more results for glen-huntly on page 2.\n"
     ]
    },
    {
     "name": "stderr",
     "output_type": "stream",
     "text": [
      "100% successful: 100%|██████████| 18/18 [00:19<00:00,  1.10s/it]\n"
     ]
    },
    {
     "name": "stdout",
     "output_type": "stream",
     "text": [
      "Scraping data for murrumbeena (3163)\n",
      "No more results for murrumbeena on page 3.\n"
     ]
    },
    {
     "name": "stderr",
     "output_type": "stream",
     "text": [
      "100% successful: 100%|██████████| 36/36 [00:39<00:00,  1.11s/it]\n"
     ]
    },
    {
     "name": "stdout",
     "output_type": "stream",
     "text": [
      "Scraping data for dandenong-south (3164)\n",
      "Error fetching https://www.domain.com.au/rent/dandenong-south-vic-3164/?ssubs=0&sort=suburb-asc&page=1: HTTP Error 404: Not Found\n",
      "No results for dandenong-south. Moving to the next suburb.\n",
      "Scraping data for bentleigh-east (3165)\n",
      "No more results for bentleigh-east on page 5.\n"
     ]
    },
    {
     "name": "stderr",
     "output_type": "stream",
     "text": [
      "100% successful: 100%|██████████| 62/62 [01:10<00:00,  1.14s/it]\n"
     ]
    },
    {
     "name": "stdout",
     "output_type": "stream",
     "text": [
      "Scraping data for coatesville (3165)\n",
      "Error fetching https://www.domain.com.au/rent/coatesville-vic-3165/?ssubs=0&sort=suburb-asc&page=1: HTTP Error 404: Not Found\n",
      "No results for coatesville. Moving to the next suburb.\n",
      "Scraping data for hughesdale (3166)\n",
      "No more results for hughesdale on page 2.\n"
     ]
    },
    {
     "name": "stderr",
     "output_type": "stream",
     "text": [
      "100% successful: 100%|██████████| 14/14 [00:18<00:00,  1.34s/it]\n"
     ]
    },
    {
     "name": "stdout",
     "output_type": "stream",
     "text": [
      "Scraping data for huntingdale (3166)\n",
      "No more results for huntingdale on page 2.\n"
     ]
    },
    {
     "name": "stderr",
     "output_type": "stream",
     "text": [
      "100% successful: 100%|██████████| 4/4 [00:04<00:00,  1.03s/it]\n"
     ]
    },
    {
     "name": "stdout",
     "output_type": "stream",
     "text": [
      "Scraping data for oakleigh (3166)\n",
      "No more results for oakleigh on page 2.\n"
     ]
    },
    {
     "name": "stderr",
     "output_type": "stream",
     "text": [
      "100% successful: 100%|██████████| 12/12 [00:14<00:00,  1.17s/it]\n"
     ]
    },
    {
     "name": "stdout",
     "output_type": "stream",
     "text": [
      "Scraping data for oakleigh-east (3166)\n",
      "No more results for oakleigh-east on page 2.\n"
     ]
    },
    {
     "name": "stderr",
     "output_type": "stream",
     "text": [
      "100% successful: 100%|██████████| 14/14 [00:17<00:00,  1.23s/it]\n"
     ]
    },
    {
     "name": "stdout",
     "output_type": "stream",
     "text": [
      "Scraping data for oakleigh-south (3167)\n",
      "No more results for oakleigh-south on page 2.\n"
     ]
    },
    {
     "name": "stderr",
     "output_type": "stream",
     "text": [
      "100% successful: 100%|██████████| 19/19 [00:21<00:00,  1.15s/it]\n"
     ]
    },
    {
     "name": "stdout",
     "output_type": "stream",
     "text": [
      "Scraping data for clayton (3168)\n",
      "No more results for clayton on page 7.\n"
     ]
    },
    {
     "name": "stderr",
     "output_type": "stream",
     "text": [
      "100% successful: 100%|██████████| 117/117 [02:24<00:00,  1.23s/it]\n"
     ]
    },
    {
     "name": "stdout",
     "output_type": "stream",
     "text": [
      "Scraping data for notting-hill (3168)\n",
      "No more results for notting-hill on page 2.\n"
     ]
    },
    {
     "name": "stderr",
     "output_type": "stream",
     "text": [
      "100% successful: 100%|██████████| 16/16 [00:19<00:00,  1.20s/it]\n"
     ]
    },
    {
     "name": "stdout",
     "output_type": "stream",
     "text": [
      "Scraping data for clarinda (3169)\n",
      "No more results for clarinda on page 2.\n"
     ]
    },
    {
     "name": "stderr",
     "output_type": "stream",
     "text": [
      "100% successful: 100%|██████████| 4/4 [00:04<00:00,  1.14s/it]\n"
     ]
    },
    {
     "name": "stdout",
     "output_type": "stream",
     "text": [
      "Scraping data for clayton-south (3169)\n",
      "No more results for clayton-south on page 3.\n"
     ]
    },
    {
     "name": "stderr",
     "output_type": "stream",
     "text": [
      "100% successful: 100%|██████████| 31/31 [00:36<00:00,  1.19s/it]\n"
     ]
    },
    {
     "name": "stdout",
     "output_type": "stream",
     "text": [
      "Scraping data for mulgrave (3170)\n",
      "No more results for mulgrave on page 3.\n"
     ]
    },
    {
     "name": "stderr",
     "output_type": "stream",
     "text": [
      "100% successful: 100%|██████████| 23/23 [00:27<00:00,  1.20s/it]\n"
     ]
    },
    {
     "name": "stdout",
     "output_type": "stream",
     "text": [
      "Scraping data for waverley-gardens (3170)\n",
      "Error fetching https://www.domain.com.au/rent/waverley-gardens-vic-3170/?ssubs=0&sort=suburb-asc&page=1: HTTP Error 404: Not Found\n",
      "No results for waverley-gardens. Moving to the next suburb.\n",
      "Scraping data for sandown-village (3171)\n",
      "Error fetching https://www.domain.com.au/rent/sandown-village-vic-3171/?ssubs=0&sort=suburb-asc&page=1: HTTP Error 404: Not Found\n",
      "No results for sandown-village. Moving to the next suburb.\n",
      "Scraping data for springvale (3171)\n",
      "No more results for springvale on page 3.\n"
     ]
    },
    {
     "name": "stderr",
     "output_type": "stream",
     "text": [
      "100% successful: 100%|██████████| 36/36 [00:39<00:00,  1.11s/it]\n"
     ]
    },
    {
     "name": "stdout",
     "output_type": "stream",
     "text": [
      "Scraping data for dingley-village (3172)\n",
      "No more results for dingley-village on page 2.\n"
     ]
    },
    {
     "name": "stderr",
     "output_type": "stream",
     "text": [
      "100% successful: 100%|██████████| 2/2 [00:02<00:00,  1.40s/it]\n"
     ]
    },
    {
     "name": "stdout",
     "output_type": "stream",
     "text": [
      "Scraping data for springvale-south (3172)\n",
      "No more results for springvale-south on page 2.\n"
     ]
    },
    {
     "name": "stderr",
     "output_type": "stream",
     "text": [
      "100% successful: 100%|██████████| 5/5 [00:06<00:00,  1.28s/it]\n"
     ]
    },
    {
     "name": "stdout",
     "output_type": "stream",
     "text": [
      "Scraping data for keysborough (3173)\n",
      "No more results for keysborough on page 3.\n"
     ]
    },
    {
     "name": "stderr",
     "output_type": "stream",
     "text": [
      "100% successful: 100%|██████████| 35/35 [00:40<00:00,  1.17s/it]\n",
      "24/09/18 00:00:02 WARN DAGScheduler: Broadcasting large task binary with size 6.3 MiB\n",
      "                                                                                \r"
     ]
    },
    {
     "name": "stdout",
     "output_type": "stream",
     "text": [
      "Data successfully written\n",
      "chunk finished\n",
      "Scraping data for keysborough (3173)\n",
      "No more results for keysborough on page 3.\n"
     ]
    },
    {
     "name": "stderr",
     "output_type": "stream",
     "text": [
      "100% successful: 100%|██████████| 35/35 [01:07<00:00,  1.92s/it]\n"
     ]
    },
    {
     "name": "stdout",
     "output_type": "stream",
     "text": [
      "Scraping data for noble-park (3174)\n",
      "No more results for noble-park on page 4.\n"
     ]
    },
    {
     "name": "stderr",
     "output_type": "stream",
     "text": [
      "100% successful: 100%|██████████| 54/54 [00:57<00:00,  1.06s/it]\n"
     ]
    },
    {
     "name": "stdout",
     "output_type": "stream",
     "text": [
      "Scraping data for noble-park-east (3174)\n",
      "Error fetching https://www.domain.com.au/rent/noble-park-east-vic-3174/?ssubs=0&sort=suburb-asc&page=1: HTTP Error 404: Not Found\n",
      "No results for noble-park-east. Moving to the next suburb.\n",
      "Scraping data for noble-park-north (3174)\n",
      "No more results for noble-park-north on page 2.\n"
     ]
    },
    {
     "name": "stderr",
     "output_type": "stream",
     "text": [
      "100% successful: 100%|██████████| 4/4 [00:03<00:00,  1.00it/s]\n"
     ]
    },
    {
     "name": "stdout",
     "output_type": "stream",
     "text": [
      "Scraping data for bangholme (3175)\n",
      "No more results for bangholme on page 1.\n",
      "No results for bangholme. Moving to the next suburb.\n",
      "Scraping data for dandenong (3175)\n",
      "No more results for dandenong on page 4.\n"
     ]
    },
    {
     "name": "stderr",
     "output_type": "stream",
     "text": [
      "100% successful: 100%|██████████| 58/58 [01:01<00:00,  1.06s/it]\n"
     ]
    },
    {
     "name": "stdout",
     "output_type": "stream",
     "text": [
      "Scraping data for dandenong-east (3175)\n",
      "Error fetching https://www.domain.com.au/rent/dandenong-east-vic-3175/?ssubs=0&sort=suburb-asc&page=1: HTTP Error 404: Not Found\n",
      "No results for dandenong-east. Moving to the next suburb.\n",
      "Scraping data for dandenong-north (3175)\n",
      "No more results for dandenong-north on page 3.\n"
     ]
    },
    {
     "name": "stderr",
     "output_type": "stream",
     "text": [
      "100% successful: 100%|██████████| 30/30 [00:35<00:00,  1.17s/it]\n"
     ]
    },
    {
     "name": "stdout",
     "output_type": "stream",
     "text": [
      "Scraping data for dandenong-south (3175)\n",
      "No more results for dandenong-south on page 2.\n"
     ]
    },
    {
     "name": "stderr",
     "output_type": "stream",
     "text": [
      "100% successful: 100%|██████████| 2/2 [00:01<00:00,  1.08it/s]\n"
     ]
    },
    {
     "name": "stdout",
     "output_type": "stream",
     "text": [
      "Scraping data for dunearn (3175)\n",
      "Error fetching https://www.domain.com.au/rent/dunearn-vic-3175/?ssubs=0&sort=suburb-asc&page=1: HTTP Error 404: Not Found\n",
      "No results for dunearn. Moving to the next suburb.\n",
      "Scraping data for scoresby-bc (3176)\n",
      "Error fetching https://www.domain.com.au/rent/scoresby-bc-vic-3176/?ssubs=0&sort=suburb-asc&page=1: HTTP Error 404: Not Found\n",
      "No results for scoresby-bc. Moving to the next suburb.\n",
      "Scraping data for doveton (3177)\n",
      "No more results for doveton on page 2.\n"
     ]
    },
    {
     "name": "stderr",
     "output_type": "stream",
     "text": [
      "100% successful: 100%|██████████| 11/11 [00:11<00:00,  1.09s/it]\n"
     ]
    },
    {
     "name": "stdout",
     "output_type": "stream",
     "text": [
      "Scraping data for eumemmerring (3177)\n",
      "No more results for eumemmerring on page 2.\n"
     ]
    },
    {
     "name": "stderr",
     "output_type": "stream",
     "text": [
      "100% successful: 100%|██████████| 4/4 [00:04<00:00,  1.13s/it]\n"
     ]
    },
    {
     "name": "stdout",
     "output_type": "stream",
     "text": [
      "Scraping data for rowville (3178)\n",
      "No more results for rowville on page 3.\n"
     ]
    },
    {
     "name": "stderr",
     "output_type": "stream",
     "text": [
      "100% successful: 100%|██████████| 22/22 [00:25<00:00,  1.16s/it]\n"
     ]
    },
    {
     "name": "stdout",
     "output_type": "stream",
     "text": [
      "Scraping data for scoresby (3179)\n",
      "No more results for scoresby on page 2.\n"
     ]
    },
    {
     "name": "stderr",
     "output_type": "stream",
     "text": [
      "100% successful: 100%|██████████| 10/10 [00:12<00:00,  1.21s/it]\n"
     ]
    },
    {
     "name": "stdout",
     "output_type": "stream",
     "text": [
      "Scraping data for knoxfield (3180)\n",
      "No more results for knoxfield on page 2.\n"
     ]
    },
    {
     "name": "stderr",
     "output_type": "stream",
     "text": [
      "100% successful: 100%|██████████| 5/5 [00:05<00:00,  1.15s/it]\n"
     ]
    },
    {
     "name": "stdout",
     "output_type": "stream",
     "text": [
      "Scraping data for prahran (3181)\n",
      "No more results for prahran on page 7.\n"
     ]
    },
    {
     "name": "stderr",
     "output_type": "stream",
     "text": [
      "100% successful: 100%|██████████| 118/118 [02:19<00:00,  1.18s/it]\n"
     ]
    },
    {
     "name": "stdout",
     "output_type": "stream",
     "text": [
      "Scraping data for prahran-east (3181)\n",
      "No more results for prahran-east on page 2.\n"
     ]
    },
    {
     "name": "stderr",
     "output_type": "stream",
     "text": [
      "100% successful: 100%|██████████| 1/1 [00:01<00:00,  1.25s/it]\n"
     ]
    },
    {
     "name": "stdout",
     "output_type": "stream",
     "text": [
      "Scraping data for windsor (3181)\n",
      "No more results for windsor on page 4.\n"
     ]
    },
    {
     "name": "stderr",
     "output_type": "stream",
     "text": [
      "100% successful: 100%|██████████| 43/43 [02:05<00:00,  2.91s/it]\n"
     ]
    },
    {
     "name": "stdout",
     "output_type": "stream",
     "text": [
      "Scraping data for st-kilda (3182)\n",
      "No more results for st-kilda on page 10.\n"
     ]
    },
    {
     "name": "stderr",
     "output_type": "stream",
     "text": [
      "100% successful: 100%|██████████| 168/168 [03:44<00:00,  1.34s/it]\n"
     ]
    },
    {
     "name": "stdout",
     "output_type": "stream",
     "text": [
      "Scraping data for st-kilda-south (3182)\n",
      "Error fetching https://www.domain.com.au/rent/st-kilda-south-vic-3182/?ssubs=0&sort=suburb-asc&page=1: HTTP Error 404: Not Found\n",
      "No results for st-kilda-south. Moving to the next suburb.\n",
      "Scraping data for st-kilda-west (3182)\n",
      "No more results for st-kilda-west on page 2.\n"
     ]
    },
    {
     "name": "stderr",
     "output_type": "stream",
     "text": [
      "100% successful: 100%|██████████| 13/13 [00:14<00:00,  1.13s/it]\n"
     ]
    },
    {
     "name": "stdout",
     "output_type": "stream",
     "text": [
      "Scraping data for balaclava (3183)\n",
      "No more results for balaclava on page 3.\n"
     ]
    },
    {
     "name": "stderr",
     "output_type": "stream",
     "text": [
      "100% successful: 100%|██████████| 23/23 [00:28<00:00,  1.26s/it]\n"
     ]
    },
    {
     "name": "stdout",
     "output_type": "stream",
     "text": [
      "Scraping data for st-kilda-east (3183)\n",
      "No more results for st-kilda-east on page 5.\n"
     ]
    },
    {
     "name": "stderr",
     "output_type": "stream",
     "text": [
      "100% successful: 100%|██████████| 72/72 [01:33<00:00,  1.30s/it]\n"
     ]
    },
    {
     "name": "stdout",
     "output_type": "stream",
     "text": [
      "Scraping data for brighton-road (3184)\n",
      "Error fetching https://www.domain.com.au/rent/brighton-road-vic-3184/?ssubs=0&sort=suburb-asc&page=1: HTTP Error 404: Not Found\n",
      "No results for brighton-road. Moving to the next suburb.\n",
      "Scraping data for elwood (3184)\n",
      "No more results for elwood on page 5.\n"
     ]
    },
    {
     "name": "stderr",
     "output_type": "stream",
     "text": [
      "100% successful: 100%|██████████| 73/73 [01:34<00:00,  1.30s/it]\n"
     ]
    },
    {
     "name": "stdout",
     "output_type": "stream",
     "text": [
      "Scraping data for elsternwick (3185)\n",
      "No more results for elsternwick on page 3.\n"
     ]
    },
    {
     "name": "stderr",
     "output_type": "stream",
     "text": [
      "100% successful: 100%|██████████| 37/37 [00:47<00:00,  1.28s/it]\n"
     ]
    },
    {
     "name": "stdout",
     "output_type": "stream",
     "text": [
      "Scraping data for gardenvale (3185)\n",
      "No more results for gardenvale on page 2.\n"
     ]
    },
    {
     "name": "stderr",
     "output_type": "stream",
     "text": [
      "100% successful: 100%|██████████| 2/2 [00:03<00:00,  1.57s/it]\n"
     ]
    },
    {
     "name": "stdout",
     "output_type": "stream",
     "text": [
      "Scraping data for ripponlea (3185)\n",
      "No more results for ripponlea on page 2.\n"
     ]
    },
    {
     "name": "stderr",
     "output_type": "stream",
     "text": [
      "100% successful: 100%|██████████| 5/5 [00:07<00:00,  1.41s/it]\n"
     ]
    },
    {
     "name": "stdout",
     "output_type": "stream",
     "text": [
      "Scraping data for brighton (3186)\n",
      "No more results for brighton on page 5.\n"
     ]
    },
    {
     "name": "stderr",
     "output_type": "stream",
     "text": [
      "100% successful: 100%|██████████| 76/76 [01:46<00:00,  1.40s/it]\n"
     ]
    },
    {
     "name": "stdout",
     "output_type": "stream",
     "text": [
      "Scraping data for brighton-north (3186)\n",
      "Error fetching https://www.domain.com.au/rent/brighton-north-vic-3186/?ssubs=0&sort=suburb-asc&page=1: HTTP Error 404: Not Found\n",
      "No results for brighton-north. Moving to the next suburb.\n",
      "Scraping data for dendy (3186)\n",
      "Error fetching https://www.domain.com.au/rent/dendy-vic-3186/?ssubs=0&sort=suburb-asc&page=1: HTTP Error 404: Not Found\n",
      "No results for dendy. Moving to the next suburb.\n",
      "Scraping data for were-street-po (3186)\n",
      "Error fetching https://www.domain.com.au/rent/were-street-po-vic-3186/?ssubs=0&sort=suburb-asc&page=1: HTTP Error 404: Not Found\n",
      "No results for were-street-po. Moving to the next suburb.\n",
      "Scraping data for brighton-east (3187)\n",
      "No more results for brighton-east on page 3.\n"
     ]
    },
    {
     "name": "stderr",
     "output_type": "stream",
     "text": [
      "100% successful: 100%|██████████| 36/36 [01:02<00:00,  1.73s/it]\n"
     ]
    },
    {
     "name": "stdout",
     "output_type": "stream",
     "text": [
      "Scraping data for north-road (3187)\n",
      "Error fetching https://www.domain.com.au/rent/north-road-vic-3187/?ssubs=0&sort=suburb-asc&page=1: HTTP Error 404: Not Found\n",
      "No results for north-road. Moving to the next suburb.\n",
      "Scraping data for hampton (3188)\n",
      "No more results for hampton on page 3.\n"
     ]
    },
    {
     "name": "stderr",
     "output_type": "stream",
     "text": [
      "100% successful: 100%|██████████| 25/25 [00:41<00:00,  1.66s/it]\n"
     ]
    },
    {
     "name": "stdout",
     "output_type": "stream",
     "text": [
      "Scraping data for hampton-east (3188)\n",
      "No more results for hampton-east on page 2.\n"
     ]
    },
    {
     "name": "stderr",
     "output_type": "stream",
     "text": [
      "100% successful: 100%|██████████| 11/11 [00:16<00:00,  1.50s/it]\n"
     ]
    },
    {
     "name": "stdout",
     "output_type": "stream",
     "text": [
      "Scraping data for hampton-north (3188)\n",
      "Error fetching https://www.domain.com.au/rent/hampton-north-vic-3188/?ssubs=0&sort=suburb-asc&page=1: HTTP Error 404: Not Found\n",
      "No results for hampton-north. Moving to the next suburb.\n",
      "Scraping data for moorabbin (3189)\n",
      "No more results for moorabbin on page 2.\n"
     ]
    },
    {
     "name": "stderr",
     "output_type": "stream",
     "text": [
      "100% successful: 100%|██████████| 20/20 [00:32<00:00,  1.63s/it]\n"
     ]
    },
    {
     "name": "stdout",
     "output_type": "stream",
     "text": [
      "Scraping data for moorabbin-east (3189)\n",
      "Error fetching https://www.domain.com.au/rent/moorabbin-east-vic-3189/?ssubs=0&sort=suburb-asc&page=1: HTTP Error 404: Not Found\n",
      "No results for moorabbin-east. Moving to the next suburb.\n",
      "Scraping data for wishart (3189)\n",
      "Error fetching https://www.domain.com.au/rent/wishart-vic-3189/?ssubs=0&sort=suburb-asc&page=1: HTTP Error 404: Not Found\n",
      "No results for wishart. Moving to the next suburb.\n",
      "Scraping data for highett (3190)\n",
      "No more results for highett on page 3.\n"
     ]
    },
    {
     "name": "stderr",
     "output_type": "stream",
     "text": [
      "100% successful: 100%|██████████| 26/26 [00:40<00:00,  1.55s/it]\n"
     ]
    },
    {
     "name": "stdout",
     "output_type": "stream",
     "text": [
      "Scraping data for sandringham (3191)\n",
      "No more results for sandringham on page 2.\n"
     ]
    },
    {
     "name": "stderr",
     "output_type": "stream",
     "text": [
      "100% successful: 100%|██████████| 12/12 [00:18<00:00,  1.55s/it]\n"
     ]
    },
    {
     "name": "stdout",
     "output_type": "stream",
     "text": [
      "Scraping data for cheltenham (3192)\n",
      "No more results for cheltenham on page 4.\n"
     ]
    },
    {
     "name": "stderr",
     "output_type": "stream",
     "text": [
      "100% successful: 100%|██████████| 48/48 [01:17<00:00,  1.61s/it]\n"
     ]
    },
    {
     "name": "stdout",
     "output_type": "stream",
     "text": [
      "Scraping data for cheltenham-east (3192)\n",
      "Error fetching https://www.domain.com.au/rent/cheltenham-east-vic-3192/?ssubs=0&sort=suburb-asc&page=1: HTTP Error 404: Not Found\n",
      "No results for cheltenham-east. Moving to the next suburb.\n",
      "Scraping data for cheltenham-north (3192)\n",
      "Error fetching https://www.domain.com.au/rent/cheltenham-north-vic-3192/?ssubs=0&sort=suburb-asc&page=1: HTTP Error 404: Not Found\n",
      "No results for cheltenham-north. Moving to the next suburb.\n",
      "Scraping data for southland-centre (3192)\n",
      "Error fetching https://www.domain.com.au/rent/southland-centre-vic-3192/?ssubs=0&sort=suburb-asc&page=1: HTTP Error 404: Not Found\n",
      "No results for southland-centre. Moving to the next suburb.\n",
      "Scraping data for beaumaris (3193)\n",
      "No more results for beaumaris on page 2.\n"
     ]
    },
    {
     "name": "stderr",
     "output_type": "stream",
     "text": [
      "100% successful: 100%|██████████| 15/15 [00:24<00:00,  1.66s/it]\n"
     ]
    },
    {
     "name": "stdout",
     "output_type": "stream",
     "text": [
      "Scraping data for black-rock (3193)\n",
      "No more results for black-rock on page 2.\n"
     ]
    },
    {
     "name": "stderr",
     "output_type": "stream",
     "text": [
      "100% successful: 100%|██████████| 7/7 [00:11<00:00,  1.57s/it]\n"
     ]
    },
    {
     "name": "stdout",
     "output_type": "stream",
     "text": [
      "Scraping data for black-rock-north (3193)\n",
      "Error fetching https://www.domain.com.au/rent/black-rock-north-vic-3193/?ssubs=0&sort=suburb-asc&page=1: HTTP Error 404: Not Found\n",
      "No results for black-rock-north. Moving to the next suburb.\n",
      "Scraping data for cromer (3193)\n",
      "Error fetching https://www.domain.com.au/rent/cromer-vic-3193/?ssubs=0&sort=suburb-asc&page=1: HTTP Error 404: Not Found\n",
      "No results for cromer. Moving to the next suburb.\n",
      "Scraping data for mentone (3194)\n",
      "No more results for mentone on page 3.\n"
     ]
    },
    {
     "name": "stderr",
     "output_type": "stream",
     "text": [
      "100% successful: 100%|██████████| 24/24 [00:37<00:00,  1.58s/it]\n"
     ]
    },
    {
     "name": "stdout",
     "output_type": "stream",
     "text": [
      "Scraping data for mentone-east (3194)\n",
      "Error fetching https://www.domain.com.au/rent/mentone-east-vic-3194/?ssubs=0&sort=suburb-asc&page=1: HTTP Error 404: Not Found\n",
      "No results for mentone-east. Moving to the next suburb.\n",
      "Scraping data for moorabbin-airport (3194)\n",
      "No more results for moorabbin-airport on page 1.\n",
      "No results for moorabbin-airport. Moving to the next suburb.\n",
      "Scraping data for aspendale (3195)\n",
      "No more results for aspendale on page 2.\n"
     ]
    },
    {
     "name": "stderr",
     "output_type": "stream",
     "text": [
      "100% successful: 100%|██████████| 8/8 [00:13<00:00,  1.63s/it]\n"
     ]
    },
    {
     "name": "stdout",
     "output_type": "stream",
     "text": [
      "Scraping data for aspendale-gardens (3195)\n",
      "No more results for aspendale-gardens on page 1.\n",
      "No results for aspendale-gardens. Moving to the next suburb.\n",
      "Scraping data for braeside (3195)\n",
      "No more results for braeside on page 1.\n",
      "No results for braeside. Moving to the next suburb.\n",
      "Scraping data for mordialloc (3195)\n",
      "No more results for mordialloc on page 3.\n"
     ]
    },
    {
     "name": "stderr",
     "output_type": "stream",
     "text": [
      "100% successful: 100%|██████████| 26/26 [00:40<00:00,  1.57s/it]\n"
     ]
    },
    {
     "name": "stdout",
     "output_type": "stream",
     "text": [
      "Scraping data for mordialloc-north (3195)\n",
      "Error fetching https://www.domain.com.au/rent/mordialloc-north-vic-3195/?ssubs=0&sort=suburb-asc&page=1: HTTP Error 404: Not Found\n",
      "No results for mordialloc-north. Moving to the next suburb.\n",
      "Scraping data for parkdale (3195)\n",
      "No more results for parkdale on page 2.\n"
     ]
    },
    {
     "name": "stderr",
     "output_type": "stream",
     "text": [
      "100% successful: 100%|██████████| 9/9 [00:16<00:00,  1.80s/it]\n"
     ]
    },
    {
     "name": "stdout",
     "output_type": "stream",
     "text": [
      "Scraping data for waterways (3195)\n",
      "No more results for waterways on page 2.\n"
     ]
    },
    {
     "name": "stderr",
     "output_type": "stream",
     "text": [
      "100% successful: 100%|██████████| 2/2 [00:03<00:00,  1.87s/it]\n"
     ]
    },
    {
     "name": "stdout",
     "output_type": "stream",
     "text": [
      "Scraping data for bonbeach (3196)\n",
      "No more results for bonbeach on page 2.\n"
     ]
    },
    {
     "name": "stderr",
     "output_type": "stream",
     "text": [
      "100% successful: 100%|██████████| 10/10 [00:15<00:00,  1.58s/it]\n"
     ]
    },
    {
     "name": "stdout",
     "output_type": "stream",
     "text": [
      "Scraping data for chelsea (3196)\n",
      "No more results for chelsea on page 2.\n"
     ]
    },
    {
     "name": "stderr",
     "output_type": "stream",
     "text": [
      "100% successful: 100%|██████████| 16/16 [00:23<00:00,  1.48s/it]\n"
     ]
    },
    {
     "name": "stdout",
     "output_type": "stream",
     "text": [
      "Scraping data for chelsea-heights (3196)\n",
      "No more results for chelsea-heights on page 2.\n"
     ]
    },
    {
     "name": "stderr",
     "output_type": "stream",
     "text": [
      "100% successful: 100%|██████████| 2/2 [00:03<00:00,  1.56s/it]\n"
     ]
    },
    {
     "name": "stdout",
     "output_type": "stream",
     "text": [
      "Scraping data for edithvale (3196)\n",
      "No more results for edithvale on page 2.\n"
     ]
    },
    {
     "name": "stderr",
     "output_type": "stream",
     "text": [
      "100% successful: 100%|██████████| 1/1 [00:01<00:00,  1.30s/it]\n"
     ]
    },
    {
     "name": "stdout",
     "output_type": "stream",
     "text": [
      "Scraping data for carrum (3197)\n",
      "No more results for carrum on page 2.\n"
     ]
    },
    {
     "name": "stderr",
     "output_type": "stream",
     "text": [
      "100% successful: 100%|██████████| 6/6 [00:08<00:00,  1.42s/it]\n"
     ]
    },
    {
     "name": "stdout",
     "output_type": "stream",
     "text": [
      "Scraping data for patterson-lakes (3197)\n",
      "No more results for patterson-lakes on page 2.\n"
     ]
    },
    {
     "name": "stderr",
     "output_type": "stream",
     "text": [
      "100% successful: 100%|██████████| 10/10 [00:29<00:00,  2.92s/it]\n"
     ]
    },
    {
     "name": "stdout",
     "output_type": "stream",
     "text": [
      "Scraping data for belvedere-park (3198)\n",
      "Error fetching https://www.domain.com.au/rent/belvedere-park-vic-3198/?ssubs=0&sort=suburb-asc&page=1: HTTP Error 404: Not Found\n",
      "No results for belvedere-park. Moving to the next suburb.\n",
      "Scraping data for seaford (3198)\n",
      "No more results for seaford on page 3.\n"
     ]
    },
    {
     "name": "stderr",
     "output_type": "stream",
     "text": [
      "100% successful: 100%|██████████| 33/33 [00:50<00:00,  1.54s/it]\n",
      "24/09/18 00:56:32 WARN DAGScheduler: Broadcasting large task binary with size 7.5 MiB\n",
      "                                                                                \r"
     ]
    },
    {
     "name": "stdout",
     "output_type": "stream",
     "text": [
      "Data successfully written\n",
      "chunk finished\n",
      "Scraping data for belvedere-park (3198)\n",
      "Error fetching https://www.domain.com.au/rent/belvedere-park-vic-3198/?ssubs=0&sort=suburb-asc&page=1: HTTP Error 404: Not Found\n",
      "No results for belvedere-park. Moving to the next suburb.\n",
      "Scraping data for seaford (3198)\n",
      "No more results for seaford on page 3.\n"
     ]
    },
    {
     "name": "stderr",
     "output_type": "stream",
     "text": [
      "100% successful: 100%|██████████| 33/33 [00:32<00:00,  1.02it/s]\n"
     ]
    },
    {
     "name": "stdout",
     "output_type": "stream",
     "text": [
      "Scraping data for frankston (3199)\n",
      "No more results for frankston on page 7.\n"
     ]
    },
    {
     "name": "stderr",
     "output_type": "stream",
     "text": [
      "100% successful: 100%|██████████| 102/102 [01:44<00:00,  1.03s/it]\n"
     ]
    },
    {
     "name": "stdout",
     "output_type": "stream",
     "text": [
      "Scraping data for frankston-east (3199)\n",
      "Error fetching https://www.domain.com.au/rent/frankston-east-vic-3199/?ssubs=0&sort=suburb-asc&page=1: HTTP Error 404: Not Found\n",
      "No results for frankston-east. Moving to the next suburb.\n",
      "Scraping data for frankston-heights (3199)\n",
      "Error fetching https://www.domain.com.au/rent/frankston-heights-vic-3199/?ssubs=0&sort=suburb-asc&page=1: HTTP Error 404: Not Found\n",
      "No results for frankston-heights. Moving to the next suburb.\n",
      "Scraping data for frankston-south (3199)\n",
      "No more results for frankston-south on page 2.\n"
     ]
    },
    {
     "name": "stderr",
     "output_type": "stream",
     "text": [
      "100% successful: 100%|██████████| 20/20 [00:19<00:00,  1.02it/s]\n"
     ]
    },
    {
     "name": "stdout",
     "output_type": "stream",
     "text": [
      "Scraping data for karingal (3199)\n",
      "Error fetching https://www.domain.com.au/rent/karingal-vic-3199/?ssubs=0&sort=suburb-asc&page=1: HTTP Error 404: Not Found\n",
      "No results for karingal. Moving to the next suburb.\n",
      "Scraping data for karingal-centre (3199)\n",
      "Error fetching https://www.domain.com.au/rent/karingal-centre-vic-3199/?ssubs=0&sort=suburb-asc&page=1: HTTP Error 404: Not Found\n",
      "No results for karingal-centre. Moving to the next suburb.\n",
      "Scraping data for frankston-north (3200)\n",
      "No more results for frankston-north on page 2.\n"
     ]
    },
    {
     "name": "stderr",
     "output_type": "stream",
     "text": [
      "100% successful: 100%|██████████| 14/14 [00:15<00:00,  1.08s/it]\n"
     ]
    },
    {
     "name": "stdout",
     "output_type": "stream",
     "text": [
      "Scraping data for pines-forest (3200)\n",
      "Error fetching https://www.domain.com.au/rent/pines-forest-vic-3200/?ssubs=0&sort=suburb-asc&page=1: HTTP Error 404: Not Found\n",
      "No results for pines-forest. Moving to the next suburb.\n",
      "Scraping data for carrum-downs (3201)\n",
      "No more results for carrum-downs on page 2.\n"
     ]
    },
    {
     "name": "stderr",
     "output_type": "stream",
     "text": [
      "100% successful: 100%|██████████| 18/18 [00:16<00:00,  1.07it/s]\n"
     ]
    },
    {
     "name": "stdout",
     "output_type": "stream",
     "text": [
      "Scraping data for heatherton (3202)\n",
      "No more results for heatherton on page 2.\n"
     ]
    },
    {
     "name": "stderr",
     "output_type": "stream",
     "text": [
      "100% successful: 100%|██████████| 6/6 [00:06<00:00,  1.15s/it]\n"
     ]
    },
    {
     "name": "stdout",
     "output_type": "stream",
     "text": [
      "Scraping data for bentleigh (3204)\n",
      "No more results for bentleigh on page 3.\n"
     ]
    },
    {
     "name": "stderr",
     "output_type": "stream",
     "text": [
      "100% successful: 100%|██████████| 39/39 [00:41<00:00,  1.05s/it]\n"
     ]
    },
    {
     "name": "stdout",
     "output_type": "stream",
     "text": [
      "Scraping data for mckinnon (3204)\n",
      "No more results for mckinnon on page 2.\n"
     ]
    },
    {
     "name": "stderr",
     "output_type": "stream",
     "text": [
      "100% successful: 100%|██████████| 20/20 [00:22<00:00,  1.11s/it]\n"
     ]
    },
    {
     "name": "stdout",
     "output_type": "stream",
     "text": [
      "Scraping data for ormond (3204)\n",
      "No more results for ormond on page 3.\n"
     ]
    },
    {
     "name": "stderr",
     "output_type": "stream",
     "text": [
      "100% successful:  15%|█▌        | 4/26 [00:05<00:27,  1.27s/it]\n"
     ]
    },
    {
     "ename": "KeyboardInterrupt",
     "evalue": "",
     "output_type": "error",
     "traceback": [
      "\u001b[0;31m---------------------------------------------------------------------------\u001b[0m",
      "\u001b[0;31mKeyboardInterrupt\u001b[0m                         Traceback (most recent call last)",
      "Cell \u001b[0;32mIn[11], line 2\u001b[0m\n\u001b[1;32m      1\u001b[0m starting_chunk \u001b[38;5;241m=\u001b[39m \u001b[38;5;241m3048\u001b[39m \u001b[38;5;241m+\u001b[39m \u001b[38;5;241m125\u001b[39m\n\u001b[0;32m----> 2\u001b[0m \u001b[43mrun_chunk\u001b[49m\u001b[43m(\u001b[49m\u001b[43mstarting_chunk\u001b[49m\u001b[43m)\u001b[49m\n",
      "Cell \u001b[0;32mIn[4], line 5\u001b[0m, in \u001b[0;36mrun_chunk\u001b[0;34m(starting_chunk)\u001b[0m\n\u001b[1;32m      3\u001b[0m \u001b[38;5;66;03m# we are running chunks of 25 postcodes 7 times each\u001b[39;00m\n\u001b[1;32m      4\u001b[0m \u001b[38;5;28;01mwhile\u001b[39;00m i \u001b[38;5;241m<\u001b[39m starting_chunk \u001b[38;5;241m+\u001b[39m \u001b[38;5;241m175\u001b[39m:\n\u001b[0;32m----> 5\u001b[0m     \u001b[43mstart_scrape\u001b[49m\u001b[43m(\u001b[49m\u001b[43mchunk_dict\u001b[49m\u001b[43m[\u001b[49m\u001b[38;5;124;43m\"\u001b[39;49m\u001b[38;5;124;43mchunk_\u001b[39;49m\u001b[38;5;132;43;01m{}\u001b[39;49;00m\u001b[38;5;124;43m\"\u001b[39;49m\u001b[38;5;241;43m.\u001b[39;49m\u001b[43mformat\u001b[49m\u001b[43m(\u001b[49m\u001b[43mi\u001b[49m\u001b[43m)\u001b[49m\u001b[43m]\u001b[49m\u001b[43m,\u001b[49m\u001b[43m \u001b[49m\u001b[43mi\u001b[49m\u001b[43m)\u001b[49m \u001b[38;5;66;03m#i.split(\"_\")[1])\u001b[39;00m\n\u001b[1;32m      6\u001b[0m     i \u001b[38;5;241m+\u001b[39m\u001b[38;5;241m=\u001b[39m \u001b[38;5;241m25\u001b[39m\n\u001b[1;32m      7\u001b[0m \u001b[38;5;28;01mif\u001b[39;00m i \u001b[38;5;241m==\u001b[39m \u001b[38;5;241m3923\u001b[39m:\n",
      "Cell \u001b[0;32mIn[3], line 102\u001b[0m, in \u001b[0;36mstart_scrape\u001b[0;34m(chunk, file_suffix)\u001b[0m\n\u001b[1;32m    100\u001b[0m \u001b[38;5;28;01mfor\u001b[39;00m property_url \u001b[38;5;129;01min\u001b[39;00m pbar:\n\u001b[1;32m    101\u001b[0m     \u001b[38;5;28;01mtry\u001b[39;00m:\n\u001b[0;32m--> 102\u001b[0m         bs_object \u001b[38;5;241m=\u001b[39m BeautifulSoup(\u001b[43murlopen\u001b[49m\u001b[43m(\u001b[49m\u001b[43mRequest\u001b[49m\u001b[43m(\u001b[49m\u001b[43mproperty_url\u001b[49m\u001b[43m,\u001b[49m\u001b[43m \u001b[49m\u001b[43mheaders\u001b[49m\u001b[38;5;241;43m=\u001b[39;49m\u001b[43m{\u001b[49m\u001b[38;5;124;43m'\u001b[39;49m\u001b[38;5;124;43mUser-Agent\u001b[39;49m\u001b[38;5;124;43m'\u001b[39;49m\u001b[43m:\u001b[49m\u001b[43m \u001b[49m\u001b[38;5;124;43m\"\u001b[39;49m\u001b[38;5;124;43mPostmanRuntime/7.6.0\u001b[39;49m\u001b[38;5;124;43m\"\u001b[39;49m\u001b[43m}\u001b[49m\u001b[43m)\u001b[49m\u001b[43m)\u001b[49m, \u001b[38;5;124m\"\u001b[39m\u001b[38;5;124mlxml\u001b[39m\u001b[38;5;124m\"\u001b[39m)\n\u001b[1;32m    103\u001b[0m         total_count \u001b[38;5;241m+\u001b[39m\u001b[38;5;241m=\u001b[39m \u001b[38;5;241m1\u001b[39m\n\u001b[1;32m    105\u001b[0m         \u001b[38;5;66;03m# Get property name\u001b[39;00m\n",
      "File \u001b[0;32m/usr/lib/python3.10/urllib/request.py:216\u001b[0m, in \u001b[0;36murlopen\u001b[0;34m(url, data, timeout, cafile, capath, cadefault, context)\u001b[0m\n\u001b[1;32m    214\u001b[0m \u001b[38;5;28;01melse\u001b[39;00m:\n\u001b[1;32m    215\u001b[0m     opener \u001b[38;5;241m=\u001b[39m _opener\n\u001b[0;32m--> 216\u001b[0m \u001b[38;5;28;01mreturn\u001b[39;00m \u001b[43mopener\u001b[49m\u001b[38;5;241;43m.\u001b[39;49m\u001b[43mopen\u001b[49m\u001b[43m(\u001b[49m\u001b[43murl\u001b[49m\u001b[43m,\u001b[49m\u001b[43m \u001b[49m\u001b[43mdata\u001b[49m\u001b[43m,\u001b[49m\u001b[43m \u001b[49m\u001b[43mtimeout\u001b[49m\u001b[43m)\u001b[49m\n",
      "File \u001b[0;32m/usr/lib/python3.10/urllib/request.py:519\u001b[0m, in \u001b[0;36mOpenerDirector.open\u001b[0;34m(self, fullurl, data, timeout)\u001b[0m\n\u001b[1;32m    516\u001b[0m     req \u001b[38;5;241m=\u001b[39m meth(req)\n\u001b[1;32m    518\u001b[0m sys\u001b[38;5;241m.\u001b[39maudit(\u001b[38;5;124m'\u001b[39m\u001b[38;5;124murllib.Request\u001b[39m\u001b[38;5;124m'\u001b[39m, req\u001b[38;5;241m.\u001b[39mfull_url, req\u001b[38;5;241m.\u001b[39mdata, req\u001b[38;5;241m.\u001b[39mheaders, req\u001b[38;5;241m.\u001b[39mget_method())\n\u001b[0;32m--> 519\u001b[0m response \u001b[38;5;241m=\u001b[39m \u001b[38;5;28;43mself\u001b[39;49m\u001b[38;5;241;43m.\u001b[39;49m\u001b[43m_open\u001b[49m\u001b[43m(\u001b[49m\u001b[43mreq\u001b[49m\u001b[43m,\u001b[49m\u001b[43m \u001b[49m\u001b[43mdata\u001b[49m\u001b[43m)\u001b[49m\n\u001b[1;32m    521\u001b[0m \u001b[38;5;66;03m# post-process response\u001b[39;00m\n\u001b[1;32m    522\u001b[0m meth_name \u001b[38;5;241m=\u001b[39m protocol\u001b[38;5;241m+\u001b[39m\u001b[38;5;124m\"\u001b[39m\u001b[38;5;124m_response\u001b[39m\u001b[38;5;124m\"\u001b[39m\n",
      "File \u001b[0;32m/usr/lib/python3.10/urllib/request.py:536\u001b[0m, in \u001b[0;36mOpenerDirector._open\u001b[0;34m(self, req, data)\u001b[0m\n\u001b[1;32m    533\u001b[0m     \u001b[38;5;28;01mreturn\u001b[39;00m result\n\u001b[1;32m    535\u001b[0m protocol \u001b[38;5;241m=\u001b[39m req\u001b[38;5;241m.\u001b[39mtype\n\u001b[0;32m--> 536\u001b[0m result \u001b[38;5;241m=\u001b[39m \u001b[38;5;28;43mself\u001b[39;49m\u001b[38;5;241;43m.\u001b[39;49m\u001b[43m_call_chain\u001b[49m\u001b[43m(\u001b[49m\u001b[38;5;28;43mself\u001b[39;49m\u001b[38;5;241;43m.\u001b[39;49m\u001b[43mhandle_open\u001b[49m\u001b[43m,\u001b[49m\u001b[43m \u001b[49m\u001b[43mprotocol\u001b[49m\u001b[43m,\u001b[49m\u001b[43m \u001b[49m\u001b[43mprotocol\u001b[49m\u001b[43m \u001b[49m\u001b[38;5;241;43m+\u001b[39;49m\n\u001b[1;32m    537\u001b[0m \u001b[43m                          \u001b[49m\u001b[38;5;124;43m'\u001b[39;49m\u001b[38;5;124;43m_open\u001b[39;49m\u001b[38;5;124;43m'\u001b[39;49m\u001b[43m,\u001b[49m\u001b[43m \u001b[49m\u001b[43mreq\u001b[49m\u001b[43m)\u001b[49m\n\u001b[1;32m    538\u001b[0m \u001b[38;5;28;01mif\u001b[39;00m result:\n\u001b[1;32m    539\u001b[0m     \u001b[38;5;28;01mreturn\u001b[39;00m result\n",
      "File \u001b[0;32m/usr/lib/python3.10/urllib/request.py:496\u001b[0m, in \u001b[0;36mOpenerDirector._call_chain\u001b[0;34m(self, chain, kind, meth_name, *args)\u001b[0m\n\u001b[1;32m    494\u001b[0m \u001b[38;5;28;01mfor\u001b[39;00m handler \u001b[38;5;129;01min\u001b[39;00m handlers:\n\u001b[1;32m    495\u001b[0m     func \u001b[38;5;241m=\u001b[39m \u001b[38;5;28mgetattr\u001b[39m(handler, meth_name)\n\u001b[0;32m--> 496\u001b[0m     result \u001b[38;5;241m=\u001b[39m \u001b[43mfunc\u001b[49m\u001b[43m(\u001b[49m\u001b[38;5;241;43m*\u001b[39;49m\u001b[43margs\u001b[49m\u001b[43m)\u001b[49m\n\u001b[1;32m    497\u001b[0m     \u001b[38;5;28;01mif\u001b[39;00m result \u001b[38;5;129;01mis\u001b[39;00m \u001b[38;5;129;01mnot\u001b[39;00m \u001b[38;5;28;01mNone\u001b[39;00m:\n\u001b[1;32m    498\u001b[0m         \u001b[38;5;28;01mreturn\u001b[39;00m result\n",
      "File \u001b[0;32m/usr/lib/python3.10/urllib/request.py:1391\u001b[0m, in \u001b[0;36mHTTPSHandler.https_open\u001b[0;34m(self, req)\u001b[0m\n\u001b[1;32m   1390\u001b[0m \u001b[38;5;28;01mdef\u001b[39;00m \u001b[38;5;21mhttps_open\u001b[39m(\u001b[38;5;28mself\u001b[39m, req):\n\u001b[0;32m-> 1391\u001b[0m     \u001b[38;5;28;01mreturn\u001b[39;00m \u001b[38;5;28;43mself\u001b[39;49m\u001b[38;5;241;43m.\u001b[39;49m\u001b[43mdo_open\u001b[49m\u001b[43m(\u001b[49m\u001b[43mhttp\u001b[49m\u001b[38;5;241;43m.\u001b[39;49m\u001b[43mclient\u001b[49m\u001b[38;5;241;43m.\u001b[39;49m\u001b[43mHTTPSConnection\u001b[49m\u001b[43m,\u001b[49m\u001b[43m \u001b[49m\u001b[43mreq\u001b[49m\u001b[43m,\u001b[49m\n\u001b[1;32m   1392\u001b[0m \u001b[43m        \u001b[49m\u001b[43mcontext\u001b[49m\u001b[38;5;241;43m=\u001b[39;49m\u001b[38;5;28;43mself\u001b[39;49m\u001b[38;5;241;43m.\u001b[39;49m\u001b[43m_context\u001b[49m\u001b[43m,\u001b[49m\u001b[43m \u001b[49m\u001b[43mcheck_hostname\u001b[49m\u001b[38;5;241;43m=\u001b[39;49m\u001b[38;5;28;43mself\u001b[39;49m\u001b[38;5;241;43m.\u001b[39;49m\u001b[43m_check_hostname\u001b[49m\u001b[43m)\u001b[49m\n",
      "File \u001b[0;32m/usr/lib/python3.10/urllib/request.py:1348\u001b[0m, in \u001b[0;36mAbstractHTTPHandler.do_open\u001b[0;34m(self, http_class, req, **http_conn_args)\u001b[0m\n\u001b[1;32m   1346\u001b[0m \u001b[38;5;28;01mtry\u001b[39;00m:\n\u001b[1;32m   1347\u001b[0m     \u001b[38;5;28;01mtry\u001b[39;00m:\n\u001b[0;32m-> 1348\u001b[0m         \u001b[43mh\u001b[49m\u001b[38;5;241;43m.\u001b[39;49m\u001b[43mrequest\u001b[49m\u001b[43m(\u001b[49m\u001b[43mreq\u001b[49m\u001b[38;5;241;43m.\u001b[39;49m\u001b[43mget_method\u001b[49m\u001b[43m(\u001b[49m\u001b[43m)\u001b[49m\u001b[43m,\u001b[49m\u001b[43m \u001b[49m\u001b[43mreq\u001b[49m\u001b[38;5;241;43m.\u001b[39;49m\u001b[43mselector\u001b[49m\u001b[43m,\u001b[49m\u001b[43m \u001b[49m\u001b[43mreq\u001b[49m\u001b[38;5;241;43m.\u001b[39;49m\u001b[43mdata\u001b[49m\u001b[43m,\u001b[49m\u001b[43m \u001b[49m\u001b[43mheaders\u001b[49m\u001b[43m,\u001b[49m\n\u001b[1;32m   1349\u001b[0m \u001b[43m                  \u001b[49m\u001b[43mencode_chunked\u001b[49m\u001b[38;5;241;43m=\u001b[39;49m\u001b[43mreq\u001b[49m\u001b[38;5;241;43m.\u001b[39;49m\u001b[43mhas_header\u001b[49m\u001b[43m(\u001b[49m\u001b[38;5;124;43m'\u001b[39;49m\u001b[38;5;124;43mTransfer-encoding\u001b[39;49m\u001b[38;5;124;43m'\u001b[39;49m\u001b[43m)\u001b[49m\u001b[43m)\u001b[49m\n\u001b[1;32m   1350\u001b[0m     \u001b[38;5;28;01mexcept\u001b[39;00m \u001b[38;5;167;01mOSError\u001b[39;00m \u001b[38;5;28;01mas\u001b[39;00m err: \u001b[38;5;66;03m# timeout error\u001b[39;00m\n\u001b[1;32m   1351\u001b[0m         \u001b[38;5;28;01mraise\u001b[39;00m URLError(err)\n",
      "File \u001b[0;32m/usr/lib/python3.10/http/client.py:1283\u001b[0m, in \u001b[0;36mHTTPConnection.request\u001b[0;34m(self, method, url, body, headers, encode_chunked)\u001b[0m\n\u001b[1;32m   1280\u001b[0m \u001b[38;5;28;01mdef\u001b[39;00m \u001b[38;5;21mrequest\u001b[39m(\u001b[38;5;28mself\u001b[39m, method, url, body\u001b[38;5;241m=\u001b[39m\u001b[38;5;28;01mNone\u001b[39;00m, headers\u001b[38;5;241m=\u001b[39m{}, \u001b[38;5;241m*\u001b[39m,\n\u001b[1;32m   1281\u001b[0m             encode_chunked\u001b[38;5;241m=\u001b[39m\u001b[38;5;28;01mFalse\u001b[39;00m):\n\u001b[1;32m   1282\u001b[0m \u001b[38;5;250m    \u001b[39m\u001b[38;5;124;03m\"\"\"Send a complete request to the server.\"\"\"\u001b[39;00m\n\u001b[0;32m-> 1283\u001b[0m     \u001b[38;5;28;43mself\u001b[39;49m\u001b[38;5;241;43m.\u001b[39;49m\u001b[43m_send_request\u001b[49m\u001b[43m(\u001b[49m\u001b[43mmethod\u001b[49m\u001b[43m,\u001b[49m\u001b[43m \u001b[49m\u001b[43murl\u001b[49m\u001b[43m,\u001b[49m\u001b[43m \u001b[49m\u001b[43mbody\u001b[49m\u001b[43m,\u001b[49m\u001b[43m \u001b[49m\u001b[43mheaders\u001b[49m\u001b[43m,\u001b[49m\u001b[43m \u001b[49m\u001b[43mencode_chunked\u001b[49m\u001b[43m)\u001b[49m\n",
      "File \u001b[0;32m/usr/lib/python3.10/http/client.py:1329\u001b[0m, in \u001b[0;36mHTTPConnection._send_request\u001b[0;34m(self, method, url, body, headers, encode_chunked)\u001b[0m\n\u001b[1;32m   1325\u001b[0m \u001b[38;5;28;01mif\u001b[39;00m \u001b[38;5;28misinstance\u001b[39m(body, \u001b[38;5;28mstr\u001b[39m):\n\u001b[1;32m   1326\u001b[0m     \u001b[38;5;66;03m# RFC 2616 Section 3.7.1 says that text default has a\u001b[39;00m\n\u001b[1;32m   1327\u001b[0m     \u001b[38;5;66;03m# default charset of iso-8859-1.\u001b[39;00m\n\u001b[1;32m   1328\u001b[0m     body \u001b[38;5;241m=\u001b[39m _encode(body, \u001b[38;5;124m'\u001b[39m\u001b[38;5;124mbody\u001b[39m\u001b[38;5;124m'\u001b[39m)\n\u001b[0;32m-> 1329\u001b[0m \u001b[38;5;28;43mself\u001b[39;49m\u001b[38;5;241;43m.\u001b[39;49m\u001b[43mendheaders\u001b[49m\u001b[43m(\u001b[49m\u001b[43mbody\u001b[49m\u001b[43m,\u001b[49m\u001b[43m \u001b[49m\u001b[43mencode_chunked\u001b[49m\u001b[38;5;241;43m=\u001b[39;49m\u001b[43mencode_chunked\u001b[49m\u001b[43m)\u001b[49m\n",
      "File \u001b[0;32m/usr/lib/python3.10/http/client.py:1278\u001b[0m, in \u001b[0;36mHTTPConnection.endheaders\u001b[0;34m(self, message_body, encode_chunked)\u001b[0m\n\u001b[1;32m   1276\u001b[0m \u001b[38;5;28;01melse\u001b[39;00m:\n\u001b[1;32m   1277\u001b[0m     \u001b[38;5;28;01mraise\u001b[39;00m CannotSendHeader()\n\u001b[0;32m-> 1278\u001b[0m \u001b[38;5;28;43mself\u001b[39;49m\u001b[38;5;241;43m.\u001b[39;49m\u001b[43m_send_output\u001b[49m\u001b[43m(\u001b[49m\u001b[43mmessage_body\u001b[49m\u001b[43m,\u001b[49m\u001b[43m \u001b[49m\u001b[43mencode_chunked\u001b[49m\u001b[38;5;241;43m=\u001b[39;49m\u001b[43mencode_chunked\u001b[49m\u001b[43m)\u001b[49m\n",
      "File \u001b[0;32m/usr/lib/python3.10/http/client.py:1038\u001b[0m, in \u001b[0;36mHTTPConnection._send_output\u001b[0;34m(self, message_body, encode_chunked)\u001b[0m\n\u001b[1;32m   1036\u001b[0m msg \u001b[38;5;241m=\u001b[39m \u001b[38;5;124mb\u001b[39m\u001b[38;5;124m\"\u001b[39m\u001b[38;5;130;01m\\r\u001b[39;00m\u001b[38;5;130;01m\\n\u001b[39;00m\u001b[38;5;124m\"\u001b[39m\u001b[38;5;241m.\u001b[39mjoin(\u001b[38;5;28mself\u001b[39m\u001b[38;5;241m.\u001b[39m_buffer)\n\u001b[1;32m   1037\u001b[0m \u001b[38;5;28;01mdel\u001b[39;00m \u001b[38;5;28mself\u001b[39m\u001b[38;5;241m.\u001b[39m_buffer[:]\n\u001b[0;32m-> 1038\u001b[0m \u001b[38;5;28;43mself\u001b[39;49m\u001b[38;5;241;43m.\u001b[39;49m\u001b[43msend\u001b[49m\u001b[43m(\u001b[49m\u001b[43mmsg\u001b[49m\u001b[43m)\u001b[49m\n\u001b[1;32m   1040\u001b[0m \u001b[38;5;28;01mif\u001b[39;00m message_body \u001b[38;5;129;01mis\u001b[39;00m \u001b[38;5;129;01mnot\u001b[39;00m \u001b[38;5;28;01mNone\u001b[39;00m:\n\u001b[1;32m   1041\u001b[0m \n\u001b[1;32m   1042\u001b[0m     \u001b[38;5;66;03m# create a consistent interface to message_body\u001b[39;00m\n\u001b[1;32m   1043\u001b[0m     \u001b[38;5;28;01mif\u001b[39;00m \u001b[38;5;28mhasattr\u001b[39m(message_body, \u001b[38;5;124m'\u001b[39m\u001b[38;5;124mread\u001b[39m\u001b[38;5;124m'\u001b[39m):\n\u001b[1;32m   1044\u001b[0m         \u001b[38;5;66;03m# Let file-like take precedence over byte-like.  This\u001b[39;00m\n\u001b[1;32m   1045\u001b[0m         \u001b[38;5;66;03m# is needed to allow the current position of mmap'ed\u001b[39;00m\n\u001b[1;32m   1046\u001b[0m         \u001b[38;5;66;03m# files to be taken into account.\u001b[39;00m\n",
      "File \u001b[0;32m/usr/lib/python3.10/http/client.py:976\u001b[0m, in \u001b[0;36mHTTPConnection.send\u001b[0;34m(self, data)\u001b[0m\n\u001b[1;32m    974\u001b[0m \u001b[38;5;28;01mif\u001b[39;00m \u001b[38;5;28mself\u001b[39m\u001b[38;5;241m.\u001b[39msock \u001b[38;5;129;01mis\u001b[39;00m \u001b[38;5;28;01mNone\u001b[39;00m:\n\u001b[1;32m    975\u001b[0m     \u001b[38;5;28;01mif\u001b[39;00m \u001b[38;5;28mself\u001b[39m\u001b[38;5;241m.\u001b[39mauto_open:\n\u001b[0;32m--> 976\u001b[0m         \u001b[38;5;28;43mself\u001b[39;49m\u001b[38;5;241;43m.\u001b[39;49m\u001b[43mconnect\u001b[49m\u001b[43m(\u001b[49m\u001b[43m)\u001b[49m\n\u001b[1;32m    977\u001b[0m     \u001b[38;5;28;01melse\u001b[39;00m:\n\u001b[1;32m    978\u001b[0m         \u001b[38;5;28;01mraise\u001b[39;00m NotConnected()\n",
      "File \u001b[0;32m/usr/lib/python3.10/http/client.py:1455\u001b[0m, in \u001b[0;36mHTTPSConnection.connect\u001b[0;34m(self)\u001b[0m\n\u001b[1;32m   1452\u001b[0m \u001b[38;5;28;01melse\u001b[39;00m:\n\u001b[1;32m   1453\u001b[0m     server_hostname \u001b[38;5;241m=\u001b[39m \u001b[38;5;28mself\u001b[39m\u001b[38;5;241m.\u001b[39mhost\n\u001b[0;32m-> 1455\u001b[0m \u001b[38;5;28mself\u001b[39m\u001b[38;5;241m.\u001b[39msock \u001b[38;5;241m=\u001b[39m \u001b[38;5;28;43mself\u001b[39;49m\u001b[38;5;241;43m.\u001b[39;49m\u001b[43m_context\u001b[49m\u001b[38;5;241;43m.\u001b[39;49m\u001b[43mwrap_socket\u001b[49m\u001b[43m(\u001b[49m\u001b[38;5;28;43mself\u001b[39;49m\u001b[38;5;241;43m.\u001b[39;49m\u001b[43msock\u001b[49m\u001b[43m,\u001b[49m\n\u001b[1;32m   1456\u001b[0m \u001b[43m                                      \u001b[49m\u001b[43mserver_hostname\u001b[49m\u001b[38;5;241;43m=\u001b[39;49m\u001b[43mserver_hostname\u001b[49m\u001b[43m)\u001b[49m\n",
      "File \u001b[0;32m/usr/lib/python3.10/ssl.py:513\u001b[0m, in \u001b[0;36mSSLContext.wrap_socket\u001b[0;34m(self, sock, server_side, do_handshake_on_connect, suppress_ragged_eofs, server_hostname, session)\u001b[0m\n\u001b[1;32m    507\u001b[0m \u001b[38;5;28;01mdef\u001b[39;00m \u001b[38;5;21mwrap_socket\u001b[39m(\u001b[38;5;28mself\u001b[39m, sock, server_side\u001b[38;5;241m=\u001b[39m\u001b[38;5;28;01mFalse\u001b[39;00m,\n\u001b[1;32m    508\u001b[0m                 do_handshake_on_connect\u001b[38;5;241m=\u001b[39m\u001b[38;5;28;01mTrue\u001b[39;00m,\n\u001b[1;32m    509\u001b[0m                 suppress_ragged_eofs\u001b[38;5;241m=\u001b[39m\u001b[38;5;28;01mTrue\u001b[39;00m,\n\u001b[1;32m    510\u001b[0m                 server_hostname\u001b[38;5;241m=\u001b[39m\u001b[38;5;28;01mNone\u001b[39;00m, session\u001b[38;5;241m=\u001b[39m\u001b[38;5;28;01mNone\u001b[39;00m):\n\u001b[1;32m    511\u001b[0m     \u001b[38;5;66;03m# SSLSocket class handles server_hostname encoding before it calls\u001b[39;00m\n\u001b[1;32m    512\u001b[0m     \u001b[38;5;66;03m# ctx._wrap_socket()\u001b[39;00m\n\u001b[0;32m--> 513\u001b[0m     \u001b[38;5;28;01mreturn\u001b[39;00m \u001b[38;5;28;43mself\u001b[39;49m\u001b[38;5;241;43m.\u001b[39;49m\u001b[43msslsocket_class\u001b[49m\u001b[38;5;241;43m.\u001b[39;49m\u001b[43m_create\u001b[49m\u001b[43m(\u001b[49m\n\u001b[1;32m    514\u001b[0m \u001b[43m        \u001b[49m\u001b[43msock\u001b[49m\u001b[38;5;241;43m=\u001b[39;49m\u001b[43msock\u001b[49m\u001b[43m,\u001b[49m\n\u001b[1;32m    515\u001b[0m \u001b[43m        \u001b[49m\u001b[43mserver_side\u001b[49m\u001b[38;5;241;43m=\u001b[39;49m\u001b[43mserver_side\u001b[49m\u001b[43m,\u001b[49m\n\u001b[1;32m    516\u001b[0m \u001b[43m        \u001b[49m\u001b[43mdo_handshake_on_connect\u001b[49m\u001b[38;5;241;43m=\u001b[39;49m\u001b[43mdo_handshake_on_connect\u001b[49m\u001b[43m,\u001b[49m\n\u001b[1;32m    517\u001b[0m \u001b[43m        \u001b[49m\u001b[43msuppress_ragged_eofs\u001b[49m\u001b[38;5;241;43m=\u001b[39;49m\u001b[43msuppress_ragged_eofs\u001b[49m\u001b[43m,\u001b[49m\n\u001b[1;32m    518\u001b[0m \u001b[43m        \u001b[49m\u001b[43mserver_hostname\u001b[49m\u001b[38;5;241;43m=\u001b[39;49m\u001b[43mserver_hostname\u001b[49m\u001b[43m,\u001b[49m\n\u001b[1;32m    519\u001b[0m \u001b[43m        \u001b[49m\u001b[43mcontext\u001b[49m\u001b[38;5;241;43m=\u001b[39;49m\u001b[38;5;28;43mself\u001b[39;49m\u001b[43m,\u001b[49m\n\u001b[1;32m    520\u001b[0m \u001b[43m        \u001b[49m\u001b[43msession\u001b[49m\u001b[38;5;241;43m=\u001b[39;49m\u001b[43msession\u001b[49m\n\u001b[1;32m    521\u001b[0m \u001b[43m    \u001b[49m\u001b[43m)\u001b[49m\n",
      "File \u001b[0;32m/usr/lib/python3.10/ssl.py:1100\u001b[0m, in \u001b[0;36mSSLSocket._create\u001b[0;34m(cls, sock, server_side, do_handshake_on_connect, suppress_ragged_eofs, server_hostname, context, session)\u001b[0m\n\u001b[1;32m   1097\u001b[0m         \u001b[38;5;28;01mif\u001b[39;00m timeout \u001b[38;5;241m==\u001b[39m \u001b[38;5;241m0.0\u001b[39m:\n\u001b[1;32m   1098\u001b[0m             \u001b[38;5;66;03m# non-blocking\u001b[39;00m\n\u001b[1;32m   1099\u001b[0m             \u001b[38;5;28;01mraise\u001b[39;00m \u001b[38;5;167;01mValueError\u001b[39;00m(\u001b[38;5;124m\"\u001b[39m\u001b[38;5;124mdo_handshake_on_connect should not be specified for non-blocking sockets\u001b[39m\u001b[38;5;124m\"\u001b[39m)\n\u001b[0;32m-> 1100\u001b[0m         \u001b[38;5;28;43mself\u001b[39;49m\u001b[38;5;241;43m.\u001b[39;49m\u001b[43mdo_handshake\u001b[49m\u001b[43m(\u001b[49m\u001b[43m)\u001b[49m\n\u001b[1;32m   1101\u001b[0m \u001b[38;5;28;01mexcept\u001b[39;00m (\u001b[38;5;167;01mOSError\u001b[39;00m, \u001b[38;5;167;01mValueError\u001b[39;00m):\n\u001b[1;32m   1102\u001b[0m     \u001b[38;5;28mself\u001b[39m\u001b[38;5;241m.\u001b[39mclose()\n",
      "File \u001b[0;32m/usr/lib/python3.10/ssl.py:1371\u001b[0m, in \u001b[0;36mSSLSocket.do_handshake\u001b[0;34m(self, block)\u001b[0m\n\u001b[1;32m   1369\u001b[0m     \u001b[38;5;28;01mif\u001b[39;00m timeout \u001b[38;5;241m==\u001b[39m \u001b[38;5;241m0.0\u001b[39m \u001b[38;5;129;01mand\u001b[39;00m block:\n\u001b[1;32m   1370\u001b[0m         \u001b[38;5;28mself\u001b[39m\u001b[38;5;241m.\u001b[39msettimeout(\u001b[38;5;28;01mNone\u001b[39;00m)\n\u001b[0;32m-> 1371\u001b[0m     \u001b[38;5;28;43mself\u001b[39;49m\u001b[38;5;241;43m.\u001b[39;49m\u001b[43m_sslobj\u001b[49m\u001b[38;5;241;43m.\u001b[39;49m\u001b[43mdo_handshake\u001b[49m\u001b[43m(\u001b[49m\u001b[43m)\u001b[49m\n\u001b[1;32m   1372\u001b[0m \u001b[38;5;28;01mfinally\u001b[39;00m:\n\u001b[1;32m   1373\u001b[0m     \u001b[38;5;28mself\u001b[39m\u001b[38;5;241m.\u001b[39msettimeout(timeout)\n",
      "\u001b[0;31mKeyboardInterrupt\u001b[0m: "
     ]
    }
   ],
   "source": [
    "starting_chunk = 3048 + 125\n",
    "run_chunk(starting_chunk)"
   ]
  },
  {
   "cell_type": "code",
   "execution_count": null,
   "metadata": {},
   "outputs": [],
   "source": []
  },
  {
   "cell_type": "code",
   "execution_count": null,
   "metadata": {},
   "outputs": [],
   "source": [
    "#Arpan\n",
    "starting_chunk = 3048 + 175\n",
    "run_chunk(starting_chunk)"
   ]
  },
  {
   "cell_type": "code",
   "execution_count": 11,
   "metadata": {},
   "outputs": [
    {
     "name": "stdout",
     "output_type": "stream",
     "text": [
      "Scraping data for beaufort (3373)\n"
     ]
    },
    {
     "name": "stderr",
     "output_type": "stream",
     "text": [
      "/tmp/ipykernel_44579/2477479290.py:69: DeprecationWarning: The 'text' argument to find()-type methods is deprecated. Use 'string' instead.\n",
      "  no_results = bs_object.find(text=re.compile(\"No results found\", re.I))\n"
     ]
    },
    {
     "name": "stdout",
     "output_type": "stream",
     "text": [
      "No more results for beaufort on page 2.\n"
     ]
    },
    {
     "name": "stderr",
     "output_type": "stream",
     "text": [
      "100% successful: 100%|██████████| 2/2 [00:03<00:00,  1.66s/it]\n"
     ]
    },
    {
     "name": "stdout",
     "output_type": "stream",
     "text": [
      "Scraping data for chute (3373)\n",
      "No more results for chute on page 1.\n",
      "No results for chute. Moving to the next suburb.\n",
      "Scraping data for cross-roads (3373)\n",
      "No more results for cross-roads on page 1.\n",
      "No results for cross-roads. Moving to the next suburb.\n",
      "Scraping data for lake-goldsmith (3373)\n",
      "No more results for lake-goldsmith on page 1.\n",
      "No results for lake-goldsmith. Moving to the next suburb.\n",
      "Scraping data for lake-wongan (3373)\n",
      "No more results for lake-wongan on page 1.\n",
      "No results for lake-wongan. Moving to the next suburb.\n",
      "Scraping data for main-lead (3373)\n",
      "No more results for main-lead on page 1.\n",
      "No results for main-lead. Moving to the next suburb.\n",
      "Scraping data for mena-park (3373)\n",
      "No more results for mena-park on page 1.\n",
      "No results for mena-park. Moving to the next suburb.\n",
      "Scraping data for nerring (3373)\n",
      "No more results for nerring on page 1.\n",
      "No results for nerring. Moving to the next suburb.\n",
      "Scraping data for raglan (3373)\n",
      "No more results for raglan on page 1.\n",
      "No results for raglan. Moving to the next suburb.\n",
      "Scraping data for shirley (3373)\n",
      "Error fetching https://www.domain.com.au/rent/shirley-vic-3373/?ssubs=0&sort=suburb-asc&page=1: HTTP Error 404: Not Found\n",
      "No results for shirley. Moving to the next suburb.\n",
      "Scraping data for stockyard-hill (3373)\n",
      "No more results for stockyard-hill on page 1.\n",
      "No results for stockyard-hill. Moving to the next suburb.\n",
      "Scraping data for stoneleigh (3373)\n",
      "No more results for stoneleigh on page 1.\n",
      "No results for stoneleigh. Moving to the next suburb.\n",
      "Scraping data for trawalla (3373)\n",
      "No more results for trawalla on page 1.\n",
      "No results for trawalla. Moving to the next suburb.\n",
      "Scraping data for waterloo (3373)\n",
      "No more results for waterloo on page 1.\n",
      "No results for waterloo. Moving to the next suburb.\n",
      "Scraping data for great-western (3374)\n",
      "No more results for great-western on page 1.\n",
      "No results for great-western. Moving to the next suburb.\n",
      "Scraping data for ballyrogan (3375)\n",
      "No more results for ballyrogan on page 1.\n",
      "No results for ballyrogan. Moving to the next suburb.\n",
      "Scraping data for bayindeen (3375)\n",
      "No more results for bayindeen on page 1.\n",
      "No results for bayindeen. Moving to the next suburb.\n",
      "Scraping data for buangor (3375)\n",
      "No more results for buangor on page 1.\n",
      "No results for buangor. Moving to the next suburb.\n",
      "Scraping data for middle-creek (3375)\n",
      "No more results for middle-creek on page 1.\n",
      "No results for middle-creek. Moving to the next suburb.\n",
      "Scraping data for amphitheatre (3377)\n",
      "Error fetching https://www.domain.com.au/rent/amphitheatre-vic-3377/?ssubs=0&sort=suburb-asc&page=1: HTTP Error 404: Not Found\n",
      "No results for amphitheatre. Moving to the next suburb.\n",
      "Scraping data for ararat (3377)\n",
      "No more results for ararat on page 2.\n"
     ]
    },
    {
     "name": "stderr",
     "output_type": "stream",
     "text": [
      "100% successful: 100%|██████████| 9/9 [00:10<00:00,  1.20s/it]\n"
     ]
    },
    {
     "name": "stdout",
     "output_type": "stream",
     "text": [
      "Scraping data for ararat-east (3377)\n",
      "Error fetching https://www.domain.com.au/rent/ararat-east-vic-3377/?ssubs=0&sort=suburb-asc&page=1: HTTP Error 404: Not Found\n",
      "No results for ararat-east. Moving to the next suburb.\n",
      "Scraping data for armstrong (3377)\n",
      "No more results for armstrong on page 2.\n"
     ]
    },
    {
     "name": "stderr",
     "output_type": "stream",
     "text": [
      "100% successful: 100%|██████████| 1/1 [00:01<00:00,  1.11s/it]\n"
     ]
    },
    {
     "name": "stdout",
     "output_type": "stream",
     "text": [
      "Scraping data for ben-nevis (3377)\n",
      "Error fetching https://www.domain.com.au/rent/ben-nevis-vic-3377/?ssubs=0&sort=suburb-asc&page=1: HTTP Error 404: Not Found\n",
      "No results for ben-nevis. Moving to the next suburb.\n",
      "Scraping data for bulgana (3377)\n",
      "No more results for bulgana on page 1.\n",
      "No results for bulgana. Moving to the next suburb.\n",
      "Scraping data for cathcart (3377)\n",
      "No more results for cathcart on page 1.\n",
      "No results for cathcart. Moving to the next suburb.\n",
      "Scraping data for crowlands (3377)\n",
      "No more results for crowlands on page 1.\n",
      "No results for crowlands. Moving to the next suburb.\n",
      "Scraping data for denicull-creek (3377)\n",
      "No more results for denicull-creek on page 1.\n",
      "No results for denicull-creek. Moving to the next suburb.\n",
      "Scraping data for dobie (3377)\n",
      "No more results for dobie on page 1.\n",
      "No results for dobie. Moving to the next suburb.\n",
      "Scraping data for dunneworthy (3377)\n",
      "No more results for dunneworthy on page 1.\n",
      "No results for dunneworthy. Moving to the next suburb.\n",
      "Scraping data for eversley (3377)\n",
      "No more results for eversley on page 1.\n",
      "No results for eversley. Moving to the next suburb.\n",
      "Scraping data for great-western (3377)\n",
      "No more results for great-western on page 1.\n",
      "No results for great-western. Moving to the next suburb.\n",
      "Scraping data for jallukur (3377)\n",
      "Error fetching https://www.domain.com.au/rent/jallukur-vic-3377/?ssubs=0&sort=suburb-asc&page=1: HTTP Error 404: Not Found\n",
      "No results for jallukur. Moving to the next suburb.\n",
      "Scraping data for langi-logan (3377)\n",
      "No more results for langi-logan on page 1.\n",
      "No results for langi-logan. Moving to the next suburb.\n",
      "Scraping data for maroona (3377)\n",
      "No more results for maroona on page 1.\n",
      "No results for maroona. Moving to the next suburb.\n",
      "Scraping data for mount-cole (3377)\n",
      "No more results for mount-cole on page 1.\n",
      "No results for mount-cole. Moving to the next suburb.\n",
      "Scraping data for mount-cole-creek (3377)\n",
      "No more results for mount-cole-creek on page 1.\n",
      "No results for mount-cole-creek. Moving to the next suburb.\n",
      "Scraping data for mount-lonarch (3377)\n",
      "Error fetching https://www.domain.com.au/rent/mount-lonarch-vic-3377/?ssubs=0&sort=suburb-asc&page=1: HTTP Error 404: Not Found\n",
      "No results for mount-lonarch. Moving to the next suburb.\n",
      "Scraping data for moyston (3377)\n",
      "No more results for moyston on page 1.\n",
      "No results for moyston. Moving to the next suburb.\n",
      "Scraping data for norval (3377)\n",
      "No more results for norval on page 1.\n",
      "No results for norval. Moving to the next suburb.\n",
      "Scraping data for rhymney (3377)\n",
      "No more results for rhymney on page 1.\n",
      "No results for rhymney. Moving to the next suburb.\n",
      "Scraping data for rocky-point (3377)\n",
      "No more results for rocky-point on page 1.\n",
      "No results for rocky-point. Moving to the next suburb.\n",
      "Scraping data for rossbridge (3377)\n",
      "No more results for rossbridge on page 1.\n",
      "No results for rossbridge. Moving to the next suburb.\n",
      "Scraping data for shays-flat (3377)\n",
      "No more results for shays-flat on page 1.\n",
      "No results for shays-flat. Moving to the next suburb.\n",
      "Scraping data for warrak (3377)\n",
      "No more results for warrak on page 1.\n",
      "No results for warrak. Moving to the next suburb.\n",
      "Scraping data for tatyoon (3378)\n",
      "No more results for tatyoon on page 1.\n",
      "No results for tatyoon. Moving to the next suburb.\n",
      "Scraping data for yalla-y-poora (3378)\n",
      "No more results for yalla-y-poora on page 1.\n",
      "No results for yalla-y-poora. Moving to the next suburb.\n",
      "Scraping data for berrambool (3379)\n",
      "Error fetching https://www.domain.com.au/rent/berrambool-vic-3379/?ssubs=0&sort=suburb-asc&page=1: HTTP Error 404: Not Found\n",
      "No results for berrambool. Moving to the next suburb.\n",
      "Scraping data for bornes-hill (3379)\n",
      "No more results for bornes-hill on page 1.\n",
      "No results for bornes-hill. Moving to the next suburb.\n",
      "Scraping data for chatsworth (3379)\n",
      "No more results for chatsworth on page 1.\n",
      "No results for chatsworth. Moving to the next suburb.\n",
      "Scraping data for mafeking (3379)\n",
      "No more results for mafeking on page 1.\n",
      "No results for mafeking. Moving to the next suburb.\n",
      "Scraping data for stavely (3379)\n",
      "No more results for stavely on page 1.\n",
      "No results for stavely. Moving to the next suburb.\n",
      "Scraping data for watgania (3379)\n",
      "Error fetching https://www.domain.com.au/rent/watgania-vic-3379/?ssubs=0&sort=suburb-asc&page=1: HTTP Error 404: Not Found\n",
      "No results for watgania. Moving to the next suburb.\n",
      "Scraping data for wickliffe (3379)\n",
      "No more results for wickliffe on page 1.\n",
      "No results for wickliffe. Moving to the next suburb.\n",
      "Scraping data for willaura (3379)\n",
      "No more results for willaura on page 1.\n",
      "No results for willaura. Moving to the next suburb.\n",
      "Scraping data for willaura-north (3379)\n",
      "No more results for willaura-north on page 1.\n",
      "No results for willaura-north. Moving to the next suburb.\n",
      "Scraping data for bellellen (3380)\n",
      "No more results for bellellen on page 1.\n",
      "No results for bellellen. Moving to the next suburb.\n",
      "Scraping data for bridge-inn (3380)\n",
      "Error fetching https://www.domain.com.au/rent/bridge-inn-vic-3380/?ssubs=0&sort=suburb-asc&page=1: HTTP Error 404: Not Found\n",
      "No results for bridge-inn. Moving to the next suburb.\n",
      "Scraping data for mokepilly (3380)\n",
      "No more results for mokepilly on page 1.\n",
      "No results for mokepilly. Moving to the next suburb.\n",
      "Scraping data for stawell (3380)\n",
      "No more results for stawell on page 2.\n"
     ]
    },
    {
     "name": "stderr",
     "output_type": "stream",
     "text": [
      "100% successful: 100%|██████████| 6/6 [00:06<00:00,  1.01s/it]\n"
     ]
    },
    {
     "name": "stdout",
     "output_type": "stream",
     "text": [
      "Scraping data for stawell-west (3380)\n",
      "Error fetching https://www.domain.com.au/rent/stawell-west-vic-3380/?ssubs=0&sort=suburb-asc&page=1: HTTP Error 404: Not Found\n",
      "No results for stawell-west. Moving to the next suburb.\n",
      "Scraping data for winjallok (3380)\n",
      "No more results for winjallok on page 1.\n",
      "No results for winjallok. Moving to the next suburb.\n",
      "Scraping data for barkly (3381)\n",
      "Error fetching https://www.domain.com.au/rent/barkly-vic-3381/?ssubs=0&sort=suburb-asc&page=1: HTTP Error 404: Not Found\n",
      "No results for barkly. Moving to the next suburb.\n",
      "Scraping data for bellellen (3381)\n",
      "No more results for bellellen on page 1.\n",
      "No results for bellellen. Moving to the next suburb.\n",
      "Scraping data for bellfield (3381)\n",
      "No more results for bellfield on page 1.\n",
      "No results for bellfield. Moving to the next suburb.\n",
      "Scraping data for black-range (3381)\n",
      "No more results for black-range on page 1.\n",
      "No results for black-range. Moving to the next suburb.\n",
      "Scraping data for bolangum (3381)\n",
      "No more results for bolangum on page 1.\n",
      "No results for bolangum. Moving to the next suburb.\n",
      "Scraping data for callawadda (3381)\n",
      "No more results for callawadda on page 1.\n",
      "No results for callawadda. Moving to the next suburb.\n",
      "Scraping data for campbells-bridge (3381)\n",
      "No more results for campbells-bridge on page 1.\n",
      "No results for campbells-bridge. Moving to the next suburb.\n",
      "Scraping data for concongella (3381)\n",
      "No more results for concongella on page 1.\n",
      "No results for concongella. Moving to the next suburb.\n",
      "Scraping data for deep-lead (3381)\n",
      "No more results for deep-lead on page 1.\n",
      "No results for deep-lead. Moving to the next suburb.\n",
      "Scraping data for fyans-creek (3381)\n",
      "No more results for fyans-creek on page 1.\n",
      "No results for fyans-creek. Moving to the next suburb.\n",
      "Scraping data for germania (3381)\n",
      "No more results for germania on page 1.\n",
      "No results for germania. Moving to the next suburb.\n",
      "Scraping data for greens-creek (3381)\n",
      "No more results for greens-creek on page 1.\n",
      "No results for greens-creek. Moving to the next suburb.\n",
      "Scraping data for halls-gap (3381)\n",
      "No more results for halls-gap on page 1.\n",
      "No results for halls-gap. Moving to the next suburb.\n",
      "Scraping data for illawarra (3381)\n",
      "No more results for illawarra on page 1.\n",
      "No results for illawarra. Moving to the next suburb.\n",
      "Scraping data for joel-joel (3381)\n",
      "No more results for joel-joel on page 1.\n",
      "No results for joel-joel. Moving to the next suburb.\n",
      "Scraping data for joel-south (3381)\n",
      "No more results for joel-south on page 1.\n",
      "No results for joel-south. Moving to the next suburb.\n",
      "Scraping data for kanya (3381)\n",
      "No more results for kanya on page 1.\n",
      "No results for kanya. Moving to the next suburb.\n",
      "Scraping data for lake-fyans (3381)\n",
      "No more results for lake-fyans on page 1.\n",
      "No results for lake-fyans. Moving to the next suburb.\n",
      "Scraping data for lake-lonsdale (3381)\n",
      "No more results for lake-lonsdale on page 1.\n",
      "No results for lake-lonsdale. Moving to the next suburb.\n",
      "Scraping data for lubeck (3381)\n",
      "No more results for lubeck on page 1.\n",
      "No results for lubeck. Moving to the next suburb.\n",
      "Scraping data for mokepilly (3381)\n",
      "No more results for mokepilly on page 1.\n",
      "No results for mokepilly. Moving to the next suburb.\n",
      "Scraping data for morrl-morrl (3381)\n",
      "No more results for morrl-morrl on page 1.\n",
      "No results for morrl-morrl. Moving to the next suburb.\n",
      "Scraping data for mount-dryden (3381)\n",
      "No more results for mount-dryden on page 1.\n",
      "No results for mount-dryden. Moving to the next suburb.\n",
      "Scraping data for paradise (3381)\n",
      "No more results for paradise on page 1.\n",
      "No results for paradise. Moving to the next suburb.\n",
      "Scraping data for pomonal (3381)\n",
      "No more results for pomonal on page 1.\n",
      "No results for pomonal. Moving to the next suburb.\n",
      "Scraping data for rostron (3381)\n",
      "No more results for rostron on page 1.\n",
      "No results for rostron. Moving to the next suburb.\n",
      "Scraping data for wal-wal (3381)\n",
      "No more results for wal-wal on page 1.\n",
      "No results for wal-wal. Moving to the next suburb.\n",
      "Scraping data for wallaloo (3381)\n",
      "No more results for wallaloo on page 1.\n",
      "No results for wallaloo. Moving to the next suburb.\n",
      "Scraping data for wallaloo-east (3381)\n",
      "No more results for wallaloo-east on page 1.\n",
      "No results for wallaloo-east. Moving to the next suburb.\n",
      "Scraping data for barkly (3384)\n",
      "No more results for barkly on page 1.\n",
      "No results for barkly. Moving to the next suburb.\n",
      "Scraping data for concongella (3384)\n",
      "No more results for concongella on page 1.\n",
      "No results for concongella. Moving to the next suburb.\n",
      "Scraping data for frenchmans (3384)\n",
      "No more results for frenchmans on page 1.\n",
      "No results for frenchmans. Moving to the next suburb.\n",
      "Scraping data for joel-joel (3384)\n",
      "No more results for joel-joel on page 1.\n",
      "No results for joel-joel. Moving to the next suburb.\n",
      "Scraping data for joel-south (3384)\n",
      "No more results for joel-south on page 1.\n",
      "No results for joel-south. Moving to the next suburb.\n",
      "Scraping data for landsborough (3384)\n",
      "No more results for landsborough on page 1.\n",
      "No results for landsborough. Moving to the next suburb.\n",
      "Scraping data for landsborough-west (3384)\n",
      "No more results for landsborough-west on page 1.\n",
      "No results for landsborough-west. Moving to the next suburb.\n",
      "Scraping data for navarre (3384)\n",
      "No more results for navarre on page 1.\n",
      "No results for navarre. Moving to the next suburb.\n",
      "Scraping data for shays-flat (3384)\n",
      "No more results for shays-flat on page 1.\n",
      "No results for shays-flat. Moving to the next suburb.\n",
      "Scraping data for tulkara (3384)\n",
      "No more results for tulkara on page 1.\n",
      "No results for tulkara. Moving to the next suburb.\n",
      "Scraping data for wattle-creek (3384)\n",
      "No more results for wattle-creek on page 1.\n",
      "No results for wattle-creek. Moving to the next suburb.\n",
      "Scraping data for dadswells-bridge (3385)\n",
      "No more results for dadswells-bridge on page 1.\n",
      "No results for dadswells-bridge. Moving to the next suburb.\n",
      "Scraping data for deep-lead (3385)\n",
      "No more results for deep-lead on page 1.\n",
      "No results for deep-lead. Moving to the next suburb.\n",
      "Scraping data for glenorchy (3385)\n",
      "No more results for glenorchy on page 1.\n",
      "No results for glenorchy. Moving to the next suburb.\n",
      "Scraping data for ledcourt (3385)\n",
      "No more results for ledcourt on page 1.\n",
      "No results for ledcourt. Moving to the next suburb.\n",
      "Scraping data for lubeck (3385)\n",
      "No more results for lubeck on page 1.\n",
      "No results for lubeck. Moving to the next suburb.\n",
      "Scraping data for riachella (3385)\n",
      "No more results for riachella on page 1.\n",
      "No results for riachella. Moving to the next suburb.\n",
      "Scraping data for roses-gap (3385)\n",
      "No more results for roses-gap on page 1.\n",
      "No results for roses-gap. Moving to the next suburb.\n",
      "Scraping data for wal-wal (3385)\n",
      "No more results for wal-wal on page 1.\n",
      "No results for wal-wal. Moving to the next suburb.\n",
      "Scraping data for bolangum (3387)\n",
      "No more results for bolangum on page 1.\n",
      "No results for bolangum. Moving to the next suburb.\n",
      "Scraping data for callawadda (3387)\n",
      "No more results for callawadda on page 1.\n",
      "No results for callawadda. Moving to the next suburb.\n",
      "Scraping data for campbells-bridge (3387)\n",
      "No more results for campbells-bridge on page 1.\n",
      "No results for campbells-bridge. Moving to the next suburb.\n",
      "Scraping data for germania (3387)\n",
      "No more results for germania on page 1.\n",
      "No results for germania. Moving to the next suburb.\n",
      "Scraping data for greens-creek (3387)\n",
      "No more results for greens-creek on page 1.\n",
      "No results for greens-creek. Moving to the next suburb.\n",
      "Scraping data for kanya (3387)\n",
      "No more results for kanya on page 1.\n",
      "No results for kanya. Moving to the next suburb.\n",
      "Scraping data for marnoo (3387)\n",
      "No more results for marnoo on page 1.\n",
      "No results for marnoo. Moving to the next suburb.\n",
      "Scraping data for marnoo-west (3387)\n",
      "No more results for marnoo-west on page 1.\n",
      "No results for marnoo-west. Moving to the next suburb.\n",
      "Scraping data for morrl-morrl (3387)\n",
      "No more results for morrl-morrl on page 1.\n",
      "No results for morrl-morrl. Moving to the next suburb.\n",
      "Scraping data for wallaloo (3387)\n",
      "No more results for wallaloo on page 1.\n",
      "No results for wallaloo. Moving to the next suburb.\n",
      "Scraping data for wallaloo-east (3387)\n",
      "No more results for wallaloo-east on page 1.\n",
      "No results for wallaloo-east. Moving to the next suburb.\n",
      "Scraping data for banyena (3388)\n",
      "No more results for banyena on page 1.\n",
      "No results for banyena. Moving to the next suburb.\n",
      "Scraping data for rupanyup (3388)\n",
      "No more results for rupanyup on page 1.\n",
      "No results for rupanyup. Moving to the next suburb.\n",
      "Scraping data for kewell (3390)\n",
      "No more results for kewell on page 1.\n",
      "No results for kewell. Moving to the next suburb.\n",
      "Scraping data for murtoa (3390)\n",
      "No more results for murtoa on page 1.\n",
      "No results for murtoa. Moving to the next suburb.\n",
      "Scraping data for brim (3391)\n",
      "No more results for brim on page 1.\n",
      "No results for brim. Moving to the next suburb.\n",
      "Scraping data for boolite (3392)\n",
      "No more results for boolite on page 1.\n",
      "No results for boolite. Moving to the next suburb.\n",
      "Scraping data for minyip (3392)\n",
      "No more results for minyip on page 1.\n",
      "No results for minyip. Moving to the next suburb.\n",
      "Scraping data for sheep-hills (3392)\n",
      "No more results for sheep-hills on page 1.\n",
      "No results for sheep-hills. Moving to the next suburb.\n",
      "Scraping data for ailsa (3393)\n",
      "No more results for ailsa on page 1.\n",
      "No results for ailsa. Moving to the next suburb.\n",
      "Scraping data for angip (3393)\n",
      "Error fetching https://www.domain.com.au/rent/angip-vic-3393/?ssubs=0&sort=suburb-asc&page=1: HTTP Error 404: Not Found\n",
      "No results for angip. Moving to the next suburb.\n",
      "Scraping data for aubrey (3393)\n",
      "No more results for aubrey on page 1.\n",
      "No results for aubrey. Moving to the next suburb.\n",
      "Scraping data for bangerang (3393)\n",
      "No more results for bangerang on page 1.\n",
      "No results for bangerang. Moving to the next suburb.\n",
      "Scraping data for cannum (3393)\n",
      "No more results for cannum on page 1.\n",
      "No results for cannum. Moving to the next suburb.\n",
      "Scraping data for crymelon (3393)\n",
      "No more results for crymelon on page 1.\n",
      "No results for crymelon. Moving to the next suburb.\n",
      "Scraping data for kellalac (3393)\n",
      "No more results for kellalac on page 1.\n",
      "No results for kellalac. Moving to the next suburb.\n",
      "Scraping data for lah (3393)\n",
      "No more results for lah on page 1.\n",
      "No results for lah. Moving to the next suburb.\n",
      "Scraping data for warracknabeal (3393)\n",
      "No more results for warracknabeal on page 2.\n"
     ]
    },
    {
     "name": "stderr",
     "output_type": "stream",
     "text": [
      "100% successful: 100%|██████████| 2/2 [00:03<00:00,  1.54s/it]\n"
     ]
    },
    {
     "name": "stdout",
     "output_type": "stream",
     "text": [
      "Scraping data for wilkur (3393)\n",
      "No more results for wilkur on page 1.\n",
      "No results for wilkur. Moving to the next suburb.\n",
      "Scraping data for willenabrina (3393)\n",
      "No more results for willenabrina on page 1.\n",
      "No results for willenabrina. Moving to the next suburb.\n",
      "Scraping data for beulah (3395)\n",
      "No more results for beulah on page 1.\n",
      "No results for beulah. Moving to the next suburb.\n",
      "Scraping data for kenmare (3395)\n",
      "No more results for kenmare on page 1.\n",
      "No results for kenmare. Moving to the next suburb.\n",
      "Scraping data for reedy-dam (3395)\n",
      "No more results for reedy-dam on page 1.\n",
      "No results for reedy-dam. Moving to the next suburb.\n",
      "Scraping data for rosebery (3395)\n",
      "No more results for rosebery on page 1.\n",
      "No results for rosebery. Moving to the next suburb.\n",
      "Scraping data for hopetoun (3396)\n",
      "No more results for hopetoun on page 2.\n"
     ]
    },
    {
     "name": "stderr",
     "output_type": "stream",
     "text": [
      "100% successful: 100%|██████████| 2/2 [00:02<00:00,  1.39s/it]\n"
     ]
    },
    {
     "name": "stdout",
     "output_type": "stream",
     "text": [
      "Scraping data for hopevale (3396)\n",
      "Error fetching https://www.domain.com.au/rent/hopevale-vic-3396/?ssubs=0&sort=suburb-asc&page=1: HTTP Error 404: Not Found\n",
      "No results for hopevale. Moving to the next suburb.\n",
      "Scraping data for yarto (3396)\n",
      "Error fetching https://www.domain.com.au/rent/yarto-vic-3396/?ssubs=0&sort=suburb-asc&page=1: HTTP Error 404: Not Found\n",
      "No results for yarto. Moving to the next suburb.\n"
     ]
    },
    {
     "name": "stderr",
     "output_type": "stream",
     "text": [
      "                                                                                \r"
     ]
    },
    {
     "name": "stdout",
     "output_type": "stream",
     "text": [
      "Data successfully written\n",
      "chunk finished\n",
      "Scraping data for jung (3399)\n",
      "Error fetching https://www.domain.com.au/rent/jung-vic-3399/?ssubs=0&sort=suburb-asc&page=1: HTTP Error 404: Not Found\n",
      "No results for jung. Moving to the next suburb.\n",
      "Scraping data for longerenong (3399)\n",
      "Error fetching https://www.domain.com.au/rent/longerenong-vic-3399/?ssubs=0&sort=suburb-asc&page=1: HTTP Error 404: Not Found\n",
      "No results for longerenong. Moving to the next suburb.\n",
      "Scraping data for brimpaen (3400)\n",
      "Error fetching https://www.domain.com.au/rent/brimpaen-vic-3400/?ssubs=0&sort=suburb-asc&page=1: HTTP Error 404: Not Found\n",
      "No results for brimpaen. Moving to the next suburb.\n",
      "Scraping data for horsham (3400)\n",
      "No more results for horsham on page 3.\n"
     ]
    },
    {
     "name": "stderr",
     "output_type": "stream",
     "text": [
      "100% successful: 100%|██████████| 24/24 [00:35<00:00,  1.48s/it]\n"
     ]
    },
    {
     "name": "stdout",
     "output_type": "stream",
     "text": [
      "Scraping data for horsham-west (3400)\n",
      "Error fetching https://www.domain.com.au/rent/horsham-west-vic-3400/?ssubs=0&sort=suburb-asc&page=1: HTTP Error 404: Not Found\n",
      "No results for horsham-west. Moving to the next suburb.\n",
      "Scraping data for st-helens-plains (3400)\n",
      "Error fetching https://www.domain.com.au/rent/st-helens-plains-vic-3400/?ssubs=0&sort=suburb-asc&page=1: HTTP Error 404: Not Found\n",
      "No results for st-helens-plains. Moving to the next suburb.\n",
      "Scraping data for wartook (3400)\n",
      "Error fetching https://www.domain.com.au/rent/wartook-vic-3400/?ssubs=0&sort=suburb-asc&page=1: HTTP Error 404: Not Found\n",
      "No results for wartook. Moving to the next suburb.\n",
      "Scraping data for wonwondah-east (3400)\n",
      "Error fetching https://www.domain.com.au/rent/wonwondah-east-vic-3400/?ssubs=0&sort=suburb-asc&page=1: HTTP Error 404: Not Found\n",
      "No results for wonwondah-east. Moving to the next suburb.\n",
      "Scraping data for wonwondah-south (3400)\n",
      "Error fetching https://www.domain.com.au/rent/wonwondah-south-vic-3400/?ssubs=0&sort=suburb-asc&page=1: HTTP Error 404: Not Found\n",
      "No results for wonwondah-south. Moving to the next suburb.\n",
      "Scraping data for blackheath (3401)\n",
      "No more results for blackheath on page 1.\n",
      "No results for blackheath. Moving to the next suburb.\n",
      "Scraping data for brimpaen (3401)\n",
      "No more results for brimpaen on page 1.\n",
      "No results for brimpaen. Moving to the next suburb.\n",
      "Scraping data for bungalally (3401)\n",
      "No more results for bungalally on page 1.\n",
      "No results for bungalally. Moving to the next suburb.\n",
      "Scraping data for cherrypool (3401)\n",
      "No more results for cherrypool on page 1.\n",
      "No results for cherrypool. Moving to the next suburb.\n",
      "Scraping data for clear-lake (3401)\n",
      "Error fetching https://www.domain.com.au/rent/clear-lake-vic-3401/?ssubs=0&sort=suburb-asc&page=1: HTTP Error 404: Not Found\n",
      "No results for clear-lake. Moving to the next suburb.\n",
      "Scraping data for connangorach (3401)\n",
      "Error fetching https://www.domain.com.au/rent/connangorach-vic-3401/?ssubs=0&sort=suburb-asc&page=1: HTTP Error 404: Not Found\n",
      "No results for connangorach. Moving to the next suburb.\n",
      "Scraping data for dahlen (3401)\n",
      "Error fetching https://www.domain.com.au/rent/dahlen-vic-3401/?ssubs=0&sort=suburb-asc&page=1: HTTP Error 404: Not Found\n",
      "No results for dahlen. Moving to the next suburb.\n",
      "Scraping data for dooen (3401)\n",
      "No more results for dooen on page 1.\n",
      "No results for dooen. Moving to the next suburb.\n",
      "Scraping data for douglas (3401)\n",
      "Error fetching https://www.domain.com.au/rent/douglas-vic-3401/?ssubs=0&sort=suburb-asc&page=1: HTTP Error 404: Not Found\n",
      "No results for douglas. Moving to the next suburb.\n",
      "Scraping data for drung (3401)\n",
      "No more results for drung on page 1.\n",
      "No results for drung. Moving to the next suburb.\n",
      "Scraping data for green-lake (3401)\n",
      "Error fetching https://www.domain.com.au/rent/green-lake-vic-3401/?ssubs=0&sort=suburb-asc&page=1: HTTP Error 404: Not Found\n",
      "No results for green-lake. Moving to the next suburb.\n",
      "Scraping data for gymbowen (3401)\n",
      "No more results for gymbowen on page 1.\n",
      "No results for gymbowen. Moving to the next suburb.\n",
      "Scraping data for haven (3401)\n",
      "No more results for haven on page 1.\n",
      "No results for haven. Moving to the next suburb.\n",
      "Scraping data for horsham (3401)\n",
      "Error fetching https://www.domain.com.au/rent/horsham-vic-3401/?ssubs=0&sort=suburb-asc&page=1: HTTP Error 404: Not Found\n",
      "No results for horsham. Moving to the next suburb.\n",
      "Scraping data for jallumba (3401)\n",
      "Error fetching https://www.domain.com.au/rent/jallumba-vic-3401/?ssubs=0&sort=suburb-asc&page=1: HTTP Error 404: Not Found\n",
      "No results for jallumba. Moving to the next suburb.\n",
      "Scraping data for jilpanger (3401)\n",
      "Error fetching https://www.domain.com.au/rent/jilpanger-vic-3401/?ssubs=0&sort=suburb-asc&page=1: HTTP Error 404: Not Found\n",
      "No results for jilpanger. Moving to the next suburb.\n",
      "Scraping data for jung (3401)\n",
      "No more results for jung on page 1.\n",
      "No results for jung. Moving to the next suburb.\n",
      "Scraping data for kalkee (3401)\n",
      "No more results for kalkee on page 1.\n",
      "No results for kalkee. Moving to the next suburb.\n",
      "Scraping data for kanagulk (3401)\n",
      "No more results for kanagulk on page 1.\n",
      "No results for kanagulk. Moving to the next suburb.\n",
      "Scraping data for karnak (3401)\n",
      "No more results for karnak on page 1.\n",
      "No results for karnak. Moving to the next suburb.\n",
      "Scraping data for laharum (3401)\n",
      "No more results for laharum on page 1.\n",
      "No results for laharum. Moving to the next suburb.\n",
      "Scraping data for longerenong (3401)\n",
      "No more results for longerenong on page 1.\n",
      "No results for longerenong. Moving to the next suburb.\n",
      "Scraping data for lower-norton (3401)\n",
      "No more results for lower-norton on page 1.\n",
      "No results for lower-norton. Moving to the next suburb.\n",
      "Scraping data for mckenzie-creek (3401)\n",
      "No more results for mckenzie-creek on page 1.\n",
      "No results for mckenzie-creek. Moving to the next suburb.\n",
      "Scraping data for miga-lake (3401)\n",
      "Error fetching https://www.domain.com.au/rent/miga-lake-vic-3401/?ssubs=0&sort=suburb-asc&page=1: HTTP Error 404: Not Found\n",
      "No results for miga-lake. Moving to the next suburb.\n",
      "Scraping data for mitre (3401)\n",
      "Error fetching https://www.domain.com.au/rent/mitre-vic-3401/?ssubs=0&sort=suburb-asc&page=1: HTTP Error 404: Not Found\n",
      "No results for mitre. Moving to the next suburb.\n",
      "Scraping data for mockinya (3401)\n",
      "No more results for mockinya on page 1.\n",
      "No results for mockinya. Moving to the next suburb.\n",
      "Scraping data for murra-warra (3401)\n",
      "No more results for murra-warra on page 1.\n",
      "No results for murra-warra. Moving to the next suburb.\n",
      "Scraping data for noradjuha (3401)\n",
      "Error fetching https://www.domain.com.au/rent/noradjuha-vic-3401/?ssubs=0&sort=suburb-asc&page=1: HTTP Error 404: Not Found\n",
      "No results for noradjuha. Moving to the next suburb.\n",
      "Scraping data for nurcoung (3401)\n",
      "No more results for nurcoung on page 1.\n",
      "No results for nurcoung. Moving to the next suburb.\n",
      "Scraping data for nurrabiel (3401)\n",
      "No more results for nurrabiel on page 1.\n",
      "No results for nurrabiel. Moving to the next suburb.\n",
      "Scraping data for pimpinio (3401)\n",
      "No more results for pimpinio on page 1.\n",
      "No results for pimpinio. Moving to the next suburb.\n",
      "Scraping data for quantong (3401)\n",
      "No more results for quantong on page 1.\n",
      "No results for quantong. Moving to the next suburb.\n",
      "Scraping data for remlaw (3401)\n",
      "Error fetching https://www.domain.com.au/rent/remlaw-vic-3401/?ssubs=0&sort=suburb-asc&page=1: HTTP Error 404: Not Found\n",
      "No results for remlaw. Moving to the next suburb.\n",
      "Scraping data for riverside (3401)\n",
      "No more results for riverside on page 1.\n",
      "No results for riverside. Moving to the next suburb.\n",
      "Scraping data for rocklands (3401)\n",
      "No more results for rocklands on page 1.\n",
      "No results for rocklands. Moving to the next suburb.\n",
      "Scraping data for rocklands (3401)\n",
      "No more results for rocklands on page 1.\n",
      "No results for rocklands. Moving to the next suburb.\n",
      "Scraping data for st-helens-plains (3401)\n",
      "No more results for st-helens-plains on page 1.\n",
      "No results for st-helens-plains. Moving to the next suburb.\n",
      "Scraping data for telangatuk-east (3401)\n",
      "No more results for telangatuk-east on page 1.\n",
      "No results for telangatuk-east. Moving to the next suburb.\n",
      "Scraping data for tooan (3401)\n",
      "Error fetching https://www.domain.com.au/rent/tooan-vic-3401/?ssubs=0&sort=suburb-asc&page=1: HTTP Error 404: Not Found\n",
      "No results for tooan. Moving to the next suburb.\n",
      "Scraping data for toolondo (3401)\n",
      "No more results for toolondo on page 1.\n",
      "No results for toolondo. Moving to the next suburb.\n",
      "Scraping data for vectis (3401)\n",
      "No more results for vectis on page 1.\n",
      "No results for vectis. Moving to the next suburb.\n",
      "Scraping data for wail (3401)\n",
      "No more results for wail on page 1.\n",
      "No results for wail. Moving to the next suburb.\n",
      "Scraping data for wallup (3401)\n",
      "No more results for wallup on page 1.\n",
      "No results for wallup. Moving to the next suburb.\n",
      "Scraping data for wartook (3401)\n",
      "No more results for wartook on page 1.\n",
      "No results for wartook. Moving to the next suburb.\n",
      "Scraping data for wombelano (3401)\n",
      "Error fetching https://www.domain.com.au/rent/wombelano-vic-3401/?ssubs=0&sort=suburb-asc&page=1: HTTP Error 404: Not Found\n",
      "No results for wombelano. Moving to the next suburb.\n",
      "Scraping data for wonwondah (3401)\n",
      "No more results for wonwondah on page 2.\n"
     ]
    },
    {
     "name": "stderr",
     "output_type": "stream",
     "text": [
      "100% successful: 100%|██████████| 1/1 [00:01<00:00,  1.19s/it]\n"
     ]
    },
    {
     "name": "stdout",
     "output_type": "stream",
     "text": [
      "Scraping data for zumsteins (3401)\n",
      "No more results for zumsteins on page 1.\n",
      "No results for zumsteins. Moving to the next suburb.\n",
      "Scraping data for horsham (3402)\n",
      "Error fetching https://www.domain.com.au/rent/horsham-vic-3402/?ssubs=0&sort=suburb-asc&page=1: HTTP Error 404: Not Found\n",
      "No results for horsham. Moving to the next suburb.\n",
      "Scraping data for balmoral (3407)\n",
      "No more results for balmoral on page 1.\n",
      "No results for balmoral. Moving to the next suburb.\n",
      "Scraping data for englefield (3407)\n",
      "No more results for englefield on page 1.\n",
      "No results for englefield. Moving to the next suburb.\n",
      "Scraping data for gatum (3407)\n",
      "No more results for gatum on page 1.\n",
      "No results for gatum. Moving to the next suburb.\n",
      "Scraping data for pigeon-ponds (3407)\n",
      "No more results for pigeon-ponds on page 1.\n",
      "No results for pigeon-ponds. Moving to the next suburb.\n",
      "Scraping data for vasey (3407)\n",
      "No more results for vasey on page 1.\n",
      "No results for vasey. Moving to the next suburb.\n",
      "Scraping data for arapiles (3409)\n",
      "No more results for arapiles on page 1.\n",
      "No results for arapiles. Moving to the next suburb.\n",
      "Scraping data for clear-lake (3409)\n",
      "No more results for clear-lake on page 1.\n",
      "No results for clear-lake. Moving to the next suburb.\n",
      "Scraping data for douglas (3409)\n",
      "No more results for douglas on page 1.\n",
      "No results for douglas. Moving to the next suburb.\n",
      "Scraping data for duchembegarra (3409)\n",
      "No more results for duchembegarra on page 1.\n",
      "No results for duchembegarra. Moving to the next suburb.\n",
      "Scraping data for grass-flat (3409)\n",
      "No more results for grass-flat on page 1.\n",
      "No results for grass-flat. Moving to the next suburb.\n",
      "Scraping data for jilpanger (3409)\n",
      "No more results for jilpanger on page 1.\n",
      "No results for jilpanger. Moving to the next suburb.\n",
      "Scraping data for miga-lake (3409)\n",
      "No more results for miga-lake on page 1.\n",
      "No results for miga-lake. Moving to the next suburb.\n",
      "Scraping data for mitre (3409)\n",
      "No more results for mitre on page 1.\n",
      "No results for mitre. Moving to the next suburb.\n",
      "Scraping data for natimuk (3409)\n",
      "No more results for natimuk on page 2.\n"
     ]
    },
    {
     "name": "stderr",
     "output_type": "stream",
     "text": [
      "100% successful: 100%|██████████| 1/1 [00:00<00:00,  1.06it/s]\n"
     ]
    },
    {
     "name": "stdout",
     "output_type": "stream",
     "text": [
      "Scraping data for noradjuha (3409)\n",
      "No more results for noradjuha on page 1.\n",
      "No results for noradjuha. Moving to the next suburb.\n",
      "Scraping data for tooan (3409)\n",
      "No more results for tooan on page 1.\n",
      "No results for tooan. Moving to the next suburb.\n",
      "Scraping data for wombelano (3409)\n",
      "No more results for wombelano on page 1.\n",
      "No results for wombelano. Moving to the next suburb.\n",
      "Scraping data for goroke (3412)\n",
      "No more results for goroke on page 1.\n",
      "No results for goroke. Moving to the next suburb.\n",
      "Scraping data for minimay (3413)\n",
      "No more results for minimay on page 1.\n",
      "No results for minimay. Moving to the next suburb.\n",
      "Scraping data for neuarpurr (3413)\n",
      "No more results for neuarpurr on page 1.\n",
      "No results for neuarpurr. Moving to the next suburb.\n",
      "Scraping data for ozenkadnook (3413)\n",
      "No more results for ozenkadnook on page 1.\n",
      "No results for ozenkadnook. Moving to the next suburb.\n",
      "Scraping data for peronne (3413)\n",
      "No more results for peronne on page 1.\n",
      "No results for peronne. Moving to the next suburb.\n",
      "Scraping data for antwerp (3414)\n",
      "No more results for antwerp on page 1.\n",
      "No results for antwerp. Moving to the next suburb.\n",
      "Scraping data for dimboola (3414)\n",
      "No more results for dimboola on page 2.\n"
     ]
    },
    {
     "name": "stderr",
     "output_type": "stream",
     "text": [
      "100% successful: 100%|██████████| 1/1 [00:01<00:00,  1.03s/it]\n"
     ]
    },
    {
     "name": "stdout",
     "output_type": "stream",
     "text": [
      "Scraping data for tarranyurk (3414)\n",
      "No more results for tarranyurk on page 1.\n",
      "No results for tarranyurk. Moving to the next suburb.\n",
      "Scraping data for miram (3415)\n",
      "No more results for miram on page 1.\n",
      "No results for miram. Moving to the next suburb.\n",
      "Scraping data for yarrunga (3415)\n",
      "Error fetching https://www.domain.com.au/rent/yarrunga-vic-3415/?ssubs=0&sort=suburb-asc&page=1: HTTP Error 404: Not Found\n",
      "No results for yarrunga. Moving to the next suburb.\n",
      "Scraping data for broughton (3418)\n",
      "No more results for broughton on page 1.\n",
      "No results for broughton. Moving to the next suburb.\n",
      "Scraping data for gerang-gerung (3418)\n",
      "No more results for gerang-gerung on page 1.\n",
      "No results for gerang-gerung. Moving to the next suburb.\n",
      "Scraping data for glenlee (3418)\n",
      "No more results for glenlee on page 1.\n",
      "No results for glenlee. Moving to the next suburb.\n",
      "Scraping data for kiata (3418)\n",
      "No more results for kiata on page 1.\n",
      "No results for kiata. Moving to the next suburb.\n",
      "Scraping data for lawloit (3418)\n",
      "No more results for lawloit on page 1.\n",
      "No results for lawloit. Moving to the next suburb.\n",
      "Scraping data for little-desert (3418)\n",
      "No more results for little-desert on page 1.\n",
      "No results for little-desert. Moving to the next suburb.\n",
      "Scraping data for lorquon (3418)\n",
      "No more results for lorquon on page 1.\n",
      "No results for lorquon. Moving to the next suburb.\n",
      "Scraping data for netherby (3418)\n",
      "No more results for netherby on page 1.\n",
      "No results for netherby. Moving to the next suburb.\n",
      "Scraping data for nhill (3418)\n",
      "No more results for nhill on page 2.\n"
     ]
    },
    {
     "name": "stderr",
     "output_type": "stream",
     "text": [
      "100% successful: 100%|██████████| 1/1 [00:01<00:00,  1.52s/it]\n"
     ]
    },
    {
     "name": "stdout",
     "output_type": "stream",
     "text": [
      "Scraping data for yanac (3418)\n",
      "No more results for yanac on page 1.\n",
      "No results for yanac. Moving to the next suburb.\n",
      "Scraping data for kaniva (3419)\n",
      "No more results for kaniva on page 2.\n"
     ]
    },
    {
     "name": "stderr",
     "output_type": "stream",
     "text": [
      "100% successful: 100%|██████████| 3/3 [00:05<00:00,  1.96s/it]\n"
     ]
    },
    {
     "name": "stdout",
     "output_type": "stream",
     "text": [
      "Scraping data for lillimur (3420)\n",
      "No more results for lillimur on page 1.\n",
      "No results for lillimur. Moving to the next suburb.\n",
      "Scraping data for serviceton (3420)\n",
      "No more results for serviceton on page 1.\n",
      "No results for serviceton. Moving to the next suburb.\n",
      "Scraping data for telopea-downs (3420)\n",
      "No more results for telopea-downs on page 1.\n",
      "No results for telopea-downs. Moving to the next suburb.\n",
      "Scraping data for jeparit (3423)\n",
      "No more results for jeparit on page 1.\n",
      "No results for jeparit. Moving to the next suburb.\n",
      "Scraping data for lake-hindmarsh (3423)\n",
      "Error fetching https://www.domain.com.au/rent/lake-hindmarsh-vic-3423/?ssubs=0&sort=suburb-asc&page=1: HTTP Error 404: Not Found\n",
      "No results for lake-hindmarsh. Moving to the next suburb.\n"
     ]
    },
    {
     "name": "stderr",
     "output_type": "stream",
     "text": [
      "                                                                                \r"
     ]
    },
    {
     "name": "stdout",
     "output_type": "stream",
     "text": [
      "Data successfully written\n",
      "chunk finished\n",
      "Scraping data for jeparit (3423)\n",
      "No more results for jeparit on page 1.\n",
      "No results for jeparit. Moving to the next suburb.\n",
      "Scraping data for lake-hindmarsh (3423)\n",
      "Error fetching https://www.domain.com.au/rent/lake-hindmarsh-vic-3423/?ssubs=0&sort=suburb-asc&page=1: HTTP Error 404: Not Found\n",
      "No results for lake-hindmarsh. Moving to the next suburb.\n",
      "Scraping data for albacutya (3424)\n",
      "No more results for albacutya on page 1.\n",
      "No results for albacutya. Moving to the next suburb.\n",
      "Scraping data for rainbow (3424)\n",
      "No more results for rainbow on page 1.\n",
      "No results for rainbow. Moving to the next suburb.\n",
      "Scraping data for yaapeet (3424)\n",
      "No more results for yaapeet on page 1.\n",
      "No results for yaapeet. Moving to the next suburb.\n",
      "Scraping data for diggers-rest (3427)\n",
      "No more results for diggers-rest on page 2.\n"
     ]
    },
    {
     "name": "stderr",
     "output_type": "stream",
     "text": [
      "100% successful: 100%|██████████| 16/16 [00:19<00:00,  1.21s/it]\n"
     ]
    },
    {
     "name": "stdout",
     "output_type": "stream",
     "text": [
      "Scraping data for plumpton (3427)\n",
      "Error fetching https://www.domain.com.au/rent/plumpton-vic-3427/?ssubs=0&sort=suburb-asc&page=1: HTTP Error 404: Not Found\n",
      "No results for plumpton. Moving to the next suburb.\n",
      "Scraping data for bulla (3428)\n",
      "No more results for bulla on page 2.\n"
     ]
    },
    {
     "name": "stderr",
     "output_type": "stream",
     "text": [
      "100% successful: 100%|██████████| 1/1 [00:01<00:00,  1.13s/it]\n"
     ]
    },
    {
     "name": "stdout",
     "output_type": "stream",
     "text": [
      "Scraping data for sunbury (3429)\n",
      "No more results for sunbury on page 3.\n"
     ]
    },
    {
     "name": "stderr",
     "output_type": "stream",
     "text": [
      "100% successful: 100%|██████████| 37/37 [00:51<00:00,  1.39s/it]\n"
     ]
    },
    {
     "name": "stdout",
     "output_type": "stream",
     "text": [
      "Scraping data for wildwood (3429)\n",
      "No more results for wildwood on page 1.\n",
      "No results for wildwood. Moving to the next suburb.\n",
      "Scraping data for clarkefield (3430)\n",
      "No more results for clarkefield on page 2.\n"
     ]
    },
    {
     "name": "stderr",
     "output_type": "stream",
     "text": [
      "100% successful: 100%|██████████| 1/1 [00:01<00:00,  1.00s/it]\n"
     ]
    },
    {
     "name": "stdout",
     "output_type": "stream",
     "text": [
      "Scraping data for riddells-creek (3431)\n",
      "No more results for riddells-creek on page 2.\n"
     ]
    },
    {
     "name": "stderr",
     "output_type": "stream",
     "text": [
      "100% successful: 100%|██████████| 3/3 [00:04<00:00,  1.61s/it]\n"
     ]
    },
    {
     "name": "stdout",
     "output_type": "stream",
     "text": [
      "Scraping data for bolinda (3432)\n",
      "No more results for bolinda on page 1.\n",
      "No results for bolinda. Moving to the next suburb.\n",
      "Scraping data for monegeetta (3433)\n",
      "No more results for monegeetta on page 1.\n",
      "No results for monegeetta. Moving to the next suburb.\n",
      "Scraping data for cherokee (3434)\n",
      "No more results for cherokee on page 1.\n",
      "No results for cherokee. Moving to the next suburb.\n",
      "Scraping data for kerrie (3434)\n",
      "No more results for kerrie on page 1.\n",
      "No results for kerrie. Moving to the next suburb.\n",
      "Scraping data for romsey (3434)\n",
      "No more results for romsey on page 2.\n"
     ]
    },
    {
     "name": "stderr",
     "output_type": "stream",
     "text": [
      "100% successful: 100%|██████████| 3/3 [00:03<00:00,  1.15s/it]\n"
     ]
    },
    {
     "name": "stdout",
     "output_type": "stream",
     "text": [
      "Scraping data for springfield (3434)\n",
      "No more results for springfield on page 1.\n",
      "No results for springfield. Moving to the next suburb.\n",
      "Scraping data for benloch (3435)\n",
      "No more results for benloch on page 1.\n",
      "No results for benloch. Moving to the next suburb.\n",
      "Scraping data for goldie (3435)\n",
      "No more results for goldie on page 1.\n",
      "No results for goldie. Moving to the next suburb.\n",
      "Scraping data for lancefield (3435)\n",
      "No more results for lancefield on page 2.\n"
     ]
    },
    {
     "name": "stderr",
     "output_type": "stream",
     "text": [
      "100% successful: 100%|██████████| 2/2 [00:02<00:00,  1.17s/it]\n"
     ]
    },
    {
     "name": "stdout",
     "output_type": "stream",
     "text": [
      "Scraping data for nulla-vale (3435)\n",
      "No more results for nulla-vale on page 1.\n",
      "No results for nulla-vale. Moving to the next suburb.\n",
      "Scraping data for bullengarook (3437)\n",
      "No more results for bullengarook on page 1.\n",
      "No results for bullengarook. Moving to the next suburb.\n",
      "Scraping data for gisborne (3437)\n",
      "No more results for gisborne on page 2.\n"
     ]
    },
    {
     "name": "stderr",
     "output_type": "stream",
     "text": [
      "100% successful: 100%|██████████| 18/18 [00:20<00:00,  1.15s/it]\n"
     ]
    },
    {
     "name": "stdout",
     "output_type": "stream",
     "text": [
      "Scraping data for gisborne-south (3437)\n",
      "No more results for gisborne-south on page 2.\n"
     ]
    },
    {
     "name": "stderr",
     "output_type": "stream",
     "text": [
      "100% successful: 100%|██████████| 1/1 [00:01<00:00,  1.52s/it]\n"
     ]
    },
    {
     "name": "stdout",
     "output_type": "stream",
     "text": [
      "Scraping data for new-gisborne (3438)\n",
      "No more results for new-gisborne on page 2.\n"
     ]
    },
    {
     "name": "stderr",
     "output_type": "stream",
     "text": [
      "100% successful: 100%|██████████| 2/2 [00:02<00:00,  1.26s/it]\n"
     ]
    },
    {
     "name": "stdout",
     "output_type": "stream",
     "text": [
      "Scraping data for macedon (3440)\n",
      "No more results for macedon on page 2.\n"
     ]
    },
    {
     "name": "stderr",
     "output_type": "stream",
     "text": [
      "100% successful: 100%|██████████| 3/3 [00:06<00:00,  2.05s/it]\n"
     ]
    },
    {
     "name": "stdout",
     "output_type": "stream",
     "text": [
      "Scraping data for mount-macedon (3441)\n",
      "No more results for mount-macedon on page 1.\n",
      "No results for mount-macedon. Moving to the next suburb.\n",
      "Scraping data for ashbourne (3442)\n",
      "No more results for ashbourne on page 2.\n"
     ]
    },
    {
     "name": "stderr",
     "output_type": "stream",
     "text": [
      "100% successful: 100%|██████████| 1/1 [00:01<00:00,  1.64s/it]\n"
     ]
    },
    {
     "name": "stdout",
     "output_type": "stream",
     "text": [
      "Scraping data for cadello (3442)\n",
      "No more results for cadello on page 1.\n",
      "No results for cadello. Moving to the next suburb.\n",
      "Scraping data for carlsruhe (3442)\n",
      "No more results for carlsruhe on page 1.\n",
      "No results for carlsruhe. Moving to the next suburb.\n",
      "Scraping data for cobaw (3442)\n",
      "No more results for cobaw on page 1.\n",
      "No results for cobaw. Moving to the next suburb.\n",
      "Scraping data for hanging-rock (3442)\n",
      "Error fetching https://www.domain.com.au/rent/hanging-rock-vic-3442/?ssubs=0&sort=suburb-asc&page=1: HTTP Error 404: Not Found\n",
      "No results for hanging-rock. Moving to the next suburb.\n",
      "Scraping data for hesket (3442)\n",
      "No more results for hesket on page 2.\n"
     ]
    },
    {
     "name": "stderr",
     "output_type": "stream",
     "text": [
      "100% successful: 100%|██████████| 1/1 [00:01<00:00,  1.09s/it]\n"
     ]
    },
    {
     "name": "stdout",
     "output_type": "stream",
     "text": [
      "Scraping data for newham (3442)\n",
      "No more results for newham on page 1.\n",
      "No results for newham. Moving to the next suburb.\n",
      "Scraping data for rochford (3442)\n",
      "No more results for rochford on page 2.\n"
     ]
    },
    {
     "name": "stderr",
     "output_type": "stream",
     "text": [
      "100% successful: 100%|██████████| 1/1 [00:01<00:00,  1.03s/it]\n"
     ]
    },
    {
     "name": "stdout",
     "output_type": "stream",
     "text": [
      "Scraping data for woodend (3442)\n",
      "No more results for woodend on page 2.\n"
     ]
    },
    {
     "name": "stderr",
     "output_type": "stream",
     "text": [
      "100% successful: 100%|██████████| 6/6 [00:11<00:00,  1.94s/it]\n"
     ]
    },
    {
     "name": "stdout",
     "output_type": "stream",
     "text": [
      "Scraping data for woodend-north (3442)\n",
      "No more results for woodend-north on page 1.\n",
      "No results for woodend-north. Moving to the next suburb.\n",
      "Scraping data for barfold (3444)\n",
      "No more results for barfold on page 1.\n",
      "No results for barfold. Moving to the next suburb.\n",
      "Scraping data for baynton (3444)\n",
      "No more results for baynton on page 1.\n",
      "No results for baynton. Moving to the next suburb.\n",
      "Scraping data for baynton-east (3444)\n",
      "No more results for baynton-east on page 1.\n",
      "No results for baynton-east. Moving to the next suburb.\n",
      "Scraping data for edgecombe (3444)\n",
      "No more results for edgecombe on page 1.\n",
      "No results for edgecombe. Moving to the next suburb.\n",
      "Scraping data for glenhope (3444)\n",
      "No more results for glenhope on page 1.\n",
      "No results for glenhope. Moving to the next suburb.\n",
      "Scraping data for greenhill (3444)\n",
      "No more results for greenhill on page 1.\n",
      "No results for greenhill. Moving to the next suburb.\n",
      "Scraping data for kyneton (3444)\n",
      "No more results for kyneton on page 2.\n"
     ]
    },
    {
     "name": "stderr",
     "output_type": "stream",
     "text": [
      "100% successful: 100%|██████████| 7/7 [00:08<00:00,  1.24s/it]\n"
     ]
    },
    {
     "name": "stdout",
     "output_type": "stream",
     "text": [
      "Scraping data for kyneton-south (3444)\n",
      "No more results for kyneton-south on page 1.\n",
      "No results for kyneton-south. Moving to the next suburb.\n",
      "Scraping data for langley (3444)\n",
      "No more results for langley on page 1.\n",
      "No results for langley. Moving to the next suburb.\n",
      "Scraping data for lauriston (3444)\n",
      "No more results for lauriston on page 1.\n",
      "No results for lauriston. Moving to the next suburb.\n",
      "Scraping data for lyal (3444)\n",
      "No more results for lyal on page 1.\n",
      "No results for lyal. Moving to the next suburb.\n",
      "Scraping data for metcalfe-east (3444)\n",
      "No more results for metcalfe-east on page 1.\n",
      "No results for metcalfe-east. Moving to the next suburb.\n",
      "Scraping data for mia-mia (3444)\n",
      "No more results for mia-mia on page 1.\n",
      "No results for mia-mia. Moving to the next suburb.\n",
      "Scraping data for myrtle-creek (3444)\n",
      "No more results for myrtle-creek on page 1.\n",
      "No results for myrtle-creek. Moving to the next suburb.\n",
      "Scraping data for pastoria (3444)\n",
      "No more results for pastoria on page 1.\n",
      "No results for pastoria. Moving to the next suburb.\n",
      "Scraping data for pastoria-east (3444)\n",
      "No more results for pastoria-east on page 1.\n",
      "No results for pastoria-east. Moving to the next suburb.\n",
      "Scraping data for pipers-creek (3444)\n",
      "No more results for pipers-creek on page 1.\n",
      "No results for pipers-creek. Moving to the next suburb.\n",
      "Scraping data for redesdale (3444)\n",
      "No more results for redesdale on page 1.\n",
      "No results for redesdale. Moving to the next suburb.\n",
      "Scraping data for sidonia (3444)\n",
      "No more results for sidonia on page 1.\n",
      "No results for sidonia. Moving to the next suburb.\n",
      "Scraping data for spring-hill (3444)\n",
      "No more results for spring-hill on page 1.\n",
      "No results for spring-hill. Moving to the next suburb.\n",
      "Scraping data for tylden (3444)\n",
      "No more results for tylden on page 2.\n"
     ]
    },
    {
     "name": "stderr",
     "output_type": "stream",
     "text": [
      "100% successful: 100%|██████████| 1/1 [00:01<00:00,  1.13s/it]\n"
     ]
    },
    {
     "name": "stdout",
     "output_type": "stream",
     "text": [
      "Scraping data for tylden-south (3444)\n",
      "No more results for tylden-south on page 1.\n",
      "No results for tylden-south. Moving to the next suburb.\n",
      "Scraping data for drummond-north (3446)\n",
      "No more results for drummond-north on page 1.\n",
      "No results for drummond-north. Moving to the next suburb.\n",
      "Scraping data for malmsbury (3446)\n",
      "No more results for malmsbury on page 2.\n"
     ]
    },
    {
     "name": "stderr",
     "output_type": "stream",
     "text": [
      "100% successful: 100%|██████████| 2/2 [00:02<00:00,  1.12s/it]\n"
     ]
    },
    {
     "name": "stdout",
     "output_type": "stream",
     "text": [
      "Scraping data for taradale (3447)\n",
      "No more results for taradale on page 1.\n",
      "No results for taradale. Moving to the next suburb.\n",
      "Scraping data for elphinstone (3448)\n",
      "No more results for elphinstone on page 1.\n",
      "No results for elphinstone. Moving to the next suburb.\n",
      "Scraping data for metcalfe (3448)\n",
      "No more results for metcalfe on page 1.\n",
      "No results for metcalfe. Moving to the next suburb.\n",
      "Scraping data for sutton-grange (3448)\n",
      "No more results for sutton-grange on page 1.\n",
      "No results for sutton-grange. Moving to the next suburb.\n"
     ]
    },
    {
     "name": "stderr",
     "output_type": "stream",
     "text": [
      "                                                                                \r"
     ]
    },
    {
     "name": "stdout",
     "output_type": "stream",
     "text": [
      "Data successfully written\n",
      "chunk finished\n",
      "Scraping data for elphinstone (3448)\n",
      "No more results for elphinstone on page 1.\n",
      "No results for elphinstone. Moving to the next suburb.\n",
      "Scraping data for metcalfe (3448)\n",
      "No more results for metcalfe on page 1.\n",
      "No results for metcalfe. Moving to the next suburb.\n",
      "Scraping data for sutton-grange (3448)\n",
      "No more results for sutton-grange on page 1.\n",
      "No results for sutton-grange. Moving to the next suburb.\n",
      "Scraping data for castlemaine (3450)\n",
      "No more results for castlemaine on page 2.\n"
     ]
    },
    {
     "name": "stderr",
     "output_type": "stream",
     "text": [
      "100% successful: 100%|██████████| 11/11 [00:13<00:00,  1.25s/it]\n"
     ]
    },
    {
     "name": "stdout",
     "output_type": "stream",
     "text": [
      "Scraping data for moonlight-flat (3450)\n",
      "No more results for moonlight-flat on page 1.\n",
      "No results for moonlight-flat. Moving to the next suburb.\n",
      "Scraping data for barkers-creek (3451)\n",
      "No more results for barkers-creek on page 1.\n",
      "No results for barkers-creek. Moving to the next suburb.\n",
      "Scraping data for campbells-creek (3451)\n",
      "No more results for campbells-creek on page 2.\n"
     ]
    },
    {
     "name": "stderr",
     "output_type": "stream",
     "text": [
      "100% successful: 100%|██████████| 2/2 [00:03<00:00,  1.66s/it]\n"
     ]
    },
    {
     "name": "stdout",
     "output_type": "stream",
     "text": [
      "Scraping data for chewton (3451)\n",
      "No more results for chewton on page 2.\n"
     ]
    },
    {
     "name": "stderr",
     "output_type": "stream",
     "text": [
      "100% successful: 100%|██████████| 1/1 [00:00<00:00,  1.05it/s]\n"
     ]
    },
    {
     "name": "stdout",
     "output_type": "stream",
     "text": [
      "Scraping data for chewton-bushlands (3451)\n",
      "No more results for chewton-bushlands on page 1.\n",
      "No results for chewton-bushlands. Moving to the next suburb.\n",
      "Scraping data for faraday (3451)\n",
      "No more results for faraday on page 1.\n",
      "No results for faraday. Moving to the next suburb.\n",
      "Scraping data for fryerstown (3451)\n",
      "No more results for fryerstown on page 2.\n"
     ]
    },
    {
     "name": "stderr",
     "output_type": "stream",
     "text": [
      "100% successful: 100%|██████████| 1/1 [00:01<00:00,  1.33s/it]\n"
     ]
    },
    {
     "name": "stdout",
     "output_type": "stream",
     "text": [
      "Scraping data for glenluce (3451)\n",
      "No more results for glenluce on page 1.\n",
      "No results for glenluce. Moving to the next suburb.\n",
      "Scraping data for golden-point (3451)\n",
      "No more results for golden-point on page 2.\n"
     ]
    },
    {
     "name": "stderr",
     "output_type": "stream",
     "text": [
      "100% successful: 100%|██████████| 1/1 [00:01<00:00,  1.25s/it]\n"
     ]
    },
    {
     "name": "stdout",
     "output_type": "stream",
     "text": [
      "Scraping data for gower (3451)\n",
      "No more results for gower on page 1.\n",
      "No results for gower. Moving to the next suburb.\n",
      "Scraping data for guildford (3451)\n",
      "No more results for guildford on page 1.\n",
      "No results for guildford. Moving to the next suburb.\n",
      "Scraping data for irishtown (3451)\n",
      "No more results for irishtown on page 1.\n",
      "No results for irishtown. Moving to the next suburb.\n",
      "Scraping data for mckenzie-hill (3451)\n",
      "No more results for mckenzie-hill on page 2.\n"
     ]
    },
    {
     "name": "stderr",
     "output_type": "stream",
     "text": [
      "100% successful: 100%|██████████| 2/2 [00:02<00:00,  1.11s/it]\n"
     ]
    },
    {
     "name": "stdout",
     "output_type": "stream",
     "text": [
      "Scraping data for muckleford (3451)\n",
      "No more results for muckleford on page 2.\n"
     ]
    },
    {
     "name": "stderr",
     "output_type": "stream",
     "text": [
      "100% successful: 100%|██████████| 1/1 [00:01<00:00,  1.02s/it]\n"
     ]
    },
    {
     "name": "stdout",
     "output_type": "stream",
     "text": [
      "Scraping data for tarilta (3451)\n",
      "No more results for tarilta on page 1.\n",
      "No results for tarilta. Moving to the next suburb.\n",
      "Scraping data for vaughan (3451)\n",
      "No more results for vaughan on page 1.\n",
      "No results for vaughan. Moving to the next suburb.\n",
      "Scraping data for woodbrook (3451)\n",
      "Error fetching https://www.domain.com.au/rent/woodbrook-vic-3451/?ssubs=0&sort=suburb-asc&page=1: HTTP Error 404: Not Found\n",
      "No results for woodbrook. Moving to the next suburb.\n",
      "Scraping data for yapeen (3451)\n",
      "No more results for yapeen on page 1.\n",
      "No results for yapeen. Moving to the next suburb.\n",
      "Scraping data for harcourt (3453)\n",
      "No more results for harcourt on page 2.\n"
     ]
    },
    {
     "name": "stderr",
     "output_type": "stream",
     "text": [
      "100% successful: 100%|██████████| 2/2 [00:02<00:00,  1.09s/it]\n"
     ]
    },
    {
     "name": "stdout",
     "output_type": "stream",
     "text": [
      "Scraping data for harcourt-north (3453)\n",
      "No more results for harcourt-north on page 1.\n",
      "No results for harcourt-north. Moving to the next suburb.\n",
      "Scraping data for ravenswood (3453)\n",
      "No more results for ravenswood on page 1.\n",
      "No results for ravenswood. Moving to the next suburb.\n",
      "Scraping data for ravenswood-south (3453)\n",
      "No more results for ravenswood-south on page 1.\n",
      "No results for ravenswood-south. Moving to the next suburb.\n",
      "Scraping data for barrys-reef (3458)\n",
      "No more results for barrys-reef on page 1.\n",
      "No results for barrys-reef. Moving to the next suburb.\n",
      "Scraping data for blackwood (3458)\n",
      "No more results for blackwood on page 1.\n",
      "No results for blackwood. Moving to the next suburb.\n",
      "Scraping data for fern-hill (3458)\n",
      "No more results for fern-hill on page 1.\n",
      "No results for fern-hill. Moving to the next suburb.\n",
      "Scraping data for lerderderg (3458)\n",
      "No more results for lerderderg on page 1.\n",
      "No results for lerderderg. Moving to the next suburb.\n",
      "Scraping data for little-hampton (3458)\n",
      "No more results for little-hampton on page 1.\n",
      "No results for little-hampton. Moving to the next suburb.\n",
      "Scraping data for newbury (3458)\n",
      "No more results for newbury on page 1.\n",
      "No results for newbury. Moving to the next suburb.\n",
      "Scraping data for north-blackwood (3458)\n",
      "No more results for north-blackwood on page 1.\n",
      "No results for north-blackwood. Moving to the next suburb.\n",
      "Scraping data for trentham (3458)\n",
      "No more results for trentham on page 2.\n"
     ]
    },
    {
     "name": "stderr",
     "output_type": "stream",
     "text": [
      "100% successful: 100%|██████████| 1/1 [00:01<00:00,  1.60s/it]\n"
     ]
    },
    {
     "name": "stdout",
     "output_type": "stream",
     "text": [
      "Scraping data for trentham-east (3458)\n",
      "No more results for trentham-east on page 1.\n",
      "No results for trentham-east. Moving to the next suburb.\n",
      "Scraping data for basalt (3460)\n",
      "No more results for basalt on page 1.\n",
      "No results for basalt. Moving to the next suburb.\n",
      "Scraping data for daylesford (3460)\n",
      "No more results for daylesford on page 2.\n"
     ]
    },
    {
     "name": "stderr",
     "output_type": "stream",
     "text": [
      "100% successful: 100%|██████████| 11/11 [00:14<00:00,  1.31s/it]\n"
     ]
    },
    {
     "name": "stdout",
     "output_type": "stream",
     "text": [
      "Scraping data for bullarto (3461)\n",
      "No more results for bullarto on page 1.\n",
      "No results for bullarto. Moving to the next suburb.\n",
      "Scraping data for bullarto-south (3461)\n",
      "No more results for bullarto-south on page 1.\n",
      "No results for bullarto-south. Moving to the next suburb.\n",
      "Scraping data for clydesdale (3461)\n",
      "No more results for clydesdale on page 1.\n",
      "No results for clydesdale. Moving to the next suburb.\n",
      "Scraping data for coomoora (3461)\n",
      "No more results for coomoora on page 1.\n",
      "No results for coomoora. Moving to the next suburb.\n",
      "Scraping data for denver (3461)\n",
      "No more results for denver on page 1.\n",
      "No results for denver. Moving to the next suburb.\n",
      "Scraping data for drummond (3461)\n",
      "No more results for drummond on page 1.\n",
      "No results for drummond. Moving to the next suburb.\n",
      "Scraping data for dry-diggings (3461)\n",
      "No more results for dry-diggings on page 1.\n",
      "No results for dry-diggings. Moving to the next suburb.\n",
      "Scraping data for eganstown (3461)\n",
      "No more results for eganstown on page 2.\n"
     ]
    },
    {
     "name": "stderr",
     "output_type": "stream",
     "text": [
      "100% successful: 100%|██████████| 1/1 [00:01<00:00,  1.72s/it]\n"
     ]
    },
    {
     "name": "stdout",
     "output_type": "stream",
     "text": [
      "Scraping data for elevated-plains (3461)\n",
      "No more results for elevated-plains on page 1.\n",
      "No results for elevated-plains. Moving to the next suburb.\n",
      "Scraping data for franklinford (3461)\n",
      "No more results for franklinford on page 1.\n",
      "No results for franklinford. Moving to the next suburb.\n",
      "Scraping data for glenlyon (3461)\n",
      "No more results for glenlyon on page 1.\n",
      "No results for glenlyon. Moving to the next suburb.\n",
      "Scraping data for hepburn (3461)\n",
      "No more results for hepburn on page 1.\n",
      "No results for hepburn. Moving to the next suburb.\n",
      "Scraping data for hepburn-springs (3461)\n",
      "No more results for hepburn-springs on page 2.\n"
     ]
    },
    {
     "name": "stderr",
     "output_type": "stream",
     "text": [
      "100% successful: 100%|██████████| 1/1 [00:01<00:00,  1.22s/it]\n"
     ]
    },
    {
     "name": "stdout",
     "output_type": "stream",
     "text": [
      "Scraping data for korweinguboora (3461)\n",
      "No more results for korweinguboora on page 1.\n",
      "No results for korweinguboora. Moving to the next suburb.\n",
      "Scraping data for leonards-hill (3461)\n",
      "No more results for leonards-hill on page 1.\n",
      "No results for leonards-hill. Moving to the next suburb.\n",
      "Scraping data for lyonville (3461)\n",
      "No more results for lyonville on page 1.\n",
      "No results for lyonville. Moving to the next suburb.\n",
      "Scraping data for mount-franklin (3461)\n",
      "No more results for mount-franklin on page 1.\n",
      "No results for mount-franklin. Moving to the next suburb.\n",
      "Scraping data for musk (3461)\n",
      "No more results for musk on page 2.\n"
     ]
    },
    {
     "name": "stderr",
     "output_type": "stream",
     "text": [
      "100% successful: 100%|██████████| 1/1 [00:01<00:00,  1.05s/it]\n"
     ]
    },
    {
     "name": "stdout",
     "output_type": "stream",
     "text": [
      "Scraping data for musk-vale (3461)\n",
      "No more results for musk-vale on page 1.\n",
      "No results for musk-vale. Moving to the next suburb.\n",
      "Scraping data for porcupine-ridge (3461)\n",
      "No more results for porcupine-ridge on page 1.\n",
      "No results for porcupine-ridge. Moving to the next suburb.\n",
      "Scraping data for sailors-falls (3461)\n",
      "No more results for sailors-falls on page 2.\n"
     ]
    },
    {
     "name": "stderr",
     "output_type": "stream",
     "text": [
      "100% successful: 100%|██████████| 1/1 [00:00<00:00,  1.12it/s]\n"
     ]
    },
    {
     "name": "stdout",
     "output_type": "stream",
     "text": [
      "Scraping data for sailors-hill (3461)\n",
      "No more results for sailors-hill on page 1.\n",
      "No results for sailors-hill. Moving to the next suburb.\n",
      "Scraping data for shepherds-flat (3461)\n",
      "No more results for shepherds-flat on page 1.\n",
      "No results for shepherds-flat. Moving to the next suburb.\n",
      "Scraping data for spargo-creek (3461)\n",
      "No more results for spargo-creek on page 1.\n",
      "No results for spargo-creek. Moving to the next suburb.\n",
      "Scraping data for strangways (3461)\n",
      "No more results for strangways on page 1.\n",
      "No results for strangways. Moving to the next suburb.\n",
      "Scraping data for wheatsheaf (3461)\n",
      "No more results for wheatsheaf on page 2.\n"
     ]
    },
    {
     "name": "stderr",
     "output_type": "stream",
     "text": [
      "100% successful: 100%|██████████| 1/1 [00:01<00:00,  1.28s/it]\n"
     ]
    },
    {
     "name": "stdout",
     "output_type": "stream",
     "text": [
      "Scraping data for yandoit (3461)\n",
      "No more results for yandoit on page 1.\n",
      "No results for yandoit. Moving to the next suburb.\n",
      "Scraping data for yandoit-hills (3461)\n",
      "No more results for yandoit-hills on page 1.\n",
      "No results for yandoit-hills. Moving to the next suburb.\n",
      "Scraping data for green-gully (3462)\n",
      "No more results for green-gully on page 1.\n",
      "No results for green-gully. Moving to the next suburb.\n",
      "Scraping data for joyces-creek (3462)\n",
      "No more results for joyces-creek on page 1.\n",
      "No results for joyces-creek. Moving to the next suburb.\n",
      "Scraping data for muckleford-south (3462)\n",
      "No more results for muckleford-south on page 1.\n",
      "No results for muckleford-south. Moving to the next suburb.\n",
      "Scraping data for newstead (3462)\n",
      "No more results for newstead on page 1.\n",
      "No results for newstead. Moving to the next suburb.\n",
      "Scraping data for sandon (3462)\n",
      "No more results for sandon on page 1.\n",
      "No results for sandon. Moving to the next suburb.\n",
      "Scraping data for welshmans-reef (3462)\n",
      "No more results for welshmans-reef on page 1.\n",
      "No results for welshmans-reef. Moving to the next suburb.\n",
      "Scraping data for baringhup (3463)\n",
      "No more results for baringhup on page 1.\n",
      "No results for baringhup. Moving to the next suburb.\n",
      "Scraping data for baringhup-west (3463)\n",
      "No more results for baringhup-west on page 1.\n",
      "No results for baringhup-west. Moving to the next suburb.\n",
      "Scraping data for bradford (3463)\n",
      "No more results for bradford on page 1.\n",
      "No results for bradford. Moving to the next suburb.\n",
      "Scraping data for eastville (3463)\n",
      "No more results for eastville on page 1.\n",
      "No results for eastville. Moving to the next suburb.\n",
      "Scraping data for gower (3463)\n",
      "No more results for gower on page 1.\n",
      "No results for gower. Moving to the next suburb.\n",
      "Scraping data for laanecoorie (3463)\n",
      "No more results for laanecoorie on page 1.\n",
      "No results for laanecoorie. Moving to the next suburb.\n",
      "Scraping data for maldon (3463)\n",
      "No more results for maldon on page 2.\n"
     ]
    },
    {
     "name": "stderr",
     "output_type": "stream",
     "text": [
      "100% successful: 100%|██████████| 3/3 [00:04<00:00,  1.60s/it]\n"
     ]
    },
    {
     "name": "stdout",
     "output_type": "stream",
     "text": [
      "Scraping data for neereman (3463)\n",
      "No more results for neereman on page 1.\n",
      "No results for neereman. Moving to the next suburb.\n",
      "Scraping data for nuggetty (3463)\n",
      "No more results for nuggetty on page 1.\n",
      "No results for nuggetty. Moving to the next suburb.\n",
      "Scraping data for perkins-reef (3463)\n",
      "Error fetching https://www.domain.com.au/rent/perkins-reef-vic-3463/?ssubs=0&sort=suburb-asc&page=1: HTTP Error 404: Not Found\n",
      "No results for perkins-reef. Moving to the next suburb.\n",
      "Scraping data for porcupine-flat (3463)\n",
      "Error fetching https://www.domain.com.au/rent/porcupine-flat-vic-3463/?ssubs=0&sort=suburb-asc&page=1: HTTP Error 404: Not Found\n",
      "No results for porcupine-flat. Moving to the next suburb.\n",
      "Scraping data for shelbourne (3463)\n",
      "Error fetching https://www.domain.com.au/rent/shelbourne-vic-3463/?ssubs=0&sort=suburb-asc&page=1: HTTP Error 404: Not Found\n",
      "No results for shelbourne. Moving to the next suburb.\n",
      "Scraping data for tarrengower (3463)\n",
      "No more results for tarrengower on page 1.\n",
      "No results for tarrengower. Moving to the next suburb.\n",
      "Scraping data for walmer (3463)\n",
      "No more results for walmer on page 2.\n"
     ]
    },
    {
     "name": "stderr",
     "output_type": "stream",
     "text": [
      "100% successful: 100%|██████████| 2/2 [00:03<00:00,  1.76s/it]\n"
     ]
    },
    {
     "name": "stdout",
     "output_type": "stream",
     "text": [
      "Scraping data for woodstock-west (3463)\n",
      "No more results for woodstock-west on page 1.\n",
      "No results for woodstock-west. Moving to the next suburb.\n",
      "Scraping data for carisbrook (3464)\n",
      "No more results for carisbrook on page 2.\n"
     ]
    },
    {
     "name": "stderr",
     "output_type": "stream",
     "text": [
      "100% successful: 100%|██████████| 1/1 [00:01<00:00,  1.14s/it]\n"
     ]
    },
    {
     "name": "stdout",
     "output_type": "stream",
     "text": [
      "Scraping data for adelaide-lead (3465)\n",
      "No more results for adelaide-lead on page 1.\n",
      "No results for adelaide-lead. Moving to the next suburb.\n",
      "Scraping data for alma (3465)\n",
      "No more results for alma on page 1.\n",
      "No results for alma. Moving to the next suburb.\n",
      "Scraping data for bowenvale (3465)\n",
      "No more results for bowenvale on page 1.\n",
      "No results for bowenvale. Moving to the next suburb.\n",
      "Scraping data for bung-bong (3465)\n",
      "No more results for bung-bong on page 1.\n",
      "No results for bung-bong. Moving to the next suburb.\n",
      "Scraping data for cotswold (3465)\n",
      "No more results for cotswold on page 1.\n",
      "No results for cotswold. Moving to the next suburb.\n",
      "Scraping data for craigie (3465)\n",
      "No more results for craigie on page 1.\n",
      "No results for craigie. Moving to the next suburb.\n",
      "Scraping data for daisy-hill (3465)\n",
      "No more results for daisy-hill on page 1.\n",
      "No results for daisy-hill. Moving to the next suburb.\n",
      "Scraping data for flagstaff (3465)\n",
      "No more results for flagstaff on page 1.\n",
      "No results for flagstaff. Moving to the next suburb.\n",
      "Scraping data for golden-point (3465)\n",
      "No more results for golden-point on page 2.\n"
     ]
    },
    {
     "name": "stderr",
     "output_type": "stream",
     "text": [
      "100% successful: 100%|██████████| 1/1 [00:01<00:00,  1.23s/it]\n"
     ]
    },
    {
     "name": "stdout",
     "output_type": "stream",
     "text": [
      "Scraping data for havelock (3465)\n",
      "No more results for havelock on page 1.\n",
      "No results for havelock. Moving to the next suburb.\n",
      "Scraping data for homebush (3465)\n",
      "No more results for homebush on page 1.\n",
      "No results for homebush. Moving to the next suburb.\n",
      "Scraping data for majorca (3465)\n",
      "No more results for majorca on page 1.\n",
      "No results for majorca. Moving to the next suburb.\n",
      "Scraping data for maryborough (3465)\n",
      "No more results for maryborough on page 2.\n"
     ]
    },
    {
     "name": "stderr",
     "output_type": "stream",
     "text": [
      "100% successful: 100%|██████████| 11/11 [00:12<00:00,  1.11s/it]\n"
     ]
    },
    {
     "name": "stdout",
     "output_type": "stream",
     "text": [
      "Scraping data for moolort (3465)\n",
      "No more results for moolort on page 1.\n",
      "No results for moolort. Moving to the next suburb.\n",
      "Scraping data for moonlight-flat (3465)\n",
      "No more results for moonlight-flat on page 1.\n",
      "No results for moonlight-flat. Moving to the next suburb.\n",
      "Scraping data for natte-yallock (3465)\n",
      "No more results for natte-yallock on page 1.\n",
      "No results for natte-yallock. Moving to the next suburb.\n",
      "Scraping data for rathscar (3465)\n",
      "No more results for rathscar on page 1.\n",
      "No results for rathscar. Moving to the next suburb.\n",
      "Scraping data for rathscar-west (3465)\n",
      "No more results for rathscar-west on page 1.\n",
      "No results for rathscar-west. Moving to the next suburb.\n",
      "Scraping data for rodborough (3465)\n",
      "Error fetching https://www.domain.com.au/rent/rodborough-vic-3465/?ssubs=0&sort=suburb-asc&page=1: HTTP Error 404: Not Found\n",
      "No results for rodborough. Moving to the next suburb.\n",
      "Scraping data for simson (3465)\n",
      "No more results for simson on page 1.\n",
      "No results for simson. Moving to the next suburb.\n",
      "Scraping data for timor (3465)\n",
      "No more results for timor on page 1.\n",
      "No results for timor. Moving to the next suburb.\n",
      "Scraping data for timor-west (3465)\n",
      "No more results for timor-west on page 1.\n",
      "No results for timor-west. Moving to the next suburb.\n",
      "Scraping data for wareek (3465)\n",
      "No more results for wareek on page 1.\n",
      "No results for wareek. Moving to the next suburb.\n",
      "Scraping data for avoca (3467)\n",
      "No more results for avoca on page 1.\n",
      "No results for avoca. Moving to the next suburb.\n",
      "Scraping data for moyreisk (3467)\n",
      "No more results for moyreisk on page 1.\n",
      "No results for moyreisk. Moving to the next suburb.\n",
      "Scraping data for amphitheatre (3468)\n",
      "No more results for amphitheatre on page 1.\n",
      "No results for amphitheatre. Moving to the next suburb.\n",
      "Scraping data for mount-lonarch (3468)\n",
      "No more results for mount-lonarch on page 1.\n",
      "No results for mount-lonarch. Moving to the next suburb.\n",
      "Scraping data for elmhurst (3469)\n",
      "No more results for elmhurst on page 1.\n",
      "No results for elmhurst. Moving to the next suburb.\n",
      "Scraping data for glenlofty (3469)\n",
      "No more results for glenlofty on page 1.\n",
      "No results for glenlofty. Moving to the next suburb.\n",
      "Scraping data for glenlogie (3469)\n",
      "No more results for glenlogie on page 1.\n",
      "No results for glenlogie. Moving to the next suburb.\n",
      "Scraping data for glenpatrick (3469)\n",
      "No more results for glenpatrick on page 1.\n",
      "No results for glenpatrick. Moving to the next suburb.\n",
      "Scraping data for nowhere-creek (3469)\n",
      "No more results for nowhere-creek on page 1.\n",
      "No results for nowhere-creek. Moving to the next suburb.\n",
      "Scraping data for bet-bet (3472)\n",
      "No more results for bet-bet on page 1.\n",
      "No results for bet-bet. Moving to the next suburb.\n",
      "Scraping data for betley (3472)\n",
      "No more results for betley on page 1.\n",
      "No results for betley. Moving to the next suburb.\n",
      "Scraping data for bromley (3472)\n",
      "No more results for bromley on page 1.\n",
      "No results for bromley. Moving to the next suburb.\n",
      "Scraping data for dunluce (3472)\n",
      "No more results for dunluce on page 1.\n",
      "No results for dunluce. Moving to the next suburb.\n",
      "Scraping data for dunolly (3472)\n",
      "No more results for dunolly on page 1.\n",
      "No results for dunolly. Moving to the next suburb.\n",
      "Scraping data for eddington (3472)\n",
      "No more results for eddington on page 1.\n",
      "No results for eddington. Moving to the next suburb.\n",
      "Scraping data for goldsborough (3472)\n",
      "No more results for goldsborough on page 1.\n",
      "No results for goldsborough. Moving to the next suburb.\n",
      "Scraping data for inkerman (3472)\n",
      "No more results for inkerman on page 1.\n",
      "No results for inkerman. Moving to the next suburb.\n",
      "Scraping data for mcintyre (3472)\n",
      "No more results for mcintyre on page 1.\n",
      "No results for mcintyre. Moving to the next suburb.\n",
      "Scraping data for moliagul (3472)\n",
      "No more results for moliagul on page 1.\n",
      "No results for moliagul. Moving to the next suburb.\n",
      "Scraping data for mount-hooghly (3472)\n",
      "No more results for mount-hooghly on page 1.\n",
      "No results for mount-hooghly. Moving to the next suburb.\n"
     ]
    },
    {
     "name": "stderr",
     "output_type": "stream",
     "text": [
      "                                                                                \r"
     ]
    },
    {
     "name": "stdout",
     "output_type": "stream",
     "text": [
      "Data successfully written\n",
      "chunk finished\n",
      "Scraping data for archdale (3475)\n",
      "No more results for archdale on page 1.\n",
      "No results for archdale. Moving to the next suburb.\n",
      "Scraping data for archdale-junction (3475)\n",
      "No more results for archdale-junction on page 1.\n",
      "No results for archdale-junction. Moving to the next suburb.\n",
      "Scraping data for bealiba (3475)\n",
      "No more results for bealiba on page 1.\n",
      "No results for bealiba. Moving to the next suburb.\n",
      "Scraping data for burkes-flat (3475)\n",
      "No more results for burkes-flat on page 1.\n",
      "No results for burkes-flat. Moving to the next suburb.\n",
      "Scraping data for cochranes-creek (3475)\n",
      "No more results for cochranes-creek on page 1.\n",
      "No results for cochranes-creek. Moving to the next suburb.\n",
      "Scraping data for emu (3475)\n",
      "No more results for emu on page 1.\n",
      "No results for emu. Moving to the next suburb.\n",
      "Scraping data for logan (3475)\n",
      "No more results for logan on page 1.\n",
      "No results for logan. Moving to the next suburb.\n",
      "Scraping data for avon-plains (3477)\n",
      "No more results for avon-plains on page 1.\n",
      "No results for avon-plains. Moving to the next suburb.\n",
      "Scraping data for beazleys-bridge (3477)\n",
      "No more results for beazleys-bridge on page 1.\n",
      "No results for beazleys-bridge. Moving to the next suburb.\n",
      "Scraping data for carapooee (3477)\n",
      "No more results for carapooee on page 1.\n",
      "No results for carapooee. Moving to the next suburb.\n",
      "Scraping data for carapooee-west (3477)\n",
      "No more results for carapooee-west on page 1.\n",
      "No results for carapooee-west. Moving to the next suburb.\n",
      "Scraping data for coonooer-bridge (3477)\n",
      "No more results for coonooer-bridge on page 1.\n",
      "No results for coonooer-bridge. Moving to the next suburb.\n",
      "Scraping data for coonooer-west (3477)\n",
      "No more results for coonooer-west on page 1.\n",
      "No results for coonooer-west. Moving to the next suburb.\n",
      "Scraping data for dalyenong (3477)\n",
      "No more results for dalyenong on page 1.\n",
      "No results for dalyenong. Moving to the next suburb.\n",
      "Scraping data for gooroc (3477)\n",
      "No more results for gooroc on page 1.\n",
      "No results for gooroc. Moving to the next suburb.\n",
      "Scraping data for gowar-east (3477)\n",
      "No more results for gowar-east on page 1.\n",
      "No results for gowar-east. Moving to the next suburb.\n",
      "Scraping data for grays-bridge (3477)\n",
      "No more results for grays-bridge on page 1.\n",
      "No results for grays-bridge. Moving to the next suburb.\n",
      "Scraping data for gre-gre (3477)\n",
      "No more results for gre-gre on page 1.\n",
      "No results for gre-gre. Moving to the next suburb.\n",
      "Scraping data for gre-gre-north (3477)\n",
      "No more results for gre-gre-north on page 1.\n",
      "No results for gre-gre-north. Moving to the next suburb.\n",
      "Scraping data for gre-gre-south (3477)\n",
      "No more results for gre-gre-south on page 1.\n",
      "No results for gre-gre-south. Moving to the next suburb.\n",
      "Scraping data for kooreh (3477)\n",
      "No more results for kooreh on page 1.\n",
      "No results for kooreh. Moving to the next suburb.\n",
      "Scraping data for marnoo-east (3477)\n",
      "No more results for marnoo-east on page 1.\n",
      "No results for marnoo-east. Moving to the next suburb.\n",
      "Scraping data for moolerr (3477)\n",
      "No more results for moolerr on page 1.\n",
      "No results for moolerr. Moving to the next suburb.\n",
      "Scraping data for moyreisk (3477)\n",
      "No more results for moyreisk on page 1.\n",
      "No results for moyreisk. Moving to the next suburb.\n",
      "Scraping data for paradise (3477)\n",
      "No more results for paradise on page 1.\n",
      "No results for paradise. Moving to the next suburb.\n",
      "Scraping data for redbank (3477)\n",
      "No more results for redbank on page 1.\n",
      "No results for redbank. Moving to the next suburb.\n",
      "Scraping data for rostron (3477)\n",
      "No more results for rostron on page 1.\n",
      "No results for rostron. Moving to the next suburb.\n",
      "Scraping data for slaty-creek (3477)\n",
      "No more results for slaty-creek on page 1.\n",
      "No results for slaty-creek. Moving to the next suburb.\n",
      "Scraping data for st-arnaud-east (3477)\n",
      "No more results for st-arnaud-east on page 1.\n",
      "No results for st-arnaud-east. Moving to the next suburb.\n",
      "Scraping data for st-arnaud-north (3477)\n",
      "No more results for st-arnaud-north on page 1.\n",
      "No results for st-arnaud-north. Moving to the next suburb.\n",
      "Scraping data for stuart-mill (3477)\n",
      "No more results for stuart-mill on page 1.\n",
      "No results for stuart-mill. Moving to the next suburb.\n",
      "Scraping data for sutherland (3477)\n",
      "No more results for sutherland on page 1.\n",
      "No results for sutherland. Moving to the next suburb.\n",
      "Scraping data for swanwater (3477)\n",
      "No more results for swanwater on page 1.\n",
      "No results for swanwater. Moving to the next suburb.\n",
      "Scraping data for tottington (3477)\n",
      "No more results for tottington on page 1.\n",
      "No results for tottington. Moving to the next suburb.\n",
      "Scraping data for traynors-lagoon (3477)\n",
      "No more results for traynors-lagoon on page 1.\n",
      "No results for traynors-lagoon. Moving to the next suburb.\n",
      "Scraping data for winjallok (3477)\n",
      "No more results for winjallok on page 1.\n",
      "No results for winjallok. Moving to the next suburb.\n",
      "Scraping data for york-plains (3477)\n",
      "No more results for york-plains on page 1.\n",
      "No results for york-plains. Moving to the next suburb.\n",
      "Scraping data for avon-plains (3478)\n",
      "No more results for avon-plains on page 1.\n",
      "No results for avon-plains. Moving to the next suburb.\n",
      "Scraping data for beazleys-bridge (3478)\n",
      "No more results for beazleys-bridge on page 1.\n",
      "No results for beazleys-bridge. Moving to the next suburb.\n",
      "Scraping data for berrimal-west (3478)\n",
      "Error fetching https://www.domain.com.au/rent/berrimal-west-vic-3478/?ssubs=0&sort=suburb-asc&page=1: HTTP Error 404: Not Found\n",
      "No results for berrimal-west. Moving to the next suburb.\n",
      "Scraping data for carapooee (3478)\n",
      "No more results for carapooee on page 1.\n",
      "No results for carapooee. Moving to the next suburb.\n",
      "Scraping data for carapooee-west (3478)\n",
      "No more results for carapooee-west on page 1.\n",
      "No results for carapooee-west. Moving to the next suburb.\n",
      "Scraping data for coonooer-bridge (3478)\n",
      "No more results for coonooer-bridge on page 1.\n",
      "No results for coonooer-bridge. Moving to the next suburb.\n",
      "Scraping data for coonooer-west (3478)\n",
      "No more results for coonooer-west on page 1.\n",
      "No results for coonooer-west. Moving to the next suburb.\n",
      "Scraping data for darkbonee (3478)\n",
      "Error fetching https://www.domain.com.au/rent/darkbonee-vic-3478/?ssubs=0&sort=suburb-asc&page=1: HTTP Error 404: Not Found\n",
      "No results for darkbonee. Moving to the next suburb.\n",
      "Scraping data for dooboobetic (3478)\n",
      "No more results for dooboobetic on page 1.\n",
      "No results for dooboobetic. Moving to the next suburb.\n",
      "Scraping data for elberton (3478)\n",
      "Error fetching https://www.domain.com.au/rent/elberton-vic-3478/?ssubs=0&sort=suburb-asc&page=1: HTTP Error 404: Not Found\n",
      "No results for elberton. Moving to the next suburb.\n",
      "Scraping data for gooroc (3478)\n",
      "No more results for gooroc on page 1.\n",
      "No results for gooroc. Moving to the next suburb.\n",
      "Scraping data for gowar-east (3478)\n",
      "No more results for gowar-east on page 1.\n",
      "No results for gowar-east. Moving to the next suburb.\n",
      "Scraping data for gre-gre (3478)\n",
      "No more results for gre-gre on page 1.\n",
      "No results for gre-gre. Moving to the next suburb.\n",
      "Scraping data for gre-gre-north (3478)\n",
      "No more results for gre-gre-north on page 1.\n",
      "No results for gre-gre-north. Moving to the next suburb.\n",
      "Scraping data for gre-gre-south (3478)\n",
      "No more results for gre-gre-south on page 1.\n",
      "No results for gre-gre-south. Moving to the next suburb.\n",
      "Scraping data for kooreh (3478)\n",
      "No more results for kooreh on page 1.\n",
      "No results for kooreh. Moving to the next suburb.\n",
      "Scraping data for medlyn (3478)\n",
      "Error fetching https://www.domain.com.au/rent/medlyn-vic-3478/?ssubs=0&sort=suburb-asc&page=1: HTTP Error 404: Not Found\n",
      "No results for medlyn. Moving to the next suburb.\n",
      "Scraping data for mitchells-hill (3478)\n",
      "Error fetching https://www.domain.com.au/rent/mitchells-hill-vic-3478/?ssubs=0&sort=suburb-asc&page=1: HTTP Error 404: Not Found\n",
      "No results for mitchells-hill. Moving to the next suburb.\n",
      "Scraping data for moolerr (3478)\n",
      "No more results for moolerr on page 1.\n",
      "No results for moolerr. Moving to the next suburb.\n",
      "Scraping data for moonambel (3478)\n",
      "No more results for moonambel on page 1.\n",
      "No results for moonambel. Moving to the next suburb.\n",
      "Scraping data for percydale (3478)\n",
      "No more results for percydale on page 1.\n",
      "No results for percydale. Moving to the next suburb.\n",
      "Scraping data for slaty-creek (3478)\n",
      "No more results for slaty-creek on page 1.\n",
      "No results for slaty-creek. Moving to the next suburb.\n",
      "Scraping data for st-arnaud (3478)\n",
      "No more results for st-arnaud on page 1.\n",
      "No results for st-arnaud. Moving to the next suburb.\n",
      "Scraping data for st-arnaud-east (3478)\n",
      "No more results for st-arnaud-east on page 1.\n",
      "No results for st-arnaud-east. Moving to the next suburb.\n",
      "Scraping data for st-arnaud-north (3478)\n",
      "No more results for st-arnaud-north on page 1.\n",
      "No results for st-arnaud-north. Moving to the next suburb.\n",
      "Scraping data for stuart-mill (3478)\n",
      "No more results for stuart-mill on page 1.\n",
      "No results for stuart-mill. Moving to the next suburb.\n",
      "Scraping data for sutherland (3478)\n",
      "No more results for sutherland on page 1.\n",
      "No results for sutherland. Moving to the next suburb.\n",
      "Scraping data for swanwater (3478)\n",
      "No more results for swanwater on page 1.\n",
      "No results for swanwater. Moving to the next suburb.\n",
      "Scraping data for tanwood (3478)\n",
      "No more results for tanwood on page 1.\n",
      "No results for tanwood. Moving to the next suburb.\n",
      "Scraping data for tottington (3478)\n",
      "No more results for tottington on page 1.\n",
      "No results for tottington. Moving to the next suburb.\n",
      "Scraping data for traynors-lagoon (3478)\n",
      "No more results for traynors-lagoon on page 1.\n",
      "No results for traynors-lagoon. Moving to the next suburb.\n",
      "Scraping data for tulkara (3478)\n",
      "No more results for tulkara on page 1.\n",
      "No results for tulkara. Moving to the next suburb.\n",
      "Scraping data for warrenmang (3478)\n",
      "No more results for warrenmang on page 1.\n",
      "No results for warrenmang. Moving to the next suburb.\n",
      "Scraping data for yawong-hills (3478)\n",
      "No more results for yawong-hills on page 1.\n",
      "No results for yawong-hills. Moving to the next suburb.\n",
      "Scraping data for areegra (3480)\n",
      "No more results for areegra on page 1.\n",
      "No results for areegra. Moving to the next suburb.\n",
      "Scraping data for banyenong (3480)\n",
      "Error fetching https://www.domain.com.au/rent/banyenong-vic-3480/?ssubs=0&sort=suburb-asc&page=1: HTTP Error 404: Not Found\n",
      "No results for banyenong. Moving to the next suburb.\n",
      "Scraping data for boolite (3480)\n",
      "No more results for boolite on page 1.\n",
      "No results for boolite. Moving to the next suburb.\n",
      "Scraping data for carron (3480)\n",
      "No more results for carron on page 1.\n",
      "No results for carron. Moving to the next suburb.\n",
      "Scraping data for cope-cope (3480)\n",
      "No more results for cope-cope on page 1.\n",
      "No results for cope-cope. Moving to the next suburb.\n",
      "Scraping data for corack (3480)\n",
      "No more results for corack on page 1.\n",
      "No results for corack. Moving to the next suburb.\n",
      "Scraping data for corack-east (3480)\n",
      "No more results for corack-east on page 1.\n",
      "No results for corack-east. Moving to the next suburb.\n",
      "Scraping data for donald (3480)\n",
      "No more results for donald on page 1.\n",
      "No results for donald. Moving to the next suburb.\n",
      "Scraping data for gil-gil (3480)\n",
      "No more results for gil-gil on page 1.\n",
      "No results for gil-gil. Moving to the next suburb.\n",
      "Scraping data for jeffcott (3480)\n",
      "No more results for jeffcott on page 1.\n",
      "No results for jeffcott. Moving to the next suburb.\n",
      "Scraping data for jeffcott-north (3480)\n",
      "No more results for jeffcott-north on page 1.\n",
      "No results for jeffcott-north. Moving to the next suburb.\n",
      "Scraping data for laen (3480)\n",
      "No more results for laen on page 1.\n",
      "No results for laen. Moving to the next suburb.\n",
      "Scraping data for laen-east (3480)\n",
      "No more results for laen-east on page 1.\n",
      "No results for laen-east. Moving to the next suburb.\n",
      "Scraping data for laen-north (3480)\n",
      "No more results for laen-north on page 1.\n",
      "No results for laen-north. Moving to the next suburb.\n",
      "Scraping data for lake-buloke (3480)\n",
      "Error fetching https://www.domain.com.au/rent/lake-buloke-vic-3480/?ssubs=0&sort=suburb-asc&page=1: HTTP Error 404: Not Found\n",
      "No results for lake-buloke. Moving to the next suburb.\n",
      "Scraping data for lawler (3480)\n",
      "No more results for lawler on page 1.\n",
      "No results for lawler. Moving to the next suburb.\n",
      "Scraping data for litchfield (3480)\n",
      "No more results for litchfield on page 1.\n",
      "No results for litchfield. Moving to the next suburb.\n",
      "Scraping data for rich-avon (3480)\n",
      "No more results for rich-avon on page 1.\n",
      "No results for rich-avon. Moving to the next suburb.\n",
      "Scraping data for rich-avon-east (3480)\n",
      "No more results for rich-avon-east on page 1.\n",
      "No results for rich-avon-east. Moving to the next suburb.\n",
      "Scraping data for rich-avon-west (3480)\n",
      "No more results for rich-avon-west on page 1.\n",
      "No results for rich-avon-west. Moving to the next suburb.\n",
      "Scraping data for swanwater-west (3480)\n",
      "No more results for swanwater-west on page 1.\n",
      "No results for swanwater-west. Moving to the next suburb.\n",
      "Scraping data for massey (3482)\n",
      "No more results for massey on page 1.\n",
      "No results for massey. Moving to the next suburb.\n",
      "Scraping data for morton-plains (3482)\n",
      "No more results for morton-plains on page 1.\n",
      "No results for morton-plains. Moving to the next suburb.\n",
      "Scraping data for warmur (3482)\n",
      "No more results for warmur on page 1.\n",
      "No results for warmur. Moving to the next suburb.\n",
      "Scraping data for watchem (3482)\n",
      "No more results for watchem on page 1.\n",
      "No results for watchem. Moving to the next suburb.\n",
      "Scraping data for watchem-west (3482)\n",
      "No more results for watchem-west on page 1.\n",
      "No results for watchem-west. Moving to the next suburb.\n",
      "Scraping data for ballapur (3483)\n",
      "No more results for ballapur on page 1.\n",
      "No results for ballapur. Moving to the next suburb.\n",
      "Scraping data for birchip (3483)\n",
      "No more results for birchip on page 1.\n",
      "No results for birchip. Moving to the next suburb.\n",
      "Scraping data for birchip-west (3483)\n",
      "No more results for birchip-west on page 1.\n",
      "No results for birchip-west. Moving to the next suburb.\n",
      "Scraping data for curyo (3483)\n",
      "No more results for curyo on page 1.\n",
      "No results for curyo. Moving to the next suburb.\n",
      "Scraping data for jil-jil (3483)\n",
      "No more results for jil-jil on page 1.\n",
      "No results for jil-jil. Moving to the next suburb.\n",
      "Scraping data for karyrie (3483)\n",
      "No more results for karyrie on page 1.\n",
      "No results for karyrie. Moving to the next suburb.\n",
      "Scraping data for kinnabulla (3483)\n",
      "No more results for kinnabulla on page 1.\n",
      "No results for kinnabulla. Moving to the next suburb.\n",
      "Scraping data for marlbed (3483)\n",
      "No more results for marlbed on page 1.\n",
      "No results for marlbed. Moving to the next suburb.\n",
      "Scraping data for narraport (3483)\n",
      "No more results for narraport on page 1.\n",
      "No results for narraport. Moving to the next suburb.\n",
      "Scraping data for reedy-dam (3483)\n",
      "Error fetching https://www.domain.com.au/rent/reedy-dam-vic-3483/?ssubs=0&sort=suburb-asc&page=1: HTTP Error 404: Not Found\n",
      "No results for reedy-dam. Moving to the next suburb.\n",
      "Scraping data for whirily (3483)\n",
      "No more results for whirily on page 1.\n",
      "No results for whirily. Moving to the next suburb.\n",
      "Scraping data for banyan (3485)\n",
      "No more results for banyan on page 1.\n",
      "No results for banyan. Moving to the next suburb.\n",
      "Scraping data for watchupga (3485)\n",
      "No more results for watchupga on page 1.\n",
      "No results for watchupga. Moving to the next suburb.\n",
      "Scraping data for willangie (3485)\n",
      "No more results for willangie on page 1.\n",
      "No results for willangie. Moving to the next suburb.\n",
      "Scraping data for woomelang (3485)\n",
      "No more results for woomelang on page 1.\n",
      "No results for woomelang. Moving to the next suburb.\n",
      "Scraping data for lascelles (3487)\n",
      "No more results for lascelles on page 1.\n",
      "No results for lascelles. Moving to the next suburb.\n",
      "Scraping data for speed (3488)\n",
      "No more results for speed on page 1.\n",
      "No results for speed. Moving to the next suburb.\n",
      "Scraping data for turriff (3488)\n",
      "No more results for turriff on page 1.\n",
      "No results for turriff. Moving to the next suburb.\n",
      "Scraping data for turriff-east (3488)\n",
      "No more results for turriff-east on page 1.\n",
      "No results for turriff-east. Moving to the next suburb.\n",
      "Scraping data for tempy (3489)\n",
      "No more results for tempy on page 1.\n",
      "No results for tempy. Moving to the next suburb.\n",
      "Scraping data for big-desert (3490)\n",
      "No more results for big-desert on page 1.\n",
      "No results for big-desert. Moving to the next suburb.\n",
      "Scraping data for boinka (3490)\n",
      "No more results for boinka on page 1.\n",
      "No results for boinka. Moving to the next suburb.\n",
      "Scraping data for kulwin (3490)\n",
      "No more results for kulwin on page 1.\n",
      "No results for kulwin. Moving to the next suburb.\n",
      "Scraping data for mittyack (3490)\n",
      "No more results for mittyack on page 1.\n",
      "No results for mittyack. Moving to the next suburb.\n",
      "Scraping data for murray-sunset (3490)\n",
      "No more results for murray-sunset on page 1.\n",
      "No results for murray-sunset. Moving to the next suburb.\n",
      "Scraping data for ouyen (3490)\n",
      "No more results for ouyen on page 2.\n"
     ]
    },
    {
     "name": "stderr",
     "output_type": "stream",
     "text": [
      "100% successful: 100%|██████████| 1/1 [00:01<00:00,  1.02s/it]\n"
     ]
    },
    {
     "name": "stdout",
     "output_type": "stream",
     "text": [
      "Scraping data for torrita (3490)\n",
      "No more results for torrita on page 1.\n",
      "No results for torrita. Moving to the next suburb.\n",
      "Scraping data for tutye (3490)\n",
      "No more results for tutye on page 1.\n",
      "No results for tutye. Moving to the next suburb.\n",
      "Scraping data for patchewollock (3491)\n",
      "No more results for patchewollock on page 1.\n",
      "No results for patchewollock. Moving to the next suburb.\n",
      "Scraping data for carwarp (3494)\n",
      "No more results for carwarp on page 1.\n",
      "No results for carwarp. Moving to the next suburb.\n",
      "Scraping data for colignan (3494)\n",
      "No more results for colignan on page 1.\n",
      "No results for colignan. Moving to the next suburb.\n",
      "Scraping data for iraak (3494)\n",
      "No more results for iraak on page 1.\n",
      "No results for iraak. Moving to the next suburb.\n",
      "Scraping data for nangiloc (3494)\n",
      "No more results for nangiloc on page 1.\n",
      "No results for nangiloc. Moving to the next suburb.\n",
      "Scraping data for cardross (3496)\n",
      "No more results for cardross on page 2.\n"
     ]
    },
    {
     "name": "stderr",
     "output_type": "stream",
     "text": [
      "100% successful: 100%|██████████| 1/1 [00:01<00:00,  1.27s/it]\n"
     ]
    },
    {
     "name": "stdout",
     "output_type": "stream",
     "text": [
      "Scraping data for cullulleraine (3496)\n",
      "No more results for cullulleraine on page 1.\n",
      "No results for cullulleraine. Moving to the next suburb.\n",
      "Scraping data for lindsay-point (3496)\n",
      "No more results for lindsay-point on page 1.\n",
      "No results for lindsay-point. Moving to the next suburb.\n",
      "Scraping data for meringur (3496)\n",
      "No more results for meringur on page 1.\n",
      "No results for meringur. Moving to the next suburb.\n",
      "Scraping data for merrinee (3496)\n",
      "No more results for merrinee on page 1.\n",
      "No results for merrinee. Moving to the next suburb.\n",
      "Scraping data for murray-lock-no-9 (3496)\n",
      "Error fetching https://www.domain.com.au/rent/murray-lock-no-9-vic-3496/?ssubs=0&sort=suburb-asc&page=1: HTTP Error 404: Not Found\n",
      "No results for murray-lock-no-9. Moving to the next suburb.\n",
      "Scraping data for neds-corner (3496)\n",
      "No more results for neds-corner on page 1.\n",
      "No results for neds-corner. Moving to the next suburb.\n",
      "Scraping data for red-cliffs (3496)\n",
      "No more results for red-cliffs on page 2.\n"
     ]
    },
    {
     "name": "stderr",
     "output_type": "stream",
     "text": [
      "100% successful: 100%|██████████| 4/4 [00:04<00:00,  1.20s/it]\n"
     ]
    },
    {
     "name": "stdout",
     "output_type": "stream",
     "text": [
      "Scraping data for sunnycliffs (3496)\n",
      "No more results for sunnycliffs on page 1.\n",
      "No results for sunnycliffs. Moving to the next suburb.\n",
      "Scraping data for werrimull (3496)\n",
      "No more results for werrimull on page 1.\n",
      "No results for werrimull. Moving to the next suburb.\n",
      "Scraping data for irymple (3498)\n",
      "No more results for irymple on page 2.\n"
     ]
    },
    {
     "name": "stderr",
     "output_type": "stream",
     "text": [
      "100% successful: 100%|██████████| 4/4 [00:05<00:00,  1.48s/it]\n",
      "                                                                                \r"
     ]
    },
    {
     "name": "stdout",
     "output_type": "stream",
     "text": [
      "Data successfully written\n",
      "chunk finished\n",
      "Scraping data for irymple (3498)\n",
      "No more results for irymple on page 2.\n"
     ]
    },
    {
     "name": "stderr",
     "output_type": "stream",
     "text": [
      "100% successful: 100%|██████████| 4/4 [00:08<00:00,  2.17s/it]\n"
     ]
    },
    {
     "name": "stdout",
     "output_type": "stream",
     "text": [
      "Scraping data for mildura (3500)\n",
      "No more results for mildura on page 4.\n"
     ]
    },
    {
     "name": "stderr",
     "output_type": "stream",
     "text": [
      "100% successful: 100%|██████████| 58/58 [01:20<00:00,  1.38s/it]\n"
     ]
    },
    {
     "name": "stdout",
     "output_type": "stream",
     "text": [
      "Scraping data for mildura-east (3500)\n",
      "Error fetching https://www.domain.com.au/rent/mildura-east-vic-3500/?ssubs=0&sort=suburb-asc&page=1: HTTP Error 404: Not Found\n",
      "No results for mildura-east. Moving to the next suburb.\n",
      "Scraping data for mildura-west (3500)\n",
      "No more results for mildura-west on page 1.\n",
      "No results for mildura-west. Moving to the next suburb.\n",
      "Scraping data for hattah (3501)\n",
      "No more results for hattah on page 1.\n",
      "No results for hattah. Moving to the next suburb.\n",
      "Scraping data for koorlong (3501)\n",
      "No more results for koorlong on page 1.\n",
      "No results for koorlong. Moving to the next suburb.\n",
      "Scraping data for mildura-centre-plaza (3501)\n",
      "Error fetching https://www.domain.com.au/rent/mildura-centre-plaza-vic-3501/?ssubs=0&sort=suburb-asc&page=1: HTTP Error 404: Not Found\n",
      "No results for mildura-centre-plaza. Moving to the next suburb.\n",
      "Scraping data for mildura-south (3501)\n",
      "Error fetching https://www.domain.com.au/rent/mildura-south-vic-3501/?ssubs=0&sort=suburb-asc&page=1: HTTP Error 404: Not Found\n",
      "No results for mildura-south. Moving to the next suburb.\n",
      "Scraping data for nichols-point (3501)\n",
      "No more results for nichols-point on page 2.\n"
     ]
    },
    {
     "name": "stderr",
     "output_type": "stream",
     "text": [
      "100% successful: 100%|██████████| 1/1 [00:00<00:00,  1.13it/s]\n"
     ]
    },
    {
     "name": "stdout",
     "output_type": "stream",
     "text": [
      "Scraping data for mildura (3502)\n",
      "Error fetching https://www.domain.com.au/rent/mildura-vic-3502/?ssubs=0&sort=suburb-asc&page=1: HTTP Error 404: Not Found\n",
      "No results for mildura. Moving to the next suburb.\n",
      "Scraping data for birdwoodton (3505)\n",
      "No more results for birdwoodton on page 1.\n",
      "No results for birdwoodton. Moving to the next suburb.\n",
      "Scraping data for cabarita (3505)\n",
      "No more results for cabarita on page 1.\n",
      "No results for cabarita. Moving to the next suburb.\n",
      "Scraping data for merbein (3505)\n",
      "No more results for merbein on page 2.\n"
     ]
    },
    {
     "name": "stderr",
     "output_type": "stream",
     "text": [
      "100% successful: 100%|██████████| 1/1 [00:00<00:00,  1.10it/s]\n"
     ]
    },
    {
     "name": "stdout",
     "output_type": "stream",
     "text": [
      "Scraping data for merbein-south (3505)\n",
      "No more results for merbein-south on page 1.\n",
      "No results for merbein-south. Moving to the next suburb.\n",
      "Scraping data for merbein-west (3505)\n",
      "No more results for merbein-west on page 1.\n",
      "No results for merbein-west. Moving to the next suburb.\n",
      "Scraping data for wargan (3505)\n",
      "No more results for wargan on page 1.\n",
      "No results for wargan. Moving to the next suburb.\n",
      "Scraping data for yelta (3505)\n",
      "No more results for yelta on page 1.\n",
      "No results for yelta. Moving to the next suburb.\n",
      "Scraping data for cowangie (3506)\n",
      "No more results for cowangie on page 1.\n",
      "No results for cowangie. Moving to the next suburb.\n",
      "Scraping data for walpeup (3507)\n",
      "No more results for walpeup on page 1.\n",
      "No results for walpeup. Moving to the next suburb.\n",
      "Scraping data for linga (3509)\n",
      "No more results for linga on page 1.\n",
      "No results for linga. Moving to the next suburb.\n",
      "Scraping data for underbool (3509)\n",
      "No more results for underbool on page 2.\n"
     ]
    },
    {
     "name": "stderr",
     "output_type": "stream",
     "text": [
      "100% successful: 100%|██████████| 1/1 [00:00<00:00,  1.01it/s]\n"
     ]
    },
    {
     "name": "stdout",
     "output_type": "stream",
     "text": [
      "Scraping data for carina (3512)\n",
      "No more results for carina on page 1.\n",
      "No results for carina. Moving to the next suburb.\n",
      "Scraping data for murrayville (3512)\n",
      "No more results for murrayville on page 1.\n",
      "No results for murrayville. Moving to the next suburb.\n",
      "Scraping data for panitya (3512)\n",
      "No more results for panitya on page 1.\n",
      "No results for panitya. Moving to the next suburb.\n",
      "Scraping data for marong (3515)\n",
      "No more results for marong on page 2.\n"
     ]
    },
    {
     "name": "stderr",
     "output_type": "stream",
     "text": [
      "100% successful: 100%|██████████| 1/1 [00:01<00:00,  1.28s/it]\n"
     ]
    },
    {
     "name": "stdout",
     "output_type": "stream",
     "text": [
      "Scraping data for shelbourne (3515)\n",
      "No more results for shelbourne on page 1.\n",
      "No results for shelbourne. Moving to the next suburb.\n",
      "Scraping data for wilsons-hill (3515)\n",
      "No more results for wilsons-hill on page 1.\n",
      "No results for wilsons-hill. Moving to the next suburb.\n",
      "Scraping data for bridgewater (3516)\n",
      "No more results for bridgewater on page 1.\n",
      "No results for bridgewater. Moving to the next suburb.\n",
      "Scraping data for bridgewater-north (3516)\n",
      "No more results for bridgewater-north on page 1.\n",
      "No results for bridgewater-north. Moving to the next suburb.\n",
      "Scraping data for bridgewater-on-loddon (3516)\n",
      "No more results for bridgewater-on-loddon on page 1.\n",
      "No results for bridgewater-on-loddon. Moving to the next suburb.\n",
      "Scraping data for derby (3516)\n",
      "No more results for derby on page 1.\n",
      "No results for derby. Moving to the next suburb.\n",
      "Scraping data for leichardt (3516)\n",
      "No more results for leichardt on page 1.\n",
      "No results for leichardt. Moving to the next suburb.\n",
      "Scraping data for yarraberb (3516)\n",
      "No more results for yarraberb on page 1.\n",
      "No results for yarraberb. Moving to the next suburb.\n",
      "Scraping data for bears-lagoon (3517)\n",
      "No more results for bears-lagoon on page 1.\n",
      "No results for bears-lagoon. Moving to the next suburb.\n",
      "Scraping data for brenanah (3517)\n",
      "No more results for brenanah on page 1.\n",
      "No results for brenanah. Moving to the next suburb.\n",
      "Scraping data for bullabul (3517)\n",
      "Error fetching https://www.domain.com.au/rent/bullabul-vic-3517/?ssubs=0&sort=suburb-asc&page=1: HTTP Error 404: Not Found\n",
      "No results for bullabul. Moving to the next suburb.\n",
      "Scraping data for glenalbyn (3517)\n",
      "No more results for glenalbyn on page 1.\n",
      "No results for glenalbyn. Moving to the next suburb.\n",
      "Scraping data for inglewood (3517)\n",
      "No more results for inglewood on page 1.\n",
      "No results for inglewood. Moving to the next suburb.\n",
      "Scraping data for jarklin (3517)\n",
      "No more results for jarklin on page 1.\n",
      "No results for jarklin. Moving to the next suburb.\n",
      "Scraping data for kingower (3517)\n",
      "No more results for kingower on page 1.\n",
      "No results for kingower. Moving to the next suburb.\n",
      "Scraping data for kurting (3517)\n",
      "No more results for kurting on page 1.\n",
      "No results for kurting. Moving to the next suburb.\n",
      "Scraping data for powlett-plains (3517)\n",
      "No more results for powlett-plains on page 1.\n",
      "No results for powlett-plains. Moving to the next suburb.\n",
      "Scraping data for rheola (3517)\n",
      "No more results for rheola on page 1.\n",
      "No results for rheola. Moving to the next suburb.\n",
      "Scraping data for salisbury-west (3517)\n",
      "No more results for salisbury-west on page 1.\n",
      "No results for salisbury-west. Moving to the next suburb.\n",
      "Scraping data for serpentine (3517)\n",
      "No more results for serpentine on page 1.\n",
      "No results for serpentine. Moving to the next suburb.\n",
      "Scraping data for berrimal (3518)\n",
      "No more results for berrimal on page 1.\n",
      "No results for berrimal. Moving to the next suburb.\n",
      "Scraping data for borung (3518)\n",
      "No more results for borung on page 1.\n",
      "No results for borung. Moving to the next suburb.\n",
      "Scraping data for fentons-creek (3518)\n",
      "No more results for fentons-creek on page 1.\n",
      "No results for fentons-creek. Moving to the next suburb.\n",
      "Scraping data for fernihurst (3518)\n",
      "No more results for fernihurst on page 1.\n",
      "No results for fernihurst. Moving to the next suburb.\n",
      "Scraping data for fiery-flat (3518)\n",
      "No more results for fiery-flat on page 1.\n",
      "No results for fiery-flat. Moving to the next suburb.\n",
      "Scraping data for kurraca (3518)\n",
      "No more results for kurraca on page 1.\n",
      "No results for kurraca. Moving to the next suburb.\n",
      "Scraping data for kurraca-west (3518)\n",
      "No more results for kurraca-west on page 1.\n",
      "No results for kurraca-west. Moving to the next suburb.\n",
      "Scraping data for mysia (3518)\n",
      "No more results for mysia on page 1.\n",
      "No results for mysia. Moving to the next suburb.\n",
      "Scraping data for nine-mile (3518)\n",
      "No more results for nine-mile on page 1.\n",
      "No results for nine-mile. Moving to the next suburb.\n",
      "Scraping data for richmond-plains (3518)\n",
      "No more results for richmond-plains on page 1.\n",
      "No results for richmond-plains. Moving to the next suburb.\n",
      "Scraping data for skinners-flat (3518)\n",
      "No more results for skinners-flat on page 1.\n",
      "No results for skinners-flat. Moving to the next suburb.\n",
      "Scraping data for wedderburn (3518)\n",
      "No more results for wedderburn on page 1.\n",
      "No results for wedderburn. Moving to the next suburb.\n",
      "Scraping data for wedderburn-junction (3518)\n",
      "No more results for wedderburn-junction on page 1.\n",
      "No results for wedderburn-junction. Moving to the next suburb.\n",
      "Scraping data for wehla (3518)\n",
      "No more results for wehla on page 1.\n",
      "No results for wehla. Moving to the next suburb.\n",
      "Scraping data for woolshed-flat (3518)\n",
      "No more results for woolshed-flat on page 1.\n",
      "No results for woolshed-flat. Moving to the next suburb.\n",
      "Scraping data for woosang (3518)\n",
      "No more results for woosang on page 1.\n",
      "No results for woosang. Moving to the next suburb.\n",
      "Scraping data for kinypanial (3520)\n",
      "No more results for kinypanial on page 1.\n",
      "No results for kinypanial. Moving to the next suburb.\n",
      "Scraping data for korong-vale (3520)\n",
      "No more results for korong-vale on page 1.\n",
      "No results for korong-vale. Moving to the next suburb.\n",
      "Scraping data for south-kinypanial (3520)\n",
      "Error fetching https://www.domain.com.au/rent/south-kinypanial-vic-3520/?ssubs=0&sort=suburb-asc&page=1: HTTP Error 404: Not Found\n",
      "No results for south-kinypanial. Moving to the next suburb.\n",
      "Scraping data for pyalong (3521)\n",
      "No more results for pyalong on page 1.\n",
      "No results for pyalong. Moving to the next suburb.\n",
      "Scraping data for emu-flat (3522)\n",
      "Error fetching https://www.domain.com.au/rent/emu-flat-vic-3522/?ssubs=0&sort=suburb-asc&page=1: HTTP Error 404: Not Found\n",
      "No results for emu-flat. Moving to the next suburb.\n",
      "Scraping data for glenhope-east (3522)\n",
      "No more results for glenhope-east on page 1.\n",
      "No results for glenhope-east. Moving to the next suburb.\n",
      "Scraping data for tooborac (3522)\n",
      "No more results for tooborac on page 1.\n",
      "No results for tooborac. Moving to the next suburb.\n",
      "Scraping data for argyle (3523)\n",
      "No more results for argyle on page 1.\n",
      "No results for argyle. Moving to the next suburb.\n",
      "Scraping data for costerfield (3523)\n",
      "No more results for costerfield on page 1.\n",
      "No results for costerfield. Moving to the next suburb.\n",
      "Scraping data for derrinal (3523)\n",
      "No more results for derrinal on page 1.\n",
      "No results for derrinal. Moving to the next suburb.\n",
      "Scraping data for heathcote (3523)\n",
      "No more results for heathcote on page 1.\n",
      "No results for heathcote. Moving to the next suburb.\n",
      "Scraping data for heathcote-south (3523)\n",
      "No more results for heathcote-south on page 1.\n",
      "No results for heathcote-south. Moving to the next suburb.\n",
      "Scraping data for knowsley (3523)\n",
      "No more results for knowsley on page 1.\n",
      "No results for knowsley. Moving to the next suburb.\n",
      "Scraping data for ladys-pass (3523)\n",
      "No more results for ladys-pass on page 1.\n",
      "No results for ladys-pass. Moving to the next suburb.\n",
      "Scraping data for moormbool-west (3523)\n",
      "No more results for moormbool-west on page 1.\n",
      "No results for moormbool-west. Moving to the next suburb.\n",
      "Scraping data for mount-camel (3523)\n",
      "No more results for mount-camel on page 1.\n",
      "No results for mount-camel. Moving to the next suburb.\n",
      "Scraping data for redcastle (3523)\n",
      "No more results for redcastle on page 2.\n"
     ]
    },
    {
     "name": "stderr",
     "output_type": "stream",
     "text": [
      "100% successful: 100%|██████████| 1/1 [00:00<00:00,  1.09it/s]\n",
      "                                                                                \r"
     ]
    },
    {
     "name": "stdout",
     "output_type": "stream",
     "text": [
      "Data successfully written\n",
      "chunk finished\n",
      "Scraping data for argyle (3523)\n",
      "No more results for argyle on page 1.\n",
      "No results for argyle. Moving to the next suburb.\n",
      "Scraping data for costerfield (3523)\n",
      "No more results for costerfield on page 1.\n",
      "No results for costerfield. Moving to the next suburb.\n",
      "Scraping data for derrinal (3523)\n",
      "No more results for derrinal on page 1.\n",
      "No results for derrinal. Moving to the next suburb.\n",
      "Scraping data for heathcote (3523)\n",
      "No more results for heathcote on page 1.\n",
      "No results for heathcote. Moving to the next suburb.\n",
      "Scraping data for heathcote-south (3523)\n",
      "No more results for heathcote-south on page 1.\n",
      "No results for heathcote-south. Moving to the next suburb.\n",
      "Scraping data for knowsley (3523)\n",
      "No more results for knowsley on page 1.\n",
      "No results for knowsley. Moving to the next suburb.\n",
      "Scraping data for ladys-pass (3523)\n",
      "No more results for ladys-pass on page 1.\n",
      "No results for ladys-pass. Moving to the next suburb.\n",
      "Scraping data for moormbool-west (3523)\n",
      "No more results for moormbool-west on page 1.\n",
      "No results for moormbool-west. Moving to the next suburb.\n",
      "Scraping data for mount-camel (3523)\n",
      "No more results for mount-camel on page 1.\n",
      "No results for mount-camel. Moving to the next suburb.\n",
      "Scraping data for redcastle (3523)\n",
      "No more results for redcastle on page 2.\n"
     ]
    },
    {
     "name": "stderr",
     "output_type": "stream",
     "text": [
      "100% successful: 100%|██████████| 1/1 [00:00<00:00,  1.22it/s]\n"
     ]
    },
    {
     "name": "stdout",
     "output_type": "stream",
     "text": [
      "Scraping data for barrakee (3525)\n",
      "No more results for barrakee on page 1.\n",
      "No results for barrakee. Moving to the next suburb.\n",
      "Scraping data for buckrabanyule (3525)\n",
      "No more results for buckrabanyule on page 1.\n",
      "No results for buckrabanyule. Moving to the next suburb.\n",
      "Scraping data for charlton (3525)\n",
      "No more results for charlton on page 1.\n",
      "No results for charlton. Moving to the next suburb.\n",
      "Scraping data for chirrip (3525)\n",
      "No more results for chirrip on page 1.\n",
      "No results for chirrip. Moving to the next suburb.\n",
      "Scraping data for granite-flat (3525)\n",
      "No more results for granite-flat on page 1.\n",
      "No results for granite-flat. Moving to the next suburb.\n",
      "Scraping data for jeffcott (3525)\n",
      "Error fetching https://www.domain.com.au/rent/jeffcott-vic-3525/?ssubs=0&sort=suburb-asc&page=1: HTTP Error 404: Not Found\n",
      "No results for jeffcott. Moving to the next suburb.\n",
      "Scraping data for jeffcott-north (3525)\n",
      "Error fetching https://www.domain.com.au/rent/jeffcott-north-vic-3525/?ssubs=0&sort=suburb-asc&page=1: HTTP Error 404: Not Found\n",
      "No results for jeffcott-north. Moving to the next suburb.\n",
      "Scraping data for lake-marmal (3525)\n",
      "No more results for lake-marmal on page 1.\n",
      "No results for lake-marmal. Moving to the next suburb.\n",
      "Scraping data for nareewillock (3525)\n",
      "No more results for nareewillock on page 1.\n",
      "No results for nareewillock. Moving to the next suburb.\n",
      "Scraping data for teddywaddy (3525)\n",
      "Error fetching https://www.domain.com.au/rent/teddywaddy-vic-3525/?ssubs=0&sort=suburb-asc&page=1: HTTP Error 404: Not Found\n",
      "No results for teddywaddy. Moving to the next suburb.\n",
      "Scraping data for teddywaddy-west (3525)\n",
      "Error fetching https://www.domain.com.au/rent/teddywaddy-west-vic-3525/?ssubs=0&sort=suburb-asc&page=1: HTTP Error 404: Not Found\n",
      "No results for teddywaddy-west. Moving to the next suburb.\n",
      "Scraping data for terrappee (3525)\n",
      "No more results for terrappee on page 1.\n",
      "No results for terrappee. Moving to the next suburb.\n",
      "Scraping data for wooroonook (3525)\n",
      "No more results for wooroonook on page 1.\n",
      "No results for wooroonook. Moving to the next suburb.\n",
      "Scraping data for wychitella (3525)\n",
      "No more results for wychitella on page 1.\n",
      "No results for wychitella. Moving to the next suburb.\n",
      "Scraping data for wychitella-north (3525)\n",
      "No more results for wychitella-north on page 1.\n",
      "No results for wychitella-north. Moving to the next suburb.\n",
      "Scraping data for yeungroon (3525)\n",
      "No more results for yeungroon on page 1.\n",
      "No results for yeungroon. Moving to the next suburb.\n",
      "Scraping data for yeungroon-east (3525)\n",
      "No more results for yeungroon-east on page 1.\n",
      "No results for yeungroon-east. Moving to the next suburb.\n",
      "Scraping data for bunguluke (3527)\n",
      "No more results for bunguluke on page 1.\n",
      "No results for bunguluke. Moving to the next suburb.\n",
      "Scraping data for dumosa (3527)\n",
      "No more results for dumosa on page 1.\n",
      "No results for dumosa. Moving to the next suburb.\n",
      "Scraping data for glenloth (3527)\n",
      "No more results for glenloth on page 1.\n",
      "No results for glenloth. Moving to the next suburb.\n",
      "Scraping data for glenloth-east (3527)\n",
      "No more results for glenloth-east on page 1.\n",
      "No results for glenloth-east. Moving to the next suburb.\n",
      "Scraping data for jeruk (3527)\n",
      "No more results for jeruk on page 1.\n",
      "No results for jeruk. Moving to the next suburb.\n",
      "Scraping data for ninyeunook (3527)\n",
      "No more results for ninyeunook on page 1.\n",
      "No results for ninyeunook. Moving to the next suburb.\n",
      "Scraping data for teddywaddy (3527)\n",
      "No more results for teddywaddy on page 1.\n",
      "No results for teddywaddy. Moving to the next suburb.\n",
      "Scraping data for teddywaddy-west (3527)\n",
      "No more results for teddywaddy-west on page 1.\n",
      "No results for teddywaddy-west. Moving to the next suburb.\n",
      "Scraping data for thalia (3527)\n",
      "No more results for thalia on page 1.\n",
      "No results for thalia. Moving to the next suburb.\n",
      "Scraping data for towaninny (3527)\n",
      "No more results for towaninny on page 1.\n",
      "No results for towaninny. Moving to the next suburb.\n",
      "Scraping data for towaninny-south (3527)\n",
      "No more results for towaninny-south on page 1.\n",
      "No results for towaninny-south. Moving to the next suburb.\n",
      "Scraping data for wycheproof (3527)\n",
      "No more results for wycheproof on page 1.\n",
      "No results for wycheproof. Moving to the next suburb.\n",
      "Scraping data for wycheproof-south (3527)\n",
      "No more results for wycheproof-south on page 1.\n",
      "No results for wycheproof-south. Moving to the next suburb.\n",
      "Scraping data for kalpienung (3529)\n",
      "No more results for kalpienung on page 1.\n",
      "No results for kalpienung. Moving to the next suburb.\n",
      "Scraping data for nullawil (3529)\n",
      "No more results for nullawil on page 1.\n",
      "No results for nullawil. Moving to the next suburb.\n",
      "Scraping data for culgoa (3530)\n",
      "No more results for culgoa on page 1.\n",
      "No results for culgoa. Moving to the next suburb.\n",
      "Scraping data for sutton (3530)\n",
      "No more results for sutton on page 1.\n",
      "No results for sutton. Moving to the next suburb.\n",
      "Scraping data for wangie (3530)\n",
      "No more results for wangie on page 1.\n",
      "No results for wangie. Moving to the next suburb.\n",
      "Scraping data for warne (3530)\n",
      "No more results for warne on page 1.\n",
      "No results for warne. Moving to the next suburb.\n",
      "Scraping data for berriwillock (3531)\n",
      "No more results for berriwillock on page 1.\n",
      "No results for berriwillock. Moving to the next suburb.\n",
      "Scraping data for boigbeat (3531)\n",
      "No more results for boigbeat on page 1.\n",
      "No results for boigbeat. Moving to the next suburb.\n",
      "Scraping data for springfield (3531)\n",
      "No more results for springfield on page 1.\n",
      "No results for springfield. Moving to the next suburb.\n",
      "Scraping data for bimbourie (3533)\n",
      "No more results for bimbourie on page 1.\n",
      "No results for bimbourie. Moving to the next suburb.\n",
      "Scraping data for lake-tyrrell (3533)\n",
      "No more results for lake-tyrrell on page 1.\n",
      "No results for lake-tyrrell. Moving to the next suburb.\n",
      "Scraping data for mittyack (3533)\n",
      "No more results for mittyack on page 1.\n",
      "No results for mittyack. Moving to the next suburb.\n",
      "Scraping data for myall (3533)\n",
      "No more results for myall on page 1.\n",
      "No results for myall. Moving to the next suburb.\n",
      "Scraping data for nandaly (3533)\n",
      "No more results for nandaly on page 1.\n",
      "No results for nandaly. Moving to the next suburb.\n",
      "Scraping data for ninda (3533)\n",
      "No more results for ninda on page 1.\n",
      "No results for ninda. Moving to the next suburb.\n",
      "Scraping data for nyarrin (3533)\n",
      "No more results for nyarrin on page 1.\n",
      "No results for nyarrin. Moving to the next suburb.\n",
      "Scraping data for pier-milan (3533)\n",
      "No more results for pier-milan on page 1.\n",
      "No results for pier-milan. Moving to the next suburb.\n",
      "Scraping data for sea-lake (3533)\n",
      "No more results for sea-lake on page 1.\n",
      "No results for sea-lake. Moving to the next suburb.\n",
      "Scraping data for straten (3533)\n",
      "No more results for straten on page 1.\n",
      "No results for straten. Moving to the next suburb.\n",
      "Scraping data for tyenna (3533)\n",
      "No more results for tyenna on page 1.\n",
      "No results for tyenna. Moving to the next suburb.\n",
      "Scraping data for tyrrell (3533)\n",
      "No more results for tyrrell on page 1.\n",
      "No results for tyrrell. Moving to the next suburb.\n",
      "Scraping data for tyrrell-downs (3533)\n",
      "No more results for tyrrell-downs on page 1.\n",
      "No results for tyrrell-downs. Moving to the next suburb.\n",
      "Scraping data for barraport (3537)\n",
      "No more results for barraport on page 1.\n",
      "No results for barraport. Moving to the next suburb.\n",
      "Scraping data for barraport-west (3537)\n",
      "No more results for barraport-west on page 1.\n",
      "No results for barraport-west. Moving to the next suburb.\n",
      "Scraping data for boort (3537)\n",
      "No more results for boort on page 2.\n"
     ]
    },
    {
     "name": "stderr",
     "output_type": "stream",
     "text": [
      "100% successful: 100%|██████████| 1/1 [00:00<00:00,  1.08it/s]\n"
     ]
    },
    {
     "name": "stdout",
     "output_type": "stream",
     "text": [
      "Scraping data for canary-island (3537)\n",
      "No more results for canary-island on page 1.\n",
      "No results for canary-island. Moving to the next suburb.\n",
      "Scraping data for catumnal (3537)\n",
      "No more results for catumnal on page 1.\n",
      "No results for catumnal. Moving to the next suburb.\n",
      "Scraping data for gredgwin (3537)\n",
      "No more results for gredgwin on page 1.\n",
      "No results for gredgwin. Moving to the next suburb.\n",
      "Scraping data for leaghur (3537)\n",
      "No more results for leaghur on page 1.\n",
      "No results for leaghur. Moving to the next suburb.\n",
      "Scraping data for minmindie (3537)\n",
      "No more results for minmindie on page 1.\n",
      "No results for minmindie. Moving to the next suburb.\n",
      "Scraping data for yando (3537)\n",
      "No more results for yando on page 1.\n",
      "No results for yando. Moving to the next suburb.\n",
      "Scraping data for cannie (3540)\n",
      "No more results for cannie on page 1.\n",
      "No results for cannie. Moving to the next suburb.\n",
      "Scraping data for ninyeunook (3540)\n",
      "Error fetching https://www.domain.com.au/rent/ninyeunook-vic-3540/?ssubs=0&sort=suburb-asc&page=1: HTTP Error 404: Not Found\n",
      "No results for ninyeunook. Moving to the next suburb.\n",
      "Scraping data for oakvale (3540)\n",
      "No more results for oakvale on page 1.\n",
      "No results for oakvale. Moving to the next suburb.\n",
      "Scraping data for quambatook (3540)\n",
      "No more results for quambatook on page 1.\n",
      "No results for quambatook. Moving to the next suburb.\n",
      "Scraping data for cokum (3542)\n",
      "No more results for cokum on page 1.\n",
      "No results for cokum. Moving to the next suburb.\n",
      "Scraping data for lalbert (3542)\n",
      "No more results for lalbert on page 1.\n",
      "No results for lalbert. Moving to the next suburb.\n",
      "Scraping data for tittybong (3542)\n",
      "No more results for tittybong on page 1.\n",
      "No results for tittybong. Moving to the next suburb.\n",
      "Scraping data for titybong (3542)\n",
      "No more results for titybong on page 1.\n",
      "No results for titybong. Moving to the next suburb.\n",
      "Scraping data for chinangin (3544)\n",
      "No more results for chinangin on page 1.\n",
      "No results for chinangin. Moving to the next suburb.\n",
      "Scraping data for gowanford (3544)\n",
      "No more results for gowanford on page 1.\n",
      "No results for gowanford. Moving to the next suburb.\n",
      "Scraping data for murnungin (3544)\n",
      "No more results for murnungin on page 1.\n",
      "No results for murnungin. Moving to the next suburb.\n",
      "Scraping data for springfield (3544)\n",
      "No more results for springfield on page 1.\n",
      "No results for springfield. Moving to the next suburb.\n",
      "Scraping data for ultima (3544)\n",
      "No more results for ultima on page 1.\n",
      "No results for ultima. Moving to the next suburb.\n",
      "Scraping data for ultima-east (3544)\n",
      "No more results for ultima-east on page 1.\n",
      "No results for ultima-east. Moving to the next suburb.\n",
      "Scraping data for waitchie (3544)\n",
      "No more results for waitchie on page 1.\n",
      "No results for waitchie. Moving to the next suburb.\n",
      "Scraping data for bolton (3546)\n",
      "No more results for bolton on page 1.\n",
      "No results for bolton. Moving to the next suburb.\n",
      "Scraping data for chinkapook (3546)\n",
      "No more results for chinkapook on page 1.\n",
      "No results for chinkapook. Moving to the next suburb.\n",
      "Scraping data for cocamba (3546)\n",
      "No more results for cocamba on page 1.\n",
      "No results for cocamba. Moving to the next suburb.\n",
      "Scraping data for gerahmin (3546)\n",
      "No more results for gerahmin on page 1.\n",
      "No results for gerahmin. Moving to the next suburb.\n",
      "Scraping data for manangatang (3546)\n",
      "No more results for manangatang on page 2.\n"
     ]
    },
    {
     "name": "stderr",
     "output_type": "stream",
     "text": [
      "100% successful: 100%|██████████| 1/1 [00:00<00:00,  1.07it/s]\n"
     ]
    },
    {
     "name": "stdout",
     "output_type": "stream",
     "text": [
      "Scraping data for turoar (3546)\n",
      "No more results for turoar on page 1.\n",
      "No results for turoar. Moving to the next suburb.\n",
      "Scraping data for winnambool (3546)\n",
      "No more results for winnambool on page 1.\n",
      "No results for winnambool. Moving to the next suburb.\n"
     ]
    },
    {
     "name": "stderr",
     "output_type": "stream",
     "text": [
      "[Stage 6:=======================================================> (47 + 1) / 48]\r"
     ]
    },
    {
     "name": "stdout",
     "output_type": "stream",
     "text": [
      "Data successfully written\n",
      "chunk finished\n"
     ]
    },
    {
     "name": "stderr",
     "output_type": "stream",
     "text": [
      "                                                                                \r"
     ]
    }
   ],
   "source": [
    "#Priscilla\n",
    "starting_chunk = 3048 + 350\n",
    "run_chunk(starting_chunk)"
   ]
  },
  {
   "cell_type": "code",
   "execution_count": null,
   "metadata": {},
   "outputs": [],
   "source": [
    "#Rachel\n",
    "starting_chunk = 3048 + 525\n",
    "run_chunk(starting_chunk)"
   ]
  },
  {
   "cell_type": "code",
   "execution_count": 38,
   "metadata": {},
   "outputs": [
    {
     "name": "stdout",
     "output_type": "stream",
     "text": [
      "Scraping data for archerton (3723)\n"
     ]
    },
    {
     "name": "stderr",
     "output_type": "stream",
     "text": [
      "/tmp/ipykernel_1008810/4257810455.py:69: DeprecationWarning: The 'text' argument to find()-type methods is deprecated. Use 'string' instead.\n",
      "  no_results = bs_object.find(text=re.compile(\"No results found\", re.I))\n"
     ]
    },
    {
     "name": "stdout",
     "output_type": "stream",
     "text": [
      "No more results for archerton on page 1.\n",
      "No results for archerton. Moving to the next suburb.\n",
      "Scraping data for barjarg (3723)\n",
      "No more results for barjarg on page 1.\n",
      "No results for barjarg. Moving to the next suburb.\n",
      "Scraping data for boorolite (3723)\n",
      "No more results for boorolite on page 1.\n",
      "No results for boorolite. Moving to the next suburb.\n",
      "Scraping data for bridge-creek (3723)\n",
      "No more results for bridge-creek on page 1.\n",
      "No results for bridge-creek. Moving to the next suburb.\n",
      "Scraping data for delatite (3723)\n",
      "No more results for delatite on page 1.\n",
      "No results for delatite. Moving to the next suburb.\n",
      "Scraping data for enochs-point (3723)\n",
      "No more results for enochs-point on page 1.\n",
      "No results for enochs-point. Moving to the next suburb.\n",
      "Scraping data for gaffneys-creek (3723)\n",
      "No more results for gaffneys-creek on page 1.\n",
      "No results for gaffneys-creek. Moving to the next suburb.\n",
      "Scraping data for goughs-bay (3723)\n",
      "No more results for goughs-bay on page 1.\n",
      "No results for goughs-bay. Moving to the next suburb.\n",
      "Scraping data for howes-creek (3723)\n",
      "No more results for howes-creek on page 1.\n",
      "No results for howes-creek. Moving to the next suburb.\n",
      "Scraping data for howqua (3723)\n",
      "No more results for howqua on page 1.\n",
      "No results for howqua. Moving to the next suburb.\n",
      "Scraping data for howqua-hills (3723)\n",
      "No more results for howqua-hills on page 1.\n",
      "No results for howqua-hills. Moving to the next suburb.\n",
      "Scraping data for howqua-inlet (3723)\n",
      "No more results for howqua-inlet on page 1.\n",
      "No results for howqua-inlet. Moving to the next suburb.\n",
      "Scraping data for jamieson (3723)\n",
      "No more results for jamieson on page 1.\n",
      "No results for jamieson. Moving to the next suburb.\n",
      "Scraping data for kevington (3723)\n",
      "No more results for kevington on page 1.\n",
      "No results for kevington. Moving to the next suburb.\n",
      "Scraping data for knockwood (3723)\n",
      "No more results for knockwood on page 1.\n",
      "No results for knockwood. Moving to the next suburb.\n",
      "Scraping data for macs-cove (3723)\n",
      "No more results for macs-cove on page 1.\n",
      "No results for macs-cove. Moving to the next suburb.\n",
      "Scraping data for maindample (3723)\n",
      "No more results for maindample on page 1.\n",
      "No results for maindample. Moving to the next suburb.\n",
      "Scraping data for matlock (3723)\n",
      "No more results for matlock on page 1.\n",
      "No results for matlock. Moving to the next suburb.\n",
      "Scraping data for merrijig (3723)\n",
      "No more results for merrijig on page 2.\n"
     ]
    },
    {
     "name": "stderr",
     "output_type": "stream",
     "text": [
      "100% successful: 100%|██████████| 2/2 [00:01<00:00,  1.36it/s]\n"
     ]
    },
    {
     "name": "stdout",
     "output_type": "stream",
     "text": [
      "Scraping data for mount-buller (3723)\n",
      "No more results for mount-buller on page 1.\n",
      "No results for mount-buller. Moving to the next suburb.\n",
      "Scraping data for mountain-bay (3723)\n",
      "No more results for mountain-bay on page 1.\n",
      "No results for mountain-bay. Moving to the next suburb.\n",
      "Scraping data for nillahcootie (3723)\n",
      "Error fetching https://www.domain.com.au/rent/nillahcootie-vic-3723/?ssubs=0&sort=suburb-asc&page=1: HTTP Error 404: Not Found\n",
      "No results for nillahcootie. Moving to the next suburb.\n",
      "Scraping data for piries (3723)\n",
      "No more results for piries on page 1.\n",
      "No results for piries. Moving to the next suburb.\n",
      "Scraping data for sawmill-settlement (3723)\n",
      "No more results for sawmill-settlement on page 1.\n",
      "No results for sawmill-settlement. Moving to the next suburb.\n",
      "Scraping data for tolmie (3723)\n",
      "No more results for tolmie on page 1.\n",
      "No results for tolmie. Moving to the next suburb.\n",
      "Scraping data for woods-point (3723)\n",
      "No more results for woods-point on page 1.\n",
      "No results for woods-point. Moving to the next suburb.\n",
      "Scraping data for mansfield (3724)\n",
      "Error fetching https://www.domain.com.au/rent/mansfield-vic-3724/?ssubs=0&sort=suburb-asc&page=1: HTTP Error 404: Not Found\n",
      "No results for mansfield. Moving to the next suburb.\n",
      "Scraping data for boxwood (3725)\n",
      "No more results for boxwood on page 1.\n",
      "No results for boxwood. Moving to the next suburb.\n",
      "Scraping data for chesney-vale (3725)\n",
      "No more results for chesney-vale on page 1.\n",
      "No results for chesney-vale. Moving to the next suburb.\n",
      "Scraping data for goorambat (3725)\n",
      "No more results for goorambat on page 2.\n"
     ]
    },
    {
     "name": "stderr",
     "output_type": "stream",
     "text": [
      "100% successful: 100%|██████████| 1/1 [00:00<00:00,  2.31it/s]\n"
     ]
    },
    {
     "name": "stdout",
     "output_type": "stream",
     "text": [
      "Scraping data for major-plains (3725)\n",
      "No more results for major-plains on page 1.\n",
      "No results for major-plains. Moving to the next suburb.\n",
      "Scraping data for stewarton (3725)\n",
      "No more results for stewarton on page 1.\n",
      "No results for stewarton. Moving to the next suburb.\n",
      "Scraping data for bungeet (3726)\n",
      "No more results for bungeet on page 1.\n",
      "No results for bungeet. Moving to the next suburb.\n",
      "Scraping data for bungeet-west (3726)\n",
      "No more results for bungeet-west on page 1.\n",
      "No results for bungeet-west. Moving to the next suburb.\n",
      "Scraping data for devenish (3726)\n",
      "No more results for devenish on page 1.\n",
      "No results for devenish. Moving to the next suburb.\n",
      "Scraping data for thoona (3726)\n",
      "No more results for thoona on page 1.\n",
      "No results for thoona. Moving to the next suburb.\n",
      "Scraping data for almonds (3727)\n",
      "No more results for almonds on page 1.\n",
      "No results for almonds. Moving to the next suburb.\n",
      "Scraping data for lake-rowan (3727)\n",
      "No more results for lake-rowan on page 1.\n",
      "No results for lake-rowan. Moving to the next suburb.\n",
      "Scraping data for pelluebla (3727)\n",
      "No more results for pelluebla on page 1.\n",
      "No results for pelluebla. Moving to the next suburb.\n",
      "Scraping data for st-james (3727)\n",
      "No more results for st-james on page 1.\n",
      "No results for st-james. Moving to the next suburb.\n",
      "Scraping data for waggarandall (3727)\n",
      "Error fetching https://www.domain.com.au/rent/waggarandall-vic-3727/?ssubs=0&sort=suburb-asc&page=1: HTTP Error 404: Not Found\n",
      "No results for waggarandall. Moving to the next suburb.\n",
      "Scraping data for yundool (3727)\n",
      "No more results for yundool on page 1.\n",
      "No results for yundool. Moving to the next suburb.\n",
      "Scraping data for boomahnoomoonah (3728)\n",
      "No more results for boomahnoomoonah on page 1.\n",
      "No results for boomahnoomoonah. Moving to the next suburb.\n",
      "Scraping data for tungamah (3728)\n",
      "No more results for tungamah on page 2.\n"
     ]
    },
    {
     "name": "stderr",
     "output_type": "stream",
     "text": [
      "100% successful: 100%|██████████| 1/1 [00:00<00:00,  1.70it/s]\n"
     ]
    },
    {
     "name": "stdout",
     "output_type": "stream",
     "text": [
      "Scraping data for wilby (3728)\n",
      "No more results for wilby on page 1.\n",
      "No results for wilby. Moving to the next suburb.\n",
      "Scraping data for youarang (3728)\n",
      "No more results for youarang on page 1.\n",
      "No results for youarang. Moving to the next suburb.\n",
      "Scraping data for bathumi (3730)\n",
      "No more results for bathumi on page 1.\n",
      "No results for bathumi. Moving to the next suburb.\n",
      "Scraping data for boosey (3730)\n",
      "No more results for boosey on page 1.\n",
      "No results for boosey. Moving to the next suburb.\n",
      "Scraping data for bundalong (3730)\n",
      "No more results for bundalong on page 2.\n"
     ]
    },
    {
     "name": "stderr",
     "output_type": "stream",
     "text": [
      "100% successful: 100%|██████████| 2/2 [00:01<00:00,  1.86it/s]\n"
     ]
    },
    {
     "name": "stdout",
     "output_type": "stream",
     "text": [
      "Scraping data for bundalong-south (3730)\n",
      "No more results for bundalong-south on page 1.\n",
      "No results for bundalong-south. Moving to the next suburb.\n",
      "Scraping data for burramine (3730)\n",
      "No more results for burramine on page 1.\n",
      "No results for burramine. Moving to the next suburb.\n",
      "Scraping data for burramine-south (3730)\n",
      "No more results for burramine-south on page 1.\n",
      "No results for burramine-south. Moving to the next suburb.\n",
      "Scraping data for esmond (3730)\n",
      "No more results for esmond on page 1.\n",
      "No results for esmond. Moving to the next suburb.\n",
      "Scraping data for telford (3730)\n",
      "No more results for telford on page 1.\n",
      "No results for telford. Moving to the next suburb.\n",
      "Scraping data for yarrawonga (3730)\n",
      "No more results for yarrawonga on page 2.\n"
     ]
    },
    {
     "name": "stderr",
     "output_type": "stream",
     "text": [
      "100% successful:  39%|███▉      | 7/18 [00:03<00:05,  1.97it/s]\n"
     ]
    },
    {
     "ename": "KeyboardInterrupt",
     "evalue": "",
     "output_type": "error",
     "traceback": [
      "\u001b[0;31m---------------------------------------------------------------------------\u001b[0m",
      "\u001b[0;31mKeyboardInterrupt\u001b[0m                         Traceback (most recent call last)",
      "Cell \u001b[0;32mIn[38], line 3\u001b[0m\n\u001b[1;32m      1\u001b[0m \u001b[38;5;66;03m#Nathan\u001b[39;00m\n\u001b[1;32m      2\u001b[0m starting_chunk \u001b[38;5;241m=\u001b[39m \u001b[38;5;241m3048\u001b[39m \u001b[38;5;241m+\u001b[39m \u001b[38;5;241m700\u001b[39m\n\u001b[0;32m----> 3\u001b[0m \u001b[43mrun_chunk\u001b[49m\u001b[43m(\u001b[49m\u001b[43mstarting_chunk\u001b[49m\u001b[43m)\u001b[49m\n",
      "Cell \u001b[0;32mIn[37], line 5\u001b[0m, in \u001b[0;36mrun_chunk\u001b[0;34m(starting_chunk)\u001b[0m\n\u001b[1;32m      3\u001b[0m \u001b[38;5;66;03m# we are running chunks of 25 postcodes 7 times each\u001b[39;00m\n\u001b[1;32m      4\u001b[0m \u001b[38;5;28;01mwhile\u001b[39;00m i \u001b[38;5;241m<\u001b[39m starting_chunk \u001b[38;5;241m+\u001b[39m \u001b[38;5;241m175\u001b[39m:\n\u001b[0;32m----> 5\u001b[0m     \u001b[43mstart_scrape\u001b[49m\u001b[43m(\u001b[49m\u001b[43mchunk_dict\u001b[49m\u001b[43m[\u001b[49m\u001b[38;5;124;43m\"\u001b[39;49m\u001b[38;5;124;43mchunk_\u001b[39;49m\u001b[38;5;132;43;01m{}\u001b[39;49;00m\u001b[38;5;124;43m\"\u001b[39;49m\u001b[38;5;241;43m.\u001b[39;49m\u001b[43mformat\u001b[49m\u001b[43m(\u001b[49m\u001b[43mi\u001b[49m\u001b[43m)\u001b[49m\u001b[43m]\u001b[49m\u001b[43m,\u001b[49m\u001b[43m \u001b[49m\u001b[43mi\u001b[49m\u001b[43m)\u001b[49m \u001b[38;5;66;03m#i.split(\"_\")[1])\u001b[39;00m\n\u001b[1;32m      6\u001b[0m     i \u001b[38;5;241m+\u001b[39m\u001b[38;5;241m=\u001b[39m \u001b[38;5;241m25\u001b[39m\n\u001b[1;32m      7\u001b[0m \u001b[38;5;28;01mif\u001b[39;00m i \u001b[38;5;241m==\u001b[39m \u001b[38;5;241m3923\u001b[39m:\n",
      "Cell \u001b[0;32mIn[35], line 102\u001b[0m, in \u001b[0;36mstart_scrape\u001b[0;34m(chunk, file_suffix)\u001b[0m\n\u001b[1;32m    100\u001b[0m \u001b[38;5;28;01mfor\u001b[39;00m property_url \u001b[38;5;129;01min\u001b[39;00m pbar:\n\u001b[1;32m    101\u001b[0m     \u001b[38;5;28;01mtry\u001b[39;00m:\n\u001b[0;32m--> 102\u001b[0m         bs_object \u001b[38;5;241m=\u001b[39m BeautifulSoup(\u001b[43murlopen\u001b[49m\u001b[43m(\u001b[49m\u001b[43mRequest\u001b[49m\u001b[43m(\u001b[49m\u001b[43mproperty_url\u001b[49m\u001b[43m,\u001b[49m\u001b[43m \u001b[49m\u001b[43mheaders\u001b[49m\u001b[38;5;241;43m=\u001b[39;49m\u001b[43m{\u001b[49m\u001b[38;5;124;43m'\u001b[39;49m\u001b[38;5;124;43mUser-Agent\u001b[39;49m\u001b[38;5;124;43m'\u001b[39;49m\u001b[43m:\u001b[49m\u001b[43m \u001b[49m\u001b[38;5;124;43m\"\u001b[39;49m\u001b[38;5;124;43mPostmanRuntime/7.6.0\u001b[39;49m\u001b[38;5;124;43m\"\u001b[39;49m\u001b[43m}\u001b[49m\u001b[43m)\u001b[49m\u001b[43m)\u001b[49m, \u001b[38;5;124m\"\u001b[39m\u001b[38;5;124mlxml\u001b[39m\u001b[38;5;124m\"\u001b[39m)\n\u001b[1;32m    103\u001b[0m         total_count \u001b[38;5;241m+\u001b[39m\u001b[38;5;241m=\u001b[39m \u001b[38;5;241m1\u001b[39m\n\u001b[1;32m    105\u001b[0m         \u001b[38;5;66;03m# Get property name\u001b[39;00m\n",
      "File \u001b[0;32m/usr/lib/python3.10/urllib/request.py:216\u001b[0m, in \u001b[0;36murlopen\u001b[0;34m(url, data, timeout, cafile, capath, cadefault, context)\u001b[0m\n\u001b[1;32m    214\u001b[0m \u001b[38;5;28;01melse\u001b[39;00m:\n\u001b[1;32m    215\u001b[0m     opener \u001b[38;5;241m=\u001b[39m _opener\n\u001b[0;32m--> 216\u001b[0m \u001b[38;5;28;01mreturn\u001b[39;00m \u001b[43mopener\u001b[49m\u001b[38;5;241;43m.\u001b[39;49m\u001b[43mopen\u001b[49m\u001b[43m(\u001b[49m\u001b[43murl\u001b[49m\u001b[43m,\u001b[49m\u001b[43m \u001b[49m\u001b[43mdata\u001b[49m\u001b[43m,\u001b[49m\u001b[43m \u001b[49m\u001b[43mtimeout\u001b[49m\u001b[43m)\u001b[49m\n",
      "File \u001b[0;32m/usr/lib/python3.10/urllib/request.py:519\u001b[0m, in \u001b[0;36mOpenerDirector.open\u001b[0;34m(self, fullurl, data, timeout)\u001b[0m\n\u001b[1;32m    516\u001b[0m     req \u001b[38;5;241m=\u001b[39m meth(req)\n\u001b[1;32m    518\u001b[0m sys\u001b[38;5;241m.\u001b[39maudit(\u001b[38;5;124m'\u001b[39m\u001b[38;5;124murllib.Request\u001b[39m\u001b[38;5;124m'\u001b[39m, req\u001b[38;5;241m.\u001b[39mfull_url, req\u001b[38;5;241m.\u001b[39mdata, req\u001b[38;5;241m.\u001b[39mheaders, req\u001b[38;5;241m.\u001b[39mget_method())\n\u001b[0;32m--> 519\u001b[0m response \u001b[38;5;241m=\u001b[39m \u001b[38;5;28;43mself\u001b[39;49m\u001b[38;5;241;43m.\u001b[39;49m\u001b[43m_open\u001b[49m\u001b[43m(\u001b[49m\u001b[43mreq\u001b[49m\u001b[43m,\u001b[49m\u001b[43m \u001b[49m\u001b[43mdata\u001b[49m\u001b[43m)\u001b[49m\n\u001b[1;32m    521\u001b[0m \u001b[38;5;66;03m# post-process response\u001b[39;00m\n\u001b[1;32m    522\u001b[0m meth_name \u001b[38;5;241m=\u001b[39m protocol\u001b[38;5;241m+\u001b[39m\u001b[38;5;124m\"\u001b[39m\u001b[38;5;124m_response\u001b[39m\u001b[38;5;124m\"\u001b[39m\n",
      "File \u001b[0;32m/usr/lib/python3.10/urllib/request.py:536\u001b[0m, in \u001b[0;36mOpenerDirector._open\u001b[0;34m(self, req, data)\u001b[0m\n\u001b[1;32m    533\u001b[0m     \u001b[38;5;28;01mreturn\u001b[39;00m result\n\u001b[1;32m    535\u001b[0m protocol \u001b[38;5;241m=\u001b[39m req\u001b[38;5;241m.\u001b[39mtype\n\u001b[0;32m--> 536\u001b[0m result \u001b[38;5;241m=\u001b[39m \u001b[38;5;28;43mself\u001b[39;49m\u001b[38;5;241;43m.\u001b[39;49m\u001b[43m_call_chain\u001b[49m\u001b[43m(\u001b[49m\u001b[38;5;28;43mself\u001b[39;49m\u001b[38;5;241;43m.\u001b[39;49m\u001b[43mhandle_open\u001b[49m\u001b[43m,\u001b[49m\u001b[43m \u001b[49m\u001b[43mprotocol\u001b[49m\u001b[43m,\u001b[49m\u001b[43m \u001b[49m\u001b[43mprotocol\u001b[49m\u001b[43m \u001b[49m\u001b[38;5;241;43m+\u001b[39;49m\n\u001b[1;32m    537\u001b[0m \u001b[43m                          \u001b[49m\u001b[38;5;124;43m'\u001b[39;49m\u001b[38;5;124;43m_open\u001b[39;49m\u001b[38;5;124;43m'\u001b[39;49m\u001b[43m,\u001b[49m\u001b[43m \u001b[49m\u001b[43mreq\u001b[49m\u001b[43m)\u001b[49m\n\u001b[1;32m    538\u001b[0m \u001b[38;5;28;01mif\u001b[39;00m result:\n\u001b[1;32m    539\u001b[0m     \u001b[38;5;28;01mreturn\u001b[39;00m result\n",
      "File \u001b[0;32m/usr/lib/python3.10/urllib/request.py:496\u001b[0m, in \u001b[0;36mOpenerDirector._call_chain\u001b[0;34m(self, chain, kind, meth_name, *args)\u001b[0m\n\u001b[1;32m    494\u001b[0m \u001b[38;5;28;01mfor\u001b[39;00m handler \u001b[38;5;129;01min\u001b[39;00m handlers:\n\u001b[1;32m    495\u001b[0m     func \u001b[38;5;241m=\u001b[39m \u001b[38;5;28mgetattr\u001b[39m(handler, meth_name)\n\u001b[0;32m--> 496\u001b[0m     result \u001b[38;5;241m=\u001b[39m \u001b[43mfunc\u001b[49m\u001b[43m(\u001b[49m\u001b[38;5;241;43m*\u001b[39;49m\u001b[43margs\u001b[49m\u001b[43m)\u001b[49m\n\u001b[1;32m    497\u001b[0m     \u001b[38;5;28;01mif\u001b[39;00m result \u001b[38;5;129;01mis\u001b[39;00m \u001b[38;5;129;01mnot\u001b[39;00m \u001b[38;5;28;01mNone\u001b[39;00m:\n\u001b[1;32m    498\u001b[0m         \u001b[38;5;28;01mreturn\u001b[39;00m result\n",
      "File \u001b[0;32m/usr/lib/python3.10/urllib/request.py:1391\u001b[0m, in \u001b[0;36mHTTPSHandler.https_open\u001b[0;34m(self, req)\u001b[0m\n\u001b[1;32m   1390\u001b[0m \u001b[38;5;28;01mdef\u001b[39;00m \u001b[38;5;21mhttps_open\u001b[39m(\u001b[38;5;28mself\u001b[39m, req):\n\u001b[0;32m-> 1391\u001b[0m     \u001b[38;5;28;01mreturn\u001b[39;00m \u001b[38;5;28;43mself\u001b[39;49m\u001b[38;5;241;43m.\u001b[39;49m\u001b[43mdo_open\u001b[49m\u001b[43m(\u001b[49m\u001b[43mhttp\u001b[49m\u001b[38;5;241;43m.\u001b[39;49m\u001b[43mclient\u001b[49m\u001b[38;5;241;43m.\u001b[39;49m\u001b[43mHTTPSConnection\u001b[49m\u001b[43m,\u001b[49m\u001b[43m \u001b[49m\u001b[43mreq\u001b[49m\u001b[43m,\u001b[49m\n\u001b[1;32m   1392\u001b[0m \u001b[43m        \u001b[49m\u001b[43mcontext\u001b[49m\u001b[38;5;241;43m=\u001b[39;49m\u001b[38;5;28;43mself\u001b[39;49m\u001b[38;5;241;43m.\u001b[39;49m\u001b[43m_context\u001b[49m\u001b[43m,\u001b[49m\u001b[43m \u001b[49m\u001b[43mcheck_hostname\u001b[49m\u001b[38;5;241;43m=\u001b[39;49m\u001b[38;5;28;43mself\u001b[39;49m\u001b[38;5;241;43m.\u001b[39;49m\u001b[43m_check_hostname\u001b[49m\u001b[43m)\u001b[49m\n",
      "File \u001b[0;32m/usr/lib/python3.10/urllib/request.py:1352\u001b[0m, in \u001b[0;36mAbstractHTTPHandler.do_open\u001b[0;34m(self, http_class, req, **http_conn_args)\u001b[0m\n\u001b[1;32m   1350\u001b[0m     \u001b[38;5;28;01mexcept\u001b[39;00m \u001b[38;5;167;01mOSError\u001b[39;00m \u001b[38;5;28;01mas\u001b[39;00m err: \u001b[38;5;66;03m# timeout error\u001b[39;00m\n\u001b[1;32m   1351\u001b[0m         \u001b[38;5;28;01mraise\u001b[39;00m URLError(err)\n\u001b[0;32m-> 1352\u001b[0m     r \u001b[38;5;241m=\u001b[39m \u001b[43mh\u001b[49m\u001b[38;5;241;43m.\u001b[39;49m\u001b[43mgetresponse\u001b[49m\u001b[43m(\u001b[49m\u001b[43m)\u001b[49m\n\u001b[1;32m   1353\u001b[0m \u001b[38;5;28;01mexcept\u001b[39;00m:\n\u001b[1;32m   1354\u001b[0m     h\u001b[38;5;241m.\u001b[39mclose()\n",
      "File \u001b[0;32m/usr/lib/python3.10/http/client.py:1375\u001b[0m, in \u001b[0;36mHTTPConnection.getresponse\u001b[0;34m(self)\u001b[0m\n\u001b[1;32m   1373\u001b[0m \u001b[38;5;28;01mtry\u001b[39;00m:\n\u001b[1;32m   1374\u001b[0m     \u001b[38;5;28;01mtry\u001b[39;00m:\n\u001b[0;32m-> 1375\u001b[0m         \u001b[43mresponse\u001b[49m\u001b[38;5;241;43m.\u001b[39;49m\u001b[43mbegin\u001b[49m\u001b[43m(\u001b[49m\u001b[43m)\u001b[49m\n\u001b[1;32m   1376\u001b[0m     \u001b[38;5;28;01mexcept\u001b[39;00m \u001b[38;5;167;01mConnectionError\u001b[39;00m:\n\u001b[1;32m   1377\u001b[0m         \u001b[38;5;28mself\u001b[39m\u001b[38;5;241m.\u001b[39mclose()\n",
      "File \u001b[0;32m/usr/lib/python3.10/http/client.py:318\u001b[0m, in \u001b[0;36mHTTPResponse.begin\u001b[0;34m(self)\u001b[0m\n\u001b[1;32m    316\u001b[0m \u001b[38;5;66;03m# read until we get a non-100 response\u001b[39;00m\n\u001b[1;32m    317\u001b[0m \u001b[38;5;28;01mwhile\u001b[39;00m \u001b[38;5;28;01mTrue\u001b[39;00m:\n\u001b[0;32m--> 318\u001b[0m     version, status, reason \u001b[38;5;241m=\u001b[39m \u001b[38;5;28;43mself\u001b[39;49m\u001b[38;5;241;43m.\u001b[39;49m\u001b[43m_read_status\u001b[49m\u001b[43m(\u001b[49m\u001b[43m)\u001b[49m\n\u001b[1;32m    319\u001b[0m     \u001b[38;5;28;01mif\u001b[39;00m status \u001b[38;5;241m!=\u001b[39m CONTINUE:\n\u001b[1;32m    320\u001b[0m         \u001b[38;5;28;01mbreak\u001b[39;00m\n",
      "File \u001b[0;32m/usr/lib/python3.10/http/client.py:279\u001b[0m, in \u001b[0;36mHTTPResponse._read_status\u001b[0;34m(self)\u001b[0m\n\u001b[1;32m    278\u001b[0m \u001b[38;5;28;01mdef\u001b[39;00m \u001b[38;5;21m_read_status\u001b[39m(\u001b[38;5;28mself\u001b[39m):\n\u001b[0;32m--> 279\u001b[0m     line \u001b[38;5;241m=\u001b[39m \u001b[38;5;28mstr\u001b[39m(\u001b[38;5;28;43mself\u001b[39;49m\u001b[38;5;241;43m.\u001b[39;49m\u001b[43mfp\u001b[49m\u001b[38;5;241;43m.\u001b[39;49m\u001b[43mreadline\u001b[49m\u001b[43m(\u001b[49m\u001b[43m_MAXLINE\u001b[49m\u001b[43m \u001b[49m\u001b[38;5;241;43m+\u001b[39;49m\u001b[43m \u001b[49m\u001b[38;5;241;43m1\u001b[39;49m\u001b[43m)\u001b[49m, \u001b[38;5;124m\"\u001b[39m\u001b[38;5;124miso-8859-1\u001b[39m\u001b[38;5;124m\"\u001b[39m)\n\u001b[1;32m    280\u001b[0m     \u001b[38;5;28;01mif\u001b[39;00m \u001b[38;5;28mlen\u001b[39m(line) \u001b[38;5;241m>\u001b[39m _MAXLINE:\n\u001b[1;32m    281\u001b[0m         \u001b[38;5;28;01mraise\u001b[39;00m LineTooLong(\u001b[38;5;124m\"\u001b[39m\u001b[38;5;124mstatus line\u001b[39m\u001b[38;5;124m\"\u001b[39m)\n",
      "File \u001b[0;32m/usr/lib/python3.10/socket.py:705\u001b[0m, in \u001b[0;36mSocketIO.readinto\u001b[0;34m(self, b)\u001b[0m\n\u001b[1;32m    703\u001b[0m \u001b[38;5;28;01mwhile\u001b[39;00m \u001b[38;5;28;01mTrue\u001b[39;00m:\n\u001b[1;32m    704\u001b[0m     \u001b[38;5;28;01mtry\u001b[39;00m:\n\u001b[0;32m--> 705\u001b[0m         \u001b[38;5;28;01mreturn\u001b[39;00m \u001b[38;5;28;43mself\u001b[39;49m\u001b[38;5;241;43m.\u001b[39;49m\u001b[43m_sock\u001b[49m\u001b[38;5;241;43m.\u001b[39;49m\u001b[43mrecv_into\u001b[49m\u001b[43m(\u001b[49m\u001b[43mb\u001b[49m\u001b[43m)\u001b[49m\n\u001b[1;32m    706\u001b[0m     \u001b[38;5;28;01mexcept\u001b[39;00m timeout:\n\u001b[1;32m    707\u001b[0m         \u001b[38;5;28mself\u001b[39m\u001b[38;5;241m.\u001b[39m_timeout_occurred \u001b[38;5;241m=\u001b[39m \u001b[38;5;28;01mTrue\u001b[39;00m\n",
      "File \u001b[0;32m/usr/lib/python3.10/ssl.py:1303\u001b[0m, in \u001b[0;36mSSLSocket.recv_into\u001b[0;34m(self, buffer, nbytes, flags)\u001b[0m\n\u001b[1;32m   1299\u001b[0m     \u001b[38;5;28;01mif\u001b[39;00m flags \u001b[38;5;241m!=\u001b[39m \u001b[38;5;241m0\u001b[39m:\n\u001b[1;32m   1300\u001b[0m         \u001b[38;5;28;01mraise\u001b[39;00m \u001b[38;5;167;01mValueError\u001b[39;00m(\n\u001b[1;32m   1301\u001b[0m           \u001b[38;5;124m\"\u001b[39m\u001b[38;5;124mnon-zero flags not allowed in calls to recv_into() on \u001b[39m\u001b[38;5;132;01m%s\u001b[39;00m\u001b[38;5;124m\"\u001b[39m \u001b[38;5;241m%\u001b[39m\n\u001b[1;32m   1302\u001b[0m           \u001b[38;5;28mself\u001b[39m\u001b[38;5;241m.\u001b[39m\u001b[38;5;18m__class__\u001b[39m)\n\u001b[0;32m-> 1303\u001b[0m     \u001b[38;5;28;01mreturn\u001b[39;00m \u001b[38;5;28;43mself\u001b[39;49m\u001b[38;5;241;43m.\u001b[39;49m\u001b[43mread\u001b[49m\u001b[43m(\u001b[49m\u001b[43mnbytes\u001b[49m\u001b[43m,\u001b[49m\u001b[43m \u001b[49m\u001b[43mbuffer\u001b[49m\u001b[43m)\u001b[49m\n\u001b[1;32m   1304\u001b[0m \u001b[38;5;28;01melse\u001b[39;00m:\n\u001b[1;32m   1305\u001b[0m     \u001b[38;5;28;01mreturn\u001b[39;00m \u001b[38;5;28msuper\u001b[39m()\u001b[38;5;241m.\u001b[39mrecv_into(buffer, nbytes, flags)\n",
      "File \u001b[0;32m/usr/lib/python3.10/ssl.py:1159\u001b[0m, in \u001b[0;36mSSLSocket.read\u001b[0;34m(self, len, buffer)\u001b[0m\n\u001b[1;32m   1157\u001b[0m \u001b[38;5;28;01mtry\u001b[39;00m:\n\u001b[1;32m   1158\u001b[0m     \u001b[38;5;28;01mif\u001b[39;00m buffer \u001b[38;5;129;01mis\u001b[39;00m \u001b[38;5;129;01mnot\u001b[39;00m \u001b[38;5;28;01mNone\u001b[39;00m:\n\u001b[0;32m-> 1159\u001b[0m         \u001b[38;5;28;01mreturn\u001b[39;00m \u001b[38;5;28;43mself\u001b[39;49m\u001b[38;5;241;43m.\u001b[39;49m\u001b[43m_sslobj\u001b[49m\u001b[38;5;241;43m.\u001b[39;49m\u001b[43mread\u001b[49m\u001b[43m(\u001b[49m\u001b[38;5;28;43mlen\u001b[39;49m\u001b[43m,\u001b[49m\u001b[43m \u001b[49m\u001b[43mbuffer\u001b[49m\u001b[43m)\u001b[49m\n\u001b[1;32m   1160\u001b[0m     \u001b[38;5;28;01melse\u001b[39;00m:\n\u001b[1;32m   1161\u001b[0m         \u001b[38;5;28;01mreturn\u001b[39;00m \u001b[38;5;28mself\u001b[39m\u001b[38;5;241m.\u001b[39m_sslobj\u001b[38;5;241m.\u001b[39mread(\u001b[38;5;28mlen\u001b[39m)\n",
      "\u001b[0;31mKeyboardInterrupt\u001b[0m: "
     ]
    }
   ],
   "source": [
    "#Nathan\n",
    "starting_chunk = 3048 + 700\n",
    "run_chunk(starting_chunk)"
   ]
  },
  {
   "cell_type": "code",
   "execution_count": 27,
   "metadata": {},
   "outputs": [
    {
     "data": {
      "text/plain": [
       "3398"
      ]
     },
     "execution_count": 27,
     "metadata": {},
     "output_type": "execute_result"
    }
   ],
   "source": [
    "3048+175 + 175"
   ]
  },
  {
   "cell_type": "code",
   "execution_count": 36,
   "metadata": {},
   "outputs": [
    {
     "name": "stdout",
     "output_type": "stream",
     "text": [
      "chunk_3048\n",
      "chunk_3073\n",
      "chunk_3098\n",
      "chunk_3123\n",
      "chunk_3148\n",
      "chunk_3173\n",
      "chunk_3198\n",
      "chunk_3223\n",
      "chunk_3248\n",
      "chunk_3273\n",
      "chunk_3298\n",
      "chunk_3323\n",
      "chunk_3348\n",
      "chunk_3373\n",
      "chunk_3398\n",
      "chunk_3423\n",
      "chunk_3448\n",
      "chunk_3473\n",
      "chunk_3498\n",
      "chunk_3523\n",
      "chunk_3548\n",
      "chunk_3573\n",
      "chunk_3598\n",
      "chunk_3623\n",
      "chunk_3648\n",
      "chunk_3673\n",
      "chunk_3698\n",
      "chunk_3723\n",
      "chunk_3748\n",
      "chunk_3773\n",
      "chunk_3798\n",
      "chunk_3823\n",
      "chunk_3848\n",
      "chunk_3873\n",
      "chunk_3898\n",
      "chunk_3923\n",
      "chunk_3948\n",
      "chunk_3973\n"
     ]
    }
   ],
   "source": []
  },
  {
   "cell_type": "code",
   "execution_count": null,
   "metadata": {},
   "outputs": [],
   "source": []
  }
 ],
 "metadata": {
  "kernelspec": {
   "display_name": "Python 3",
   "language": "python",
   "name": "python3"
  },
  "language_info": {
   "codemirror_mode": {
    "name": "ipython",
    "version": 3
   },
   "file_extension": ".py",
   "mimetype": "text/x-python",
   "name": "python",
   "nbconvert_exporter": "python",
   "pygments_lexer": "ipython3",
   "version": "3.10.12"
  }
 },
 "nbformat": 4,
 "nbformat_minor": 2
}
