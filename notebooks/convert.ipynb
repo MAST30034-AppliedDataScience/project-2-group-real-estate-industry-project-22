{
 "cells": [
  {
   "cell_type": "code",
   "execution_count": 1,
   "metadata": {},
   "outputs": [
    {
     "name": "stdout",
     "output_type": "stream",
     "text": [
      "/home/fafda/project-2-group-real-estate-industry-project-22/notebooks\n"
     ]
    }
   ],
   "source": [
    "import os\n",
    "print(os.getcwd())\n",
    "import sys\n",
    "parent_dir = os.path.abspath(os.path.join(os.getcwd(), '..', 'scripts')) # for when our current working directory is \n",
    "sys.path.insert(0, parent_dir)\n",
    "import scrape"
   ]
  },
  {
   "cell_type": "code",
   "execution_count": 2,
   "metadata": {},
   "outputs": [
    {
     "name": "stdout",
     "output_type": "stream",
     "text": [
      "Visiting https://www.domain.com.au/rent/melbourne-region-vic/?sort=price-desc&page=1\n",
      "Visiting https://www.domain.com.au/rent/melbourne-region-vic/?sort=price-desc&page=2\n",
      "Visiting https://www.domain.com.au/rent/melbourne-region-vic/?sort=price-desc&page=3\n",
      "Visiting https://www.domain.com.au/rent/melbourne-region-vic/?sort=price-desc&page=4\n"
     ]
    },
    {
     "name": "stderr",
     "output_type": "stream",
     "text": [
      "100% successful: 100%|██████████| 80/80 [00:54<00:00,  1.47it/s]"
     ]
    },
    {
     "name": "stdout",
     "output_type": "stream",
     "text": [
      "File '../data/raw/example.json' deleted successfully\n"
     ]
    },
    {
     "name": "stderr",
     "output_type": "stream",
     "text": [
      "\n"
     ]
    }
   ],
   "source": [
    "filepath = '../data/raw/example.json'\n",
    "output_path = '../data/raw/example.parquet'\n",
    "scrape.start_scrape()\n",
    "scrape.convert_to_parquet(filepath, output_path)"
   ]
  },
  {
   "cell_type": "code",
   "execution_count": null,
   "metadata": {},
   "outputs": [],
   "source": [
    "import pandas as pd\n",
    "\n",
    "# Path to your Parquet file\n",
    "parquet_file_path = '../data/raw/example.parquet'\n",
    "\n",
    "# Read the Parquet file into a DataFrame\n",
    "df = pd.read_parquet(parquet_file_path)\n",
    "\n",
    "# Display the first 10 rows\n",
    "print(df.head(10))\n"
   ]
  }
 ],
 "metadata": {
  "kernelspec": {
   "display_name": "projectenv",
   "language": "python",
   "name": "python3"
  },
  "language_info": {
   "codemirror_mode": {
    "name": "ipython",
    "version": 3
   },
   "file_extension": ".py",
   "mimetype": "text/x-python",
   "name": "python",
   "nbconvert_exporter": "python",
   "pygments_lexer": "ipython3",
   "version": "3.10.12"
  }
 },
 "nbformat": 4,
 "nbformat_minor": 2
}
