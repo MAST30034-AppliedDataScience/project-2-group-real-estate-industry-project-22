{
 "cells": [
  {
   "cell_type": "markdown",
   "metadata": {},
   "source": [
    "jupyter notebook which goes through data cleaning "
   ]
  },
  {
   "cell_type": "code",
   "execution_count": 2,
   "metadata": {},
   "outputs": [
    {
     "name": "stderr",
     "output_type": "stream",
     "text": [
      "your 131072x1 screen size is bogus. expect trouble\n",
      "24/09/20 01:07:47 WARN Utils: Your hostname, DESKTOP-RBVA59Q resolves to a loopback address: 127.0.1.1; using 172.26.88.196 instead (on interface eth0)\n",
      "24/09/20 01:07:47 WARN Utils: Set SPARK_LOCAL_IP if you need to bind to another address\n",
      "Setting default log level to \"WARN\".\n",
      "To adjust logging level use sc.setLogLevel(newLevel). For SparkR, use setLogLevel(newLevel).\n",
      "24/09/20 01:07:49 WARN NativeCodeLoader: Unable to load native-hadoop library for your platform... using builtin-java classes where applicable\n",
      "24/09/20 01:07:51 WARN Utils: Service 'SparkUI' could not bind on port 4040. Attempting port 4041.\n"
     ]
    }
   ],
   "source": [
    "from pyspark.sql.types import *\n",
    "from pyspark.sql import SparkSession, functions as F\n",
    "import os\n",
    "# Create a spark session (which will run spark jobs)\n",
    "spark = (\n",
    "    SparkSession.builder.appName(\"MAST30034 Project 2\")\n",
    "    .config(\"spark.sql.repl.eagerEval.enabled\", True) \n",
    "    .config(\"spark.sql.parquet.cacheMetadata\", \"true\")\n",
    "    .config(\"spark.sql.session.timeZone\", \"Etc/UTC\")\n",
    "    .config('spark.driver.memory', '4g')\n",
    "    .config('spark.executor.memory', '2g')\n",
    "    .getOrCreate()\n",
    ")"
   ]
  },
  {
   "cell_type": "code",
   "execution_count": 3,
   "metadata": {},
   "outputs": [
    {
     "name": "stderr",
     "output_type": "stream",
     "text": [
      "                                                                                \r"
     ]
    }
   ],
   "source": [
    "df = spark.read.parquet('../data/raw/property_data.parquet')"
   ]
  },
  {
   "cell_type": "code",
   "execution_count": 5,
   "metadata": {},
   "outputs": [
    {
     "name": "stdout",
     "output_type": "stream",
     "text": [
      "+--------------------+--------------------+-----------------+-----------+--------------------+--------------------+\n",
      "|                name|           cost_text|            rooms|    parking|                desc|   __index_level_0__|\n",
      "+--------------------+--------------------+-----------------+-----------+--------------------+--------------------+\n",
      "|667 Glenhuntly Ro...|$38,000 p.a. Incl...|               []|         []|Can you hear it? ...|https://www.domai...|\n",
      "|6501/35 Queensbri...|          $12,500 pw|[4 Beds, 4 Baths]|[2 Parking]|Unparalleled spac...|https://www.domai...|\n",
      "|7 Jeffcott Street...|           $9,999 pw|[5 Beds, 5 Baths]|[5 Parking]|This ad is for Of...|https://www.domai...|\n",
      "|5604/1 Queensbrid...|           $5,750.00|[2 Beds, 2 Baths]|[2 Parking]|Luxurious 2-bedro...|https://www.domai...|\n",
      "|14A Ethel Street,...|Fully Furn - $500...|[4 Beds, 4 Baths]|[2 Parking]| class=\"css-dxogl...|https://www.domai...|\n",
      "+--------------------+--------------------+-----------------+-----------+--------------------+--------------------+\n",
      "only showing top 5 rows\n",
      "\n"
     ]
    }
   ],
   "source": [
    "df.show(5)"
   ]
  },
  {
   "cell_type": "code",
   "execution_count": 6,
   "metadata": {},
   "outputs": [
    {
     "name": "stdout",
     "output_type": "stream",
     "text": [
      "['name', 'cost_text', 'rooms', 'parking', 'desc', '__index_level_0__']\n"
     ]
    }
   ],
   "source": [
    "print(df.columns)"
   ]
  },
  {
   "cell_type": "code",
   "execution_count": 11,
   "metadata": {},
   "outputs": [
    {
     "data": {
      "text/plain": [
       "'$38,000 p.a. Incl. Outgoings + GST'"
      ]
     },
     "execution_count": 11,
     "metadata": {},
     "output_type": "execute_result"
    }
   ],
   "source": [
    "df.first()['cost_text']"
   ]
  },
  {
   "cell_type": "code",
   "execution_count": 13,
   "metadata": {},
   "outputs": [
    {
     "name": "stdout",
     "output_type": "stream",
     "text": [
      "+--------------------+--------------------+-----------------+-----------+--------------------+--------------------+\n",
      "|                name|           cost_text|            rooms|    parking|                desc|   __index_level_0__|\n",
      "+--------------------+--------------------+-----------------+-----------+--------------------+--------------------+\n",
      "|667 Glenhuntly Ro...|$38,000 p.a. Incl...|               []|         []|Can you hear it? ...|https://www.domai...|\n",
      "|6501/35 Queensbri...|          $12,500 pw|[4 Beds, 4 Baths]|[2 Parking]|Unparalleled spac...|https://www.domai...|\n",
      "|7 Jeffcott Street...|           $9,999 pw|[5 Beds, 5 Baths]|[5 Parking]|This ad is for Of...|https://www.domai...|\n",
      "|5604/1 Queensbrid...|           $5,750.00|[2 Beds, 2 Baths]|[2 Parking]|Luxurious 2-bedro...|https://www.domai...|\n",
      "|14A Ethel Street,...|Fully Furn - $500...|[4 Beds, 4 Baths]|[2 Parking]| class=\"css-dxogl...|https://www.domai...|\n",
      "|28A/300 Point Coo...|                5000|[2 Beds, 2 Baths]|[6 Parking]|              AAAAAA|https://www.domai...|\n",
      "|G01/16 Kurneh Pla...|      $4500 Per Week|[3 Beds, 3 Baths]|[3 Parking]|Partially furnish...|https://www.domai...|\n",
      "|1 Tarver St, Port...|  $3900 pw Furnished|[4 Beds, 3 Baths]|[4 Parking]|PROPERTY ID: 1130...|https://www.domai...|\n",
      "|2301/15 Caravel L...|  $3,800.00 per week|[5 Beds, 6 Baths]|[5 Parking]|Located in the he...|https://www.domai...|\n",
      "|39 Canterbury St,...|       $3,800 weekly|[4 Beds, 4 Baths]|[3 Parking]|Beautiful new hom...|https://www.domai...|\n",
      "|24B Kanowna Stree...|     $3,750 Per Week|[4 Beds, 3 Baths]|[− Parking]| class=\"css-dxogl...|https://www.domai...|\n",
      "|3/3 Hill Street, ...|     $3,375 per week|[3 Beds, 3 Baths]|[2 Parking]|In a boutique dev...|https://www.domai...|\n",
      "|18 Astley Wynd, L...|              $3,302|[0 Beds, 0 Baths]|[3 Parking]|Discover this mod...|https://www.domai...|\n",
      "|1/36 Clarendon St...|           $3,250.00|[3 Beds, 2 Baths]|[2 Parking]|A landmark East M...|https://www.domai...|\n",
      "|22 Hill Street, T...|              $3,200|[5 Beds, 5 Baths]|[3 Parking]| class=\"css-dxogl...|https://www.domai...|\n",
      "|67 Drummond Stree...|      $2990 per week|[4 Beds, 3 Baths]|[1 Parking]|Behind this tradi...|https://www.domai...|\n",
      "|1803/8 Waterview ...|            $2999 pw|[5 Beds, 4 Baths]|[4 Parking]|A bespoke contemp...|https://www.domai...|\n",
      "|5 St Kilian Stree...|           $3,000.00|[4 Beds, 4 Baths]|[2 Parking]|     Katie Pickering|https://www.domai...|\n",
      "|69 Darling Street...|      $2995 Per Week|[5 Beds, 4 Baths]|[2 Parking]|Rare opportunity ...|https://www.domai...|\n",
      "|401/312 Johnston ...|              $2,900|[3 Beds, 3 Baths]|[2 Parking]| class=\"css-dxogl...|https://www.domai...|\n",
      "+--------------------+--------------------+-----------------+-----------+--------------------+--------------------+\n",
      "\n"
     ]
    }
   ],
   "source": [
    "small_df = df.limit(20)\n",
    "small_df.show()"
   ]
  },
  {
   "cell_type": "code",
   "execution_count": 74,
   "metadata": {},
   "outputs": [],
   "source": [
    "updated_small_df = small_df.withColumn(\n",
    "    # see if property is furnished\n",
    "    'furnished',\n",
    "    F.when(F.lower(F.col('cost_text')).contains('furnished') \\\n",
    "           | F.lower(F.col('cost_text')).contains('furnish') \\\n",
    "           | F.lower(F.col('cost_text')).contains('furnishing'), True).otherwise(False)\n",
    ").withColumn(\n",
    "    # see if property is priced per annum\n",
    "    'contains_pa',\n",
    "    F.when(F.lower(F.col('cost_text')).contains('p.a') \\\n",
    "        | F.lower(F.col('cost_text')).contains('pa') \\\n",
    "        | F.lower(F.col('cost_text')).contains('per annum') \\\n",
    "        | F.lower(F.col('cost_text')).contains('per_annum') \\\n",
    "        | F.lower(F.col('cost_text')).contains('p/a)', True ).otherwise(False)\n",
    "\n",
    ").withColumn(\n",
    "    # grab price\n",
    "    'cost_text',\n",
    "    F.regexp_extract(F.col(\"cost_text\"), r\"(\\$*\\d+(?:,\\d*)*(?:\\.\\d*)?)\", 1)\n",
    ").withColumn(\n",
    "    # remove $ and ,\n",
    "    'cost_text',\n",
    "    F.regexp_replace(F.col(\"cost_text\"), r\"[$,]\", \"\").cast(\"float\")\n",
    ").withColumn(\n",
    "    # if property is priced per annum, divide by 52\n",
    "    'cost_text',\n",
    "    F.when(F.col('contains_pa') == True, F.round(F.col('cost_text') / 52, 2)).otherwise(F.col('cost_text'))\n",
    ").drop('contains_pa')"
   ]
  },
  {
   "cell_type": "code",
   "execution_count": 75,
   "metadata": {},
   "outputs": [
    {
     "name": "stdout",
     "output_type": "stream",
     "text": [
      "+--------------------+---------+-----------------+-----------+--------------------+--------------------+---------+\n",
      "|                name|cost_text|            rooms|    parking|                desc|   __index_level_0__|furnished|\n",
      "+--------------------+---------+-----------------+-----------+--------------------+--------------------+---------+\n",
      "|667 Glenhuntly Ro...|   730.77|               []|         []|Can you hear it? ...|https://www.domai...|    false|\n",
      "|6501/35 Queensbri...|  12500.0|[4 Beds, 4 Baths]|[2 Parking]|Unparalleled spac...|https://www.domai...|    false|\n",
      "|7 Jeffcott Street...|   9999.0|[5 Beds, 5 Baths]|[5 Parking]|This ad is for Of...|https://www.domai...|    false|\n",
      "|5604/1 Queensbrid...|   5750.0|[2 Beds, 2 Baths]|[2 Parking]|Luxurious 2-bedro...|https://www.domai...|    false|\n",
      "|14A Ethel Street,...|   5000.0|[4 Beds, 4 Baths]|[2 Parking]| class=\"css-dxogl...|https://www.domai...|    false|\n",
      "|28A/300 Point Coo...|   5000.0|[2 Beds, 2 Baths]|[6 Parking]|              AAAAAA|https://www.domai...|    false|\n",
      "|G01/16 Kurneh Pla...|   4500.0|[3 Beds, 3 Baths]|[3 Parking]|Partially furnish...|https://www.domai...|    false|\n",
      "|1 Tarver St, Port...|   3900.0|[4 Beds, 3 Baths]|[4 Parking]|PROPERTY ID: 1130...|https://www.domai...|     true|\n",
      "|2301/15 Caravel L...|   3800.0|[5 Beds, 6 Baths]|[5 Parking]|Located in the he...|https://www.domai...|    false|\n",
      "|39 Canterbury St,...|   3800.0|[4 Beds, 4 Baths]|[3 Parking]|Beautiful new hom...|https://www.domai...|    false|\n",
      "|24B Kanowna Stree...|   3750.0|[4 Beds, 3 Baths]|[− Parking]| class=\"css-dxogl...|https://www.domai...|    false|\n",
      "|3/3 Hill Street, ...|   3375.0|[3 Beds, 3 Baths]|[2 Parking]|In a boutique dev...|https://www.domai...|    false|\n",
      "|18 Astley Wynd, L...|   3302.0|[0 Beds, 0 Baths]|[3 Parking]|Discover this mod...|https://www.domai...|    false|\n",
      "|1/36 Clarendon St...|   3250.0|[3 Beds, 2 Baths]|[2 Parking]|A landmark East M...|https://www.domai...|    false|\n",
      "|22 Hill Street, T...|   3200.0|[5 Beds, 5 Baths]|[3 Parking]| class=\"css-dxogl...|https://www.domai...|    false|\n",
      "|67 Drummond Stree...|   2990.0|[4 Beds, 3 Baths]|[1 Parking]|Behind this tradi...|https://www.domai...|    false|\n",
      "|1803/8 Waterview ...|   2999.0|[5 Beds, 4 Baths]|[4 Parking]|A bespoke contemp...|https://www.domai...|    false|\n",
      "|5 St Kilian Stree...|   3000.0|[4 Beds, 4 Baths]|[2 Parking]|     Katie Pickering|https://www.domai...|    false|\n",
      "|69 Darling Street...|   2995.0|[5 Beds, 4 Baths]|[2 Parking]|Rare opportunity ...|https://www.domai...|    false|\n",
      "|401/312 Johnston ...|   2900.0|[3 Beds, 3 Baths]|[2 Parking]| class=\"css-dxogl...|https://www.domai...|    false|\n",
      "+--------------------+---------+-----------------+-----------+--------------------+--------------------+---------+\n",
      "\n"
     ]
    }
   ],
   "source": [
    "updated_small_df.show()"
   ]
  },
  {
   "cell_type": "code",
   "execution_count": 86,
   "metadata": {},
   "outputs": [],
   "source": [
    "rooms_df = updated_small_df.filter(F.size(F.col('rooms')) > 0).filter(F.size(F.col('parking')) > 0)"
   ]
  },
  {
   "cell_type": "code",
   "execution_count": 87,
   "metadata": {},
   "outputs": [
    {
     "name": "stdout",
     "output_type": "stream",
     "text": [
      "+--------------------+---------+-----------------+-----------+--------------------+--------------------+---------+\n",
      "|                name|cost_text|            rooms|    parking|                desc|   __index_level_0__|furnished|\n",
      "+--------------------+---------+-----------------+-----------+--------------------+--------------------+---------+\n",
      "|6501/35 Queensbri...|  12500.0|[4 Beds, 4 Baths]|[2 Parking]|Unparalleled spac...|https://www.domai...|    false|\n",
      "|7 Jeffcott Street...|   9999.0|[5 Beds, 5 Baths]|[5 Parking]|This ad is for Of...|https://www.domai...|    false|\n",
      "|5604/1 Queensbrid...|   5750.0|[2 Beds, 2 Baths]|[2 Parking]|Luxurious 2-bedro...|https://www.domai...|    false|\n",
      "|14A Ethel Street,...|   5000.0|[4 Beds, 4 Baths]|[2 Parking]| class=\"css-dxogl...|https://www.domai...|    false|\n",
      "|28A/300 Point Coo...|   5000.0|[2 Beds, 2 Baths]|[6 Parking]|              AAAAAA|https://www.domai...|    false|\n",
      "|G01/16 Kurneh Pla...|   4500.0|[3 Beds, 3 Baths]|[3 Parking]|Partially furnish...|https://www.domai...|    false|\n",
      "|1 Tarver St, Port...|   3900.0|[4 Beds, 3 Baths]|[4 Parking]|PROPERTY ID: 1130...|https://www.domai...|     true|\n",
      "|2301/15 Caravel L...|   3800.0|[5 Beds, 6 Baths]|[5 Parking]|Located in the he...|https://www.domai...|    false|\n",
      "|39 Canterbury St,...|   3800.0|[4 Beds, 4 Baths]|[3 Parking]|Beautiful new hom...|https://www.domai...|    false|\n",
      "|24B Kanowna Stree...|   3750.0|[4 Beds, 3 Baths]|[− Parking]| class=\"css-dxogl...|https://www.domai...|    false|\n",
      "|3/3 Hill Street, ...|   3375.0|[3 Beds, 3 Baths]|[2 Parking]|In a boutique dev...|https://www.domai...|    false|\n",
      "|18 Astley Wynd, L...|   3302.0|[0 Beds, 0 Baths]|[3 Parking]|Discover this mod...|https://www.domai...|    false|\n",
      "|1/36 Clarendon St...|   3250.0|[3 Beds, 2 Baths]|[2 Parking]|A landmark East M...|https://www.domai...|    false|\n",
      "|22 Hill Street, T...|   3200.0|[5 Beds, 5 Baths]|[3 Parking]| class=\"css-dxogl...|https://www.domai...|    false|\n",
      "|67 Drummond Stree...|   2990.0|[4 Beds, 3 Baths]|[1 Parking]|Behind this tradi...|https://www.domai...|    false|\n",
      "|1803/8 Waterview ...|   2999.0|[5 Beds, 4 Baths]|[4 Parking]|A bespoke contemp...|https://www.domai...|    false|\n",
      "|5 St Kilian Stree...|   3000.0|[4 Beds, 4 Baths]|[2 Parking]|     Katie Pickering|https://www.domai...|    false|\n",
      "|69 Darling Street...|   2995.0|[5 Beds, 4 Baths]|[2 Parking]|Rare opportunity ...|https://www.domai...|    false|\n",
      "|401/312 Johnston ...|   2900.0|[3 Beds, 3 Baths]|[2 Parking]| class=\"css-dxogl...|https://www.domai...|    false|\n",
      "+--------------------+---------+-----------------+-----------+--------------------+--------------------+---------+\n",
      "\n"
     ]
    }
   ],
   "source": [
    "rooms_df.show()"
   ]
  },
  {
   "cell_type": "code",
   "execution_count": 121,
   "metadata": {},
   "outputs": [],
   "source": [
    "room_df = rooms_df.withColumn(\n",
    "    \"beds\",\n",
    "    F.split(F.col(\"rooms\").getItem(0), \" \").getItem(0)\n",
    ").withColumn(\n",
    "    \"baths\",\n",
    "    F.split(F.col(\"rooms\").getItem(1), \" \").getItem(0)\n",
    ").withColumn(\n",
    "    \"parking\",\n",
    "    F.split(F.col(\"parking\").getItem(0), \" \").getItem(0)\n",
    ").withColumn(\n",
    "    # if something isn't a number, make it 0\n",
    "    \"parking\",\n",
    "    F.when(F.col(\"parking\").rlike(\"^[^-\\\\d]+$\"), \"0\").otherwise(F.col(\"parking\"))\n",
    ")"
   ]
  },
  {
   "cell_type": "code",
   "execution_count": 122,
   "metadata": {},
   "outputs": [
    {
     "name": "stdout",
     "output_type": "stream",
     "text": [
      "+--------------------+---------+-----------------+-------+--------------------+--------------------+---------+----+-----+\n",
      "|                name|cost_text|            rooms|parking|                desc|   __index_level_0__|furnished|beds|baths|\n",
      "+--------------------+---------+-----------------+-------+--------------------+--------------------+---------+----+-----+\n",
      "|6501/35 Queensbri...|  12500.0|[4 Beds, 4 Baths]|      2|Unparalleled spac...|https://www.domai...|    false|   4|    4|\n",
      "|7 Jeffcott Street...|   9999.0|[5 Beds, 5 Baths]|      5|This ad is for Of...|https://www.domai...|    false|   5|    5|\n",
      "|5604/1 Queensbrid...|   5750.0|[2 Beds, 2 Baths]|      2|Luxurious 2-bedro...|https://www.domai...|    false|   2|    2|\n",
      "|14A Ethel Street,...|   5000.0|[4 Beds, 4 Baths]|      2| class=\"css-dxogl...|https://www.domai...|    false|   4|    4|\n",
      "|28A/300 Point Coo...|   5000.0|[2 Beds, 2 Baths]|      6|              AAAAAA|https://www.domai...|    false|   2|    2|\n",
      "|G01/16 Kurneh Pla...|   4500.0|[3 Beds, 3 Baths]|      3|Partially furnish...|https://www.domai...|    false|   3|    3|\n",
      "|1 Tarver St, Port...|   3900.0|[4 Beds, 3 Baths]|      4|PROPERTY ID: 1130...|https://www.domai...|     true|   4|    3|\n",
      "|2301/15 Caravel L...|   3800.0|[5 Beds, 6 Baths]|      5|Located in the he...|https://www.domai...|    false|   5|    6|\n",
      "|39 Canterbury St,...|   3800.0|[4 Beds, 4 Baths]|      3|Beautiful new hom...|https://www.domai...|    false|   4|    4|\n",
      "|24B Kanowna Stree...|   3750.0|[4 Beds, 3 Baths]|      0| class=\"css-dxogl...|https://www.domai...|    false|   4|    3|\n",
      "|3/3 Hill Street, ...|   3375.0|[3 Beds, 3 Baths]|      2|In a boutique dev...|https://www.domai...|    false|   3|    3|\n",
      "|18 Astley Wynd, L...|   3302.0|[0 Beds, 0 Baths]|      3|Discover this mod...|https://www.domai...|    false|   0|    0|\n",
      "|1/36 Clarendon St...|   3250.0|[3 Beds, 2 Baths]|      2|A landmark East M...|https://www.domai...|    false|   3|    2|\n",
      "|22 Hill Street, T...|   3200.0|[5 Beds, 5 Baths]|      3| class=\"css-dxogl...|https://www.domai...|    false|   5|    5|\n",
      "|67 Drummond Stree...|   2990.0|[4 Beds, 3 Baths]|      1|Behind this tradi...|https://www.domai...|    false|   4|    3|\n",
      "|1803/8 Waterview ...|   2999.0|[5 Beds, 4 Baths]|      4|A bespoke contemp...|https://www.domai...|    false|   5|    4|\n",
      "|5 St Kilian Stree...|   3000.0|[4 Beds, 4 Baths]|      2|     Katie Pickering|https://www.domai...|    false|   4|    4|\n",
      "|69 Darling Street...|   2995.0|[5 Beds, 4 Baths]|      2|Rare opportunity ...|https://www.domai...|    false|   5|    4|\n",
      "|401/312 Johnston ...|   2900.0|[3 Beds, 3 Baths]|      2| class=\"css-dxogl...|https://www.domai...|    false|   3|    3|\n",
      "+--------------------+---------+-----------------+-------+--------------------+--------------------+---------+----+-----+\n",
      "\n"
     ]
    }
   ],
   "source": [
    "room_df.show()"
   ]
  },
  {
   "cell_type": "code",
   "execution_count": 110,
   "metadata": {},
   "outputs": [],
   "source": [
    "spec_row = room_df.filter(F.col(\"cost_text\") == 3750).first()"
   ]
  },
  {
   "cell_type": "code",
   "execution_count": 120,
   "metadata": {},
   "outputs": [
    {
     "data": {
      "text/plain": [
       "'https://www.domain.com.au/24b-kanowna-street-williamstown-vic-3016-16572886'"
      ]
     },
     "execution_count": 120,
     "metadata": {},
     "output_type": "execute_result"
    }
   ],
   "source": [
    "spec_row['__index_level_0__']"
   ]
  },
  {
   "cell_type": "code",
   "execution_count": null,
   "metadata": {},
   "outputs": [],
   "source": []
  }
 ],
 "metadata": {
  "kernelspec": {
   "display_name": "env",
   "language": "python",
   "name": "python3"
  },
  "language_info": {
   "codemirror_mode": {
    "name": "ipython",
    "version": 3
   },
   "file_extension": ".py",
   "mimetype": "text/x-python",
   "name": "python",
   "nbconvert_exporter": "python",
   "pygments_lexer": "ipython3",
   "version": "3.10.12"
  }
 },
 "nbformat": 4,
 "nbformat_minor": 2
}
