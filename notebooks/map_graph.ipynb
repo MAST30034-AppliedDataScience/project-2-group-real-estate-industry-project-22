{
 "cells": [
  {
   "cell_type": "code",
   "execution_count": 19,
   "metadata": {},
   "outputs": [
    {
     "name": "stdout",
     "output_type": "stream",
     "text": [
      "                                                name postcode   latitude  \\\n",
      "0      (Leased) 3 Yarra Street, South Yarra VIC 3141     3141 -37.838131   \n",
      "1  0 Cnr Watson Rd & McPherson Rd, Leongatha VIC ...     3953 -38.468905   \n",
      "2      004B/12 Albert Street, Hawthorn East VIC 3123     3123 -37.823602   \n",
      "3           04/390 Burwood Highway, Burwood VIC 3125     3125 -37.852123   \n",
      "4       04/949 Dandenong Road, Malvern East VIC 3145     3145 -37.878580   \n",
      "\n",
      "    longitude  distance_to_closest_school_km  distance_to_cbd  \n",
      "0  144.992734                          1.540            5.569  \n",
      "1  145.956614                          0.413          136.184  \n",
      "2  145.048067                          1.237            9.083  \n",
      "3  145.130944                          1.409           17.834  \n",
      "4  145.048328                          2.226           14.936  \n"
     ]
    }
   ],
   "source": [
    "import pandas as pd\n",
    "\n",
    "# Load your Parquet file\n",
    "file_path = \"../data/raw/distances.parquet\"\n",
    "df = pd.read_parquet(file_path)\n",
    "\n",
    "# Check the first few rows to ensure it's loaded correctly\n",
    "print(df.head())\n"
   ]
  },
  {
   "cell_type": "code",
   "execution_count": 22,
   "metadata": {},
   "outputs": [
    {
     "name": "stdout",
     "output_type": "stream",
     "text": [
      "root\n",
      " |-- name: string (nullable = true)\n",
      " |-- postcode: string (nullable = true)\n",
      " |-- latitude: double (nullable = true)\n",
      " |-- longitude: double (nullable = true)\n",
      " |-- distance_to_closest_school_km: double (nullable = true)\n",
      " |-- distance_to_cbd: double (nullable = true)\n",
      "\n",
      "root\n",
      " |-- url: string (nullable = true)\n",
      " |-- postcode: string (nullable = true)\n",
      " |-- suburb: string (nullable = true)\n",
      " |-- name: string (nullable = true)\n",
      " |-- cost_text: string (nullable = true)\n",
      " |-- beds: string (nullable = true)\n",
      " |-- baths: string (nullable = true)\n",
      " |-- parking: string (nullable = true)\n",
      " |-- property_type: string (nullable = true)\n",
      "\n",
      "+--------------------+--------+------------------+-----------+-----------------------------+---------------+--------------------+\n",
      "|                name|postcode|          latitude|  longitude|distance_to_closest_school_km|distance_to_cbd|           cost_text|\n",
      "+--------------------+--------+------------------+-----------+-----------------------------+---------------+--------------------+\n",
      "|(Leased) 3 Yarra ...|    3141|        -37.838131|144.9927343|                         1.54|          5.569|                $460|\n",
      "|0 Cnr Watson Rd &...|    3953|       -38.4689049|145.9566144|                        0.413|        136.184|From $160 - $170 ...|\n",
      "|004B/12 Albert St...|    3123|       -37.8236023|145.0480671|                        1.237|          9.083|       $400 per week|\n",
      "|04/390 Burwood Hi...|    3125|       -37.8521232|145.1309439|                        1.409|         17.834|$310 per week, wi...|\n",
      "|04/949 Dandenong ...|    3145|       -37.8785804|145.0483283|                        2.226|         14.936|$365/week, $1586/...|\n",
      "|07/390 Burwood Hi...|    3125|       -37.8521232|145.1309439|                        1.409|         17.834|       $320 per week|\n",
      "|1 & 2/23 Koonawar...|    3168|       -37.9085983|145.1246941|                        1.136|         22.125|        From $340 pw|\n",
      "|1 & 2/32 Folkston...|    3156|-37.88899019999999|145.2590059|                        1.296|         33.442|                $800|\n",
      "|1 4/33 Gorman Dri...|    3730|       -36.0233644|146.0175011|                         1.53|        275.173|                $320|\n",
      "|1 Aberdeen Way, W...|    3152|       -37.8597871|145.2139563|                         0.84|         32.944|             $895.00|\n",
      "|1 Acacia Street, ...|    3228|       -38.3343193|144.3096912|                         2.08|        104.653|     $1,000 per week|\n",
      "|1 Acton Court, Ne...|    3219|       -38.1716067|144.3920548|                        1.074|         79.345|       $425 per week|\n",
      "|1 Address Availab...|    3225|       -38.2690339|144.6601221|                        0.073|        106.141|       $460 per week|\n",
      "|1 Aleppo Crescent...|    3200|       -38.1204869|145.1559186|                        0.871|         51.294|                $450|\n",
      "|1 Avalon Walk, Ar...|    3217|       -38.2239728|144.3470066|                        2.743|         91.905|             $550 pw|\n",
      "|1 Aviary Court, S...|    3550|       -36.7726558|144.3123136|                        0.718|        150.782|             $350 pw|\n",
      "|1 Avon Place, Chi...|    3116|       -37.7597804|145.2977005|                        1.967|         38.345|       $620 per week|\n",
      "|1 Balook Street, ...|    3941|       -38.3829046|144.8123322|                        0.942|        103.037|                $490|\n",
      "|1 Basten Avenue, ...|    3336|-37.72477490000001|144.7201349|                        3.192|         35.784|                $480|\n",
      "|1 Bayview Walk, T...|    3335|       -37.7168657| 144.624432|                        0.232|         46.171|                $450|\n",
      "+--------------------+--------+------------------+-----------+-----------------------------+---------------+--------------------+\n",
      "only showing top 20 rows\n",
      "\n",
      "Merged Parquet file with additional column saved to ../data/curated/map_features.parquet\n"
     ]
    }
   ],
   "source": [
    "from pyspark.sql import SparkSession\n",
    "\n",
    "\n",
    "spark = SparkSession.builder.appName(\"Add Column from One Parquet to Another\").getOrCreate()\n",
    "\n",
    "# Load the two Parquet files\n",
    "file1_path = \"../data/raw/distances.parquet\"\n",
    "file2_path = \"../data/raw/property_data.parquet\"\n",
    "\n",
    "df1 = spark.read.parquet(file1_path)\n",
    "df2 = spark.read.parquet(file2_path)\n",
    "\n",
    "# Show schemas to understand the columns\n",
    "df1.printSchema()\n",
    "df2.printSchema()\n",
    "\n",
    "df2_selected = df2.select(\"name\", \"cost_text\")\n",
    "\n",
    "# Join the two DataFrames on the key (e.g., 'id')\n",
    "df_merged = df1.join(df2_selected, on=\"name\", how=\"left\")  # Use appropriate join type (e.g., 'inner', 'left')\n",
    "\n",
    "# Show the merged DataFrame\n",
    "df_merged.show()\n",
    "\n",
    "# Save the merged DataFrame to a new Parquet file\n",
    "output_file_path = \"../data/curated/map_features.parquet\"\n",
    "df_merged.write.mode(\"overwrite\").parquet(output_file_path)\n",
    "\n",
    "print(f\"Merged Parquet file with additional column saved to {output_file_path}\")\n"
   ]
  },
  {
   "cell_type": "code",
   "execution_count": 15,
   "metadata": {},
   "outputs": [
    {
     "name": "stdout",
     "output_type": "stream",
     "text": [
      "Map saved to ../data/plots/rental_properties_map.html\n"
     ]
    }
   ],
   "source": [
    "import folium\n",
    "\n",
    "#(Melbourne CBD)\n",
    "melbourne_cbd_coords = [-37.8136, 144.9631]\n",
    "\n",
    "\n",
    "rental_map = folium.Map(location=melbourne_cbd_coords, zoom_start=7)\n",
    "\n",
    "\n",
    "for index, row in df.iterrows():\n",
    "    folium.Marker(\n",
    "        location=[row['latitude'], row['longitude']],\n",
    "        popup=f\"Price: ${row['cost_text']}<br>Suburb: {row['suburb']}\",  \n",
    "        icon=folium.Icon(color='blue', icon='home')\n",
    "    ).add_to(rental_map)\n",
    "\n",
    "# Save map to an HTML file\n",
    "output_map_path = \"../data/plots/rental_properties_map.html\"\n",
    "rental_map.save(output_map_path)\n",
    "\n",
    "print(f\"Map saved to {output_map_path}\")\n"
   ]
  },
  {
   "cell_type": "code",
   "execution_count": null,
   "metadata": {},
   "outputs": [],
   "source": []
  }
 ],
 "metadata": {
  "kernelspec": {
   "display_name": "Python 3",
   "language": "python",
   "name": "python3"
  },
  "language_info": {
   "codemirror_mode": {
    "name": "ipython",
    "version": 3
   },
   "file_extension": ".py",
   "mimetype": "text/x-python",
   "name": "python",
   "nbconvert_exporter": "python",
   "pygments_lexer": "ipython3",
   "version": "3.10.12"
  }
 },
 "nbformat": 4,
 "nbformat_minor": 2
}
