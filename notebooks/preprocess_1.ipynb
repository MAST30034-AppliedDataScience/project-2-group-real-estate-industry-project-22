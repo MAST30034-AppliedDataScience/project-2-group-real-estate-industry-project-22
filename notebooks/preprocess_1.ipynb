{
 "cells": [
  {
   "cell_type": "markdown",
   "id": "b3b8072c",
   "metadata": {},
   "source": [
    "<span style=\"color:red\"><b><<<<<<< local</b></span>"
   ]
  },
  {
   "cell_type": "code",
   "execution_count": 1,
   "metadata": {},
   "outputs": [
    {
     "name": "stderr",
     "output_type": "stream",
     "text": [
      "your 131072x1 screen size is bogus. expect trouble\n",
      "24/10/06 13:50:46 WARN Utils: Your hostname, DESKTOP-Q5SP5SI resolves to a loopback address: 127.0.1.1; using 172.20.36.110 instead (on interface eth0)\n",
      "24/10/06 13:50:46 WARN Utils: Set SPARK_LOCAL_IP if you need to bind to another address\n",
      "Setting default log level to \"WARN\".\n",
      "To adjust logging level use sc.setLogLevel(newLevel). For SparkR, use setLogLevel(newLevel).\n",
      "24/10/06 13:50:49 WARN NativeCodeLoader: Unable to load native-hadoop library for your platform... using builtin-java classes where applicable\n",
      "24/10/06 13:50:53 WARN Utils: Service 'SparkUI' could not bind on port 4040. Attempting port 4041.\n"
     ]
    }
   ],
   "source": [
    "from pyspark.sql.types import *\n",
    "from pyspark.sql import SparkSession, functions as F\n",
    "import os\n",
    "# Create a spark session (which will run spark jobs)\n",
    "spark = (\n",
    "    SparkSession.builder.appName(\"MAST30034 Project 2\")\n",
    "    .config(\"spark.sql.repl.eagerEval.enabled\", True) \n",
    "    .config(\"spark.sql.parquet.cacheMetadata\", \"true\")\n",
    "    .config(\"spark.sql.session.timeZone\", \"Etc/UTC\")\n",
    "    .config('spark.driver.memory', '4g')\n",
    "    .config('spark.executor.memory', '2g')\n",
    "    .getOrCreate()\n",
    ")"
   ]
  },
  {
   "cell_type": "code",
   "execution_count": 8,
   "metadata": {},
   "outputs": [
    {
     "name": "stderr",
     "output_type": "stream",
     "text": [
      "                                                                                \r"
     ]
    }
   ],
   "source": [
    "# Reading Parquet Data\n",
    "sdf_3000 = spark.read.parquet('../data/raw/work_3000.parquet')"
   ]
  },
  {
   "cell_type": "code",
   "execution_count": 9,
   "metadata": {},
   "outputs": [
    {
     "data": {
      "text/plain": [
       "StructType([StructField('url', StringType(), True), StructField('postcode', StringType(), True), StructField('suburb', StringType(), True), StructField('name', StringType(), True), StructField('cost_text', StringType(), True), StructField('beds', StringType(), True), StructField('baths', StringType(), True), StructField('parking', StringType(), True), StructField('property_type', StringType(), True)])"
      ]
     },
     "execution_count": 9,
     "metadata": {},
     "output_type": "execute_result"
    }
   ],
   "source": [
    "# now, we want to ensure everything has consistent casing to make our lives easier\n",
    "consistent_col_casing = [F.col(col_name).alias(col_name.lower()) for col_name in sdf_3000.columns]\n",
    "sdf_3000 = sdf_3000.select(*consistent_col_casing)\n",
    "\n",
    "# this will be used in the cell below when reading in\n",
    "sdf_schema = sdf_3000.schema\n",
    "sdf_schema"
   ]
  },
  {
   "cell_type": "code",
   "execution_count": 10,
   "metadata": {},
   "outputs": [
    {
     "name": "stderr",
     "output_type": "stream",
     "text": [
      "                                                                                \r"
     ]
    }
   ],
   "source": [
    "# Change data type\n",
    "sdf = spark.read.schema(sdf_schema).parquet('../data/raw/*')"
   ]
  },
  {
   "cell_type": "code",
   "execution_count": 11,
   "metadata": {},
   "outputs": [
    {
     "name": "stderr",
     "output_type": "stream",
     "text": [
      "24/09/18 16:08:15 WARN TaskSetManager: Stage 5 contains a task of very large size (3811 KiB). The maximum recommended task size is 1000 KiB.\n",
      "                                                                                \r"
     ]
    }
   ],
   "source": [
    "# Create new parquet of raw data\n",
    "sdf \\\n",
    "    .coalesce(1) \\\n",
    "    .write \\\n",
    "    .mode('overwrite') \\\n",
    "    .parquet('../data/scraped/property_data.parquet')"
   ]
  },
  {
   "cell_type": "code",
   "execution_count": 12,
   "metadata": {},
   "outputs": [
    {
     "name": "stdout",
     "output_type": "stream",
     "text": [
      "(16003, 9)\n"
     ]
    }
   ],
   "source": [
    "sdf = spark.read.parquet('../data/scraped/property_data.parquet')\n",
    "print((sdf.count(), len(sdf.columns)))"
   ]
  },
  {
   "cell_type": "code",
   "execution_count": 13,
   "metadata": {},
   "outputs": [
    {
     "data": {
      "text/html": [
       "<table border='1'>\n",
       "<tr><th>url</th><th>postcode</th><th>suburb</th><th>name</th><th>cost_text</th><th>beds</th><th>baths</th><th>parking</th><th>property_type</th></tr>\n",
       "<tr><td>https://www.domai...</td><td>3000</td><td>melbourne</td><td>1406/22 Jane Bell...</td><td>$795 include bill...</td><td>2</td><td>1</td><td>1</td><td>Apartment / Unit ...</td></tr>\n",
       "<tr><td>https://www.domai...</td><td>3000</td><td>melbourne</td><td>2514/23 Mackenzie...</td><td>$720 per week *Pa...</td><td>2</td><td>1</td><td>0</td><td>Apartment / Unit ...</td></tr>\n",
       "<tr><td>https://www.domai...</td><td>3000</td><td>melbourne</td><td>1202/601 Little C...</td><td>$620 per week, $2...</td><td>2</td><td>1</td><td>0</td><td>Apartment / Unit ...</td></tr>\n",
       "<tr><td>https://www.domai...</td><td>3000</td><td>melbourne</td><td>4302/120 A'Becket...</td><td>$1200 **INSPECTIO...</td><td>3</td><td>2</td><td>0</td><td>Apartment / Unit ...</td></tr>\n",
       "<tr><td>https://www.domai...</td><td>3000</td><td>melbourne</td><td>4207/371 Little L...</td><td>$720 per week opp...</td><td>2</td><td>1</td><td>0</td><td>Apartment / Unit ...</td></tr>\n",
       "<tr><td>https://www.domai...</td><td>3000</td><td>melbourne</td><td>4007/135 A'Becket...</td><td>$600 **INSPECTION...</td><td>1</td><td>1</td><td>0</td><td>Apartment / Unit ...</td></tr>\n",
       "<tr><td>https://www.domai...</td><td>3000</td><td>melbourne</td><td>1302/279-283 La T...</td><td>$650 and Fully Fu...</td><td>2</td><td>1</td><td>0</td><td>Apartment / Unit ...</td></tr>\n",
       "<tr><td>https://www.domai...</td><td>3000</td><td>melbourne</td><td>5809/442 ELIZABET...</td><td>$850 Per Week ( F...</td><td>2</td><td>1</td><td>0</td><td>Apartment / Unit ...</td></tr>\n",
       "<tr><td>https://www.domai...</td><td>3000</td><td>melbourne</td><td>913/22-24 Jane Be...</td><td>$520 and Fully Fu...</td><td>1</td><td>1</td><td>1</td><td>Apartment / Unit ...</td></tr>\n",
       "<tr><td>https://www.domai...</td><td>3000</td><td>melbourne</td><td>1813/135 A'Becket...</td><td>$550 **INSPECTION...</td><td>1</td><td>1</td><td>0</td><td>Apartment / Unit ...</td></tr>\n",
       "<tr><td>https://www.domai...</td><td>3000</td><td>melbourne</td><td>4211/371 Little L...</td><td>$750 Per Week</td><td>2</td><td>1</td><td>0</td><td>Apartment / Unit ...</td></tr>\n",
       "<tr><td>https://www.domai...</td><td>3000</td><td>melbourne</td><td>1505/157 A'Becket...</td><td>$850 **INSPECTION...</td><td>2</td><td>1</td><td>0</td><td>Apartment / Unit ...</td></tr>\n",
       "<tr><td>https://www.domai...</td><td>3000</td><td>melbourne</td><td>4311/371 Little L...</td><td>$850 per week &amp; A...</td><td>2</td><td>1</td><td>0</td><td>Apartment / Unit ...</td></tr>\n",
       "<tr><td>https://www.domai...</td><td>3000</td><td>melbourne</td><td>3310/462 Elizabet...</td><td>$770 per week, $3...</td><td>2</td><td>2</td><td>0</td><td>Apartment / Unit ...</td></tr>\n",
       "<tr><td>https://www.domai...</td><td>3000</td><td>melbourne</td><td>236 La Trobe Stre...</td><td>Furnished, all in...</td><td>1</td><td>1</td><td>0</td><td>Apartment / Unit ...</td></tr>\n",
       "<tr><td>https://www.domai...</td><td>3000</td><td>melbourne</td><td>1306/410 Elizabet...</td><td>$625 per week, $2...</td><td>2</td><td>1</td><td>0</td><td>Apartment / Unit ...</td></tr>\n",
       "<tr><td>https://www.domai...</td><td>3000</td><td>melbourne</td><td>405/151 Berkeley ...</td><td>$720 **OPPOSITE T...</td><td>2</td><td>2</td><td>0</td><td>Apartment / Unit ...</td></tr>\n",
       "<tr><td>https://www.domai...</td><td>3000</td><td>melbourne</td><td>4204/38 Rose Lane...</td><td>$795 per week Ful...</td><td>2</td><td>1</td><td>1</td><td>Apartment / Unit ...</td></tr>\n",
       "<tr><td>https://www.domai...</td><td>3000</td><td>melbourne</td><td>1006/442 Elizabet...</td><td>$650 per week and...</td><td>1</td><td>1</td><td>0</td><td>Apartment / Unit ...</td></tr>\n",
       "<tr><td>https://www.domai...</td><td>3000</td><td>melbourne</td><td>2107/135 A'Becket...</td><td>$650 per week *Fu...</td><td>2</td><td>1</td><td>0</td><td>Apartment / Unit ...</td></tr>\n",
       "</table>\n",
       "only showing top 20 rows\n"
      ],
      "text/plain": [
       "+--------------------+--------+---------+--------------------+--------------------+----+-----+-------+--------------------+\n",
       "|                 url|postcode|   suburb|                name|           cost_text|beds|baths|parking|       property_type|\n",
       "+--------------------+--------+---------+--------------------+--------------------+----+-----+-------+--------------------+\n",
       "|https://www.domai...|    3000|melbourne|1406/22 Jane Bell...|$795 include bill...|   2|    1|      1|Apartment / Unit ...|\n",
       "|https://www.domai...|    3000|melbourne|2514/23 Mackenzie...|$720 per week *Pa...|   2|    1|      0|Apartment / Unit ...|\n",
       "|https://www.domai...|    3000|melbourne|1202/601 Little C...|$620 per week, $2...|   2|    1|      0|Apartment / Unit ...|\n",
       "|https://www.domai...|    3000|melbourne|4302/120 A'Becket...|$1200 **INSPECTIO...|   3|    2|      0|Apartment / Unit ...|\n",
       "|https://www.domai...|    3000|melbourne|4207/371 Little L...|$720 per week opp...|   2|    1|      0|Apartment / Unit ...|\n",
       "|https://www.domai...|    3000|melbourne|4007/135 A'Becket...|$600 **INSPECTION...|   1|    1|      0|Apartment / Unit ...|\n",
       "|https://www.domai...|    3000|melbourne|1302/279-283 La T...|$650 and Fully Fu...|   2|    1|      0|Apartment / Unit ...|\n",
       "|https://www.domai...|    3000|melbourne|5809/442 ELIZABET...|$850 Per Week ( F...|   2|    1|      0|Apartment / Unit ...|\n",
       "|https://www.domai...|    3000|melbourne|913/22-24 Jane Be...|$520 and Fully Fu...|   1|    1|      1|Apartment / Unit ...|\n",
       "|https://www.domai...|    3000|melbourne|1813/135 A'Becket...|$550 **INSPECTION...|   1|    1|      0|Apartment / Unit ...|\n",
       "|https://www.domai...|    3000|melbourne|4211/371 Little L...|       $750 Per Week|   2|    1|      0|Apartment / Unit ...|\n",
       "|https://www.domai...|    3000|melbourne|1505/157 A'Becket...|$850 **INSPECTION...|   2|    1|      0|Apartment / Unit ...|\n",
       "|https://www.domai...|    3000|melbourne|4311/371 Little L...|$850 per week & A...|   2|    1|      0|Apartment / Unit ...|\n",
       "|https://www.domai...|    3000|melbourne|3310/462 Elizabet...|$770 per week, $3...|   2|    2|      0|Apartment / Unit ...|\n",
       "|https://www.domai...|    3000|melbourne|236 La Trobe Stre...|Furnished, all in...|   1|    1|      0|Apartment / Unit ...|\n",
       "|https://www.domai...|    3000|melbourne|1306/410 Elizabet...|$625 per week, $2...|   2|    1|      0|Apartment / Unit ...|\n",
       "|https://www.domai...|    3000|melbourne|405/151 Berkeley ...|$720 **OPPOSITE T...|   2|    2|      0|Apartment / Unit ...|\n",
       "|https://www.domai...|    3000|melbourne|4204/38 Rose Lane...|$795 per week Ful...|   2|    1|      1|Apartment / Unit ...|\n",
       "|https://www.domai...|    3000|melbourne|1006/442 Elizabet...|$650 per week and...|   1|    1|      0|Apartment / Unit ...|\n",
       "|https://www.domai...|    3000|melbourne|2107/135 A'Becket...|$650 per week *Fu...|   2|    1|      0|Apartment / Unit ...|\n",
       "+--------------------+--------+---------+--------------------+--------------------+----+-----+-------+--------------------+\n",
       "only showing top 20 rows"
      ]
     },
     "execution_count": 13,
     "metadata": {},
     "output_type": "execute_result"
    }
   ],
   "source": [
    "sdf.sort('postcode')"
   ]
  },
  {
   "cell_type": "code",
   "execution_count": 15,
   "metadata": {},
   "outputs": [],
   "source": [
    "sdf = sdf.dropDuplicates(['name'])"
   ]
  },
  {
   "cell_type": "markdown",
   "id": "5b00e5c3",
   "metadata": {},
   "source": [
    "<span style=\"color:red\"><b>=======</b></span>"
   ]
  },
  {
   "cell_type": "code",
   "execution_count": 17,
   "metadata": {},
   "outputs": [
    {
     "name": "stdout",
     "output_type": "stream",
     "text": [
      "(12101, 9)\n"
     ]
    }
   ],
   "source": [
    "print((sdf.count(), len(sdf.columns)))"
   ]
  },
  {
   "cell_type": "code",
   "execution_count": null,
   "metadata": {},
   "outputs": [],
   "source": []
  },
  {
   "cell_type": "markdown",
   "id": "e0a2e894",
   "metadata": {},
   "source": [
    "<span style=\"color:red\"><b>>>>>>>> remote</b></span>"
   ]
  }
 ],
 "metadata": {
  "interpreter": {
   "hash": "aee8b7b246df8f9039afb4144a1f6fd8d2ca17a180786b69acc140d282b71a49"
  },
  "kernelspec": {
   "display_name": "Python 3.9.6 64-bit",
   "language": "python",
   "name": "python3"
  },
  "language_info": {
   "codemirror_mode": {
    "name": "ipython",
    "version": 3
   },
   "file_extension": ".py",
   "mimetype": "text/x-python",
   "name": "python",
   "nbconvert_exporter": "python",
   "pygments_lexer": "ipython3",
   "version": "3.10.12"
  },
  "nbdime-conflicts": {
   "local_diff": [
    {
     "key": "kernelspec",
     "op": "add",
     "value": {
      "display_name": "Python 3.9.6 64-bit",
      "language": "python",
      "name": "python3"
     }
    },
    {
     "key": "language_info",
     "op": "add",
     "value": {
      "codemirror_mode": {
       "name": "ipython",
       "version": 3
      },
      "file_extension": ".py",
      "mimetype": "text/x-python",
      "name": "python",
      "nbconvert_exporter": "python",
      "pygments_lexer": "ipython3",
      "version": "3.9.6"
     }
    }
   ],
   "remote_diff": [
    {
     "key": "kernelspec",
     "op": "add",
     "value": {
      "display_name": "env",
      "language": "python",
      "name": "python3"
     }
    },
    {
     "key": "language_info",
     "op": "add",
     "value": {
      "codemirror_mode": {
       "name": "ipython",
       "version": 3
      },
      "file_extension": ".py",
      "mimetype": "text/x-python",
      "name": "python",
      "nbconvert_exporter": "python",
      "pygments_lexer": "ipython3",
      "version": "3.10.12"
     }
    }
   ]
  }
 },
 "nbformat": 4,
 "nbformat_minor": 2
}
