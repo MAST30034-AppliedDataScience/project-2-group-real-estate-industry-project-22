{
 "cells": [
  {
   "cell_type": "code",
   "execution_count": 3,
   "metadata": {},
   "outputs": [
    {
     "name": "stderr",
     "output_type": "stream",
     "text": [
      "24/09/18 09:57:34 WARN Utils: Your hostname, Nathans-MacBook-Pro.local resolves to a loopback address: 127.0.0.1; using 10.12.210.93 instead (on interface en0)\n",
      "24/09/18 09:57:34 WARN Utils: Set SPARK_LOCAL_IP if you need to bind to another address\n",
      "Setting default log level to \"WARN\".\n",
      "To adjust logging level use sc.setLogLevel(newLevel). For SparkR, use setLogLevel(newLevel).\n",
      "24/09/18 09:57:35 WARN NativeCodeLoader: Unable to load native-hadoop library for your platform... using builtin-java classes where applicable\n"
     ]
    }
   ],
   "source": [
    "from pyspark.sql import SparkSession\n",
    "from pyspark.sql.types import StructType, StructField, StringType\n",
    "\n",
    "spark = (\n",
    "    SparkSession.builder.appName(\"MAST30034 Project 2\")\n",
    "    .config(\"spark.sql.repl.eagerEval.enabled\", True) \n",
    "    .config(\"spark.sql.parquet.cacheMetadata\", \"true\")\n",
    "    .config(\"spark.sql.session.timeZone\", \"Etc/UTC\")\n",
    "    .config('spark.driver.memory', '4g')\n",
    "    .config('spark.executor.memory', '2g')\n",
    "    .getOrCreate()\n",
    ")"
   ]
  },
  {
   "cell_type": "code",
   "execution_count": 6,
   "metadata": {},
   "outputs": [],
   "source": [
    "from pyspark.sql import SparkSession\n",
    "from pyspark.sql.types import StructType, StructField, StringType\n",
    "\n",
    "def remove_first_postcode(chunk: int) -> None:\n",
    "    \"\"\"Function that removes the first postcode from affected chunks which have a double up\n",
    "    \n",
    "    Parameters:\n",
    "    chunk - int type that mentions which chunk we will be changing\n",
    "\n",
    "    Output:\n",
    "    None - we are overwriting the parquet file wanted with the same contents without the first postcode\n",
    "    \"\"\"\n",
    "    schema = StructType([\n",
    "    StructField(\"url\", StringType(), True),\n",
    "    StructField(\"postcode\", StringType(), True),\n",
    "    StructField(\"suburb\", StringType(), True),\n",
    "    StructField(\"name\", StringType(), True),\n",
    "    StructField(\"cost_text\", StringType(), True),\n",
    "    StructField(\"beds\", StringType(), True),  # Separate field for beds\n",
    "    StructField(\"baths\", StringType(), True),  # Separate field for baths\n",
    "    StructField(\"parking\", StringType(), True),  # Parking field\n",
    "    StructField(\"property_type\", StringType(), True),  # Property type field\n",
    "    ])\n",
    "    input_path = '../data/raw/work_{}.parquet'.format(chunk)\n",
    "    \n",
    "    df = spark.read.schema(schema).parquet(input_path)\n",
    "\n",
    "    first_postcode = chunk - 25\n",
    "\n",
    "    filtered_df = df.filter(df.postcode != first_postcode)\n",
    "\n",
    "    filtered_df.write.mode(\"overwrite\").parquet(input_path)"
   ]
  },
  {
   "cell_type": "code",
   "execution_count": null,
   "metadata": {},
   "outputs": [],
   "source": [
    "\n",
    "chunk_list = []\n",
    "i = 3023\n",
    "while i <= 3923:\n",
    "    chunk_list.append(i)\n",
    "    i += 25\n",
    "\n",
    "for chunk in chunk_list:\n",
    "    remove_first_postcode(chunk)"
   ]
  },
  {
   "cell_type": "code",
   "execution_count": 22,
   "metadata": {},
   "outputs": [],
   "source": [
    "schema = StructType([\n",
    "StructField(\"url\", StringType(), True),\n",
    "StructField(\"postcode\", StringType(), True),\n",
    "StructField(\"suburb\", StringType(), True),\n",
    "StructField(\"name\", StringType(), True),\n",
    "StructField(\"cost_text\", StringType(), True),\n",
    "StructField(\"beds\", StringType(), True),  # Separate field for beds\n",
    "StructField(\"baths\", StringType(), True),  # Separate field for baths\n",
    "StructField(\"parking\", StringType(), True),  # Parking field\n",
    "StructField(\"property_type\", StringType(), True),  # Property type field\n",
    "])\n",
    "df = spark.read.parquet('../data/raw/work_3023.parquet')"
   ]
  },
  {
   "cell_type": "code",
   "execution_count": 23,
   "metadata": {},
   "outputs": [
    {
     "name": "stdout",
     "output_type": "stream",
     "text": [
      "+---+--------+------+----+---------+----+-----+-------+-------------+\n",
      "|url|postcode|suburb|name|cost_text|beds|baths|parking|property_type|\n",
      "+---+--------+------+----+---------+----+-----+-------+-------------+\n",
      "+---+--------+------+----+---------+----+-----+-------+-------------+\n",
      "\n"
     ]
    }
   ],
   "source": [
    "df.show()"
   ]
  },
  {
   "cell_type": "code",
   "execution_count": null,
   "metadata": {},
   "outputs": [],
   "source": []
  }
 ],
 "metadata": {
  "kernelspec": {
   "display_name": "venv",
   "language": "python",
   "name": "python3"
  },
  "language_info": {
   "codemirror_mode": {
    "name": "ipython",
    "version": 3
   },
   "file_extension": ".py",
   "mimetype": "text/x-python",
   "name": "python",
   "nbconvert_exporter": "python",
   "pygments_lexer": "ipython3",
   "version": "3.9.2"
  }
 },
 "nbformat": 4,
 "nbformat_minor": 2
}
