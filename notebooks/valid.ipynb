{
 "cells": [
  {
   "cell_type": "markdown",
   "metadata": {},
   "source": [
    "notebook that checks if entries are valid\n"
   ]
  },
  {
   "cell_type": "code",
   "execution_count": 46,
   "metadata": {},
   "outputs": [],
   "source": [
    "from pyspark.sql.types import *\n",
    "from pyspark.sql import SparkSession, functions as F\n",
    "import os\n",
    "# Create a spark session (which will run spark jobs)\n",
    "spark = (\n",
    "    SparkSession.builder.appName(\"MAST30034 Project 2\")\n",
    "    .config(\"spark.sql.repl.eagerEval.enabled\", True) \n",
    "    .config(\"spark.sql.parquet.cacheMetadata\", \"true\")\n",
    "    .config(\"spark.sql.session.timeZone\", \"Etc/UTC\")\n",
    "    .config('spark.driver.memory', '4g')\n",
    "    .config('spark.executor.memory', '2g')\n",
    "    .getOrCreate()\n",
    ")"
   ]
  },
  {
   "cell_type": "code",
   "execution_count": 47,
   "metadata": {},
   "outputs": [],
   "source": [
    "df = spark.read.parquet('../data/curated/furnishing.parquet')"
   ]
  },
  {
   "cell_type": "code",
   "execution_count": 48,
   "metadata": {},
   "outputs": [
    {
     "name": "stdout",
     "output_type": "stream",
     "text": [
      "+-----+--------+----------+---------+-------------+----+-----+-------+\n",
      "| cost|postcode|    suburb|furnished|property_type|beds|baths|parking|\n",
      "+-----+--------+----------+---------+-------------+----+-----+-------+\n",
      "|520.0|    3029| truganina|        0|        House| 3.0|  1.0|      1|\n",
      "|480.0|    3500|   mildura|        0|        House| 3.0|  1.0|      2|\n",
      "|500.0|    3810|  pakenham|        0|        House| 3.0|  2.0|      1|\n",
      "|480.0|    3216|   belmont|        0|        House| 3.0|  1.0|      2|\n",
      "|530.0|    3030|point-cook|        0|    Townhouse| 3.0|  2.0|      2|\n",
      "+-----+--------+----------+---------+-------------+----+-----+-------+\n",
      "only showing top 5 rows\n",
      "\n"
     ]
    }
   ],
   "source": [
    "df.show(5)"
   ]
  },
  {
   "cell_type": "code",
   "execution_count": 49,
   "metadata": {},
   "outputs": [],
   "source": [
    "small_df= df.limit(20)"
   ]
  },
  {
   "cell_type": "code",
   "execution_count": 50,
   "metadata": {},
   "outputs": [
    {
     "name": "stdout",
     "output_type": "stream",
     "text": [
      "+-----+--------+--------------+---------+--------------------+----+-----+-------+\n",
      "| cost|postcode|        suburb|furnished|       property_type|beds|baths|parking|\n",
      "+-----+--------+--------------+---------+--------------------+----+-----+-------+\n",
      "|520.0|    3029|     truganina|        0|               House| 3.0|  1.0|      1|\n",
      "|480.0|    3500|       mildura|        0|               House| 3.0|  1.0|      2|\n",
      "|500.0|    3810|      pakenham|        0|               House| 3.0|  2.0|      1|\n",
      "|480.0|    3216|       belmont|        0|               House| 3.0|  1.0|      2|\n",
      "|530.0|    3030|    point-cook|        0|           Townhouse| 3.0|  2.0|      2|\n",
      "|650.0|    3550| north-bendigo|        1|               House| 3.0|  2.0|      1|\n",
      "|490.0|    3335|thornhill-park|        0|               House| 4.0|  2.0|      2|\n",
      "|560.0|    3029|       tarneit|        0|               House| 4.0|  2.0|      2|\n",
      "|600.0|    3155|       boronia|        0|               House| 3.0|  1.0|      2|\n",
      "|500.0|    3216|   waurn-ponds|        0|               House| 3.0|  2.0|      2|\n",
      "|400.0|    3222|      drysdale|        0|Apartment / Unit ...| 2.0|  1.0|      0|\n",
      "|480.0|    3338|    weir-views|        0|               House| 4.0|  2.0|      2|\n",
      "|550.0|    3677|    wangaratta|        0|               House| 3.0|  2.0|      2|\n",
      "|390.0|    3400|       horsham|        0|               House| 3.0|  2.0|      2|\n",
      "|625.0|    3135| ringwood-east|        0|               House| 3.0|  1.0|      2|\n",
      "|630.0|    3810|      pakenham|        0|               House| 4.0|  2.0|      2|\n",
      "|580.0|    3029|       tarneit|        0|               House| 4.0|  2.0|      2|\n",
      "|545.0|    3029|       tarneit|        0|               House| 4.0|  2.0|      2|\n",
      "|600.0|    3030|    point-cook|        0|               House| 4.0|  2.0|      2|\n",
      "|620.0|    3429|       sunbury|        0|               House| 4.0|  2.0|      2|\n",
      "+-----+--------+--------------+---------+--------------------+----+-----+-------+\n",
      "\n"
     ]
    }
   ],
   "source": [
    "small_df.show()"
   ]
  },
  {
   "cell_type": "code",
   "execution_count": 51,
   "metadata": {},
   "outputs": [],
   "source": [
    "updated_df = df \\\n",
    "    .filter((F.col('beds') > 0) & (F.col('beds') <= 6)) \\\n",
    "    .filter((F.col('baths') > 0) & (F.col('baths') <= 6)) \\\n",
    "    .filter((F.col('parking') >= 0) & (F.col('parking') <= 6)) \\\n",
    "\n",
    "# updated_df = updated_df.withColumn(\n",
    "#     \"contains_price\",\n",
    "#     F.col(\"cost_text\").rlike(r\"(\\$*\\d+(?:,\\d*)*(?:\\.\\d*)?)\")\n",
    "# ).filter(F.col(\"contains_price\") == True)"
   ]
  },
  {
   "cell_type": "code",
   "execution_count": 52,
   "metadata": {},
   "outputs": [
    {
     "data": {
      "text/html": [
       "<table border='1'>\n",
       "<tr><th>cost</th><th>postcode</th><th>suburb</th><th>furnished</th><th>property_type</th><th>beds</th><th>baths</th><th>parking</th></tr>\n",
       "<tr><td>720.0</td><td>3750</td><td>wollert</td><td>0</td><td>House</td><td>6.0</td><td>3.0</td><td>2</td></tr>\n",
       "<tr><td>670.0</td><td>3977</td><td>cranbourne</td><td>0</td><td>House</td><td>6.0</td><td>2.0</td><td>2</td></tr>\n",
       "<tr><td>1495.0</td><td>3183</td><td>st-kilda-east</td><td>0</td><td>House</td><td>6.0</td><td>2.0</td><td>1</td></tr>\n",
       "<tr><td>780.0</td><td>3132</td><td>mitcham</td><td>0</td><td>House</td><td>6.0</td><td>3.0</td><td>5</td></tr>\n",
       "<tr><td>1200.0</td><td>3193</td><td>beaumaris</td><td>0</td><td>House</td><td>6.0</td><td>3.0</td><td>2</td></tr>\n",
       "<tr><td>1100.0</td><td>3149</td><td>mount-waverley</td><td>0</td><td>House</td><td>6.0</td><td>2.0</td><td>2</td></tr>\n",
       "<tr><td>1800.0</td><td>3227</td><td>barwon-heads</td><td>0</td><td>House</td><td>6.0</td><td>2.0</td><td>4</td></tr>\n",
       "<tr><td>2600.0</td><td>3106</td><td>templestowe</td><td>0</td><td>House</td><td>6.0</td><td>4.0</td><td>5</td></tr>\n",
       "<tr><td>570.0</td><td>3219</td><td>newcomb</td><td>0</td><td>House</td><td>6.0</td><td>3.0</td><td>2</td></tr>\n",
       "<tr><td>1500.0</td><td>3806</td><td>berwick</td><td>0</td><td>Acreage / Semi-Rural</td><td>6.0</td><td>3.0</td><td>4</td></tr>\n",
       "<tr><td>850.0</td><td>3216</td><td>grovedale</td><td>0</td><td>House</td><td>6.0</td><td>3.0</td><td>2</td></tr>\n",
       "<tr><td>295.0</td><td>3114</td><td>park-orchards</td><td>0</td><td>House</td><td>6.0</td><td>3.0</td><td>3</td></tr>\n",
       "<tr><td>1250.0</td><td>3168</td><td>clayton</td><td>0</td><td>House</td><td>6.0</td><td>3.0</td><td>2</td></tr>\n",
       "<tr><td>2800.0</td><td>3787</td><td>sassafras</td><td>0</td><td>House</td><td>6.0</td><td>6.0</td><td>6</td></tr>\n",
       "<tr><td>700.0</td><td>3107</td><td>templestowe-lower</td><td>0</td><td>House</td><td>6.0</td><td>4.0</td><td>2</td></tr>\n",
       "<tr><td>500.0</td><td>3350</td><td>mount-clear</td><td>0</td><td>House</td><td>6.0</td><td>2.0</td><td>2</td></tr>\n",
       "<tr><td>1195.0</td><td>3184</td><td>elwood</td><td>0</td><td>House</td><td>6.0</td><td>2.0</td><td>1</td></tr>\n",
       "<tr><td>680.0</td><td>3226</td><td>ocean-grove</td><td>0</td><td>House</td><td>6.0</td><td>3.0</td><td>2</td></tr>\n",
       "<tr><td>850.0</td><td>3029</td><td>tarneit</td><td>0</td><td>House</td><td>6.0</td><td>3.0</td><td>2</td></tr>\n",
       "<tr><td>750.0</td><td>3028</td><td>seabrook</td><td>0</td><td>House</td><td>6.0</td><td>2.0</td><td>2</td></tr>\n",
       "</table>\n",
       "only showing top 20 rows\n"
      ],
      "text/plain": [
       "+------+--------+--------------+---------+-------------+----+-----+-------+\n",
       "|  cost|postcode|        suburb|furnished|property_type|beds|baths|parking|\n",
       "+------+--------+--------------+---------+-------------+----+-----+-------+\n",
       "| 720.0|    3750|       wollert|        0|        House| 6.0|  3.0|      2|\n",
       "|1195.0|    3184|        elwood|        0|        House| 6.0|  2.0|      1|\n",
       "| 500.0|    3350|   mount-clear|        0|        House| 6.0|  2.0|      2|\n",
       "| 750.0|    3020|      sunshine|        0|        House| 6.0|  2.0|      5|\n",
       "| 670.0|    3977|    cranbourne|        0|        House| 6.0|  2.0|      2|\n",
       "|2024.0|    3032|   maribyrnong|        0|        House| 6.0|  3.0|      3|\n",
       "| 680.0|    3226|   ocean-grove|        0|        House| 6.0|  3.0|      2|\n",
       "|2200.0|    3939|         boneo|        0|        House| 6.0|  5.0|      3|\n",
       "| 750.0|    3028|      seabrook|        0|        House| 6.0|  2.0|      2|\n",
       "| 780.0|    3132|       mitcham|        0|        House| 6.0|  3.0|      5|\n",
       "|1100.0|    3150| glen-waverley|        0|        House| 6.0|  4.0|      2|\n",
       "|1200.0|    3193|     beaumaris|        0|        House| 6.0|  3.0|      2|\n",
       "|1100.0|    3149|mount-waverley|        0|        House| 6.0|  2.0|      2|\n",
       "| 900.0|    3978|   clyde-north|        0|        House| 6.0|  3.0|      2|\n",
       "|2600.0|    3106|   templestowe|        0|        House| 6.0|  4.0|      5|\n",
       "|1450.0|    3141|   south-yarra|        0|        House| 6.0|  2.0|      3|\n",
       "| 570.0|    3219|       newcomb|        0|        House| 6.0|  3.0|      2|\n",
       "|2800.0|    3787|     sassafras|        0|        House| 6.0|  6.0|      6|\n",
       "| 850.0|    3216|     grovedale|        0|        House| 6.0|  3.0|      2|\n",
       "| 295.0|    3114| park-orchards|        0|        House| 6.0|  3.0|      3|\n",
       "+------+--------+--------------+---------+-------------+----+-----+-------+\n",
       "only showing top 20 rows"
      ]
     },
     "execution_count": 52,
     "metadata": {},
     "output_type": "execute_result"
    }
   ],
   "source": [
    "updated_df.orderBy(F.desc(\"beds\"))\n",
    "\n",
    "# updated_df.orderBy(F.desc(\"parking\"))"
   ]
  },
  {
   "cell_type": "code",
   "execution_count": 53,
   "metadata": {},
   "outputs": [],
   "source": [
    "spec = updated_df.filter(updated_df.suburb == \"cranbourne-east\").orderBy(F.desc(\"beds\"))"
   ]
  },
  {
   "cell_type": "code",
   "execution_count": 54,
   "metadata": {},
   "outputs": [
    {
     "name": "stdout",
     "output_type": "stream",
     "text": [
      "+------+--------+---------------+---------+-------------+----+-----+-------+\n",
      "|  cost|postcode|         suburb|furnished|property_type|beds|baths|parking|\n",
      "+------+--------+---------------+---------+-------------+----+-----+-------+\n",
      "| 680.0|    3977|cranbourne-east|        0|        House| 6.0|  2.0|      2|\n",
      "| 580.0|    3977|cranbourne-east|        0|        House| 4.0|  2.0|      2|\n",
      "| 540.0|    3977|cranbourne-east|        0|        House| 4.0|  2.0|      2|\n",
      "| 650.0|    3977|cranbourne-east|        0|        House| 4.0|  2.0|      2|\n",
      "| 625.0|    3977|cranbourne-east|        0|        House| 4.0|  2.0|      2|\n",
      "| 580.0|    3977|cranbourne-east|        0|        House| 4.0|  2.0|      2|\n",
      "| 580.0|    3977|cranbourne-east|        0|        House| 4.0|  2.0|      1|\n",
      "| 520.0|    3977|cranbourne-east|        0|        House| 4.0|  2.0|      1|\n",
      "| 650.0|    3977|cranbourne-east|        0|        House| 4.0|  2.0|      2|\n",
      "| 560.0|    3977|cranbourne-east|        0|    Townhouse| 4.0|  3.0|      2|\n",
      "| 610.0|    3977|cranbourne-east|        0|        House| 4.0|  2.0|      2|\n",
      "| 680.0|    3977|cranbourne-east|        0|        House| 4.0|  2.0|      2|\n",
      "| 580.0|    3977|cranbourne-east|        0|        House| 4.0|  2.0|      2|\n",
      "|1000.0|    3977|cranbourne-east|        0|        House| 4.0|  2.0|      4|\n",
      "| 550.0|    3977|cranbourne-east|        0|        House| 4.0|  2.0|      2|\n",
      "| 540.0|    3977|cranbourne-east|        0|        House| 3.0|  2.0|      2|\n",
      "| 530.0|    3977|cranbourne-east|        0|        House| 3.0|  1.0|      2|\n",
      "| 580.0|    3977|cranbourne-east|        0|        House| 3.0|  2.0|      2|\n",
      "| 525.0|    3977|cranbourne-east|        0|        House| 3.0|  2.0|      2|\n",
      "| 525.0|    3977|cranbourne-east|        0|        House| 3.0|  2.0|      2|\n",
      "+------+--------+---------------+---------+-------------+----+-----+-------+\n",
      "only showing top 20 rows\n",
      "\n"
     ]
    }
   ],
   "source": [
    "spec.show()"
   ]
  },
  {
   "cell_type": "code",
   "execution_count": 55,
   "metadata": {},
   "outputs": [
    {
     "data": {
      "text/html": [
       "<table border='1'>\n",
       "<tr><th>cost</th><th>postcode</th><th>suburb</th><th>furnished</th><th>property_type</th><th>beds</th><th>baths</th><th>parking</th></tr>\n",
       "<tr><td>520.0</td><td>3029</td><td>truganina</td><td>0</td><td>House</td><td>3.0</td><td>1.0</td><td>1</td></tr>\n",
       "<tr><td>480.0</td><td>3500</td><td>mildura</td><td>0</td><td>House</td><td>3.0</td><td>1.0</td><td>2</td></tr>\n",
       "<tr><td>500.0</td><td>3810</td><td>pakenham</td><td>0</td><td>House</td><td>3.0</td><td>2.0</td><td>1</td></tr>\n",
       "<tr><td>480.0</td><td>3216</td><td>belmont</td><td>0</td><td>House</td><td>3.0</td><td>1.0</td><td>2</td></tr>\n",
       "<tr><td>530.0</td><td>3030</td><td>point-cook</td><td>0</td><td>Townhouse</td><td>3.0</td><td>2.0</td><td>2</td></tr>\n",
       "<tr><td>650.0</td><td>3550</td><td>north-bendigo</td><td>1</td><td>House</td><td>3.0</td><td>2.0</td><td>1</td></tr>\n",
       "<tr><td>490.0</td><td>3335</td><td>thornhill-park</td><td>0</td><td>House</td><td>4.0</td><td>2.0</td><td>2</td></tr>\n",
       "<tr><td>560.0</td><td>3029</td><td>tarneit</td><td>0</td><td>House</td><td>4.0</td><td>2.0</td><td>2</td></tr>\n",
       "<tr><td>600.0</td><td>3155</td><td>boronia</td><td>0</td><td>House</td><td>3.0</td><td>1.0</td><td>2</td></tr>\n",
       "<tr><td>500.0</td><td>3216</td><td>waurn-ponds</td><td>0</td><td>House</td><td>3.0</td><td>2.0</td><td>2</td></tr>\n",
       "<tr><td>400.0</td><td>3222</td><td>drysdale</td><td>0</td><td>Apartment / Unit ...</td><td>2.0</td><td>1.0</td><td>0</td></tr>\n",
       "<tr><td>480.0</td><td>3338</td><td>weir-views</td><td>0</td><td>House</td><td>4.0</td><td>2.0</td><td>2</td></tr>\n",
       "<tr><td>550.0</td><td>3677</td><td>wangaratta</td><td>0</td><td>House</td><td>3.0</td><td>2.0</td><td>2</td></tr>\n",
       "<tr><td>390.0</td><td>3400</td><td>horsham</td><td>0</td><td>House</td><td>3.0</td><td>2.0</td><td>2</td></tr>\n",
       "<tr><td>625.0</td><td>3135</td><td>ringwood-east</td><td>0</td><td>House</td><td>3.0</td><td>1.0</td><td>2</td></tr>\n",
       "<tr><td>630.0</td><td>3810</td><td>pakenham</td><td>0</td><td>House</td><td>4.0</td><td>2.0</td><td>2</td></tr>\n",
       "<tr><td>580.0</td><td>3029</td><td>tarneit</td><td>0</td><td>House</td><td>4.0</td><td>2.0</td><td>2</td></tr>\n",
       "<tr><td>545.0</td><td>3029</td><td>tarneit</td><td>0</td><td>House</td><td>4.0</td><td>2.0</td><td>2</td></tr>\n",
       "<tr><td>600.0</td><td>3030</td><td>point-cook</td><td>0</td><td>House</td><td>4.0</td><td>2.0</td><td>2</td></tr>\n",
       "<tr><td>620.0</td><td>3429</td><td>sunbury</td><td>0</td><td>House</td><td>4.0</td><td>2.0</td><td>2</td></tr>\n",
       "</table>\n",
       "only showing top 20 rows\n"
      ],
      "text/plain": [
       "+-----+--------+--------------+---------+--------------------+----+-----+-------+\n",
       "| cost|postcode|        suburb|furnished|       property_type|beds|baths|parking|\n",
       "+-----+--------+--------------+---------+--------------------+----+-----+-------+\n",
       "|520.0|    3029|     truganina|        0|               House| 3.0|  1.0|      1|\n",
       "|480.0|    3500|       mildura|        0|               House| 3.0|  1.0|      2|\n",
       "|500.0|    3810|      pakenham|        0|               House| 3.0|  2.0|      1|\n",
       "|480.0|    3216|       belmont|        0|               House| 3.0|  1.0|      2|\n",
       "|530.0|    3030|    point-cook|        0|           Townhouse| 3.0|  2.0|      2|\n",
       "|650.0|    3550| north-bendigo|        1|               House| 3.0|  2.0|      1|\n",
       "|490.0|    3335|thornhill-park|        0|               House| 4.0|  2.0|      2|\n",
       "|560.0|    3029|       tarneit|        0|               House| 4.0|  2.0|      2|\n",
       "|600.0|    3155|       boronia|        0|               House| 3.0|  1.0|      2|\n",
       "|500.0|    3216|   waurn-ponds|        0|               House| 3.0|  2.0|      2|\n",
       "|400.0|    3222|      drysdale|        0|Apartment / Unit ...| 2.0|  1.0|      0|\n",
       "|480.0|    3338|    weir-views|        0|               House| 4.0|  2.0|      2|\n",
       "|550.0|    3677|    wangaratta|        0|               House| 3.0|  2.0|      2|\n",
       "|390.0|    3400|       horsham|        0|               House| 3.0|  2.0|      2|\n",
       "|625.0|    3135| ringwood-east|        0|               House| 3.0|  1.0|      2|\n",
       "|630.0|    3810|      pakenham|        0|               House| 4.0|  2.0|      2|\n",
       "|580.0|    3029|       tarneit|        0|               House| 4.0|  2.0|      2|\n",
       "|545.0|    3029|       tarneit|        0|               House| 4.0|  2.0|      2|\n",
       "|600.0|    3030|    point-cook|        0|               House| 4.0|  2.0|      2|\n",
       "|620.0|    3429|       sunbury|        0|               House| 4.0|  2.0|      2|\n",
       "+-----+--------+--------------+---------+--------------------+----+-----+-------+\n",
       "only showing top 20 rows"
      ]
     },
     "execution_count": 55,
     "metadata": {},
     "output_type": "execute_result"
    }
   ],
   "source": [
    "# spec.withColumn(\n",
    "#     'cost_text',\n",
    "#     F.split(F.col('cost_text'), \" \").getItem(0)\n",
    "# )\n",
    "\n",
    "df"
   ]
  },
  {
   "cell_type": "code",
   "execution_count": 56,
   "metadata": {},
   "outputs": [
    {
     "name": "stdout",
     "output_type": "stream",
     "text": [
      "removing 156 invalid rows\n"
     ]
    }
   ],
   "source": [
    "print(\"removing {} invalid rows\".format(df.count() - updated_df.count()))\n"
   ]
  },
  {
   "cell_type": "code",
   "execution_count": 57,
   "metadata": {},
   "outputs": [],
   "source": [
    "updated_df.write.mode(\"overwrite\").parquet(\"../data/curated/valid_df.parquet\")"
   ]
  },
  {
   "cell_type": "code",
   "execution_count": 58,
   "metadata": {},
   "outputs": [
    {
     "ename": "AttributeError",
     "evalue": "type object 'SparkSession' has no attribute 'DataFrame'",
     "output_type": "error",
     "traceback": [
      "\u001b[0;31m---------------------------------------------------------------------------\u001b[0m",
      "\u001b[0;31mAttributeError\u001b[0m                            Traceback (most recent call last)",
      "Cell \u001b[0;32mIn[58], line 2\u001b[0m\n\u001b[1;32m      1\u001b[0m \u001b[38;5;66;03m# creating a function for this task\u001b[39;00m\n\u001b[0;32m----> 2\u001b[0m \u001b[38;5;28;01mdef\u001b[39;00m \u001b[38;5;21mfind_valid\u001b[39m(df: \u001b[43mSparkSession\u001b[49m\u001b[38;5;241;43m.\u001b[39;49m\u001b[43mDataFrame\u001b[49m , output_path: \u001b[38;5;28mstr\u001b[39m) \u001b[38;5;241m-\u001b[39m\u001b[38;5;241m>\u001b[39m \u001b[38;5;28;01mNone\u001b[39;00m:\n\u001b[1;32m      3\u001b[0m     \u001b[38;5;124;03m\"\"\"Function that filters for rows that are valid and outputs into a parquet file.\u001b[39;00m\n\u001b[1;32m      4\u001b[0m \u001b[38;5;124;03m    A row is deemed valid if:\u001b[39;00m\n\u001b[1;32m      5\u001b[0m \u001b[38;5;124;03m                    - beds : (0,6]\u001b[39;00m\n\u001b[0;32m   (...)\u001b[0m\n\u001b[1;32m     13\u001b[0m \n\u001b[1;32m     14\u001b[0m \u001b[38;5;124;03m    \"\"\"\u001b[39;00m\n\u001b[1;32m     15\u001b[0m     updated_df \u001b[38;5;241m=\u001b[39m df \\\n\u001b[1;32m     16\u001b[0m     \u001b[38;5;241m.\u001b[39mfilter((F\u001b[38;5;241m.\u001b[39mcol(\u001b[38;5;124m'\u001b[39m\u001b[38;5;124mbeds\u001b[39m\u001b[38;5;124m'\u001b[39m) \u001b[38;5;241m>\u001b[39m \u001b[38;5;241m0\u001b[39m) \u001b[38;5;241m&\u001b[39m (F\u001b[38;5;241m.\u001b[39mcol(\u001b[38;5;124m'\u001b[39m\u001b[38;5;124mbeds\u001b[39m\u001b[38;5;124m'\u001b[39m) \u001b[38;5;241m<\u001b[39m\u001b[38;5;241m=\u001b[39m \u001b[38;5;241m6\u001b[39m)) \\\n\u001b[1;32m     17\u001b[0m     \u001b[38;5;241m.\u001b[39mfilter((F\u001b[38;5;241m.\u001b[39mcol(\u001b[38;5;124m'\u001b[39m\u001b[38;5;124mbaths\u001b[39m\u001b[38;5;124m'\u001b[39m) \u001b[38;5;241m>\u001b[39m \u001b[38;5;241m0\u001b[39m) \u001b[38;5;241m&\u001b[39m (F\u001b[38;5;241m.\u001b[39mcol(\u001b[38;5;124m'\u001b[39m\u001b[38;5;124mbaths\u001b[39m\u001b[38;5;124m'\u001b[39m) \u001b[38;5;241m<\u001b[39m\u001b[38;5;241m=\u001b[39m \u001b[38;5;241m6\u001b[39m)) \\\n\u001b[1;32m     18\u001b[0m     \u001b[38;5;241m.\u001b[39mfilter((F\u001b[38;5;241m.\u001b[39mcol(\u001b[38;5;124m'\u001b[39m\u001b[38;5;124mparking\u001b[39m\u001b[38;5;124m'\u001b[39m) \u001b[38;5;241m>\u001b[39m\u001b[38;5;241m=\u001b[39m \u001b[38;5;241m0\u001b[39m) \u001b[38;5;241m&\u001b[39m (F\u001b[38;5;241m.\u001b[39mcol(\u001b[38;5;124m'\u001b[39m\u001b[38;5;124mparking\u001b[39m\u001b[38;5;124m'\u001b[39m) \u001b[38;5;241m<\u001b[39m\u001b[38;5;241m=\u001b[39m \u001b[38;5;241m6\u001b[39m)) \\\n",
      "\u001b[0;31mAttributeError\u001b[0m: type object 'SparkSession' has no attribute 'DataFrame'"
     ]
    }
   ],
   "source": [
    "# creating a function for this task\n",
    "def find_valid(df: SparkSession.DataFrame , output_path: str) -> None:\n",
    "    \"\"\"Function that filters for rows that are valid and outputs into a parquet file.\n",
    "    A row is deemed valid if:\n",
    "                    - beds : (0,6]\n",
    "                    - baths : (0,6]\n",
    "                    - parking : [0, 6]\n",
    "    The justification for these values is based on looking at the data and deciding that prices with properties which state these amounts of beds, baths and parking are far too cheap\n",
    "    \n",
    "    Parameters:\n",
    "    df - Dataframe which we want to find valid rows for\n",
    "    output_path - string that brings us to our desired output path\n",
    "\n",
    "    \"\"\"\n",
    "    updated_df = df \\\n",
    "    .filter((F.col('beds') > 0) & (F.col('beds') <= 6)) \\\n",
    "    .filter((F.col('baths') > 0) & (F.col('baths') <= 6)) \\\n",
    "    .filter((F.col('parking') >= 0) & (F.col('parking') <= 6)) \\\n",
    "\n",
    "    updated_df = updated_df.withColumn(\n",
    "        \"contains_price\",\n",
    "        F.col(\"cost_text\").rlike(r\"(\\$*\\d+(?:,\\d*)*(?:\\.\\d*)?)\")\n",
    "    ).filter(F.col(\"contains_price\") == True).drop(F.col(\"contains_price\"))\n",
    "\n",
    "    print(\"removing {} invalid rows\".format(df.count() - updated_df.count()))\n",
    "    # write to file\n",
    "    updated_df.write.mode(\"overwrite\").parquet(output_path)\n"
   ]
  }
 ],
 "metadata": {
  "kernelspec": {
   "display_name": "env",
   "language": "python",
   "name": "python3"
  },
  "language_info": {
   "codemirror_mode": {
    "name": "ipython",
    "version": 3
   },
   "file_extension": ".py",
   "mimetype": "text/x-python",
   "name": "python",
   "nbconvert_exporter": "python",
   "pygments_lexer": "ipython3",
   "version": "3.10.12"
  }
 },
 "nbformat": 4,
 "nbformat_minor": 2
}
