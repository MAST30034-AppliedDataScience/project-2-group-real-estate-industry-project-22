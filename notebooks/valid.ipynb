{
 "cells": [
  {
   "cell_type": "markdown",
   "metadata": {},
   "source": [
    "notebook that checks if entries are valid\n"
   ]
  },
  {
   "cell_type": "code",
   "execution_count": 1,
   "metadata": {},
   "outputs": [
    {
     "name": "stderr",
     "output_type": "stream",
     "text": [
      "your 131072x1 screen size is bogus. expect trouble\n",
      "24/09/20 13:06:04 WARN Utils: Your hostname, DESKTOP-RBVA59Q resolves to a loopback address: 127.0.1.1; using 172.26.88.196 instead (on interface eth0)\n",
      "24/09/20 13:06:04 WARN Utils: Set SPARK_LOCAL_IP if you need to bind to another address\n",
      "Setting default log level to \"WARN\".\n",
      "To adjust logging level use sc.setLogLevel(newLevel). For SparkR, use setLogLevel(newLevel).\n",
      "24/09/20 13:06:06 WARN NativeCodeLoader: Unable to load native-hadoop library for your platform... using builtin-java classes where applicable\n"
     ]
    }
   ],
   "source": [
    "from pyspark.sql.types import *\n",
    "from pyspark.sql import SparkSession, functions as F\n",
    "import os\n",
    "# Create a spark session (which will run spark jobs)\n",
    "spark = (\n",
    "    SparkSession.builder.appName(\"MAST30034 Project 2\")\n",
    "    .config(\"spark.sql.repl.eagerEval.enabled\", True) \n",
    "    .config(\"spark.sql.parquet.cacheMetadata\", \"true\")\n",
    "    .config(\"spark.sql.session.timeZone\", \"Etc/UTC\")\n",
    "    .config('spark.driver.memory', '4g')\n",
    "    .config('spark.executor.memory', '2g')\n",
    "    .getOrCreate()\n",
    ")"
   ]
  },
  {
   "cell_type": "code",
   "execution_count": 3,
   "metadata": {},
   "outputs": [
    {
     "name": "stderr",
     "output_type": "stream",
     "text": [
      "                                                                                \r"
     ]
    }
   ],
   "source": [
    "df = spark.read.parquet('../data/raw/property_data.parquet')"
   ]
  },
  {
   "cell_type": "code",
   "execution_count": 4,
   "metadata": {},
   "outputs": [
    {
     "name": "stderr",
     "output_type": "stream",
     "text": [
      "                                                                                \r"
     ]
    },
    {
     "name": "stdout",
     "output_type": "stream",
     "text": [
      "+--------------------+--------+---------------+--------------------+--------------------+----+-----+-------+--------------------+\n",
      "|                 url|postcode|         suburb|                name|           cost_text|beds|baths|parking|       property_type|\n",
      "+--------------------+--------+---------------+--------------------+--------------------+----+-----+-------+--------------------+\n",
      "|https://www.domai...|    3141|    south-yarra|(Leased) 3 Yarra ...|                $460|   1|    1|      1|Apartment / Unit ...|\n",
      "|https://www.domai...|    3125|        burwood|04/390 Burwood Hi...|$310 per week, wi...|   1|    1|      0|Apartment / Unit ...|\n",
      "|https://www.domai...|    3156| ferntree-gully|1 & 2/32 Folkston...|                $800|   4|    3|      1|               House|\n",
      "|https://www.domai...|    3228|        torquay|1 Acacia Street, ...|     $1,000 per week|   4|    2|      2|               House|\n",
      "|https://www.domai...|    3200|frankston-north|1 Aleppo Crescent...|                $450|   3|    1|      1|               House|\n",
      "+--------------------+--------+---------------+--------------------+--------------------+----+-----+-------+--------------------+\n",
      "only showing top 5 rows\n",
      "\n"
     ]
    }
   ],
   "source": [
    "df.show(5)"
   ]
  },
  {
   "cell_type": "code",
   "execution_count": 5,
   "metadata": {},
   "outputs": [],
   "source": [
    "small_df= df.limit(20)"
   ]
  },
  {
   "cell_type": "code",
   "execution_count": 43,
   "metadata": {},
   "outputs": [
    {
     "data": {
      "text/html": [
       "<table border='1'>\n",
       "<tr><th>url</th><th>postcode</th><th>suburb</th><th>name</th><th>cost_text</th><th>beds</th><th>baths</th><th>parking</th><th>property_type</th><th>contains_price</th></tr>\n",
       "<tr><td>https://www.domai...</td><td>3753</td><td>beveridge</td><td>29 Stewart Street...</td><td>$750</td><td>3</td><td>2</td><td>6</td><td>House</td><td>true</td></tr>\n",
       "<tr><td>https://www.domai...</td><td>3190</td><td>highett</td><td>60 Graham Road, H...</td><td>$1,500.00</td><td>5</td><td>4</td><td>6</td><td>House</td><td>true</td></tr>\n",
       "<tr><td>https://www.domai...</td><td>3608</td><td>kirwans-bridge</td><td>31 Backwater Ct, ...</td><td>$530</td><td>3</td><td>2</td><td>6</td><td>House</td><td>true</td></tr>\n",
       "<tr><td>https://www.domai...</td><td>3219</td><td>whittington</td><td>169 Solar Drive, ...</td><td>$470</td><td>3</td><td>1</td><td>6</td><td>House</td><td>true</td></tr>\n",
       "<tr><td>https://www.domai...</td><td>3128</td><td>box-hill</td><td>484 Elgar Road, B...</td><td>APPLY</td><td>1</td><td>1</td><td>6</td><td>Apartment / Unit ...</td><td>true</td></tr>\n",
       "<tr><td>https://www.domai...</td><td>3150</td><td>wheelers-hill</td><td>34 Darnley Grove,...</td><td>$630</td><td>4</td><td>2</td><td>6</td><td>House</td><td>true</td></tr>\n",
       "<tr><td>https://www.domai...</td><td>3128</td><td>box-hill</td><td>490 Elgar Road, B...</td><td>APPLY</td><td>1</td><td>1</td><td>6</td><td>Apartment / Unit ...</td><td>true</td></tr>\n",
       "<tr><td>https://www.domai...</td><td>3930</td><td>mount-eliza</td><td>77 Walkers Road, ...</td><td>$1,300.00</td><td>4</td><td>2</td><td>6</td><td>House</td><td>true</td></tr>\n",
       "<tr><td>https://www.domai...</td><td>3202</td><td>heatherton</td><td>10-12 Pietro Road...</td><td>$1,250</td><td>4</td><td>2</td><td>6</td><td>House</td><td>true</td></tr>\n",
       "<tr><td>https://www.domai...</td><td>3815</td><td>tonimbuk</td><td>Tonimbuk VIC 3815</td><td>$1000.00</td><td>3</td><td>2</td><td>6</td><td>Acreage / Semi-Rural</td><td>true</td></tr>\n",
       "<tr><td>https://www.domai...</td><td>3977</td><td>cranbourne</td><td>11 Glenwood Court...</td><td>510</td><td>3</td><td>1</td><td>6</td><td>House</td><td>true</td></tr>\n",
       "<tr><td>https://www.domai...</td><td>3187</td><td>brighton-east</td><td>15A Elizabeth Str...</td><td>$2,450</td><td>5</td><td>2</td><td>6</td><td>House</td><td>true</td></tr>\n",
       "<tr><td>https://www.domai...</td><td>3240</td><td>gherang</td><td>150 Thielemanns R...</td><td>$800</td><td>4</td><td>2</td><td>6</td><td>House</td><td>true</td></tr>\n",
       "<tr><td>https://www.domai...</td><td>3199</td><td>frankston-south</td><td>191 Humphries Roa...</td><td>$1,950</td><td>5</td><td>3</td><td>6</td><td>House</td><td>true</td></tr>\n",
       "<tr><td>https://www.domai...</td><td>3787</td><td>sassafras</td><td>2 Aurora Rise, Sa...</td><td>$2800</td><td>6</td><td>6</td><td>6</td><td>House</td><td>true</td></tr>\n",
       "<tr><td>https://www.domai...</td><td>3976</td><td>hampton-park</td><td>11 Silvan Grove, ...</td><td>$500pw</td><td>3</td><td>1</td><td>6</td><td>House</td><td>true</td></tr>\n",
       "<tr><td>https://www.domai...</td><td>3189</td><td>moorabbin</td><td>25 Perry Street, ...</td><td>$795.00</td><td>3</td><td>1</td><td>6</td><td>House</td><td>true</td></tr>\n",
       "<tr><td>https://www.domai...</td><td>3941</td><td>rye</td><td>5 Parson Street, ...</td><td>$795</td><td>3</td><td>2</td><td>6</td><td>House</td><td>true</td></tr>\n",
       "<tr><td>https://www.domai...</td><td>3350</td><td>lucas</td><td>27 Pernonie Stree...</td><td>$490</td><td>4</td><td>2</td><td>6</td><td>House</td><td>true</td></tr>\n",
       "<tr><td>https://www.domai...</td><td>3720</td><td>bonnie-doon</td><td>1 Zimmerman Avenu...</td><td>$1,825.00PCM</td><td>3</td><td>1</td><td>6</td><td>House</td><td>true</td></tr>\n",
       "</table>\n",
       "only showing top 20 rows\n"
      ],
      "text/plain": [
       "+--------------------+--------+---------------+--------------------+------------+----+-----+-------+--------------------+--------------+\n",
       "|                 url|postcode|         suburb|                name|   cost_text|beds|baths|parking|       property_type|contains_price|\n",
       "+--------------------+--------+---------------+--------------------+------------+----+-----+-------+--------------------+--------------+\n",
       "|https://www.domai...|    3753|      beveridge|29 Stewart Street...|        $750|   3|    2|      6|               House|          true|\n",
       "|https://www.domai...|    3190|        highett|60 Graham Road, H...|   $1,500.00|   5|    4|      6|               House|          true|\n",
       "|https://www.domai...|    3608| kirwans-bridge|31 Backwater Ct, ...|        $530|   3|    2|      6|               House|          true|\n",
       "|https://www.domai...|    3219|    whittington|169 Solar Drive, ...|        $470|   3|    1|      6|               House|          true|\n",
       "|https://www.domai...|    3128|       box-hill|484 Elgar Road, B...|       APPLY|   1|    1|      6|Apartment / Unit ...|          true|\n",
       "|https://www.domai...|    3150|  wheelers-hill|34 Darnley Grove,...|        $630|   4|    2|      6|               House|          true|\n",
       "|https://www.domai...|    3128|       box-hill|490 Elgar Road, B...|       APPLY|   1|    1|      6|Apartment / Unit ...|          true|\n",
       "|https://www.domai...|    3930|    mount-eliza|77 Walkers Road, ...|   $1,300.00|   4|    2|      6|               House|          true|\n",
       "|https://www.domai...|    3202|     heatherton|10-12 Pietro Road...|      $1,250|   4|    2|      6|               House|          true|\n",
       "|https://www.domai...|    3815|       tonimbuk|   Tonimbuk VIC 3815|    $1000.00|   3|    2|      6|Acreage / Semi-Rural|          true|\n",
       "|https://www.domai...|    3977|     cranbourne|11 Glenwood Court...|         510|   3|    1|      6|               House|          true|\n",
       "|https://www.domai...|    3187|  brighton-east|15A Elizabeth Str...|      $2,450|   5|    2|      6|               House|          true|\n",
       "|https://www.domai...|    3240|        gherang|150 Thielemanns R...|        $800|   4|    2|      6|               House|          true|\n",
       "|https://www.domai...|    3199|frankston-south|191 Humphries Roa...|      $1,950|   5|    3|      6|               House|          true|\n",
       "|https://www.domai...|    3787|      sassafras|2 Aurora Rise, Sa...|       $2800|   6|    6|      6|               House|          true|\n",
       "|https://www.domai...|    3976|   hampton-park|11 Silvan Grove, ...|      $500pw|   3|    1|      6|               House|          true|\n",
       "|https://www.domai...|    3189|      moorabbin|25 Perry Street, ...|     $795.00|   3|    1|      6|               House|          true|\n",
       "|https://www.domai...|    3941|            rye|5 Parson Street, ...|        $795|   3|    2|      6|               House|          true|\n",
       "|https://www.domai...|    3350|          lucas|27 Pernonie Stree...|        $490|   4|    2|      6|               House|          true|\n",
       "|https://www.domai...|    3720|    bonnie-doon|1 Zimmerman Avenu...|$1,825.00PCM|   3|    1|      6|               House|          true|\n",
       "+--------------------+--------+---------------+--------------------+------------+----+-----+-------+--------------------+--------------+\n",
       "only showing top 20 rows"
      ]
     },
     "execution_count": 43,
     "metadata": {},
     "output_type": "execute_result"
    }
   ],
   "source": [
    "\n",
    "updated_df.orderBy(F.desc(\"parking\"))"
   ]
  },
  {
   "cell_type": "code",
   "execution_count": 6,
   "metadata": {},
   "outputs": [
    {
     "name": "stdout",
     "output_type": "stream",
     "text": [
      "+--------------------+--------+---------------+--------------------+--------------------+----+-----+-------+--------------------+\n",
      "|                 url|postcode|         suburb|                name|           cost_text|beds|baths|parking|       property_type|\n",
      "+--------------------+--------+---------------+--------------------+--------------------+----+-----+-------+--------------------+\n",
      "|https://www.domai...|    3141|    south-yarra|(Leased) 3 Yarra ...|                $460|   1|    1|      1|Apartment / Unit ...|\n",
      "|https://www.domai...|    3125|        burwood|04/390 Burwood Hi...|$310 per week, wi...|   1|    1|      0|Apartment / Unit ...|\n",
      "|https://www.domai...|    3156| ferntree-gully|1 & 2/32 Folkston...|                $800|   4|    3|      1|               House|\n",
      "|https://www.domai...|    3228|        torquay|1 Acacia Street, ...|     $1,000 per week|   4|    2|      2|               House|\n",
      "|https://www.domai...|    3200|frankston-north|1 Aleppo Crescent...|                $450|   3|    1|      1|               House|\n",
      "|https://www.domai...|    3011|      footscray|1 Bed 1 Bath/34 C...|            $480 P/W|   1|    1|      0|Apartment / Unit ...|\n",
      "|https://www.domai...|    3011|      footscray|1 Bed 1 Bath/48 C...|            $500 P/W|   1|    1|      1|Apartment / Unit ...|\n",
      "|https://www.domai...|    3030|     point-cook|1 Bensonhurst Par...|       $570 per week|   4|    2|      2|               House|\n",
      "|https://www.domai...|    3047|   broadmeadows|1 Biltris Court, ...|                $500|   3|    1|      2|               House|\n",
      "|https://www.domai...|    3149| mount-waverley|1 Birralee Street...|       $625 per week|   3|    1|      1|               House|\n",
      "|https://www.domai...|    3338|   melton-south|1 Blaxland Road, ...|             $440 pw|   4|    1|      2|               House|\n",
      "|https://www.domai...|    3029|        tarneit|1 Chantelle Parad...|                $545|   3|    2|      1|               House|\n",
      "|https://www.domai...|    3335|       rockbank|1 Coopworth Way, ...|             $615 pw|   4|    3|      2|               House|\n",
      "|https://www.domai...|    3197|patterson-lakes|1 Coral Island Co...|       $1,350 a week|   4|    2|      2|               House|\n",
      "|https://www.domai...|    3975|       lynbrook|1 Cottrell Place,...|                $650|   4|    2|      2|               House|\n",
      "|https://www.domai...|    3350|   golden-point|1 Curnow Street, ...|       $490 per week|   4|    2|      1|               House|\n",
      "|https://www.domai...|    3012| west-footscray|1 Elphinstone Str...|       $580 per week|   2|    1|      1|               House|\n",
      "|https://www.domai...|    3978|    clyde-north|1 Freiberger Grov...|       $580 Per Week|   4|    2|      2|               House|\n",
      "|https://www.domai...|    3024|   wyndham-vale|1 Fritelli Circui...|             $480.00|   3|    2|      2|           Townhouse|\n",
      "|https://www.domai...|    3150|  wheelers-hill|1 GRADUATE CRESCE...|     $1,000 per week|   4|    2|      5|               House|\n",
      "+--------------------+--------+---------------+--------------------+--------------------+----+-----+-------+--------------------+\n",
      "\n"
     ]
    }
   ],
   "source": [
    "small_df.show()"
   ]
  },
  {
   "cell_type": "code",
   "execution_count": 38,
   "metadata": {},
   "outputs": [],
   "source": [
    "updated_df = df \\\n",
    "    .filter((F.col('beds') > 0) & (F.col('beds') <= 6)) \\\n",
    "    .filter((F.col('baths') > 0) & (F.col('baths') <= 6)) \\\n",
    "    .filter((F.col('parking') >= 0) & (F.col('parking') <= 6)) \\\n",
    "\n",
    "updated_df = updated_df.withColumn(\n",
    "    \"contains_price\",\n",
    "    F.col(\"cost_text\").rlike(r\"(\\$*\\d+(?:,\\d*)*(?:\\.\\d*)?)\")\n",
    ").filter(F.col(\"contains_price\") == True)"
   ]
  },
  {
   "cell_type": "code",
   "execution_count": 39,
   "metadata": {},
   "outputs": [
    {
     "data": {
      "text/html": [
       "<table border='1'>\n",
       "<tr><th>url</th><th>postcode</th><th>suburb</th><th>name</th><th>cost_text</th><th>beds</th><th>baths</th><th>parking</th><th>property_type</th><th>contains_price</th></tr>\n",
       "<tr><td>https://www.domai...</td><td>3183</td><td>st-kilda-east</td><td>242 Dandenong Roa...</td><td>$1,495</td><td>6</td><td>2</td><td>1</td><td>House</td><td>true</td></tr>\n",
       "<tr><td>https://www.domai...</td><td>3184</td><td>elwood</td><td>22 Dickens Street...</td><td>$1,195</td><td>6</td><td>2</td><td>1</td><td>House</td><td>true</td></tr>\n",
       "<tr><td>https://www.domai...</td><td>3227</td><td>barwon-heads</td><td>26 Riverside Terr...</td><td>$1,800.00</td><td>6</td><td>2</td><td>4</td><td>House</td><td>true</td></tr>\n",
       "<tr><td>https://www.domai...</td><td>3226</td><td>ocean-grove</td><td>160 Shell Road, O...</td><td>$680.00</td><td>6</td><td>3</td><td>2</td><td>House</td><td>true</td></tr>\n",
       "<tr><td>https://www.domai...</td><td>3939</td><td>boneo</td><td>451 Truemans Road...</td><td>$2,200.00</td><td>6</td><td>5</td><td>3</td><td>House</td><td>true</td></tr>\n",
       "<tr><td>https://www.domai...</td><td>3150</td><td>glen-waverley</td><td>13 Stirling Cresc...</td><td>$1,100</td><td>6</td><td>4</td><td>2</td><td>House</td><td>true</td></tr>\n",
       "<tr><td>https://www.domai...</td><td>3978</td><td>clyde-north</td><td>47 Littleshore Cr...</td><td>$900</td><td>6</td><td>3</td><td>2</td><td>House</td><td>true</td></tr>\n",
       "<tr><td>https://www.domai...</td><td>3029</td><td>tarneit</td><td>66 Mulholland Dri...</td><td>$850</td><td>6</td><td>3</td><td>2</td><td>House</td><td>true</td></tr>\n",
       "<tr><td>https://www.domai...</td><td>3787</td><td>sassafras</td><td>2 Aurora Rise, Sa...</td><td>$2800</td><td>6</td><td>6</td><td>6</td><td>House</td><td>true</td></tr>\n",
       "<tr><td>https://www.domai...</td><td>3187</td><td>brighton-east</td><td>8 Beltane Avenue,...</td><td>$1,050.00</td><td>6</td><td>4</td><td>2</td><td>House</td><td>true</td></tr>\n",
       "<tr><td>https://www.domai...</td><td>3028</td><td>seabrook</td><td>1 Seabrook Boulev...</td><td>$750</td><td>6</td><td>2</td><td>2</td><td>House</td><td>true</td></tr>\n",
       "<tr><td>https://www.domai...</td><td>3437</td><td>gisborne</td><td>9 Nelson Court, G...</td><td>$1680</td><td>6</td><td>3</td><td>3</td><td>House</td><td>true</td></tr>\n",
       "<tr><td>https://www.domai...</td><td>3750</td><td>wollert</td><td>86 Equestria Boul...</td><td>$720</td><td>6</td><td>3</td><td>2</td><td>House</td><td>true</td></tr>\n",
       "<tr><td>https://www.domai...</td><td>3977</td><td>cranbourne-east</td><td>1 Camaro Drive, C...</td><td>$680pw</td><td>6</td><td>2</td><td>2</td><td>House</td><td>true</td></tr>\n",
       "<tr><td>https://www.domai...</td><td>3806</td><td>berwick</td><td>23 Caserta Drive,...</td><td>$1500</td><td>6</td><td>3</td><td>4</td><td>Acreage / Semi-Rural</td><td>true</td></tr>\n",
       "<tr><td>https://www.domai...</td><td>3428</td><td>bulla</td><td>1-29 Bulla Road, ...</td><td>$1,800</td><td>6</td><td>2</td><td>0</td><td>Acreage / Semi-Rural</td><td>true</td></tr>\n",
       "<tr><td>https://www.domai...</td><td>3219</td><td>newcomb</td><td>38 Bellarine Hwy,...</td><td>$570</td><td>6</td><td>3</td><td>2</td><td>House</td><td>true</td></tr>\n",
       "<tr><td>https://www.domai...</td><td>3977</td><td>cranbourne</td><td>1/185 Camms Road,...</td><td>$670.00</td><td>6</td><td>2</td><td>2</td><td>House</td><td>true</td></tr>\n",
       "<tr><td>https://www.domai...</td><td>3350</td><td>mount-clear</td><td>1 Jemacra Place, ...</td><td>$500</td><td>6</td><td>2</td><td>2</td><td>House</td><td>true</td></tr>\n",
       "<tr><td>https://www.domai...</td><td>3132</td><td>mitcham</td><td>13 Mountfield Roa...</td><td>$780</td><td>6</td><td>3</td><td>5</td><td>House</td><td>true</td></tr>\n",
       "</table>\n",
       "only showing top 20 rows\n"
      ],
      "text/plain": [
       "+--------------------+--------+---------------+--------------------+---------+----+-----+-------+--------------------+--------------+\n",
       "|                 url|postcode|         suburb|                name|cost_text|beds|baths|parking|       property_type|contains_price|\n",
       "+--------------------+--------+---------------+--------------------+---------+----+-----+-------+--------------------+--------------+\n",
       "|https://www.domai...|    3183|  st-kilda-east|242 Dandenong Roa...|   $1,495|   6|    2|      1|               House|          true|\n",
       "|https://www.domai...|    3184|         elwood|22 Dickens Street...|   $1,195|   6|    2|      1|               House|          true|\n",
       "|https://www.domai...|    3227|   barwon-heads|26 Riverside Terr...|$1,800.00|   6|    2|      4|               House|          true|\n",
       "|https://www.domai...|    3226|    ocean-grove|160 Shell Road, O...|  $680.00|   6|    3|      2|               House|          true|\n",
       "|https://www.domai...|    3939|          boneo|451 Truemans Road...|$2,200.00|   6|    5|      3|               House|          true|\n",
       "|https://www.domai...|    3150|  glen-waverley|13 Stirling Cresc...|   $1,100|   6|    4|      2|               House|          true|\n",
       "|https://www.domai...|    3978|    clyde-north|47 Littleshore Cr...|     $900|   6|    3|      2|               House|          true|\n",
       "|https://www.domai...|    3029|        tarneit|66 Mulholland Dri...|     $850|   6|    3|      2|               House|          true|\n",
       "|https://www.domai...|    3787|      sassafras|2 Aurora Rise, Sa...|    $2800|   6|    6|      6|               House|          true|\n",
       "|https://www.domai...|    3187|  brighton-east|8 Beltane Avenue,...|$1,050.00|   6|    4|      2|               House|          true|\n",
       "|https://www.domai...|    3028|       seabrook|1 Seabrook Boulev...|     $750|   6|    2|      2|               House|          true|\n",
       "|https://www.domai...|    3437|       gisborne|9 Nelson Court, G...|    $1680|   6|    3|      3|               House|          true|\n",
       "|https://www.domai...|    3750|        wollert|86 Equestria Boul...|     $720|   6|    3|      2|               House|          true|\n",
       "|https://www.domai...|    3977|cranbourne-east|1 Camaro Drive, C...|   $680pw|   6|    2|      2|               House|          true|\n",
       "|https://www.domai...|    3806|        berwick|23 Caserta Drive,...|    $1500|   6|    3|      4|Acreage / Semi-Rural|          true|\n",
       "|https://www.domai...|    3428|          bulla|1-29 Bulla Road, ...|   $1,800|   6|    2|      0|Acreage / Semi-Rural|          true|\n",
       "|https://www.domai...|    3219|        newcomb|38 Bellarine Hwy,...|     $570|   6|    3|      2|               House|          true|\n",
       "|https://www.domai...|    3977|     cranbourne|1/185 Camms Road,...|  $670.00|   6|    2|      2|               House|          true|\n",
       "|https://www.domai...|    3350|    mount-clear|1 Jemacra Place, ...|     $500|   6|    2|      2|               House|          true|\n",
       "|https://www.domai...|    3132|        mitcham|13 Mountfield Roa...|     $780|   6|    3|      5|               House|          true|\n",
       "+--------------------+--------+---------------+--------------------+---------+----+-----+-------+--------------------+--------------+\n",
       "only showing top 20 rows"
      ]
     },
     "execution_count": 39,
     "metadata": {},
     "output_type": "execute_result"
    }
   ],
   "source": [
    "updated_df.orderBy(F.desc(\"beds\"))"
   ]
  },
  {
   "cell_type": "code",
   "execution_count": 34,
   "metadata": {},
   "outputs": [],
   "source": [
    "spec = updated_df.filter(updated_df.suburb == \"cranbourne-east\").orderBy(F.desc(\"beds\"))"
   ]
  },
  {
   "cell_type": "code",
   "execution_count": 35,
   "metadata": {},
   "outputs": [
    {
     "name": "stdout",
     "output_type": "stream",
     "text": [
      "+--------------------+--------+---------------+--------------------+--------------------+----+-----+-------+-------------+--------------+\n",
      "|                 url|postcode|         suburb|                name|           cost_text|beds|baths|parking|property_type|contains_price|\n",
      "+--------------------+--------+---------------+--------------------+--------------------+----+-----+-------+-------------+--------------+\n",
      "|https://www.domai...|    3977|cranbourne-east|1 Camaro Drive, C...|  $680pw | $2,955pcm|   6|    2|      2|        House|          true|\n",
      "|https://www.domai...|    3977|cranbourne-east|15 Guineas Street...|                $650|   4|    2|      2|        House|          true|\n",
      "|https://www.domai...|    3977|cranbourne-east|20 Challenger Cir...|  $610pw | $2,651pcm|   4|    2|      2|        House|          true|\n",
      "|https://www.domai...|    3977|cranbourne-east|30 Collison Road,...|$1,000pw | $4,346pcm|   4|    2|      4|        House|          true|\n",
      "|https://www.domai...|    3977|cranbourne-east|43 Guineas Street...|  $540pw | $2,346pcm|   4|    2|      2|        House|          true|\n",
      "|https://www.domai...|    3977|cranbourne-east|6 Ogilvie Court, ...|                $625|   4|    2|      2|        House|          true|\n",
      "|https://www.domai...|    3977|cranbourne-east|8 Somers Street, ...|                $580|   4|    2|      2|        House|          true|\n",
      "|https://www.domai...|    3977|cranbourne-east|9 Mossey Crescent...|       $520 Per Week|   4|    2|      1|        House|          true|\n",
      "|https://www.domai...|    3977|cranbourne-east|25 Reynard Place,...|       $650 Per Week|   4|    2|      2|        House|          true|\n",
      "|https://www.domai...|    3977|cranbourne-east|6 Pony Court, Cra...|             $580 pw|   4|    2|      2|        House|          true|\n",
      "|https://www.domai...|    3977|cranbourne-east|70 Spirit Bouleva...|                $550|   4|    2|      2|        House|          true|\n",
      "|https://www.domai...|    3977|cranbourne-east|15 Scone Street, ...|    $580.00 per week|   4|    2|      1|        House|          true|\n",
      "|https://www.domai...|    3977|cranbourne-east|16 Hare Mews, Cra...|                $560|   4|    3|      2|    Townhouse|          true|\n",
      "|https://www.domai...|    3977|cranbourne-east|20 Quattro Avenue...|                $680|   4|    2|      2|        House|          true|\n",
      "|https://www.domai...|    3977|cranbourne-east|54 Yammerbook Way...|       $580 per week|   4|    2|      2|        House|          true|\n",
      "|https://www.domai...|    3977|cranbourne-east|11 Willowbank Pla...|       $530 per week|   3|    1|      2|        House|          true|\n",
      "|https://www.domai...|    3977|cranbourne-east|13 Stakes Street,...|                $525|   3|    2|      2|        House|          true|\n",
      "|https://www.domai...|    3977|cranbourne-east|52 Criterion Way,...|       $540 per week|   3|    2|      2|        House|          true|\n",
      "|https://www.domai...|    3977|cranbourne-east|9 Challenger Circ...|             $580 pw|   3|    2|      2|        House|          true|\n",
      "|https://www.domai...|    3977|cranbourne-east|13 McCallum Drive...|             $525.00|   3|    2|      2|        House|          true|\n",
      "+--------------------+--------+---------------+--------------------+--------------------+----+-----+-------+-------------+--------------+\n",
      "only showing top 20 rows\n",
      "\n"
     ]
    }
   ],
   "source": [
    "spec.show()"
   ]
  },
  {
   "cell_type": "code",
   "execution_count": 37,
   "metadata": {},
   "outputs": [
    {
     "data": {
      "text/html": [
       "<table border='1'>\n",
       "<tr><th>url</th><th>postcode</th><th>suburb</th><th>name</th><th>cost_text</th><th>beds</th><th>baths</th><th>parking</th><th>property_type</th><th>contains_price</th></tr>\n",
       "<tr><td>https://www.domai...</td><td>3977</td><td>cranbourne-east</td><td>1 Camaro Drive, C...</td><td>$680pw</td><td>6</td><td>2</td><td>2</td><td>House</td><td>true</td></tr>\n",
       "<tr><td>https://www.domai...</td><td>3977</td><td>cranbourne-east</td><td>15 Guineas Street...</td><td>$650</td><td>4</td><td>2</td><td>2</td><td>House</td><td>true</td></tr>\n",
       "<tr><td>https://www.domai...</td><td>3977</td><td>cranbourne-east</td><td>20 Challenger Cir...</td><td>$610pw</td><td>4</td><td>2</td><td>2</td><td>House</td><td>true</td></tr>\n",
       "<tr><td>https://www.domai...</td><td>3977</td><td>cranbourne-east</td><td>30 Collison Road,...</td><td>$1,000pw</td><td>4</td><td>2</td><td>4</td><td>House</td><td>true</td></tr>\n",
       "<tr><td>https://www.domai...</td><td>3977</td><td>cranbourne-east</td><td>43 Guineas Street...</td><td>$540pw</td><td>4</td><td>2</td><td>2</td><td>House</td><td>true</td></tr>\n",
       "<tr><td>https://www.domai...</td><td>3977</td><td>cranbourne-east</td><td>6 Ogilvie Court, ...</td><td>$625</td><td>4</td><td>2</td><td>2</td><td>House</td><td>true</td></tr>\n",
       "<tr><td>https://www.domai...</td><td>3977</td><td>cranbourne-east</td><td>8 Somers Street, ...</td><td>$580</td><td>4</td><td>2</td><td>2</td><td>House</td><td>true</td></tr>\n",
       "<tr><td>https://www.domai...</td><td>3977</td><td>cranbourne-east</td><td>9 Mossey Crescent...</td><td>$520</td><td>4</td><td>2</td><td>1</td><td>House</td><td>true</td></tr>\n",
       "<tr><td>https://www.domai...</td><td>3977</td><td>cranbourne-east</td><td>25 Reynard Place,...</td><td>$650</td><td>4</td><td>2</td><td>2</td><td>House</td><td>true</td></tr>\n",
       "<tr><td>https://www.domai...</td><td>3977</td><td>cranbourne-east</td><td>6 Pony Court, Cra...</td><td>$580</td><td>4</td><td>2</td><td>2</td><td>House</td><td>true</td></tr>\n",
       "<tr><td>https://www.domai...</td><td>3977</td><td>cranbourne-east</td><td>70 Spirit Bouleva...</td><td>$550</td><td>4</td><td>2</td><td>2</td><td>House</td><td>true</td></tr>\n",
       "<tr><td>https://www.domai...</td><td>3977</td><td>cranbourne-east</td><td>15 Scone Street, ...</td><td>$580.00</td><td>4</td><td>2</td><td>1</td><td>House</td><td>true</td></tr>\n",
       "<tr><td>https://www.domai...</td><td>3977</td><td>cranbourne-east</td><td>16 Hare Mews, Cra...</td><td>$560</td><td>4</td><td>3</td><td>2</td><td>Townhouse</td><td>true</td></tr>\n",
       "<tr><td>https://www.domai...</td><td>3977</td><td>cranbourne-east</td><td>20 Quattro Avenue...</td><td>$680</td><td>4</td><td>2</td><td>2</td><td>House</td><td>true</td></tr>\n",
       "<tr><td>https://www.domai...</td><td>3977</td><td>cranbourne-east</td><td>54 Yammerbook Way...</td><td>$580</td><td>4</td><td>2</td><td>2</td><td>House</td><td>true</td></tr>\n",
       "<tr><td>https://www.domai...</td><td>3977</td><td>cranbourne-east</td><td>11 Willowbank Pla...</td><td>$530</td><td>3</td><td>1</td><td>2</td><td>House</td><td>true</td></tr>\n",
       "<tr><td>https://www.domai...</td><td>3977</td><td>cranbourne-east</td><td>13 Stakes Street,...</td><td>$525</td><td>3</td><td>2</td><td>2</td><td>House</td><td>true</td></tr>\n",
       "<tr><td>https://www.domai...</td><td>3977</td><td>cranbourne-east</td><td>52 Criterion Way,...</td><td>$540</td><td>3</td><td>2</td><td>2</td><td>House</td><td>true</td></tr>\n",
       "<tr><td>https://www.domai...</td><td>3977</td><td>cranbourne-east</td><td>9 Challenger Circ...</td><td>$580</td><td>3</td><td>2</td><td>2</td><td>House</td><td>true</td></tr>\n",
       "<tr><td>https://www.domai...</td><td>3977</td><td>cranbourne-east</td><td>13 McCallum Drive...</td><td>$525.00</td><td>3</td><td>2</td><td>2</td><td>House</td><td>true</td></tr>\n",
       "</table>\n",
       "only showing top 20 rows\n"
      ],
      "text/plain": [
       "+--------------------+--------+---------------+--------------------+---------+----+-----+-------+-------------+--------------+\n",
       "|                 url|postcode|         suburb|                name|cost_text|beds|baths|parking|property_type|contains_price|\n",
       "+--------------------+--------+---------------+--------------------+---------+----+-----+-------+-------------+--------------+\n",
       "|https://www.domai...|    3977|cranbourne-east|1 Camaro Drive, C...|   $680pw|   6|    2|      2|        House|          true|\n",
       "|https://www.domai...|    3977|cranbourne-east|15 Guineas Street...|     $650|   4|    2|      2|        House|          true|\n",
       "|https://www.domai...|    3977|cranbourne-east|20 Challenger Cir...|   $610pw|   4|    2|      2|        House|          true|\n",
       "|https://www.domai...|    3977|cranbourne-east|30 Collison Road,...| $1,000pw|   4|    2|      4|        House|          true|\n",
       "|https://www.domai...|    3977|cranbourne-east|43 Guineas Street...|   $540pw|   4|    2|      2|        House|          true|\n",
       "|https://www.domai...|    3977|cranbourne-east|6 Ogilvie Court, ...|     $625|   4|    2|      2|        House|          true|\n",
       "|https://www.domai...|    3977|cranbourne-east|8 Somers Street, ...|     $580|   4|    2|      2|        House|          true|\n",
       "|https://www.domai...|    3977|cranbourne-east|9 Mossey Crescent...|     $520|   4|    2|      1|        House|          true|\n",
       "|https://www.domai...|    3977|cranbourne-east|25 Reynard Place,...|     $650|   4|    2|      2|        House|          true|\n",
       "|https://www.domai...|    3977|cranbourne-east|6 Pony Court, Cra...|     $580|   4|    2|      2|        House|          true|\n",
       "|https://www.domai...|    3977|cranbourne-east|70 Spirit Bouleva...|     $550|   4|    2|      2|        House|          true|\n",
       "|https://www.domai...|    3977|cranbourne-east|15 Scone Street, ...|  $580.00|   4|    2|      1|        House|          true|\n",
       "|https://www.domai...|    3977|cranbourne-east|16 Hare Mews, Cra...|     $560|   4|    3|      2|    Townhouse|          true|\n",
       "|https://www.domai...|    3977|cranbourne-east|20 Quattro Avenue...|     $680|   4|    2|      2|        House|          true|\n",
       "|https://www.domai...|    3977|cranbourne-east|54 Yammerbook Way...|     $580|   4|    2|      2|        House|          true|\n",
       "|https://www.domai...|    3977|cranbourne-east|11 Willowbank Pla...|     $530|   3|    1|      2|        House|          true|\n",
       "|https://www.domai...|    3977|cranbourne-east|13 Stakes Street,...|     $525|   3|    2|      2|        House|          true|\n",
       "|https://www.domai...|    3977|cranbourne-east|52 Criterion Way,...|     $540|   3|    2|      2|        House|          true|\n",
       "|https://www.domai...|    3977|cranbourne-east|9 Challenger Circ...|     $580|   3|    2|      2|        House|          true|\n",
       "|https://www.domai...|    3977|cranbourne-east|13 McCallum Drive...|  $525.00|   3|    2|      2|        House|          true|\n",
       "+--------------------+--------+---------------+--------------------+---------+----+-----+-------+-------------+--------------+\n",
       "only showing top 20 rows"
      ]
     },
     "execution_count": 37,
     "metadata": {},
     "output_type": "execute_result"
    }
   ],
   "source": [
    "spec.withColumn(\n",
    "    'cost_text',\n",
    "    F.split(F.col('cost_text'), \" \").getItem(0)\n",
    ")"
   ]
  },
  {
   "cell_type": "code",
   "execution_count": 16,
   "metadata": {},
   "outputs": [
    {
     "name": "stdout",
     "output_type": "stream",
     "text": [
      "removing 198 invalid rows\n"
     ]
    }
   ],
   "source": [
    "print(\"removing {} invalid rows\".format(df.count() - updated_df.count()))\n"
   ]
  },
  {
   "cell_type": "code",
   "execution_count": 17,
   "metadata": {},
   "outputs": [],
   "source": [
    "updated_df.write.mode(\"overwrite\").parquet(\"../data/curated/valid_df.parquet\")"
   ]
  },
  {
   "cell_type": "code",
   "execution_count": null,
   "metadata": {},
   "outputs": [],
   "source": [
    "# creating a function for this task\n",
    "def find_valid(df: SparkSession.DataFrame , output_path: str) -> None:\n",
    "    \"\"\"Function that filters for rows that are valid and outputs into a parquet file.\n",
    "    A row is deemed valid if:\n",
    "                    - beds : (0,6]\n",
    "                    - baths : (0,6]\n",
    "                    - parking : [0, 6]\n",
    "    The justification for these values is based on looking at the data and deciding that prices with properties which state these amounts of beds, baths and parking are far too cheap\n",
    "    \n",
    "    Parameters:\n",
    "    df - Dataframe which we want to find valid rows for\n",
    "    output_path - string that brings us to our desired output path\n",
    "\n",
    "    \"\"\"\n",
    "    updated_df = df \\\n",
    "    .filter((F.col('beds') > 0) & (F.col('beds') <= 6)) \\\n",
    "    .filter((F.col('baths') > 0) & (F.col('baths') <= 6)) \\\n",
    "    .filter((F.col('parking') >= 0) & (F.col('parking') <= 6)) \\\n",
    "\n",
    "    updated_df = updated_df.withColumn(\n",
    "        \"contains_price\",\n",
    "        F.col(\"cost_text\").rlike(r\"(\\$*\\d+(?:,\\d*)*(?:\\.\\d*)?)\")\n",
    "    ).filter(F.col(\"contains_price\") == True).drop(F.col(\"contains_price\"))\n",
    "\n",
    "    print(\"removing {} invalid rows\".format(df.count() - updated_df.count()))\n",
    "    # write to file\n",
    "    updated_df.write.mode(\"overwrite\").parquet(output_path)\n"
   ]
  }
 ],
 "metadata": {
  "kernelspec": {
   "display_name": "env",
   "language": "python",
   "name": "python3"
  },
  "language_info": {
   "codemirror_mode": {
    "name": "ipython",
    "version": 3
   },
   "file_extension": ".py",
   "mimetype": "text/x-python",
   "name": "python",
   "nbconvert_exporter": "python",
   "pygments_lexer": "ipython3",
   "version": "3.10.12"
  }
 },
 "nbformat": 4,
 "nbformat_minor": 2
}
