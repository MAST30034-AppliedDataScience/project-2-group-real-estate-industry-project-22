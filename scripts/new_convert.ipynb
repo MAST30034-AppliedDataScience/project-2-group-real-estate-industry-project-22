{
 "cells": [
  {
   "cell_type": "code",
   "execution_count": 12,
   "metadata": {},
   "outputs": [],
   "source": [
    "import os\n",
    "import sys\n",
    "parent_dir = os.path.abspath(os.path.join(os.getcwd(), '..', 'scripts')) # for when our current working directory is \n",
    "sys.path.insert(0, parent_dir)\n",
    "import new_scrape \n",
    "\n"
   ]
  },
  {
   "cell_type": "code",
   "execution_count": 13,
   "metadata": {},
   "outputs": [
    {
     "ename": "AttributeError",
     "evalue": "module 'new_scrape' has no attribute 'start_scrape'",
     "output_type": "error",
     "traceback": [
      "\u001b[0;31m---------------------------------------------------------------------------\u001b[0m",
      "\u001b[0;31mAttributeError\u001b[0m                            Traceback (most recent call last)",
      "\u001b[1;32m/Users/davynr06/Documents/MAST30034/project-2-group-real-estate-industry-project-22/scripts/new_convert.ipynb Cell 2'\u001b[0m in \u001b[0;36m<cell line: 4>\u001b[0;34m()\u001b[0m\n\u001b[1;32m      <a href='vscode-notebook-cell:/Users/davynr06/Documents/MAST30034/project-2-group-real-estate-industry-project-22/scripts/new_convert.ipynb#ch0000001?line=0'>1</a>\u001b[0m filepath \u001b[39m=\u001b[39m \u001b[39m'\u001b[39m\u001b[39m../data/raw/example.json\u001b[39m\u001b[39m'\u001b[39m\n\u001b[1;32m      <a href='vscode-notebook-cell:/Users/davynr06/Documents/MAST30034/project-2-group-real-estate-industry-project-22/scripts/new_convert.ipynb#ch0000001?line=1'>2</a>\u001b[0m output_path \u001b[39m=\u001b[39m \u001b[39m'\u001b[39m\u001b[39m../data/raw/example.parquet\u001b[39m\u001b[39m'\u001b[39m\n\u001b[0;32m----> <a href='vscode-notebook-cell:/Users/davynr06/Documents/MAST30034/project-2-group-real-estate-industry-project-22/scripts/new_convert.ipynb#ch0000001?line=3'>4</a>\u001b[0m new_scrape\u001b[39m.\u001b[39;49mstart_scrape()\n\u001b[1;32m      <a href='vscode-notebook-cell:/Users/davynr06/Documents/MAST30034/project-2-group-real-estate-industry-project-22/scripts/new_convert.ipynb#ch0000001?line=4'>5</a>\u001b[0m new_scrape\u001b[39m.\u001b[39mconvert_to_parquet(filepath, output_path)\n",
      "\u001b[0;31mAttributeError\u001b[0m: module 'new_scrape' has no attribute 'start_scrape'"
     ]
    }
   ],
   "source": [
    "filepath = '../data/raw/example.json'\n",
    "output_path = '../data/raw/example.parquet'\n",
    "\n",
    "new_scrape.start_scrape()\n",
    "new_scrape.convert_to_parquet(filepath, output_path)"
   ]
  }
 ],
 "metadata": {
  "interpreter": {
   "hash": "aee8b7b246df8f9039afb4144a1f6fd8d2ca17a180786b69acc140d282b71a49"
  },
  "kernelspec": {
   "display_name": "Python 3.9.6 64-bit",
   "language": "python",
   "name": "python3"
  },
  "language_info": {
   "codemirror_mode": {
    "name": "ipython",
    "version": 3
   },
   "file_extension": ".py",
   "mimetype": "text/x-python",
   "name": "python",
   "nbconvert_exporter": "python",
   "pygments_lexer": "ipython3",
   "version": "3.9.6"
  },
  "orig_nbformat": 4
 },
 "nbformat": 4,
 "nbformat_minor": 2
}
